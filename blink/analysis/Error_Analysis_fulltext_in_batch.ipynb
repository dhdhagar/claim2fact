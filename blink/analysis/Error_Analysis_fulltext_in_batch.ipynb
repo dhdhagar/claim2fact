{
 "cells": [
  {
   "cell_type": "code",
   "execution_count": 25,
   "id": "c0614d65",
   "metadata": {},
   "outputs": [],
   "source": [
    "import numpy as np\n",
    "import pandas as pd\n",
    "import os\n",
    "import json\n",
    "import pickle"
   ]
  },
  {
   "cell_type": "code",
   "execution_count": 26,
   "id": "74b4eb49",
   "metadata": {},
   "outputs": [],
   "source": [
    "root = \".\"\n",
    "input_path = os.path.join(root, 'processed', 'dictionary_full_with_summaries.pkl')\n",
    "file = open(input_path,'rb')\n",
    "dictionary = pickle.load(file)\n",
    "df_dict = pd.DataFrame(dictionary)"
   ]
  },
  {
   "cell_type": "code",
   "execution_count": 15,
   "id": "3850085b",
   "metadata": {},
   "outputs": [],
   "source": [
    "parent_dir = \"Error_Analysis\"\n",
    "sub_dir = \"results_fulltext\"\n",
    "f = open(os.path.join(parent_dir,sub_dir,\"fulltext_in_batch.json\"))\n",
    "js = json.load(f)"
   ]
  },
  {
   "cell_type": "code",
   "execution_count": 21,
   "id": "555f07a7",
   "metadata": {},
   "outputs": [],
   "source": [
    "df_failure = pd.DataFrame(js['failure'])\n",
    "df_success = pd.DataFrame(js['success'])"
   ]
  },
  {
   "cell_type": "code",
   "execution_count": 29,
   "id": "9d71b35a",
   "metadata": {},
   "outputs": [
    {
     "data": {
      "text/html": [
       "<div>\n",
       "<style scoped>\n",
       "    .dataframe tbody tr th:only-of-type {\n",
       "        vertical-align: middle;\n",
       "    }\n",
       "\n",
       "    .dataframe tbody tr th {\n",
       "        vertical-align: top;\n",
       "    }\n",
       "\n",
       "    .dataframe thead th {\n",
       "        text-align: right;\n",
       "    }\n",
       "</style>\n",
       "<table border=\"1\" class=\"dataframe\">\n",
       "  <thead>\n",
       "    <tr style=\"text-align: right;\">\n",
       "      <th></th>\n",
       "      <th>mention_id</th>\n",
       "      <th>mention_name</th>\n",
       "      <th>mention_gold_cui</th>\n",
       "      <th>mention_gold_cui_name</th>\n",
       "      <th>predicted_name</th>\n",
       "      <th>predicted_cui</th>\n",
       "    </tr>\n",
       "  </thead>\n",
       "  <tbody>\n",
       "    <tr>\n",
       "      <th>0</th>\n",
       "      <td>800770952913158144</td>\n",
       "      <td>user thats number yr old study homicide number...</td>\n",
       "      <td>1502</td>\n",
       "      <td>PolitiFact Sally Kohn White men account for 69...</td>\n",
       "      <td>PolitiFact Juan Williams No 1 cause of death f...</td>\n",
       "      <td>274</td>\n",
       "    </tr>\n",
       "    <tr>\n",
       "      <th>1</th>\n",
       "      <td>876529196213964800</td>\n",
       "      <td>user you fail to acknowledge black on black cr...</td>\n",
       "      <td>1201</td>\n",
       "      <td>PolitiFact Trumps Pants on Fire tweet that bla...</td>\n",
       "      <td>PolitiFact Juan Williams No 1 cause of death f...</td>\n",
       "      <td>274</td>\n",
       "    </tr>\n",
       "    <tr>\n",
       "      <th>2</th>\n",
       "      <td>899394046673784832</td>\n",
       "      <td>new death rates for white men up number percen...</td>\n",
       "      <td>3468</td>\n",
       "      <td>PolitiFact Death rates for white men up 20 per...</td>\n",
       "      <td>PolitiFact Juan Williams No 1 cause of death f...</td>\n",
       "      <td>274</td>\n",
       "    </tr>\n",
       "    <tr>\n",
       "      <th>3</th>\n",
       "      <td>808066785316577280</td>\n",
       "      <td>user diversion us intel had the info the whole...</td>\n",
       "      <td>235</td>\n",
       "      <td>Russian Billboard Features Trump and Putin Sno...</td>\n",
       "      <td>PolitiFact Hillary Clinton blames highup Russi...</td>\n",
       "      <td>275</td>\n",
       "    </tr>\n",
       "    <tr>\n",
       "      <th>4</th>\n",
       "      <td>962353482983460864</td>\n",
       "      <td>still thinks comparing person to mandela isnt ...</td>\n",
       "      <td>1306</td>\n",
       "      <td>PolitiFact Bernie Sanders exaggerates with cla...</td>\n",
       "      <td>Did Obamas Literary Agent Say He Was Born in K...</td>\n",
       "      <td>72</td>\n",
       "    </tr>\n",
       "  </tbody>\n",
       "</table>\n",
       "</div>"
      ],
      "text/plain": [
       "           mention_id                                       mention_name  \\\n",
       "0  800770952913158144  user thats number yr old study homicide number...   \n",
       "1  876529196213964800  user you fail to acknowledge black on black cr...   \n",
       "2  899394046673784832  new death rates for white men up number percen...   \n",
       "3  808066785316577280  user diversion us intel had the info the whole...   \n",
       "4  962353482983460864  still thinks comparing person to mandela isnt ...   \n",
       "\n",
       "  mention_gold_cui                              mention_gold_cui_name  \\\n",
       "0             1502  PolitiFact Sally Kohn White men account for 69...   \n",
       "1             1201  PolitiFact Trumps Pants on Fire tweet that bla...   \n",
       "2             3468  PolitiFact Death rates for white men up 20 per...   \n",
       "3              235  Russian Billboard Features Trump and Putin Sno...   \n",
       "4             1306  PolitiFact Bernie Sanders exaggerates with cla...   \n",
       "\n",
       "                                      predicted_name predicted_cui  \n",
       "0  PolitiFact Juan Williams No 1 cause of death f...           274  \n",
       "1  PolitiFact Juan Williams No 1 cause of death f...           274  \n",
       "2  PolitiFact Juan Williams No 1 cause of death f...           274  \n",
       "3  PolitiFact Hillary Clinton blames highup Russi...           275  \n",
       "4  Did Obamas Literary Agent Say He Was Born in K...            72  "
      ]
     },
     "execution_count": 29,
     "metadata": {},
     "output_type": "execute_result"
    }
   ],
   "source": [
    "df_failure.head()"
   ]
  },
  {
   "cell_type": "code",
   "execution_count": 30,
   "id": "17bcf90e",
   "metadata": {
    "scrolled": false
   },
   "outputs": [
    {
     "data": {
      "text/html": [
       "<div>\n",
       "<style scoped>\n",
       "    .dataframe tbody tr th:only-of-type {\n",
       "        vertical-align: middle;\n",
       "    }\n",
       "\n",
       "    .dataframe tbody tr th {\n",
       "        vertical-align: top;\n",
       "    }\n",
       "\n",
       "    .dataframe thead th {\n",
       "        text-align: right;\n",
       "    }\n",
       "</style>\n",
       "<table border=\"1\" class=\"dataframe\">\n",
       "  <thead>\n",
       "    <tr style=\"text-align: right;\">\n",
       "      <th></th>\n",
       "      <th>mention_id</th>\n",
       "      <th>mention_name</th>\n",
       "      <th>mention_gold_cui</th>\n",
       "      <th>mention_gold_cui_name</th>\n",
       "      <th>predicted_name</th>\n",
       "      <th>predicted_cui</th>\n",
       "    </tr>\n",
       "  </thead>\n",
       "  <tbody>\n",
       "    <tr>\n",
       "      <th>0</th>\n",
       "      <td>821773847414378496</td>\n",
       "      <td>user number diplomats were killed on bushs wat...</td>\n",
       "      <td>272</td>\n",
       "      <td>PolitiFact Prior to Benghazi were there 13 att...</td>\n",
       "      <td>PolitiFact Prior to Benghazi were there 13 att...</td>\n",
       "      <td>272</td>\n",
       "    </tr>\n",
       "    <tr>\n",
       "      <th>1</th>\n",
       "      <td>789852785248395264</td>\n",
       "      <td>user no american was killed in those embassies</td>\n",
       "      <td>272</td>\n",
       "      <td>PolitiFact Prior to Benghazi were there 13 att...</td>\n",
       "      <td>PolitiFact Prior to Benghazi were there 13 att...</td>\n",
       "      <td>272</td>\n",
       "    </tr>\n",
       "    <tr>\n",
       "      <th>2</th>\n",
       "      <td>770031351768776704</td>\n",
       "      <td>user number number cause of death for blacks i...</td>\n",
       "      <td>274</td>\n",
       "      <td>PolitiFact Juan Williams No 1 cause of death f...</td>\n",
       "      <td>PolitiFact Juan Williams No 1 cause of death f...</td>\n",
       "      <td>274</td>\n",
       "    </tr>\n",
       "    <tr>\n",
       "      <th>3</th>\n",
       "      <td>847067809494458368</td>\n",
       "      <td>user on tape obama told the russian ambassador...</td>\n",
       "      <td>276</td>\n",
       "      <td>Did Obama Suggest More Flexibility Toward Russ...</td>\n",
       "      <td>Did Obama Suggest More Flexibility Toward Russ...</td>\n",
       "      <td>276</td>\n",
       "    </tr>\n",
       "    <tr>\n",
       "      <th>4</th>\n",
       "      <td>836667403207598080</td>\n",
       "      <td>user guess u didnt watch video of obama tellin...</td>\n",
       "      <td>276</td>\n",
       "      <td>Did Obama Suggest More Flexibility Toward Russ...</td>\n",
       "      <td>Did Obama Suggest More Flexibility Toward Russ...</td>\n",
       "      <td>276</td>\n",
       "    </tr>\n",
       "  </tbody>\n",
       "</table>\n",
       "</div>"
      ],
      "text/plain": [
       "           mention_id                                       mention_name  \\\n",
       "0  821773847414378496  user number diplomats were killed on bushs wat...   \n",
       "1  789852785248395264     user no american was killed in those embassies   \n",
       "2  770031351768776704  user number number cause of death for blacks i...   \n",
       "3  847067809494458368  user on tape obama told the russian ambassador...   \n",
       "4  836667403207598080  user guess u didnt watch video of obama tellin...   \n",
       "\n",
       "  mention_gold_cui                              mention_gold_cui_name  \\\n",
       "0              272  PolitiFact Prior to Benghazi were there 13 att...   \n",
       "1              272  PolitiFact Prior to Benghazi were there 13 att...   \n",
       "2              274  PolitiFact Juan Williams No 1 cause of death f...   \n",
       "3              276  Did Obama Suggest More Flexibility Toward Russ...   \n",
       "4              276  Did Obama Suggest More Flexibility Toward Russ...   \n",
       "\n",
       "                                      predicted_name predicted_cui  \n",
       "0  PolitiFact Prior to Benghazi were there 13 att...           272  \n",
       "1  PolitiFact Prior to Benghazi were there 13 att...           272  \n",
       "2  PolitiFact Juan Williams No 1 cause of death f...           274  \n",
       "3  Did Obama Suggest More Flexibility Toward Russ...           276  \n",
       "4  Did Obama Suggest More Flexibility Toward Russ...           276  "
      ]
     },
     "execution_count": 30,
     "metadata": {},
     "output_type": "execute_result"
    }
   ],
   "source": [
    "df_success.head()"
   ]
  },
  {
   "cell_type": "code",
   "execution_count": 42,
   "id": "6bdf0d7d",
   "metadata": {},
   "outputs": [],
   "source": [
    "columns = ['mention_name', 'mention_gold_cui', 'predicted_cui']"
   ]
  },
  {
   "cell_type": "code",
   "execution_count": 48,
   "id": "62a67933",
   "metadata": {},
   "outputs": [
    {
     "data": {
      "text/plain": [
       "'As the US House of Representatives was readying a new special committee to investigate the terrorist attack in Benghazi Libya many Democrats were arguing that continuing to probe the Sept 11 2012 attack which killed four Americans including US Ambassador Chris Stevens amounted to a political witch hunt On May 5 2014 Rep John Garamendi DCalif told MSNBC host Ed Schultz that there has already been exhaustive testimony and investigation of the incident This thing is just going on and on to boredom actually Garamendi said The Armed Services Committee actually did a hearing and the result was theres nothing here Thats obviously a great tragedy but Ed during the George W Bush period there were 13 attacks on various embassies and consulates around the world Sixty people died In Karachi there was a death of one of our diplomats and those were not investigated during that period of time because it was a tragedy Readers asked us whether its true that under Bush there were 13 attacks on various embassies and consulates around the world and 60 people died We turned to the Global Terrorism Database a project headquartered at the University of Maryland The database documents terrorist attacks around the world going back to the 1970s and experts told us it is the best resource available for this factcheck We searched the database for descriptions between January 2001 and January 2009 that included the term US embassy We supplemented these with a few other attacks listed in a Huffington Post opinion piece that Garamendis staff said was their main source for the claim The Huffington Post column Garamendi cited purposely didnt count any attacks in Baghdad So we decided to construct our count from scratch While Garamendi spoke of embassies and consulates we found several US diplomatic targets killed in the line of duty outside official compounds such as in convoys or their homes and we included them in our count Once we crossreferenced the attacks in the article and those in the database we narrowed down the total to 39 attacks or attempted attacks on US embassies and embassy personnel Of these 39 attacks 20 resulted in at least one fatality Our complete list is here This is higher than Garamendis claim though if you only count attacks on embassy and consular property there were 13 Garamendi also understated the number of deaths In the 20 incidents with at least one fatality the total death toll was 87 quite a few more than the 60 Garamendi cited If you only count those at embassies and consulates proper the number of deaths drops to 66 We should note that the vast majority of these deaths were not Americans We counted 63 deaths that were either of nonAmericans or of people whose nationality is unknown Another three were US civilians Another 21 were workers at the US embassy or consulate either of American or foreign nationality So using what we think is the most reasonable definition Garamendis numbers are a bit low Featured Factcheck Facebook posts stated on November 7 2021 in a Facebook post The Astroworld concert was a test run on the vaxxed because people who are injected with graphene oxide can be controlled through magnetic frequencies including music By Samantha Putterman November 8 2021 What about the implicit comparison he made between Benghazi and these previous attacks Thats a little shakier Generally the experts we contacted agreed that Garamendi was making a reasonable point that there has been a steady and comparatively overlooked series of deadly attacks on US embassies in recent years Still these experts also said there are valid reasons to treat Benghazi differently from the earlier attacks Is Benghazi different Absolutely said Daveed GartensteinRoss a senior fellow at the Foundation for Defense of Democracies and an adjunct assistant professor in Georgetown Universitys security studies program One reason he said is that an American ambassador died in the attack which hadnt happened since the 1970s Another relevant question GartensteinRoss said is whether what happened was put to the American people in an honest manner not just with respect to the administration but also with respect to the intelligence community GartensteinRoss added that he wasnt endorsing how the Republicans go about investigating this question But he did say its a real legitimate question As always what causes the problem is not so much what happens but the response to it said Theodore R Bromund a senior research fellow at the conservative Heritage Foundation If the administration had come out shortly after the attack and said Our consulate was attacked by organized Islamist forces and we will pursue these terrorists and bring them to justice one way or the other I very much doubt there would be much juice in these hearings if indeed they were being held at all Lance Janda a military historian at Cameron University agreed that Benghazi brings up important issues We probably should have had more United States forces on site or at least nearby he said And the administration had a muddled response in terms of releasing information he added Our ruling Garamendi said that during the George W Bush period there were 13 attacks on various embassies and consulates around the world Sixty people died There are actually different ways to count the number of attacks especially when considering attacks on ambassadors and embassy personnel who were traveling to or from embassy property Overall we found Garamendi slightly understated the number of deadly attacks and total fatalities even using a strict definition Garamendis claim is accurate but needs clarification or additional information so we rate it Mostly True Share the Facts Politifact 2 7 Politifact Rating Mostly True During the George W Bush period there were 13 attacks on various embassies and consulates around the world Sixty people died John Garamendi Congressman In an interview on MSNBC Monday May 5 2014 05052014 Read More info'"
      ]
     },
     "execution_count": 48,
     "metadata": {},
     "output_type": "execute_result"
    }
   ],
   "source": [
    "# look at 272 and 235 as good examples\n",
    "df_dict['description'][df_dict['cui'] == '272'].iloc[0]"
   ]
  },
  {
   "cell_type": "code",
   "execution_count": 52,
   "id": "2722b546",
   "metadata": {
    "scrolled": true
   },
   "outputs": [
    {
     "data": {
      "text/plain": [
       "'PolitiFact Prior to Benghazi were there 13 attacks on embassies and 60 deaths under President George W Bush'"
      ]
     },
     "execution_count": 52,
     "metadata": {},
     "output_type": "execute_result"
    }
   ],
   "source": [
    "df_dict['title'][df_dict['cui'] == '272'].iloc[0]"
   ]
  },
  {
   "cell_type": "code",
   "execution_count": 57,
   "id": "cec6cd9d",
   "metadata": {},
   "outputs": [
    {
     "data": {
      "text/plain": [
       "(26, 6)"
      ]
     },
     "execution_count": 57,
     "metadata": {},
     "output_type": "execute_result"
    }
   ],
   "source": [
    "df_failure[df_failure['mention_gold_cui'] == '272'].shape"
   ]
  },
  {
   "cell_type": "code",
   "execution_count": 50,
   "id": "f811e6f7",
   "metadata": {},
   "outputs": [
    {
     "data": {
      "text/html": [
       "<div>\n",
       "<style scoped>\n",
       "    .dataframe tbody tr th:only-of-type {\n",
       "        vertical-align: middle;\n",
       "    }\n",
       "\n",
       "    .dataframe tbody tr th {\n",
       "        vertical-align: top;\n",
       "    }\n",
       "\n",
       "    .dataframe thead th {\n",
       "        text-align: right;\n",
       "    }\n",
       "</style>\n",
       "<table border=\"1\" class=\"dataframe\">\n",
       "  <thead>\n",
       "    <tr style=\"text-align: right;\">\n",
       "      <th></th>\n",
       "      <th>mention_name</th>\n",
       "      <th>mention_gold_cui</th>\n",
       "      <th>predicted_cui</th>\n",
       "    </tr>\n",
       "  </thead>\n",
       "  <tbody>\n",
       "    <tr>\n",
       "      <th>34</th>\n",
       "      <td>user you left out manipulator who acquiesced t...</td>\n",
       "      <td>272</td>\n",
       "      <td>304</td>\n",
       "    </tr>\n",
       "    <tr>\n",
       "      <th>128</th>\n",
       "      <td>remember when person said we didnt lose a sing...</td>\n",
       "      <td>272</td>\n",
       "      <td>366</td>\n",
       "    </tr>\n",
       "    <tr>\n",
       "      <th>129</th>\n",
       "      <td>user look even if you dont like person you hav...</td>\n",
       "      <td>272</td>\n",
       "      <td>366</td>\n",
       "    </tr>\n",
       "    <tr>\n",
       "      <th>158</th>\n",
       "      <td>breaking news a number year inquiry into the b...</td>\n",
       "      <td>272</td>\n",
       "      <td>393</td>\n",
       "    </tr>\n",
       "    <tr>\n",
       "      <th>159</th>\n",
       "      <td>user its that she cant see a problem when its ...</td>\n",
       "      <td>272</td>\n",
       "      <td>393</td>\n",
       "    </tr>\n",
       "    <tr>\n",
       "      <th>164</th>\n",
       "      <td>user how do you cover up this stain url</td>\n",
       "      <td>272</td>\n",
       "      <td>404</td>\n",
       "    </tr>\n",
       "    <tr>\n",
       "      <th>292</th>\n",
       "      <td>yes she did you think someone who gave number ...</td>\n",
       "      <td>272</td>\n",
       "      <td>499</td>\n",
       "    </tr>\n",
       "    <tr>\n",
       "      <th>869</th>\n",
       "      <td>user every person voter is either a blindly ig...</td>\n",
       "      <td>272</td>\n",
       "      <td>57</td>\n",
       "    </tr>\n",
       "    <tr>\n",
       "      <th>1426</th>\n",
       "      <td>heads roll at dnc number top officials out aft...</td>\n",
       "      <td>272</td>\n",
       "      <td>1231</td>\n",
       "    </tr>\n",
       "    <tr>\n",
       "      <th>1497</th>\n",
       "      <td>user this is what violence looks like your fee...</td>\n",
       "      <td>272</td>\n",
       "      <td>1261</td>\n",
       "    </tr>\n",
       "    <tr>\n",
       "      <th>1545</th>\n",
       "      <td>user hillary lied and our heroes died maybe th...</td>\n",
       "      <td>272</td>\n",
       "      <td>1279</td>\n",
       "    </tr>\n",
       "    <tr>\n",
       "      <th>1670</th>\n",
       "      <td>i worked for the clintons hashtag url</td>\n",
       "      <td>272</td>\n",
       "      <td>1380</td>\n",
       "    </tr>\n",
       "    <tr>\n",
       "      <th>1863</th>\n",
       "      <td>user what terrorists did she blow up the consu...</td>\n",
       "      <td>272</td>\n",
       "      <td>1518</td>\n",
       "    </tr>\n",
       "    <tr>\n",
       "      <th>1879</th>\n",
       "      <td>hashtag guess these guys wont be voting hashta...</td>\n",
       "      <td>272</td>\n",
       "      <td>1542</td>\n",
       "    </tr>\n",
       "    <tr>\n",
       "      <th>1957</th>\n",
       "      <td>user oh yeah youve got a great point im sure t...</td>\n",
       "      <td>272</td>\n",
       "      <td>1589</td>\n",
       "    </tr>\n",
       "    <tr>\n",
       "      <th>2081</th>\n",
       "      <td>thanks for this now i know to block you good l...</td>\n",
       "      <td>272</td>\n",
       "      <td>1693</td>\n",
       "    </tr>\n",
       "    <tr>\n",
       "      <th>2249</th>\n",
       "      <td>america cant elect hashtag she is a liar numbe...</td>\n",
       "      <td>272</td>\n",
       "      <td>1846</td>\n",
       "    </tr>\n",
       "    <tr>\n",
       "      <th>2251</th>\n",
       "      <td>user tell that to the mothers of our dead sold...</td>\n",
       "      <td>272</td>\n",
       "      <td>1846</td>\n",
       "    </tr>\n",
       "    <tr>\n",
       "      <th>2252</th>\n",
       "      <td>like having number soldiers killed in hashtag ...</td>\n",
       "      <td>272</td>\n",
       "      <td>1846</td>\n",
       "    </tr>\n",
       "    <tr>\n",
       "      <th>2592</th>\n",
       "      <td>user your right because none would have been n...</td>\n",
       "      <td>272</td>\n",
       "      <td>2168</td>\n",
       "    </tr>\n",
       "    <tr>\n",
       "      <th>2636</th>\n",
       "      <td>user the same could be said for person person ...</td>\n",
       "      <td>272</td>\n",
       "      <td>2221</td>\n",
       "    </tr>\n",
       "    <tr>\n",
       "      <th>2898</th>\n",
       "      <td>user healthcare cost nations debt bailout of s...</td>\n",
       "      <td>272</td>\n",
       "      <td>2469</td>\n",
       "    </tr>\n",
       "    <tr>\n",
       "      <th>2905</th>\n",
       "      <td>the next thing that goes after the hair is bra...</td>\n",
       "      <td>272</td>\n",
       "      <td>2472</td>\n",
       "    </tr>\n",
       "    <tr>\n",
       "      <th>3274</th>\n",
       "      <td>user just correct them with the facts lets cut...</td>\n",
       "      <td>272</td>\n",
       "      <td>2855</td>\n",
       "    </tr>\n",
       "    <tr>\n",
       "      <th>3468</th>\n",
       "      <td>user please do some research on this state dep...</td>\n",
       "      <td>272</td>\n",
       "      <td>2989</td>\n",
       "    </tr>\n",
       "    <tr>\n",
       "      <th>3480</th>\n",
       "      <td>user person person you are a true american thr...</td>\n",
       "      <td>272</td>\n",
       "      <td>3008</td>\n",
       "    </tr>\n",
       "  </tbody>\n",
       "</table>\n",
       "</div>"
      ],
      "text/plain": [
       "                                           mention_name mention_gold_cui  \\\n",
       "34    user you left out manipulator who acquiesced t...              272   \n",
       "128   remember when person said we didnt lose a sing...              272   \n",
       "129   user look even if you dont like person you hav...              272   \n",
       "158   breaking news a number year inquiry into the b...              272   \n",
       "159   user its that she cant see a problem when its ...              272   \n",
       "164             user how do you cover up this stain url              272   \n",
       "292   yes she did you think someone who gave number ...              272   \n",
       "869   user every person voter is either a blindly ig...              272   \n",
       "1426  heads roll at dnc number top officials out aft...              272   \n",
       "1497  user this is what violence looks like your fee...              272   \n",
       "1545  user hillary lied and our heroes died maybe th...              272   \n",
       "1670              i worked for the clintons hashtag url              272   \n",
       "1863  user what terrorists did she blow up the consu...              272   \n",
       "1879  hashtag guess these guys wont be voting hashta...              272   \n",
       "1957  user oh yeah youve got a great point im sure t...              272   \n",
       "2081  thanks for this now i know to block you good l...              272   \n",
       "2249  america cant elect hashtag she is a liar numbe...              272   \n",
       "2251  user tell that to the mothers of our dead sold...              272   \n",
       "2252  like having number soldiers killed in hashtag ...              272   \n",
       "2592  user your right because none would have been n...              272   \n",
       "2636  user the same could be said for person person ...              272   \n",
       "2898  user healthcare cost nations debt bailout of s...              272   \n",
       "2905  the next thing that goes after the hair is bra...              272   \n",
       "3274  user just correct them with the facts lets cut...              272   \n",
       "3468  user please do some research on this state dep...              272   \n",
       "3480  user person person you are a true american thr...              272   \n",
       "\n",
       "     predicted_cui  \n",
       "34             304  \n",
       "128            366  \n",
       "129            366  \n",
       "158            393  \n",
       "159            393  \n",
       "164            404  \n",
       "292            499  \n",
       "869             57  \n",
       "1426          1231  \n",
       "1497          1261  \n",
       "1545          1279  \n",
       "1670          1380  \n",
       "1863          1518  \n",
       "1879          1542  \n",
       "1957          1589  \n",
       "2081          1693  \n",
       "2249          1846  \n",
       "2251          1846  \n",
       "2252          1846  \n",
       "2592          2168  \n",
       "2636          2221  \n",
       "2898          2469  \n",
       "2905          2472  \n",
       "3274          2855  \n",
       "3468          2989  \n",
       "3480          3008  "
      ]
     },
     "execution_count": 50,
     "metadata": {},
     "output_type": "execute_result"
    }
   ],
   "source": [
    "df_failure[df_failure['mention_gold_cui'] == '272'][columns]"
   ]
  },
  {
   "cell_type": "code",
   "execution_count": 59,
   "id": "1dccbd48",
   "metadata": {},
   "outputs": [
    {
     "name": "stdout",
     "output_type": "stream",
     "text": [
      "user you left out manipulator who acquiesced to aglynch request to cover for hillary hashtag were coming out with guns blazing hashtag\n",
      "\n",
      "remember when person said we didnt lose a single person in libya yeah so do i hashtag url hashtag\n",
      "\n",
      "user look even if you dont like person you have number choices and hillary let our men died in benghazi cant handle it\n",
      "\n",
      "breaking news a number year inquiry into the benghazi attacks found no new evidence of wrongdoing by person person url\n",
      "\n",
      "user its that she cant see a problem when its right in front of her face read the benghazi report and youll see thats true\n",
      "\n",
      "user how do you cover up this stain url\n",
      "\n",
      "yes she did you think someone who gave number years to public service got more money to help ny after number wanted her countrymen dead wtf url\n",
      "\n",
      "user every person voter is either a blindly ignorant full on libtard or just anti person same thing i guess\n",
      "\n",
      "heads roll at dnc number top officials out after email hack url url\n",
      "\n",
      "user this is what violence looks like your feelings mean nothing to me url\n",
      "\n",
      "user hillary lied and our heroes died maybe the old bioch will have a stroke\n",
      "\n",
      "i worked for the clintons hashtag url\n",
      "\n",
      "user what terrorists did she blow up the consulate staff at benghazi she was sec of state\n",
      "\n",
      "hashtag guess these guys wont be voting hashtag url\n",
      "\n",
      "user oh yeah youve got a great point im sure they voted for the woman that let this happen url\n",
      "\n",
      "thanks for this now i know to block you good luck and god bless url\n",
      "\n",
      "america cant elect hashtag she is a liar number dead americans in hashtag hashtag hashtag order bricks user url url\n",
      "\n",
      "user tell that to the mothers of our dead soldiers go ahead tell them they are lame\n",
      "\n",
      "like having number soldiers killed in hashtag user hashtag url\n",
      "\n",
      "user your right because none would have been needed because our guys would still be alive\n",
      "\n",
      "user the same could be said for person person who should be in jail now\n",
      "\n",
      "user healthcare cost nations debt bailout of selective companies dead americans in benghazi\n",
      "\n",
      "the next thing that goes after the hair is brain cells can you say putz hashtag url user\n",
      "\n",
      "user just correct them with the facts lets cut the spin\n",
      "\n",
      "user please do some research on this state dept gave stand down order that night not defense dept\n",
      "\n",
      "user person person you are a true american through and through\n",
      "\n"
     ]
    }
   ],
   "source": [
    "for i in range(df_failure[df_failure['mention_gold_cui'] == '272'].shape[0]):\n",
    "    #print(df_failure[df_failure['mention_gold_cui'] == '272']['mention_id'].iloc[i])\n",
    "    #print(i)\n",
    "    print(df_failure[df_failure['mention_gold_cui'] == '272']['mention_name'].iloc[i])\n",
    "    print()"
   ]
  },
  {
   "cell_type": "code",
   "execution_count": 56,
   "id": "d9a6035a",
   "metadata": {},
   "outputs": [
    {
     "data": {
      "text/plain": [
       "(2, 6)"
      ]
     },
     "execution_count": 56,
     "metadata": {},
     "output_type": "execute_result"
    }
   ],
   "source": [
    "df_success[df_success['mention_gold_cui'] == '272'].shape"
   ]
  },
  {
   "cell_type": "code",
   "execution_count": 54,
   "id": "1653f3bb",
   "metadata": {},
   "outputs": [
    {
     "data": {
      "text/plain": [
       "'user number diplomats were killed on bushs watch where were your tears then and that number hr benghazi hearing was a rehash'"
      ]
     },
     "execution_count": 54,
     "metadata": {},
     "output_type": "execute_result"
    }
   ],
   "source": [
    "df_success[df_success['mention_gold_cui'] == '272']['mention_name'].iloc[0]"
   ]
  },
  {
   "cell_type": "code",
   "execution_count": 55,
   "id": "befdcd51",
   "metadata": {},
   "outputs": [
    {
     "data": {
      "text/plain": [
       "'user no american was killed in those embassies'"
      ]
     },
     "execution_count": 55,
     "metadata": {},
     "output_type": "execute_result"
    }
   ],
   "source": [
    "df_success[df_success['mention_gold_cui'] == '272']['mention_name'].iloc[1]"
   ]
  },
  {
   "cell_type": "markdown",
   "id": "b739d22b",
   "metadata": {},
   "source": [
    "For in-batch it is pretty clear that when the entity and the mention are similar in context and have overlapping words it is predicted correctly\n",
    "\n",
    "When you look at the failure cases the issues are that our model is not being able to identify the context. Even for humans itself it would be really difficult to classify which entity it should be linked to. For example, in index 1863, we have the pronoun 'she', but there is no context provided as to what the tweet means unless the human themselves ends up clicking on the url provided in the tweet."
   ]
  },
  {
   "cell_type": "code",
   "execution_count": null,
   "id": "1d7ad505",
   "metadata": {},
   "outputs": [],
   "source": []
  },
  {
   "cell_type": "code",
   "execution_count": null,
   "id": "6cf523ef",
   "metadata": {},
   "outputs": [],
   "source": []
  }
 ],
 "metadata": {
  "kernelspec": {
   "display_name": "Python 3 (ipykernel)",
   "language": "python",
   "name": "python3"
  },
  "language_info": {
   "codemirror_mode": {
    "name": "ipython",
    "version": 3
   },
   "file_extension": ".py",
   "mimetype": "text/x-python",
   "name": "python",
   "nbconvert_exporter": "python",
   "pygments_lexer": "ipython3",
   "version": "3.7.11"
  }
 },
 "nbformat": 4,
 "nbformat_minor": 5
}
