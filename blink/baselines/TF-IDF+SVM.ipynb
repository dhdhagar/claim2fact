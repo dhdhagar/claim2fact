{
 "cells": [
  {
   "cell_type": "code",
   "execution_count": 1,
   "id": "8d98025e",
   "metadata": {},
   "outputs": [],
   "source": [
    "import json\n",
    "import glob\n",
    "import pandas as pd\n",
    "import pickle\n",
    "from sklearn.model_selection import train_test_split\n",
    "from nltk.corpus import stopwords\n",
    "import string\n",
    "from nltk.stem import WordNetLemmatizer\n",
    "import numpy as np\n",
    "from sklearn.feature_extraction.text import TfidfVectorizer\n",
    "from sklearn.svm import SVC\n",
    "from sklearn.pipeline import make_pipeline\n",
    "from sklearn.preprocessing import StandardScaler\n",
    "import random\n",
    "import csv\n",
    "from sklearn.decomposition import PCA\n",
    "from sklearn.decomposition import TruncatedSVD\n",
    "from sklearn.metrics import f1_score\n",
    "random.seed(42)\n",
    "np.random.seed(42)"
   ]
  },
  {
   "cell_type": "code",
   "execution_count": 2,
   "id": "ee64825d",
   "metadata": {},
   "outputs": [],
   "source": [
    "def remove_punctuations(x):\n",
    "    punctuations = list(string.punctuation)\n",
    "    punctuations.append('“')\n",
    "    punctuations.append('”')\n",
    "    punctuations.append(\"—\")\n",
    "    x_char = list(x)\n",
    "    for i in range(len(x_char)):\n",
    "        if x_char[i] in punctuations:\n",
    "            x_char[i]=' '\n",
    "    return ''.join(x_char)\n",
    "\n",
    "def preprocess(X):\n",
    "    X = X.str.lower()\n",
    "    stop = stopwords.words('english')\n",
    "    X = X.apply(lambda x: ' '.join([word for word in x.split() if word not in (stop)]))\n",
    "    '''punctuations = list(string.punctuations)\n",
    "    X = X.apply(lambda x: ''.join([word for word in list(x) if word not in (punctuations)]))\n",
    "    '''\n",
    "    X=X.apply(remove_punctuations)\n",
    "    lemmatizer = WordNetLemmatizer()\n",
    "    X = X.apply(lambda x: ' '.join([lemmatizer.lemmatize(word) for word in x.split() if word not in (stop)]))\n",
    "    \n",
    "    return X\n",
    "\n",
    "def get_tf_idf_vector(X):\n",
    "    vectorizer = TfidfVectorizer()\n",
    "    X_tf_idf_vector = vectorizer.fit_transform(X)\n",
    "    return vectorizer, X_tf_idf_vector\n",
    "\n",
    "def get_tf_idf_vector_test(X,vectorizer):\n",
    "    return vectorizer.transform(X)\n",
    "\n",
    "def truncated_svd_on_tf_idf_vector(X):\n",
    "    truncatedSVD = TruncatedSVD(n_components=1000,n_iter=7, random_state=42)\n",
    "    X= truncatedSVD.fit_transform(X)\n",
    "    return truncatedSVD, X\n",
    "\n",
    "def truncated_svd_on_tf_idf_vector_test(X, truncatedSVD):\n",
    "    return truncatedSVD.fit_transform(X)\n",
    "    "
   ]
  },
  {
   "cell_type": "markdown",
   "id": "682882d9",
   "metadata": {},
   "source": [
    "## Using processed data"
   ]
  },
  {
   "cell_type": "code",
   "execution_count": 45,
   "id": "4f169545",
   "metadata": {},
   "outputs": [],
   "source": [
    "with open('./data/processed/dictionary.pickle','rb') as f:\n",
    "    dictionary = pickle.load(f)"
   ]
  },
  {
   "cell_type": "code",
   "execution_count": 46,
   "id": "eb0b3494",
   "metadata": {},
   "outputs": [],
   "source": [
    "article_df = pd.DataFrame.from_dict(dictionary)"
   ]
  },
  {
   "cell_type": "code",
   "execution_count": 47,
   "id": "b05993aa",
   "metadata": {},
   "outputs": [],
   "source": [
    "def return_list_of_dict(filename):\n",
    "    train=[]\n",
    "    with open('./data/processed/'+filename,'r') as f:\n",
    "        for line in f:\n",
    "            train.append(json.loads(line))\n",
    "    return train"
   ]
  },
  {
   "cell_type": "code",
   "execution_count": 48,
   "id": "9fab2cda",
   "metadata": {},
   "outputs": [],
   "source": [
    "train = return_list_of_dict('train.jsonl')\n",
    "val = return_list_of_dict('valid.jsonl')\n",
    "test = return_list_of_dict('test.jsonl')"
   ]
  },
  {
   "cell_type": "code",
   "execution_count": 49,
   "id": "38750211",
   "metadata": {},
   "outputs": [],
   "source": [
    "train_df = pd.DataFrame.from_dict(train)\n",
    "val_df = pd.DataFrame.from_dict(val)\n",
    "test_df = pd.DataFrame.from_dict(test)"
   ]
  },
  {
   "cell_type": "code",
   "execution_count": 50,
   "id": "6590e15a",
   "metadata": {},
   "outputs": [
    {
     "data": {
      "text/html": [
       "<div>\n",
       "<style scoped>\n",
       "    .dataframe tbody tr th:only-of-type {\n",
       "        vertical-align: middle;\n",
       "    }\n",
       "\n",
       "    .dataframe tbody tr th {\n",
       "        vertical-align: top;\n",
       "    }\n",
       "\n",
       "    .dataframe thead th {\n",
       "        text-align: right;\n",
       "    }\n",
       "</style>\n",
       "<table border=\"1\" class=\"dataframe\">\n",
       "  <thead>\n",
       "    <tr style=\"text-align: right;\">\n",
       "      <th></th>\n",
       "      <th>mention</th>\n",
       "      <th>mention_id</th>\n",
       "      <th>context_left</th>\n",
       "      <th>context_right</th>\n",
       "      <th>context_doc_id</th>\n",
       "      <th>type</th>\n",
       "      <th>label_id</th>\n",
       "      <th>label</th>\n",
       "      <th>label_title</th>\n",
       "    </tr>\n",
       "  </thead>\n",
       "  <tbody>\n",
       "    <tr>\n",
       "      <th>0</th>\n",
       "      <td>The families of these four should sit in the f...</td>\n",
       "      <td>780136889441456128</td>\n",
       "      <td></td>\n",
       "      <td></td>\n",
       "      <td></td>\n",
       "      <td></td>\n",
       "      <td>272</td>\n",
       "      <td></td>\n",
       "      <td></td>\n",
       "    </tr>\n",
       "    <tr>\n",
       "      <th>1</th>\n",
       "      <td>user person didnt lower my my taxes and he rai...</td>\n",
       "      <td>913075551212011520</td>\n",
       "      <td></td>\n",
       "      <td></td>\n",
       "      <td></td>\n",
       "      <td></td>\n",
       "      <td>273</td>\n",
       "      <td></td>\n",
       "      <td></td>\n",
       "    </tr>\n",
       "    <tr>\n",
       "      <th>2</th>\n",
       "      <td>JaredBerry316 glennbeck like when white Christ...</td>\n",
       "      <td>753045148775440384</td>\n",
       "      <td></td>\n",
       "      <td></td>\n",
       "      <td></td>\n",
       "      <td></td>\n",
       "      <td>274</td>\n",
       "      <td></td>\n",
       "      <td></td>\n",
       "    </tr>\n",
       "    <tr>\n",
       "      <th>3</th>\n",
       "      <td>AdamKazda 60 diplomats were killed on Bushs wa...</td>\n",
       "      <td>743830161393520640</td>\n",
       "      <td></td>\n",
       "      <td></td>\n",
       "      <td></td>\n",
       "      <td></td>\n",
       "      <td>14</td>\n",
       "      <td></td>\n",
       "      <td></td>\n",
       "    </tr>\n",
       "    <tr>\n",
       "      <th>4</th>\n",
       "      <td>fight4women Wow you got a source for all that ...</td>\n",
       "      <td>818188352314900480</td>\n",
       "      <td></td>\n",
       "      <td></td>\n",
       "      <td></td>\n",
       "      <td></td>\n",
       "      <td>275</td>\n",
       "      <td></td>\n",
       "      <td></td>\n",
       "    </tr>\n",
       "  </tbody>\n",
       "</table>\n",
       "</div>"
      ],
      "text/plain": [
       "                                             mention          mention_id  \\\n",
       "0  The families of these four should sit in the f...  780136889441456128   \n",
       "1  user person didnt lower my my taxes and he rai...  913075551212011520   \n",
       "2  JaredBerry316 glennbeck like when white Christ...  753045148775440384   \n",
       "3  AdamKazda 60 diplomats were killed on Bushs wa...  743830161393520640   \n",
       "4  fight4women Wow you got a source for all that ...  818188352314900480   \n",
       "\n",
       "  context_left context_right context_doc_id type label_id label label_title  \n",
       "0                                                     272                    \n",
       "1                                                     273                    \n",
       "2                                                     274                    \n",
       "3                                                      14                    \n",
       "4                                                     275                    "
      ]
     },
     "execution_count": 50,
     "metadata": {},
     "output_type": "execute_result"
    }
   ],
   "source": [
    "train_df.head()"
   ]
  },
  {
   "cell_type": "code",
   "execution_count": 51,
   "id": "42a7ef1c",
   "metadata": {},
   "outputs": [],
   "source": [
    "X_train = train_df['mention']\n",
    "X_val = val_df['mention']\n",
    "X_test = test_df['mention']"
   ]
  },
  {
   "cell_type": "code",
   "execution_count": 52,
   "id": "9abac7c1",
   "metadata": {},
   "outputs": [],
   "source": [
    "X_train = preprocess(X_train)\n",
    "X_test = preprocess(X_test)\n",
    "X_val = preprocess(X_val)"
   ]
  },
  {
   "cell_type": "code",
   "execution_count": 53,
   "id": "f817d877",
   "metadata": {},
   "outputs": [],
   "source": [
    "y_train = train_df['label_id']\n",
    "y_val = val_df['label_id']\n",
    "y_test = test_df['label_id']"
   ]
  },
  {
   "cell_type": "code",
   "execution_count": 54,
   "id": "9ab71c2d",
   "metadata": {},
   "outputs": [],
   "source": [
    "# Doing PCA here using truncated SVD as PCA does not work for sparse matrices\n",
    "vectorizer, X_train_tf_idf_vector = get_tf_idf_vector(X_train)\n",
    "#truncatedSVD, X_train_svd = truncated_svd_on_tf_idf_vector(X_train_tf_idf_vector)\n",
    "\n",
    "X_val_tf_idf_vector = get_tf_idf_vector_test(X_val,vectorizer)\n",
    "#X_val_svd = truncated_svd_on_tf_idf_vector_test(X_val_tf_idf_vector,truncatedSVD)\n",
    "\n",
    "X_test_tf_idf_vector = get_tf_idf_vector_test(X_test,vectorizer)\n",
    "#X_test_svd = truncated_svd_on_tf_idf_vector_test(X_test_tf_idf_vector, truncatedSVD)"
   ]
  },
  {
   "cell_type": "code",
   "execution_count": 57,
   "id": "cf746f87",
   "metadata": {},
   "outputs": [
    {
     "data": {
      "text/plain": [
       "Pipeline(steps=[('standardscaler', StandardScaler(with_mean=False)),\n",
       "                ('svc', SVC(class_weight='balanced', gamma='auto'))])"
      ]
     },
     "execution_count": 57,
     "metadata": {},
     "output_type": "execute_result"
    }
   ],
   "source": [
    "# Training SVM\n",
    "clf = make_pipeline(StandardScaler(with_mean=False), SVC(gamma='auto',class_weight='balanced'))\n",
    "clf.fit(X_train_tf_idf_vector, y_train)\n",
    "#clf = make_pipeline(StandardScaler(), SVC(gamma='auto'),class_weight='balanced')\n",
    "#clf.fit(X_train_svd, y_train)"
   ]
  },
  {
   "cell_type": "code",
   "execution_count": 17,
   "id": "7ae9e227",
   "metadata": {},
   "outputs": [
    {
     "data": {
      "text/plain": [
       "14.129181084198386"
      ]
     },
     "execution_count": 17,
     "metadata": {},
     "output_type": "execute_result"
    }
   ],
   "source": [
    "sum(y_test_pred==y_test)/y_test.shape[0]*100"
   ]
  },
  {
   "cell_type": "code",
   "execution_count": 19,
   "id": "760d5de2",
   "metadata": {},
   "outputs": [],
   "source": [
    "correct=[]\n",
    "incorrect=[]\n",
    "for i in range(len(y_test)):\n",
    "    if y_test[i]==y_test_pred[i]:\n",
    "        correct.append(y_test[i])\n",
    "    else:\n",
    "        incorrect.append([y_test[i],y_test_pred[i]])"
   ]
  },
  {
   "cell_type": "code",
   "execution_count": 22,
   "id": "3c975b15",
   "metadata": {},
   "outputs": [
    {
     "data": {
      "text/plain": [
       "0.8587081891580162"
      ]
     },
     "execution_count": 22,
     "metadata": {},
     "output_type": "execute_result"
    }
   ],
   "source": [
    "correct= pd.DataFrame(correc)"
   ]
  },
  {
   "cell_type": "code",
   "execution_count": 38,
   "id": "4e760163",
   "metadata": {},
   "outputs": [],
   "source": [
    "y_test_pred_df=pd.DataFrame(np.array(y_test), columns=['true'])"
   ]
  },
  {
   "cell_type": "code",
   "execution_count": 39,
   "id": "21e38ce5",
   "metadata": {},
   "outputs": [],
   "source": [
    "y_test_pred_df['pred']=np.array(y_test_pred)"
   ]
  },
  {
   "cell_type": "code",
   "execution_count": 41,
   "id": "093c8663",
   "metadata": {},
   "outputs": [],
   "source": [
    "y_test_pred_df.to_csv('TFIDF_SVM_Predictions.csv')"
   ]
  },
  {
   "cell_type": "code",
   "execution_count": 7,
   "id": "0aac074b",
   "metadata": {},
   "outputs": [],
   "source": [
    "y_test_pred_df = pd.read_csv('TFIDF_SVM_Predictions.csv',index_col=0)"
   ]
  },
  {
   "cell_type": "code",
   "execution_count": 10,
   "id": "eb080639",
   "metadata": {},
   "outputs": [
    {
     "data": {
      "text/html": [
       "<div>\n",
       "<style scoped>\n",
       "    .dataframe tbody tr th:only-of-type {\n",
       "        vertical-align: middle;\n",
       "    }\n",
       "\n",
       "    .dataframe tbody tr th {\n",
       "        vertical-align: top;\n",
       "    }\n",
       "\n",
       "    .dataframe thead th {\n",
       "        text-align: right;\n",
       "    }\n",
       "</style>\n",
       "<table border=\"1\" class=\"dataframe\">\n",
       "  <thead>\n",
       "    <tr style=\"text-align: right;\">\n",
       "      <th></th>\n",
       "      <th>true</th>\n",
       "      <th>pred</th>\n",
       "    </tr>\n",
       "  </thead>\n",
       "  <tbody>\n",
       "    <tr>\n",
       "      <th>0</th>\n",
       "      <td>186</td>\n",
       "      <td>155</td>\n",
       "    </tr>\n",
       "    <tr>\n",
       "      <th>1</th>\n",
       "      <td>47</td>\n",
       "      <td>155</td>\n",
       "    </tr>\n",
       "    <tr>\n",
       "      <th>2</th>\n",
       "      <td>272</td>\n",
       "      <td>155</td>\n",
       "    </tr>\n",
       "    <tr>\n",
       "      <th>3</th>\n",
       "      <td>272</td>\n",
       "      <td>155</td>\n",
       "    </tr>\n",
       "    <tr>\n",
       "      <th>4</th>\n",
       "      <td>892</td>\n",
       "      <td>155</td>\n",
       "    </tr>\n",
       "    <tr>\n",
       "      <th>...</th>\n",
       "      <td>...</td>\n",
       "      <td>...</td>\n",
       "    </tr>\n",
       "    <tr>\n",
       "      <th>5197</th>\n",
       "      <td>1201</td>\n",
       "      <td>155</td>\n",
       "    </tr>\n",
       "    <tr>\n",
       "      <th>5198</th>\n",
       "      <td>1170</td>\n",
       "      <td>155</td>\n",
       "    </tr>\n",
       "    <tr>\n",
       "      <th>5199</th>\n",
       "      <td>1095</td>\n",
       "      <td>155</td>\n",
       "    </tr>\n",
       "    <tr>\n",
       "      <th>5200</th>\n",
       "      <td>2381</td>\n",
       "      <td>155</td>\n",
       "    </tr>\n",
       "    <tr>\n",
       "      <th>5201</th>\n",
       "      <td>2488</td>\n",
       "      <td>155</td>\n",
       "    </tr>\n",
       "  </tbody>\n",
       "</table>\n",
       "<p>5202 rows × 2 columns</p>\n",
       "</div>"
      ],
      "text/plain": [
       "      true  pred\n",
       "0      186   155\n",
       "1       47   155\n",
       "2      272   155\n",
       "3      272   155\n",
       "4      892   155\n",
       "...    ...   ...\n",
       "5197  1201   155\n",
       "5198  1170   155\n",
       "5199  1095   155\n",
       "5200  2381   155\n",
       "5201  2488   155\n",
       "\n",
       "[5202 rows x 2 columns]"
      ]
     },
     "execution_count": 10,
     "metadata": {},
     "output_type": "execute_result"
    }
   ],
   "source": [
    "y_test_pred_df"
   ]
  },
  {
   "cell_type": "code",
   "execution_count": 20,
   "id": "4297ad02",
   "metadata": {},
   "outputs": [
    {
     "data": {
      "text/plain": [
       "4753"
      ]
     },
     "execution_count": 20,
     "metadata": {},
     "output_type": "execute_result"
    }
   ],
   "source": [
    "len(y_test_pred_df[y_test_pred_df['pred']==155])"
   ]
  },
  {
   "cell_type": "code",
   "execution_count": 11,
   "id": "ff2bc4db",
   "metadata": {},
   "outputs": [
    {
     "data": {
      "text/html": [
       "<div>\n",
       "<style scoped>\n",
       "    .dataframe tbody tr th:only-of-type {\n",
       "        vertical-align: middle;\n",
       "    }\n",
       "\n",
       "    .dataframe tbody tr th {\n",
       "        vertical-align: top;\n",
       "    }\n",
       "\n",
       "    .dataframe thead th {\n",
       "        text-align: right;\n",
       "    }\n",
       "</style>\n",
       "<table border=\"1\" class=\"dataframe\">\n",
       "  <thead>\n",
       "    <tr style=\"text-align: right;\">\n",
       "      <th></th>\n",
       "      <th>true</th>\n",
       "      <th>pred</th>\n",
       "    </tr>\n",
       "  </thead>\n",
       "  <tbody>\n",
       "    <tr>\n",
       "      <th>11</th>\n",
       "      <td>186</td>\n",
       "      <td>186</td>\n",
       "    </tr>\n",
       "    <tr>\n",
       "      <th>22</th>\n",
       "      <td>21</td>\n",
       "      <td>21</td>\n",
       "    </tr>\n",
       "    <tr>\n",
       "      <th>30</th>\n",
       "      <td>14</td>\n",
       "      <td>14</td>\n",
       "    </tr>\n",
       "    <tr>\n",
       "      <th>140</th>\n",
       "      <td>279</td>\n",
       "      <td>279</td>\n",
       "    </tr>\n",
       "    <tr>\n",
       "      <th>178</th>\n",
       "      <td>279</td>\n",
       "      <td>279</td>\n",
       "    </tr>\n",
       "  </tbody>\n",
       "</table>\n",
       "</div>"
      ],
      "text/plain": [
       "     true  pred\n",
       "11    186   186\n",
       "22     21    21\n",
       "30     14    14\n",
       "140   279   279\n",
       "178   279   279"
      ]
     },
     "execution_count": 11,
     "metadata": {},
     "output_type": "execute_result"
    }
   ],
   "source": [
    "y_test_correct = y_test_pred_df[y_test_pred_df['true']==y_test_pred_df['pred']]\n",
    "y_test_correct.head()"
   ]
  },
  {
   "cell_type": "code",
   "execution_count": 23,
   "id": "e9b76e49",
   "metadata": {},
   "outputs": [],
   "source": [
    "y_test_incorrect = y_test_pred_df[y_test_pred_df['true']!=y_test_pred_df['pred']]"
   ]
  },
  {
   "cell_type": "code",
   "execution_count": 44,
   "id": "6a712571",
   "metadata": {},
   "outputs": [
    {
     "data": {
      "text/html": [
       "<div>\n",
       "<style scoped>\n",
       "    .dataframe tbody tr th:only-of-type {\n",
       "        vertical-align: middle;\n",
       "    }\n",
       "\n",
       "    .dataframe tbody tr th {\n",
       "        vertical-align: top;\n",
       "    }\n",
       "\n",
       "    .dataframe thead th {\n",
       "        text-align: right;\n",
       "    }\n",
       "</style>\n",
       "<table border=\"1\" class=\"dataframe\">\n",
       "  <thead>\n",
       "    <tr style=\"text-align: right;\">\n",
       "      <th></th>\n",
       "      <th>true</th>\n",
       "      <th>pred</th>\n",
       "    </tr>\n",
       "  </thead>\n",
       "  <tbody>\n",
       "    <tr>\n",
       "      <th>0</th>\n",
       "      <td>186</td>\n",
       "      <td>155</td>\n",
       "    </tr>\n",
       "    <tr>\n",
       "      <th>1</th>\n",
       "      <td>47</td>\n",
       "      <td>155</td>\n",
       "    </tr>\n",
       "    <tr>\n",
       "      <th>2</th>\n",
       "      <td>272</td>\n",
       "      <td>155</td>\n",
       "    </tr>\n",
       "    <tr>\n",
       "      <th>3</th>\n",
       "      <td>272</td>\n",
       "      <td>155</td>\n",
       "    </tr>\n",
       "    <tr>\n",
       "      <th>4</th>\n",
       "      <td>892</td>\n",
       "      <td>155</td>\n",
       "    </tr>\n",
       "  </tbody>\n",
       "</table>\n",
       "</div>"
      ],
      "text/plain": [
       "  true pred\n",
       "0  186  155\n",
       "1   47  155\n",
       "2  272  155\n",
       "3  272  155\n",
       "4  892  155"
      ]
     },
     "execution_count": 44,
     "metadata": {},
     "output_type": "execute_result"
    }
   ],
   "source": [
    "y_test_incorrect.head()"
   ]
  },
  {
   "cell_type": "code",
   "execution_count": 24,
   "id": "f92b1b9d",
   "metadata": {},
   "outputs": [
    {
     "data": {
      "text/plain": [
       "735"
      ]
     },
     "execution_count": 24,
     "metadata": {},
     "output_type": "execute_result"
    }
   ],
   "source": [
    "len(y_test_correct[])"
   ]
  },
  {
   "cell_type": "code",
   "execution_count": 28,
   "id": "f43e76bb",
   "metadata": {},
   "outputs": [
    {
     "data": {
      "text/plain": [
       "359"
      ]
     },
     "execution_count": 28,
     "metadata": {},
     "output_type": "execute_result"
    }
   ],
   "source": [
    "len(y_test_correct[y_test_correct['pred']==155])"
   ]
  },
  {
   "cell_type": "code",
   "execution_count": 25,
   "id": "09a57833",
   "metadata": {},
   "outputs": [
    {
     "data": {
      "text/plain": [
       "4467"
      ]
     },
     "execution_count": 25,
     "metadata": {},
     "output_type": "execute_result"
    }
   ],
   "source": [
    "len(y_test_incorrect)"
   ]
  },
  {
   "cell_type": "code",
   "execution_count": 26,
   "id": "62bc6bac",
   "metadata": {},
   "outputs": [
    {
     "data": {
      "text/plain": [
       "4394"
      ]
     },
     "execution_count": 26,
     "metadata": {},
     "output_type": "execute_result"
    }
   ],
   "source": [
    "len(y_test_incorrect[y_test_incorrect['pred']==155])"
   ]
  },
  {
   "cell_type": "code",
   "execution_count": 27,
   "id": "8ec94ec9",
   "metadata": {},
   "outputs": [
    {
     "data": {
      "text/plain": [
       "360"
      ]
     },
     "execution_count": 27,
     "metadata": {},
     "output_type": "execute_result"
    }
   ],
   "source": [
    "len(y_test_pred_df[y_test_pred_df['true']==155])"
   ]
  },
  {
   "cell_type": "code",
   "execution_count": 47,
   "id": "63b86cbd",
   "metadata": {},
   "outputs": [],
   "source": [
    "with open('./data/processed/dictionary.pickle','rb') as f:\n",
    "    dictionary = pickle.load(f)\n",
    "article_df = pd.DataFrame.from_dict(dictionary)"
   ]
  },
  {
   "cell_type": "code",
   "execution_count": 50,
   "id": "a4b5aecf",
   "metadata": {},
   "outputs": [],
   "source": [
    "y_test_correct=y_test_correct.merge(article_df,left_on='true', right_on='cui')"
   ]
  },
  {
   "cell_type": "code",
   "execution_count": 51,
   "id": "31069aa4",
   "metadata": {},
   "outputs": [
    {
     "data": {
      "text/html": [
       "<div>\n",
       "<style scoped>\n",
       "    .dataframe tbody tr th:only-of-type {\n",
       "        vertical-align: middle;\n",
       "    }\n",
       "\n",
       "    .dataframe tbody tr th {\n",
       "        vertical-align: top;\n",
       "    }\n",
       "\n",
       "    .dataframe thead th {\n",
       "        text-align: right;\n",
       "    }\n",
       "</style>\n",
       "<table border=\"1\" class=\"dataframe\">\n",
       "  <thead>\n",
       "    <tr style=\"text-align: right;\">\n",
       "      <th></th>\n",
       "      <th>true</th>\n",
       "      <th>pred</th>\n",
       "      <th>cui</th>\n",
       "      <th>title</th>\n",
       "      <th>description</th>\n",
       "      <th>summary</th>\n",
       "    </tr>\n",
       "  </thead>\n",
       "  <tbody>\n",
       "    <tr>\n",
       "      <th>0</th>\n",
       "      <td>186</td>\n",
       "      <td>186</td>\n",
       "      <td>186</td>\n",
       "      <td>Hillary Clinton Kissed by Former Klan Member S...</td>\n",
       "      <td></td>\n",
       "      <td></td>\n",
       "    </tr>\n",
       "    <tr>\n",
       "      <th>1</th>\n",
       "      <td>186</td>\n",
       "      <td>186</td>\n",
       "      <td>186</td>\n",
       "      <td>Hillary Clinton Kissed by Former Klan Member S...</td>\n",
       "      <td></td>\n",
       "      <td></td>\n",
       "    </tr>\n",
       "    <tr>\n",
       "      <th>2</th>\n",
       "      <td>186</td>\n",
       "      <td>186</td>\n",
       "      <td>186</td>\n",
       "      <td>Hillary Clinton Kissed by Former Klan Member S...</td>\n",
       "      <td></td>\n",
       "      <td></td>\n",
       "    </tr>\n",
       "    <tr>\n",
       "      <th>3</th>\n",
       "      <td>186</td>\n",
       "      <td>186</td>\n",
       "      <td>186</td>\n",
       "      <td>Hillary Clinton Kissed by Former Klan Member S...</td>\n",
       "      <td></td>\n",
       "      <td></td>\n",
       "    </tr>\n",
       "    <tr>\n",
       "      <th>4</th>\n",
       "      <td>186</td>\n",
       "      <td>186</td>\n",
       "      <td>186</td>\n",
       "      <td>Hillary Clinton Kissed by Former Klan Member S...</td>\n",
       "      <td></td>\n",
       "      <td></td>\n",
       "    </tr>\n",
       "    <tr>\n",
       "      <th>...</th>\n",
       "      <td>...</td>\n",
       "      <td>...</td>\n",
       "      <td>...</td>\n",
       "      <td>...</td>\n",
       "      <td>...</td>\n",
       "      <td>...</td>\n",
       "    </tr>\n",
       "    <tr>\n",
       "      <th>730</th>\n",
       "      <td>1138</td>\n",
       "      <td>1138</td>\n",
       "      <td>1138</td>\n",
       "      <td>Was DNC Worker Seth Conrad Rich Gunned Down on...</td>\n",
       "      <td></td>\n",
       "      <td></td>\n",
       "    </tr>\n",
       "    <tr>\n",
       "      <th>731</th>\n",
       "      <td>192</td>\n",
       "      <td>192</td>\n",
       "      <td>192</td>\n",
       "      <td>Is Barack Obama039s Birth Certificate Fake Sno...</td>\n",
       "      <td></td>\n",
       "      <td></td>\n",
       "    </tr>\n",
       "    <tr>\n",
       "      <th>732</th>\n",
       "      <td>1120</td>\n",
       "      <td>1120</td>\n",
       "      <td>1120</td>\n",
       "      <td>Is Comet Ping Pong Pizzeria Home to a Child Ab...</td>\n",
       "      <td></td>\n",
       "      <td></td>\n",
       "    </tr>\n",
       "    <tr>\n",
       "      <th>733</th>\n",
       "      <td>1321</td>\n",
       "      <td>1321</td>\n",
       "      <td>1321</td>\n",
       "      <td>PolitiFact For the third time Donald Trump US ...</td>\n",
       "      <td>Donald Trump released a tax plan in September ...</td>\n",
       "      <td>Donald Trump said this week hes considering ra...</td>\n",
       "    </tr>\n",
       "    <tr>\n",
       "      <th>734</th>\n",
       "      <td>1898</td>\n",
       "      <td>1898</td>\n",
       "      <td>1898</td>\n",
       "      <td>FACT CHECK Did Delta Force Operators Raid an 0...</td>\n",
       "      <td></td>\n",
       "      <td></td>\n",
       "    </tr>\n",
       "  </tbody>\n",
       "</table>\n",
       "<p>735 rows × 6 columns</p>\n",
       "</div>"
      ],
      "text/plain": [
       "     true  pred   cui                                              title  \\\n",
       "0     186   186   186  Hillary Clinton Kissed by Former Klan Member S...   \n",
       "1     186   186   186  Hillary Clinton Kissed by Former Klan Member S...   \n",
       "2     186   186   186  Hillary Clinton Kissed by Former Klan Member S...   \n",
       "3     186   186   186  Hillary Clinton Kissed by Former Klan Member S...   \n",
       "4     186   186   186  Hillary Clinton Kissed by Former Klan Member S...   \n",
       "..    ...   ...   ...                                                ...   \n",
       "730  1138  1138  1138  Was DNC Worker Seth Conrad Rich Gunned Down on...   \n",
       "731   192   192   192  Is Barack Obama039s Birth Certificate Fake Sno...   \n",
       "732  1120  1120  1120  Is Comet Ping Pong Pizzeria Home to a Child Ab...   \n",
       "733  1321  1321  1321  PolitiFact For the third time Donald Trump US ...   \n",
       "734  1898  1898  1898  FACT CHECK Did Delta Force Operators Raid an 0...   \n",
       "\n",
       "                                           description  \\\n",
       "0                                                        \n",
       "1                                                        \n",
       "2                                                        \n",
       "3                                                        \n",
       "4                                                        \n",
       "..                                                 ...   \n",
       "730                                                      \n",
       "731                                                      \n",
       "732                                                      \n",
       "733  Donald Trump released a tax plan in September ...   \n",
       "734                                                      \n",
       "\n",
       "                                               summary  \n",
       "0                                                       \n",
       "1                                                       \n",
       "2                                                       \n",
       "3                                                       \n",
       "4                                                       \n",
       "..                                                 ...  \n",
       "730                                                     \n",
       "731                                                     \n",
       "732                                                     \n",
       "733  Donald Trump said this week hes considering ra...  \n",
       "734                                                     \n",
       "\n",
       "[735 rows x 6 columns]"
      ]
     },
     "execution_count": 51,
     "metadata": {},
     "output_type": "execute_result"
    }
   ],
   "source": [
    "y_test_correct"
   ]
  },
  {
   "cell_type": "code",
   "execution_count": 52,
   "id": "2aa67dbd",
   "metadata": {},
   "outputs": [],
   "source": [
    "y_test_incorrect=y_test_incorrect.merge(article_df,left_on='true', right_on='cui')"
   ]
  },
  {
   "cell_type": "code",
   "execution_count": 53,
   "id": "85b68465",
   "metadata": {},
   "outputs": [],
   "source": [
    "y_test_incorrect=y_test_incorrect.merge(article_df,left_on='pred', right_on='cui')"
   ]
  },
  {
   "cell_type": "code",
   "execution_count": 56,
   "id": "9a13d666",
   "metadata": {},
   "outputs": [
    {
     "data": {
      "text/html": [
       "<div>\n",
       "<style scoped>\n",
       "    .dataframe tbody tr th:only-of-type {\n",
       "        vertical-align: middle;\n",
       "    }\n",
       "\n",
       "    .dataframe tbody tr th {\n",
       "        vertical-align: top;\n",
       "    }\n",
       "\n",
       "    .dataframe thead th {\n",
       "        text-align: right;\n",
       "    }\n",
       "</style>\n",
       "<table border=\"1\" class=\"dataframe\">\n",
       "  <thead>\n",
       "    <tr style=\"text-align: right;\">\n",
       "      <th></th>\n",
       "      <th>true</th>\n",
       "      <th>pred</th>\n",
       "      <th>cui_x</th>\n",
       "      <th>title_x</th>\n",
       "      <th>description_x</th>\n",
       "      <th>summary_x</th>\n",
       "      <th>cui_y</th>\n",
       "      <th>title_y</th>\n",
       "      <th>description_y</th>\n",
       "      <th>summary_y</th>\n",
       "    </tr>\n",
       "  </thead>\n",
       "  <tbody>\n",
       "    <tr>\n",
       "      <th>0</th>\n",
       "      <td>186</td>\n",
       "      <td>155</td>\n",
       "      <td>186</td>\n",
       "      <td>Hillary Clinton Kissed by Former Klan Member S...</td>\n",
       "      <td></td>\n",
       "      <td></td>\n",
       "      <td>155</td>\n",
       "      <td>FACT CHECK Hillary Clinton Gave 20 Percent of ...</td>\n",
       "      <td></td>\n",
       "      <td></td>\n",
       "    </tr>\n",
       "    <tr>\n",
       "      <th>1</th>\n",
       "      <td>186</td>\n",
       "      <td>155</td>\n",
       "      <td>186</td>\n",
       "      <td>Hillary Clinton Kissed by Former Klan Member S...</td>\n",
       "      <td></td>\n",
       "      <td></td>\n",
       "      <td>155</td>\n",
       "      <td>FACT CHECK Hillary Clinton Gave 20 Percent of ...</td>\n",
       "      <td></td>\n",
       "      <td></td>\n",
       "    </tr>\n",
       "    <tr>\n",
       "      <th>2</th>\n",
       "      <td>186</td>\n",
       "      <td>155</td>\n",
       "      <td>186</td>\n",
       "      <td>Hillary Clinton Kissed by Former Klan Member S...</td>\n",
       "      <td></td>\n",
       "      <td></td>\n",
       "      <td>155</td>\n",
       "      <td>FACT CHECK Hillary Clinton Gave 20 Percent of ...</td>\n",
       "      <td></td>\n",
       "      <td></td>\n",
       "    </tr>\n",
       "    <tr>\n",
       "      <th>3</th>\n",
       "      <td>186</td>\n",
       "      <td>155</td>\n",
       "      <td>186</td>\n",
       "      <td>Hillary Clinton Kissed by Former Klan Member S...</td>\n",
       "      <td></td>\n",
       "      <td></td>\n",
       "      <td>155</td>\n",
       "      <td>FACT CHECK Hillary Clinton Gave 20 Percent of ...</td>\n",
       "      <td></td>\n",
       "      <td></td>\n",
       "    </tr>\n",
       "    <tr>\n",
       "      <th>4</th>\n",
       "      <td>186</td>\n",
       "      <td>155</td>\n",
       "      <td>186</td>\n",
       "      <td>Hillary Clinton Kissed by Former Klan Member S...</td>\n",
       "      <td></td>\n",
       "      <td></td>\n",
       "      <td>155</td>\n",
       "      <td>FACT CHECK Hillary Clinton Gave 20 Percent of ...</td>\n",
       "      <td></td>\n",
       "      <td></td>\n",
       "    </tr>\n",
       "  </tbody>\n",
       "</table>\n",
       "</div>"
      ],
      "text/plain": [
       "  true pred cui_x                                            title_x  \\\n",
       "0  186  155   186  Hillary Clinton Kissed by Former Klan Member S...   \n",
       "1  186  155   186  Hillary Clinton Kissed by Former Klan Member S...   \n",
       "2  186  155   186  Hillary Clinton Kissed by Former Klan Member S...   \n",
       "3  186  155   186  Hillary Clinton Kissed by Former Klan Member S...   \n",
       "4  186  155   186  Hillary Clinton Kissed by Former Klan Member S...   \n",
       "\n",
       "  description_x summary_x cui_y  \\\n",
       "0                           155   \n",
       "1                           155   \n",
       "2                           155   \n",
       "3                           155   \n",
       "4                           155   \n",
       "\n",
       "                                             title_y description_y summary_y  \n",
       "0  FACT CHECK Hillary Clinton Gave 20 Percent of ...                          \n",
       "1  FACT CHECK Hillary Clinton Gave 20 Percent of ...                          \n",
       "2  FACT CHECK Hillary Clinton Gave 20 Percent of ...                          \n",
       "3  FACT CHECK Hillary Clinton Gave 20 Percent of ...                          \n",
       "4  FACT CHECK Hillary Clinton Gave 20 Percent of ...                          "
      ]
     },
     "execution_count": 56,
     "metadata": {},
     "output_type": "execute_result"
    }
   ],
   "source": [
    "y_test_incorrect.head()"
   ]
  },
  {
   "cell_type": "code",
   "execution_count": 63,
   "id": "49282996",
   "metadata": {},
   "outputs": [],
   "source": [
    "y_test_incorrect = y_test_incorrect.rename(columns={\"description_x\":\"true_description\",\"summary_x\":\"true_summary\",\"description_y\":\"pred_description\",\"summary_y\":\"pred_summary\",\"title_x\":\"true_title\",\"title_y\":\"pred_title\"}) "
   ]
  },
  {
   "cell_type": "code",
   "execution_count": 64,
   "id": "4cae17f1",
   "metadata": {},
   "outputs": [
    {
     "data": {
      "text/html": [
       "<div>\n",
       "<style scoped>\n",
       "    .dataframe tbody tr th:only-of-type {\n",
       "        vertical-align: middle;\n",
       "    }\n",
       "\n",
       "    .dataframe tbody tr th {\n",
       "        vertical-align: top;\n",
       "    }\n",
       "\n",
       "    .dataframe thead th {\n",
       "        text-align: right;\n",
       "    }\n",
       "</style>\n",
       "<table border=\"1\" class=\"dataframe\">\n",
       "  <thead>\n",
       "    <tr style=\"text-align: right;\">\n",
       "      <th></th>\n",
       "      <th>true</th>\n",
       "      <th>pred</th>\n",
       "      <th>cui_x</th>\n",
       "      <th>true_title</th>\n",
       "      <th>true_description</th>\n",
       "      <th>true_summary</th>\n",
       "      <th>cui_y</th>\n",
       "      <th>pred_title</th>\n",
       "      <th>pred_description</th>\n",
       "      <th>pred_summary</th>\n",
       "    </tr>\n",
       "  </thead>\n",
       "  <tbody>\n",
       "    <tr>\n",
       "      <th>0</th>\n",
       "      <td>186</td>\n",
       "      <td>155</td>\n",
       "      <td>186</td>\n",
       "      <td>Hillary Clinton Kissed by Former Klan Member S...</td>\n",
       "      <td></td>\n",
       "      <td></td>\n",
       "      <td>155</td>\n",
       "      <td>FACT CHECK Hillary Clinton Gave 20 Percent of ...</td>\n",
       "      <td></td>\n",
       "      <td></td>\n",
       "    </tr>\n",
       "    <tr>\n",
       "      <th>1</th>\n",
       "      <td>186</td>\n",
       "      <td>155</td>\n",
       "      <td>186</td>\n",
       "      <td>Hillary Clinton Kissed by Former Klan Member S...</td>\n",
       "      <td></td>\n",
       "      <td></td>\n",
       "      <td>155</td>\n",
       "      <td>FACT CHECK Hillary Clinton Gave 20 Percent of ...</td>\n",
       "      <td></td>\n",
       "      <td></td>\n",
       "    </tr>\n",
       "    <tr>\n",
       "      <th>2</th>\n",
       "      <td>186</td>\n",
       "      <td>155</td>\n",
       "      <td>186</td>\n",
       "      <td>Hillary Clinton Kissed by Former Klan Member S...</td>\n",
       "      <td></td>\n",
       "      <td></td>\n",
       "      <td>155</td>\n",
       "      <td>FACT CHECK Hillary Clinton Gave 20 Percent of ...</td>\n",
       "      <td></td>\n",
       "      <td></td>\n",
       "    </tr>\n",
       "    <tr>\n",
       "      <th>3</th>\n",
       "      <td>186</td>\n",
       "      <td>155</td>\n",
       "      <td>186</td>\n",
       "      <td>Hillary Clinton Kissed by Former Klan Member S...</td>\n",
       "      <td></td>\n",
       "      <td></td>\n",
       "      <td>155</td>\n",
       "      <td>FACT CHECK Hillary Clinton Gave 20 Percent of ...</td>\n",
       "      <td></td>\n",
       "      <td></td>\n",
       "    </tr>\n",
       "    <tr>\n",
       "      <th>4</th>\n",
       "      <td>186</td>\n",
       "      <td>155</td>\n",
       "      <td>186</td>\n",
       "      <td>Hillary Clinton Kissed by Former Klan Member S...</td>\n",
       "      <td></td>\n",
       "      <td></td>\n",
       "      <td>155</td>\n",
       "      <td>FACT CHECK Hillary Clinton Gave 20 Percent of ...</td>\n",
       "      <td></td>\n",
       "      <td></td>\n",
       "    </tr>\n",
       "  </tbody>\n",
       "</table>\n",
       "</div>"
      ],
      "text/plain": [
       "  true pred cui_x                                         true_title  \\\n",
       "0  186  155   186  Hillary Clinton Kissed by Former Klan Member S...   \n",
       "1  186  155   186  Hillary Clinton Kissed by Former Klan Member S...   \n",
       "2  186  155   186  Hillary Clinton Kissed by Former Klan Member S...   \n",
       "3  186  155   186  Hillary Clinton Kissed by Former Klan Member S...   \n",
       "4  186  155   186  Hillary Clinton Kissed by Former Klan Member S...   \n",
       "\n",
       "  true_description true_summary cui_y  \\\n",
       "0                                 155   \n",
       "1                                 155   \n",
       "2                                 155   \n",
       "3                                 155   \n",
       "4                                 155   \n",
       "\n",
       "                                          pred_title pred_description  \\\n",
       "0  FACT CHECK Hillary Clinton Gave 20 Percent of ...                    \n",
       "1  FACT CHECK Hillary Clinton Gave 20 Percent of ...                    \n",
       "2  FACT CHECK Hillary Clinton Gave 20 Percent of ...                    \n",
       "3  FACT CHECK Hillary Clinton Gave 20 Percent of ...                    \n",
       "4  FACT CHECK Hillary Clinton Gave 20 Percent of ...                    \n",
       "\n",
       "  pred_summary  \n",
       "0               \n",
       "1               \n",
       "2               \n",
       "3               \n",
       "4               "
      ]
     },
     "execution_count": 64,
     "metadata": {},
     "output_type": "execute_result"
    }
   ],
   "source": [
    "y_test_incorrect.head()"
   ]
  },
  {
   "cell_type": "code",
   "execution_count": 65,
   "id": "0f0c6890",
   "metadata": {},
   "outputs": [],
   "source": [
    "y_test_incorrect.to_csv('TF-IDF_SVM_CorrectPredictions.csv')"
   ]
  },
  {
   "cell_type": "code",
   "execution_count": 67,
   "id": "0c9c881e",
   "metadata": {},
   "outputs": [],
   "source": [
    "y_test_correct.to_csv('TF-IDF_SVM_IncorrectPredictions.csv')"
   ]
  },
  {
   "cell_type": "code",
   "execution_count": 68,
   "id": "82bbec0c",
   "metadata": {},
   "outputs": [
    {
     "data": {
      "text/plain": [
       "735"
      ]
     },
     "execution_count": 68,
     "metadata": {},
     "output_type": "execute_result"
    }
   ],
   "source": [
    "len(y_test_correct)"
   ]
  },
  {
   "cell_type": "code",
   "execution_count": 3,
   "id": "be4e6fd2",
   "metadata": {},
   "outputs": [],
   "source": [
    "y_test_pred_df = pd.read_csv('TFIDF_SVM_Predictions.csv')"
   ]
  },
  {
   "cell_type": "code",
   "execution_count": 6,
   "id": "56f7e29e",
   "metadata": {},
   "outputs": [
    {
     "data": {
      "text/plain": [
       "0.03639252366974252"
      ]
     },
     "execution_count": 6,
     "metadata": {},
     "output_type": "execute_result"
    }
   ],
   "source": [
    "f1_score(y_test_pred_df['true'],y_test_pred_df['pred'], average='macro')"
   ]
  },
  {
   "cell_type": "code",
   "execution_count": 5,
   "id": "4d005362",
   "metadata": {},
   "outputs": [
    {
     "data": {
      "text/plain": [
       "0.14129181084198386"
      ]
     },
     "execution_count": 5,
     "metadata": {},
     "output_type": "execute_result"
    }
   ],
   "source": [
    "f1_score(y_test_pred_df['true'],y_test_pred_df['pred'], average='micro')"
   ]
  }
 ],
 "metadata": {
  "kernelspec": {
   "display_name": "Python 3",
   "language": "python",
   "name": "python3"
  },
  "language_info": {
   "codemirror_mode": {
    "name": "ipython",
    "version": 3
   },
   "file_extension": ".py",
   "mimetype": "text/x-python",
   "name": "python",
   "nbconvert_exporter": "python",
   "pygments_lexer": "ipython3",
   "version": "3.8.5"
  }
 },
 "nbformat": 4,
 "nbformat_minor": 5
}
