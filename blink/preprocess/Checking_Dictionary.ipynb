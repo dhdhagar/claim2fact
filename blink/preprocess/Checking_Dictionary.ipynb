{
 "cells": [
  {
   "cell_type": "code",
   "execution_count": 1,
   "metadata": {},
   "outputs": [],
   "source": [
    "import numpy as np\n",
    "import pandas as pd\n",
    "import os\n",
    "import pickle"
   ]
  },
  {
   "cell_type": "code",
   "execution_count": 2,
   "metadata": {},
   "outputs": [],
   "source": [
    "root = \".\"\n",
    "input_path = os.path.join(root, 'processed', 'dictionary.pickle')"
   ]
  },
  {
   "cell_type": "code",
   "execution_count": 3,
   "metadata": {},
   "outputs": [],
   "source": [
    "file = open(input_path,'rb')\n",
    "dictionary = pickle.load(file)"
   ]
  },
  {
   "cell_type": "code",
   "execution_count": 4,
   "metadata": {
    "scrolled": false
   },
   "outputs": [
    {
     "data": {
      "text/plain": [
       "[{'cui': '57916404198290674',\n",
       "  'title': 'PolitiFact Prior to Benghazi were there 13 attacks on embassies and 60 deaths under President George W Bush',\n",
       "  'description': 'As the US House of Representatives was readying a new special committee to investigate the terrorist attack in Benghazi Libya many Democrats were arguing that continuing to probe the Sept 11 2012 attack which killed four Americans including US Ambassador Chris Stevens amounted to a political witch huntOn May 5 2014 Rep John Garamendi DCalif told MSNBC host Ed Schultz that there has already been exhaustive testimony and investigation of the incidentThis thing is just going on and on to boredom actually Garamendi said The Armed Services Committee actually did a hearing and the result was theres nothing here Thats obviously a great tragedy but Ed during the George W Bush period there were 13 attacks on various embassies and consulates around the world Sixty people died In Karachi there was a death of one of our diplomats and those were not investigated during that period of time because it was a tragedyReaders asked us whether its true that under Bush there were 13 attacks on various embassies and consulates around the world and 60 people diedWe turned to the Global Terrorism Database a project headquartered at the University of Maryland The database documents terrorist attacks around the world going back to the 1970s and experts told us it is the best resource available for this factcheckWe searched the database for descriptions between January 2001 and January 2009 that included the term US embassy We supplemented these with a few other attacks listed in a Huffington Post opinion piece that Garamendis staff said was their main source for the claim The Huffington Post column Garamendi cited purposely didnt count any attacks in Baghdad So we decided to construct our count from scratchWhile Garamendi spoke of embassies and consulates we found several US diplomatic targets killed in the line of duty outside official compounds such as in convoys or their homes and we included them in our count Once we crossreferenced the attacks in the article and those in the database we narrowed down the total to 39 attacks or attempted attacks on US embassies and embassy personnelOf these 39 attacks 20 resulted in at least one fatality Our complete list is here This is higher than Garamendis claim though if you only count attacks on embassy and consular property there were 13Garamendi also understated the number of deaths In the 20 incidents with at least one fatality the total death toll was 87 quite a few more than the 60 Garamendi cited If you only count those at embassies and consulates proper the number of deaths drops to 66We should note that the vast majority of these deaths were not Americans We counted 63 deaths that were either of nonAmericans or of people whose nationality is unknown Another three were US civilians Another 21 were workers at the US embassy or consulate either of American or foreign nationalitySo using what we think is the most reasonable definition Garamendis numbers are a bit lowht',\n",
       "  'type': ''},\n",
       " {'cui': '57916404198290675',\n",
       "  'title': 'PolitiFact Barack Obama said he39s cut taxes for 39middleclass families small businesses39',\n",
       "  'description': 'In his speech at the Democratic National Committee in Charlotte NC President Barack Obama mocked Republicans for turning to tax cuts as the solution to every problemHave a surplus Try a tax cut Deficit too high Try another Feel a cold coming on Take two tax cuts roll back some regulations and call us in the morning Obama saidNow Ive cut taxes for those who need it middleclass families and small businesses But I dont believe that another round of tax breaks for millionaires will bring good jobs to our shores or pay down our deficit Obama saidObama is often accused by Republicans of raising taxes and he has raised some taxes during his presidency Hes also said that he intends to raise income tax rates for couples who make more than 250000 a year or single people who make more than 200000 a yearHere were going to look at his claim to cut taxes for middleclass families and small businesses Weve been tracking all of Obamas campaign promises about taxes on our ObameterObama has signed off on two major tax cuts for middleclass families the Making Work Pay tax credit that was part of the economic stimulus of 2009 and a temporary reduction in Social Security payroll taxes that went into effect in 2011As part of the stimulus formally known as the American Recovery and Reinvestment Act single workers collected a 400 tax credit and working couples got 800 The credit didnt come in the form of a check it worked out so that most workers had about 400 less in federal income taxes withheld from their paychecks spread out over the entire yearMost workers received a tax cut under that plan with the exception of some high earners The tax cuts phased out for couples who make more than 250000 or a single person making over 200000 according to an analysis from the nonpartisan Tax Policy Center The result mirrored what Obama promised he would do on the campaign Obama pledged tax cuts of 500 for each worker and 1000 for working couples We rated the promise a Compromise on our Obameter because the resulting tax cut was a little lower than what Obama wantedThat tax cut expired at the end of 2011 But Obama won another round of tax cuts for most workers in a December 2010 tax deal with Republicans in Congress Those tax cuts a temporary reduction in workers payroll taxes worth about 2 percent of total earnings expire in 2013 Again the tax cut didnt come as a check but gives workers a little more in their paychecks than they would have otherwiseObama also has passed an array of tax cuts for small businessesEight of them were included in the stimulus the Affordable Care Act also known as the health care law and the Hiring Incentives to Restore Employment Act also known as the HIRE Act Among the cuts were the exclusion of up to 75 percent of capital gains on key small business investments a tax credit for the cost of health insurance for small business employees and new tax credits for hiring Americans out of work for at least two months Another eight cuts came via the Small Business Jobs Act signed by Obama in September of 2010 These included adding deductions for business cell phone use creating a new deduction for health care costs for the selfemployed allowing greater deductions for business startup expenses eliminating taxes on all capital gains from key small business investments and raising the small business expense limit to 500000Three months later the president signed a tax bill that raised the expense limit to 100 percent of small business new investments until the end of 2011 It also extended the elimination of capital gains taxes for small business investments through the end of 2012 For more details see our previous factcheck that provided at least 16 tax cuts to small businesses we rated it Mostly TrueTo be clear this doesnt mean the middleclass and small businesses havent seen any tax increases under the Obama administration We rated his campaign promise that no family making less than 250000 will see any form of tax increase as Promise Broken Obama has signed off on new taxes on cigarettes and indoor tanning His health care law includes a tax penalty for people who dont buy health insurance that starts in 2014 It includes hardship exemptions for people who cant find affordable policiesAlso under the health care law small businesses that have more than 50 employees that dont offer their employees health insurance could face fines Our rulingObama has raised some taxes during his presidency but hes also pursued broadbased tax cuts for the middle class and small businesses We particularly give weight here to the tax cuts that were part of the stimulus and the payroll tax holiday which reduced taxes for broad swaths of the workforce Some small businesses may have been hit by new taxes that were part of Obamas health law but these would depend on the particular circumstances of each business Also there were new taxes on cigarettes and indoor tanningObama said he has cut taxes for those who need it middleclass families small businesses He has but he also has raised some taxes So while his statement is accurate it lacks that additional context We rate his claim Mostly Trueht',\n",
       "  'type': ''},\n",
       " {'cui': '57916404198290676',\n",
       "  'title': 'PolitiFact Juan Williams No 1 cause of death for AfricanAmerican males 1534 is murder',\n",
       "  'description': 'Amid ongoing protests in Ferguson Mo the national conversation about racial justice and police force has ignored a critical point that needs to be discussed said Fox News pundit Juan WilliamsCivil rights activists and black leaders have failed to address the very thing thats fueling conservative white backlash the high crime rate among the black community particularly among young black men Williams said on Aug 24ths Fox News SundayI think theres fear of intimidation harassment being legitimized by the fact that there is a high rate of crime especially among young black men Williams said No 1 cause of death young black men 15 to 34 murder Whos committing the murder Not police Other black menLast year PolitiFact found that 93 percent of murder victims were killed by someone who shares their race This time we want to check out Williams claim that homicide is the No 1 cause of death for black men 1534 years oldUnnatural causes We looked at numbers from the Centers for Disease Control and Prevention which lists the leading causes of death across all demographicsExperts said that CDC data compiled from coroner reports are in line with FBI numbers sourced from police reports The CDC does not distinguish between the types of homicide criminal justified etc or the types of accidents auto accidents falls firearm discharge etc The numbers for 2011 the most recent CDC findings are consistent with data from previous yearsAccording to the CDC homicide was indeed the No 1 killer of black men between the ages of 15 and 34 in 2011 Accidents ranked second in causes of death and suicide claimed the third amount of black male lives between 15 and 24 years old while heart disease ranked third for men 2434Leading causes of death among black males1st2nd3rdAll agesDiseases of the heartMalignant neoplasmsAccidents14AccidentsHomicideCongenital malformations514AccidentsMalignant neoplasmsHomicide1524HomicideAccidentsSuicide2534Homicideht',\n",
       "  'type': ''}]"
      ]
     },
     "execution_count": 4,
     "metadata": {},
     "output_type": "execute_result"
    }
   ],
   "source": [
    "dictionary[:3]"
   ]
  },
  {
   "cell_type": "code",
   "execution_count": null,
   "metadata": {},
   "outputs": [],
   "source": []
  }
 ],
 "metadata": {
  "kernelspec": {
   "display_name": "Python 3 (ipykernel)",
   "language": "python",
   "name": "python3"
  },
  "language_info": {
   "codemirror_mode": {
    "name": "ipython",
    "version": 3
   },
   "file_extension": ".py",
   "mimetype": "text/x-python",
   "name": "python",
   "nbconvert_exporter": "python",
   "pygments_lexer": "ipython3",
   "version": "3.7.11"
  }
 },
 "nbformat": 4,
 "nbformat_minor": 4
}
