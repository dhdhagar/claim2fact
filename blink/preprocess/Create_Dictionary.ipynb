{
 "cells": [
  {
   "cell_type": "code",
   "execution_count": 1,
   "metadata": {},
   "outputs": [],
   "source": [
    "import numpy as np\n",
    "import pandas as pd\n",
    "import os\n",
    "import json\n",
    "import pickle\n",
    "import random\n",
    "import math\n",
    "import re"
   ]
  },
  {
   "cell_type": "code",
   "execution_count": 2,
   "metadata": {},
   "outputs": [],
   "source": [
    "def uniqueid():\n",
    "    seed = random.getrandbits(64)\n",
    "    while True:\n",
    "        yield seed\n",
    "        seed += 1"
   ]
  },
  {
   "cell_type": "code",
   "execution_count": 3,
   "metadata": {},
   "outputs": [],
   "source": [
    "root_dir = \".\"\n",
    "input_path = os.path.join(root_dir, 'raw_data', 'all_data_with_article_title_body.csv')\n",
    "output_fpath = os.path.join(root_dir, 'processed', 'dictionary.pickle')"
   ]
  },
  {
   "cell_type": "code",
   "execution_count": 4,
   "metadata": {},
   "outputs": [],
   "source": [
    "dictionary = []\n",
    "url_to_label = {}"
   ]
  },
  {
   "cell_type": "code",
   "execution_count": 5,
   "metadata": {},
   "outputs": [],
   "source": [
    "df = pd.read_csv(input_path)  # Load all the concatenated train, val, and test data"
   ]
  },
  {
   "cell_type": "code",
   "execution_count": 6,
   "metadata": {},
   "outputs": [
    {
     "data": {
      "text/html": [
       "<div>\n",
       "<style scoped>\n",
       "    .dataframe tbody tr th:only-of-type {\n",
       "        vertical-align: middle;\n",
       "    }\n",
       "\n",
       "    .dataframe tbody tr th {\n",
       "        vertical-align: top;\n",
       "    }\n",
       "\n",
       "    .dataframe thead th {\n",
       "        text-align: right;\n",
       "    }\n",
       "</style>\n",
       "<table border=\"1\" class=\"dataframe\">\n",
       "  <thead>\n",
       "    <tr style=\"text-align: right;\">\n",
       "      <th></th>\n",
       "      <th>url</th>\n",
       "      <th>title</th>\n",
       "      <th>body</th>\n",
       "    </tr>\n",
       "  </thead>\n",
       "  <tbody>\n",
       "    <tr>\n",
       "      <th>0</th>\n",
       "      <td>http://www.politifact.com/truth-o-meter/statem...</td>\n",
       "      <td>PolitiFact | Prior to Benghazi, were there 13 ...</td>\n",
       "      <td>As the U.S. House of Representatives was ready...</td>\n",
       "    </tr>\n",
       "    <tr>\n",
       "      <th>1</th>\n",
       "      <td>http://www.politifact.com/truth-o-meter/statem...</td>\n",
       "      <td>PolitiFact | Barack Obama said he&amp;#39;s cut ta...</td>\n",
       "      <td>\\nIn his speech at the Democratic National Com...</td>\n",
       "    </tr>\n",
       "    <tr>\n",
       "      <th>2</th>\n",
       "      <td>http://www.politifact.com/punditfact/statement...</td>\n",
       "      <td>PolitiFact | Juan Williams: No. 1 cause of dea...</td>\n",
       "      <td>Amid ongoing protests in Ferguson, Mo., the na...</td>\n",
       "    </tr>\n",
       "    <tr>\n",
       "      <th>3</th>\n",
       "      <td>http://www.snopes.com/donald-trumps-son-game-h...</td>\n",
       "      <td>Are These Donald Trump&amp;#039;s Sons in Game-Hun...</td>\n",
       "      <td>NaN</td>\n",
       "    </tr>\n",
       "    <tr>\n",
       "      <th>4</th>\n",
       "      <td>http://www.politifact.com/truth-o-meter/statem...</td>\n",
       "      <td>PolitiFact | Hillary Clinton blames high-up Ru...</td>\n",
       "      <td>Editor's note: We've attached an update to thi...</td>\n",
       "    </tr>\n",
       "  </tbody>\n",
       "</table>\n",
       "</div>"
      ],
      "text/plain": [
       "                                                 url  \\\n",
       "0  http://www.politifact.com/truth-o-meter/statem...   \n",
       "1  http://www.politifact.com/truth-o-meter/statem...   \n",
       "2  http://www.politifact.com/punditfact/statement...   \n",
       "3  http://www.snopes.com/donald-trumps-son-game-h...   \n",
       "4  http://www.politifact.com/truth-o-meter/statem...   \n",
       "\n",
       "                                               title  \\\n",
       "0  PolitiFact | Prior to Benghazi, were there 13 ...   \n",
       "1  PolitiFact | Barack Obama said he&#39;s cut ta...   \n",
       "2  PolitiFact | Juan Williams: No. 1 cause of dea...   \n",
       "3  Are These Donald Trump&#039;s Sons in Game-Hun...   \n",
       "4  PolitiFact | Hillary Clinton blames high-up Ru...   \n",
       "\n",
       "                                                body  \n",
       "0  As the U.S. House of Representatives was ready...  \n",
       "1  \\nIn his speech at the Democratic National Com...  \n",
       "2  Amid ongoing protests in Ferguson, Mo., the na...  \n",
       "3                                                NaN  \n",
       "4  Editor's note: We've attached an update to thi...  "
      ]
     },
     "execution_count": 6,
     "metadata": {},
     "output_type": "execute_result"
    }
   ],
   "source": [
    "columns = ['url', 'title', 'body']\n",
    "df[columns].head()"
   ]
  },
  {
   "cell_type": "code",
   "execution_count": 7,
   "metadata": {},
   "outputs": [],
   "source": [
    "df_final = df[columns]"
   ]
  },
  {
   "cell_type": "code",
   "execution_count": 8,
   "metadata": {},
   "outputs": [
    {
     "data": {
      "text/plain": [
       "(55680, 3)"
      ]
     },
     "execution_count": 8,
     "metadata": {},
     "output_type": "execute_result"
    }
   ],
   "source": [
    "df_final.shape"
   ]
  },
  {
   "cell_type": "code",
   "execution_count": 9,
   "metadata": {},
   "outputs": [],
   "source": [
    "c = df_final.iloc[0]"
   ]
  },
  {
   "cell_type": "code",
   "execution_count": 10,
   "metadata": {
    "scrolled": true
   },
   "outputs": [
    {
     "data": {
      "text/plain": [
       "url      http://www.politifact.com/truth-o-meter/statem...\n",
       "title    PolitiFact | Prior to Benghazi, were there 13 ...\n",
       "body     As the U.S. House of Representatives was ready...\n",
       "Name: 0, dtype: object"
      ]
     },
     "execution_count": 10,
     "metadata": {},
     "output_type": "execute_result"
    }
   ],
   "source": [
    "c"
   ]
  },
  {
   "cell_type": "code",
   "execution_count": 11,
   "metadata": {},
   "outputs": [],
   "source": [
    "#re.sub('[^A-Za-z0-9]+', '', mystring), use this if isalnum() doesn't work\n",
    "def clean_up(s: str):\n",
    "    if type(s) is float and math.isnan(s):\n",
    "        return \"\"\n",
    "    else:\n",
    "        s = ''.join(e for e in s if e.isalnum() or e is ' ')\n",
    "        s = re.sub(\"\\s+\",\" \",s)\n",
    "        return s.strip()"
   ]
  },
  {
   "cell_type": "code",
   "execution_count": 12,
   "metadata": {},
   "outputs": [],
   "source": [
    "label_id_set = set()\n",
    "label_id_record = {}\n",
    "unique_sequence = uniqueid()\n",
    "for idx in range(df_final.shape[0]):\n",
    "    row = df_final.iloc[idx]\n",
    "    record = {}\n",
    "    \n",
    "    if row['url'].strip() in url_to_label:\n",
    "        continue\n",
    "    \n",
    "    label_id = str(next(unique_sequence))\n",
    "    url_to_label[row['url']] = label_id\n",
    "    record['cui'] = label_id\n",
    "    \n",
    "    record['title'] = clean_up(row['title'])\n",
    "    record['description'] = clean_up(row['body'])\n",
    "    record['type'] = \"\"\n",
    "    label_id_set.add(label_id)\n",
    "    dictionary.append(record)"
   ]
  },
  {
   "cell_type": "code",
   "execution_count": 13,
   "metadata": {},
   "outputs": [],
   "source": [
    "assert len(dictionary) == len(label_id_set)"
   ]
  },
  {
   "cell_type": "code",
   "execution_count": 14,
   "metadata": {},
   "outputs": [],
   "source": [
    "with open(output_fpath, 'wb') as write_handle:\n",
    "    pickle.dump(dictionary, write_handle, protocol=pickle.HIGHEST_PROTOCOL)"
   ]
  },
  {
   "cell_type": "code",
   "execution_count": 15,
   "metadata": {},
   "outputs": [],
   "source": [
    "with open(\"processed/url_cui_mapping.json\", \"w\") as outfile:\n",
    "    json.dump(url_to_label, outfile)"
   ]
  }
 ],
 "metadata": {
  "kernelspec": {
   "display_name": "Python 3 (ipykernel)",
   "language": "python",
   "name": "python3"
  },
  "language_info": {
   "codemirror_mode": {
    "name": "ipython",
    "version": 3
   },
   "file_extension": ".py",
   "mimetype": "text/x-python",
   "name": "python",
   "nbconvert_exporter": "python",
   "pygments_lexer": "ipython3",
   "version": "3.7.11"
  }
 },
 "nbformat": 4,
 "nbformat_minor": 4
}
