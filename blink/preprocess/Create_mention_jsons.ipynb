{
 "cells": [
  {
   "cell_type": "code",
   "execution_count": 1,
   "metadata": {},
   "outputs": [],
   "source": [
    "import numpy as np\n",
    "import pandas as pd\n",
    "import os\n",
    "import json\n",
    "import pickle\n",
    "import random\n",
    "import math\n",
    "import re"
   ]
  },
  {
   "cell_type": "code",
   "execution_count": 2,
   "metadata": {},
   "outputs": [],
   "source": [
    "f = open('processed/url_cui_mapping.json')\n",
    "url_cui_dict = json.load(f)"
   ]
  },
  {
   "cell_type": "code",
   "execution_count": 3,
   "metadata": {},
   "outputs": [],
   "source": [
    "root = \".\"\n",
    "OUTPUT_DIR = os.path.join(root, 'processed')"
   ]
  },
  {
   "cell_type": "code",
   "execution_count": 4,
   "metadata": {},
   "outputs": [],
   "source": [
    "df_train_all = pd.read_json('raw_data/train.json')\n",
    "df_test_all = pd.read_json('raw_data/test.json')\n",
    "df_val_all = pd.read_json('raw_data/val.json')"
   ]
  },
  {
   "cell_type": "code",
   "execution_count": 5,
   "metadata": {},
   "outputs": [
    {
     "data": {
      "text/plain": [
       "Index(['DTweetID', 'DguardianID', 'DguardianName', 'OriginalPosterID',\n",
       "       'OriginalTweetID', 'ScreenNameOriginalPoster', 'dtweet_content',\n",
       "       'label', 'otweet_content', 'url'],\n",
       "      dtype='object')"
      ]
     },
     "execution_count": 5,
     "metadata": {},
     "output_type": "execute_result"
    }
   ],
   "source": [
    "df_train_all.columns"
   ]
  },
  {
   "cell_type": "code",
   "execution_count": 6,
   "metadata": {},
   "outputs": [],
   "source": [
    "columns = ['OriginalTweetID', 'otweet_content', 'url']"
   ]
  },
  {
   "cell_type": "code",
   "execution_count": 7,
   "metadata": {},
   "outputs": [],
   "source": [
    "df_train = df_train_all[columns]\n",
    "df_test = df_test_all[columns]\n",
    "df_val = df_val_all[columns]"
   ]
  },
  {
   "cell_type": "code",
   "execution_count": 8,
   "metadata": {},
   "outputs": [
    {
     "data": {
      "text/html": [
       "<div>\n",
       "<style scoped>\n",
       "    .dataframe tbody tr th:only-of-type {\n",
       "        vertical-align: middle;\n",
       "    }\n",
       "\n",
       "    .dataframe tbody tr th {\n",
       "        vertical-align: top;\n",
       "    }\n",
       "\n",
       "    .dataframe thead th {\n",
       "        text-align: right;\n",
       "    }\n",
       "</style>\n",
       "<table border=\"1\" class=\"dataframe\">\n",
       "  <thead>\n",
       "    <tr style=\"text-align: right;\">\n",
       "      <th></th>\n",
       "      <th>OriginalTweetID</th>\n",
       "      <th>otweet_content</th>\n",
       "      <th>url</th>\n",
       "    </tr>\n",
       "  </thead>\n",
       "  <tbody>\n",
       "    <tr>\n",
       "      <th>0</th>\n",
       "      <td>780136889441456128</td>\n",
       "      <td>the families of these &lt;number&gt; should sit in t...</td>\n",
       "      <td>http://www.politifact.com/truth-o-meter/statem...</td>\n",
       "    </tr>\n",
       "    <tr>\n",
       "      <th>1</th>\n",
       "      <td>913075551212011520</td>\n",
       "      <td>@user &lt;person&gt; didnt lower my my taxes , and h...</td>\n",
       "      <td>http://www.politifact.com/truth-o-meter/statem...</td>\n",
       "    </tr>\n",
       "    <tr>\n",
       "      <th>2</th>\n",
       "      <td>753045148775440384</td>\n",
       "      <td>@user like when white christian men commit ter...</td>\n",
       "      <td>http://www.politifact.com/punditfact/statement...</td>\n",
       "    </tr>\n",
       "    <tr>\n",
       "      <th>3</th>\n",
       "      <td>743830161393520640</td>\n",
       "      <td>@user don't believe the media ! they lie . loo...</td>\n",
       "      <td>http://www.snopes.com/donald-trumps-son-game-h...</td>\n",
       "    </tr>\n",
       "    <tr>\n",
       "      <th>4</th>\n",
       "      <td>818188352314900480</td>\n",
       "      <td>@user says ultra liberal &lt;person&gt; hating</td>\n",
       "      <td>http://www.politifact.com/truth-o-meter/statem...</td>\n",
       "    </tr>\n",
       "  </tbody>\n",
       "</table>\n",
       "</div>"
      ],
      "text/plain": [
       "      OriginalTweetID                                     otweet_content  \\\n",
       "0  780136889441456128  the families of these <number> should sit in t...   \n",
       "1  913075551212011520  @user <person> didnt lower my my taxes , and h...   \n",
       "2  753045148775440384  @user like when white christian men commit ter...   \n",
       "3  743830161393520640  @user don't believe the media ! they lie . loo...   \n",
       "4  818188352314900480           @user says ultra liberal <person> hating   \n",
       "\n",
       "                                                 url  \n",
       "0  http://www.politifact.com/truth-o-meter/statem...  \n",
       "1  http://www.politifact.com/truth-o-meter/statem...  \n",
       "2  http://www.politifact.com/punditfact/statement...  \n",
       "3  http://www.snopes.com/donald-trumps-son-game-h...  \n",
       "4  http://www.politifact.com/truth-o-meter/statem...  "
      ]
     },
     "execution_count": 8,
     "metadata": {},
     "output_type": "execute_result"
    }
   ],
   "source": [
    "df_train.head()"
   ]
  },
  {
   "cell_type": "code",
   "execution_count": 9,
   "metadata": {
    "scrolled": true
   },
   "outputs": [
    {
     "name": "stdout",
     "output_type": "stream",
     "text": [
      "(58562, 3)\n",
      "(7322, 3)\n",
      "(7319, 3)\n"
     ]
    }
   ],
   "source": [
    "print(df_train.shape)\n",
    "print(df_test.shape)\n",
    "print(df_val.shape)"
   ]
  },
  {
   "cell_type": "code",
   "execution_count": 10,
   "metadata": {
    "scrolled": false
   },
   "outputs": [
    {
     "data": {
      "text/plain": [
       "OriginalTweetID                                   780136889441456128\n",
       "otweet_content     the families of these <number> should sit in t...\n",
       "url                http://www.politifact.com/truth-o-meter/statem...\n",
       "Name: 0, dtype: object"
      ]
     },
     "execution_count": 10,
     "metadata": {},
     "output_type": "execute_result"
    }
   ],
   "source": [
    "df_train.iloc[0]"
   ]
  },
  {
   "cell_type": "code",
   "execution_count": 11,
   "metadata": {},
   "outputs": [],
   "source": [
    "x = df_train.iloc[0]"
   ]
  },
  {
   "cell_type": "code",
   "execution_count": 12,
   "metadata": {},
   "outputs": [
    {
     "data": {
      "text/plain": [
       "int"
      ]
     },
     "execution_count": 12,
     "metadata": {},
     "output_type": "execute_result"
    }
   ],
   "source": [
    "type(int(x['OriginalTweetID']))"
   ]
  },
  {
   "cell_type": "code",
   "execution_count": 13,
   "metadata": {},
   "outputs": [],
   "source": [
    "def write_output(split: str, mentions: list):\n",
    "    with open(os.path.join(OUTPUT_DIR, split + '.jsonl'), 'w') as f:\n",
    "        f.write('\\n'.join([json.dumps(m) for m in mentions]))\n",
    "    print(f'{split} set Done.')"
   ]
  },
  {
   "cell_type": "code",
   "execution_count": 14,
   "metadata": {},
   "outputs": [],
   "source": [
    "def clean_up(s: str):\n",
    "    if type(s) is float and math.isnan(s):\n",
    "        return \"\"\n",
    "    else:\n",
    "        s = ''.join(e for e in s if e.isalnum() or e is ' ')\n",
    "        s = re.sub(\"\\s+\",\" \",s)\n",
    "        return s.strip()"
   ]
  },
  {
   "cell_type": "code",
   "execution_count": 15,
   "metadata": {},
   "outputs": [],
   "source": [
    "def build_mention_json(df: pd.DataFrame):\n",
    "    mentions = []\n",
    "    for idx in range(df.shape[0]):\n",
    "        row = df.iloc[idx]\n",
    "\n",
    "        if row['url'] not in url_cui_dict:\n",
    "            continue\n",
    "\n",
    "        label_id = url_cui_dict[row['url']]\n",
    "\n",
    "        transformed_mention = {}\n",
    "        \n",
    "        transformed_mention['mention'] = clean_up(row['otweet_content'])\n",
    "        transformed_mention['mention_id'] = int(row['OriginalTweetID'])\n",
    "        transformed_mention['context_left'] = \"\"\n",
    "        transformed_mention['context_right'] = \"\"\n",
    "        transformed_mention['context_doc_id'] = \"\"\n",
    "        transformed_mention['type'] = \"\"\n",
    "        transformed_mention['label_id'] = label_id\n",
    "        transformed_mention['label'] = \"\"\n",
    "        transformed_mention['label_title'] = \"\"\n",
    "        mentions.append(transformed_mention)\n",
    "    \n",
    "    return mentions"
   ]
  },
  {
   "cell_type": "code",
   "execution_count": 16,
   "metadata": {},
   "outputs": [
    {
     "name": "stdout",
     "output_type": "stream",
     "text": [
      "train set Done.\n"
     ]
    }
   ],
   "source": [
    "# Creating Training Json file\n",
    "train_mentions = build_mention_json(df_train)\n",
    "write_output(\"train\", train_mentions)"
   ]
  },
  {
   "cell_type": "code",
   "execution_count": 17,
   "metadata": {},
   "outputs": [
    {
     "name": "stdout",
     "output_type": "stream",
     "text": [
      "valid set Done.\n"
     ]
    }
   ],
   "source": [
    "# Creating Validation Json file\n",
    "val_mentions = build_mention_json(df_val)\n",
    "write_output(\"valid\", val_mentions)"
   ]
  },
  {
   "cell_type": "code",
   "execution_count": 18,
   "metadata": {},
   "outputs": [
    {
     "name": "stdout",
     "output_type": "stream",
     "text": [
      "test set Done.\n"
     ]
    }
   ],
   "source": [
    "# Creating Validation Json file\n",
    "test_mentions = build_mention_json(df_test)\n",
    "write_output(\"test\", test_mentions)"
   ]
  }
 ],
 "metadata": {
  "kernelspec": {
   "display_name": "Python 3 (ipykernel)",
   "language": "python",
   "name": "python3"
  },
  "language_info": {
   "codemirror_mode": {
    "name": "ipython",
    "version": 3
   },
   "file_extension": ".py",
   "mimetype": "text/x-python",
   "name": "python",
   "nbconvert_exporter": "python",
   "pygments_lexer": "ipython3",
   "version": "3.7.11"
  }
 },
 "nbformat": 4,
 "nbformat_minor": 4
}
