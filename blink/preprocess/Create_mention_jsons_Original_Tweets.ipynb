{
 "cells": [
  {
   "cell_type": "code",
   "execution_count": 1,
   "metadata": {},
   "outputs": [],
   "source": [
    "import numpy as np\n",
    "import pandas as pd\n",
    "import os\n",
    "import json\n",
    "import pickle\n",
    "import random\n",
    "import math\n",
    "import re"
   ]
  },
  {
   "cell_type": "code",
   "execution_count": 2,
   "metadata": {},
   "outputs": [],
   "source": [
    "f = open('processed/url_cui_mapping.json')\n",
    "url_cui_dict = json.load(f)"
   ]
  },
  {
   "cell_type": "code",
   "execution_count": 3,
   "metadata": {},
   "outputs": [],
   "source": [
    "root = \".\"\n",
    "OUTPUT_DIR = os.path.join(root, 'processed')\n",
    "train_filename = \"train\"\n",
    "val_filename = \"valid\"\n",
    "test_filename = \"test\"\n",
    "\n",
    "drop_all = True"
   ]
  },
  {
   "cell_type": "code",
   "execution_count": 4,
   "metadata": {},
   "outputs": [],
   "source": [
    "df_train_all = pd.read_json('train_tweet.json')\n",
    "df_test_all = pd.read_json('test_tweet.json')\n",
    "df_val_all = pd.read_json('val_tweet.json')"
   ]
  },
  {
   "cell_type": "code",
   "execution_count": 5,
   "metadata": {},
   "outputs": [
    {
     "data": {
      "text/plain": [
       "Index(['OriginalTweetID', 'otweet_content', 'url'], dtype='object')"
      ]
     },
     "execution_count": 5,
     "metadata": {},
     "output_type": "execute_result"
    }
   ],
   "source": [
    "df_train_all.columns"
   ]
  },
  {
   "cell_type": "code",
   "execution_count": 6,
   "metadata": {},
   "outputs": [],
   "source": [
    "columns = ['OriginalTweetID', 'otweet_content', 'url']"
   ]
  },
  {
   "cell_type": "code",
   "execution_count": 7,
   "metadata": {},
   "outputs": [],
   "source": [
    "df_train = df_train_all[columns]\n",
    "df_test = df_test_all[columns]\n",
    "df_val = df_val_all[columns]"
   ]
  },
  {
   "cell_type": "code",
   "execution_count": 8,
   "metadata": {},
   "outputs": [
    {
     "data": {
      "text/html": [
       "<div>\n",
       "<style scoped>\n",
       "    .dataframe tbody tr th:only-of-type {\n",
       "        vertical-align: middle;\n",
       "    }\n",
       "\n",
       "    .dataframe tbody tr th {\n",
       "        vertical-align: top;\n",
       "    }\n",
       "\n",
       "    .dataframe thead th {\n",
       "        text-align: right;\n",
       "    }\n",
       "</style>\n",
       "<table border=\"1\" class=\"dataframe\">\n",
       "  <thead>\n",
       "    <tr style=\"text-align: right;\">\n",
       "      <th></th>\n",
       "      <th>OriginalTweetID</th>\n",
       "      <th>otweet_content</th>\n",
       "      <th>url</th>\n",
       "    </tr>\n",
       "  </thead>\n",
       "  <tbody>\n",
       "    <tr>\n",
       "      <th>0</th>\n",
       "      <td>780136889441456128</td>\n",
       "      <td>The families of these four should sit in the f...</td>\n",
       "      <td>http://www.politifact.com/truth-o-meter/statem...</td>\n",
       "    </tr>\n",
       "    <tr>\n",
       "      <th>1</th>\n",
       "      <td>913075551212011520</td>\n",
       "      <td>@user &lt;person&gt; didnt lower my my taxes , and h...</td>\n",
       "      <td>http://www.politifact.com/truth-o-meter/statem...</td>\n",
       "    </tr>\n",
       "    <tr>\n",
       "      <th>2</th>\n",
       "      <td>753045148775440384</td>\n",
       "      <td>@JaredBerry316 @glennbeck like when white Chri...</td>\n",
       "      <td>http://www.politifact.com/punditfact/statement...</td>\n",
       "    </tr>\n",
       "    <tr>\n",
       "      <th>3</th>\n",
       "      <td>743830161393520640</td>\n",
       "      <td>@Adam_Kazda 60 diplomats were killed on Bush's...</td>\n",
       "      <td>http://www.snopes.com/donald-trumps-son-game-h...</td>\n",
       "    </tr>\n",
       "    <tr>\n",
       "      <th>4</th>\n",
       "      <td>818188352314900480</td>\n",
       "      <td>@fight4women Wow, you got a source for all tha...</td>\n",
       "      <td>http://www.politifact.com/truth-o-meter/statem...</td>\n",
       "    </tr>\n",
       "  </tbody>\n",
       "</table>\n",
       "</div>"
      ],
      "text/plain": [
       "      OriginalTweetID                                     otweet_content  \\\n",
       "0  780136889441456128  The families of these four should sit in the f...   \n",
       "1  913075551212011520  @user <person> didnt lower my my taxes , and h...   \n",
       "2  753045148775440384  @JaredBerry316 @glennbeck like when white Chri...   \n",
       "3  743830161393520640  @Adam_Kazda 60 diplomats were killed on Bush's...   \n",
       "4  818188352314900480  @fight4women Wow, you got a source for all tha...   \n",
       "\n",
       "                                                 url  \n",
       "0  http://www.politifact.com/truth-o-meter/statem...  \n",
       "1  http://www.politifact.com/truth-o-meter/statem...  \n",
       "2  http://www.politifact.com/punditfact/statement...  \n",
       "3  http://www.snopes.com/donald-trumps-son-game-h...  \n",
       "4  http://www.politifact.com/truth-o-meter/statem...  "
      ]
     },
     "execution_count": 8,
     "metadata": {},
     "output_type": "execute_result"
    }
   ],
   "source": [
    "df_train.head()"
   ]
  },
  {
   "cell_type": "code",
   "execution_count": 9,
   "metadata": {
    "scrolled": true
   },
   "outputs": [
    {
     "name": "stdout",
     "output_type": "stream",
     "text": [
      "(58562, 3)\n",
      "(7322, 3)\n",
      "(7319, 3)\n"
     ]
    }
   ],
   "source": [
    "print(df_train.shape)\n",
    "print(df_test.shape)\n",
    "print(df_val.shape)"
   ]
  },
  {
   "cell_type": "code",
   "execution_count": 10,
   "metadata": {
    "scrolled": false
   },
   "outputs": [
    {
     "data": {
      "text/plain": [
       "OriginalTweetID                                   780136889441456128\n",
       "otweet_content     The families of these four should sit in the f...\n",
       "url                http://www.politifact.com/truth-o-meter/statem...\n",
       "Name: 0, dtype: object"
      ]
     },
     "execution_count": 10,
     "metadata": {},
     "output_type": "execute_result"
    }
   ],
   "source": [
    "df_train.iloc[0]"
   ]
  },
  {
   "cell_type": "code",
   "execution_count": 11,
   "metadata": {},
   "outputs": [],
   "source": [
    "x = df_train.iloc[0]"
   ]
  },
  {
   "cell_type": "code",
   "execution_count": 12,
   "metadata": {},
   "outputs": [
    {
     "data": {
      "text/plain": [
       "int"
      ]
     },
     "execution_count": 12,
     "metadata": {},
     "output_type": "execute_result"
    }
   ],
   "source": [
    "type(int(x['OriginalTweetID']))"
   ]
  },
  {
   "cell_type": "code",
   "execution_count": 13,
   "metadata": {},
   "outputs": [],
   "source": [
    "def write_output(split: str, mentions: list):\n",
    "    with open(os.path.join(OUTPUT_DIR, split + '.jsonl'), 'w') as f:\n",
    "        f.write('\\n'.join([json.dumps(m) for m in mentions]))\n",
    "    print(f'{split} set Done.')"
   ]
  },
  {
   "cell_type": "code",
   "execution_count": 14,
   "metadata": {},
   "outputs": [],
   "source": [
    "def clean_up(s: str):\n",
    "    if type(s) is float and math.isnan(s):\n",
    "        # handling nans\n",
    "        return \"\"\n",
    "    else:\n",
    "        # remove URLs\n",
    "        s = re.sub('((www\\.[^\\s]+)|(https?://[^\\s]+)|(http?://[^\\s]+))', '', s)\n",
    "        s = re.sub(r'http\\S+', '', s)\n",
    "        \n",
    "        # remove content in <...>\n",
    "        # s = re.sub(r'<[\\w\\d]+>', '', s)\n",
    "        \n",
    "        # remove special characters - ()#%^&*@! etc.\n",
    "        s = ''.join(e for e in s if e.isalnum() or e is ' ')\n",
    "        \n",
    "        # remove multiple spaces\n",
    "        s = re.sub(\"\\s+\",\" \",s)\n",
    "        \n",
    "        return s.strip()"
   ]
  },
  {
   "cell_type": "code",
   "execution_count": 15,
   "metadata": {},
   "outputs": [],
   "source": [
    "def drop_intersecting_tweets(train_df: pd.DataFrame, df: pd.DataFrame):\n",
    "    df = df.drop(df[df['OriginalTweetID'].isin(train_df['OriginalTweetID'])].index)\n",
    "    return df.drop(df[df['otweet_content'].isin(train_df['otweet_content'])].index)"
   ]
  },
  {
   "cell_type": "code",
   "execution_count": 16,
   "metadata": {},
   "outputs": [],
   "source": [
    "def drop_duplicates(df: pd.DataFrame, drop_all: bool):\n",
    "    # Drop Duplicate otweet_content\n",
    "    df_int = df.drop_duplicates(subset=['otweet_content'], ignore_index=True, keep=\"first\")\n",
    "    \n",
    "    if drop_all:\n",
    "        keep=False\n",
    "    else:\n",
    "        keep=\"first\"    \n",
    "    return df_int.drop_duplicates(subset=['OriginalTweetID'], ignore_index=True, keep=keep)"
   ]
  },
  {
   "cell_type": "code",
   "execution_count": 17,
   "metadata": {},
   "outputs": [],
   "source": [
    "def drop_noisy_rows(df: pd.DataFrame):\n",
    "    df['me_lens']=df['otweet_content'].apply(lambda x: len(x))\n",
    "    return df.drop(df[df['me_lens'] < 34].index)"
   ]
  },
  {
   "cell_type": "code",
   "execution_count": 18,
   "metadata": {},
   "outputs": [],
   "source": [
    "def preprocess_mentions(df: pd.DataFrame, is_train: bool, drop_all: bool, train_df: pd.DataFrame=None):\n",
    "    df_int = df.copy()\n",
    "    df_int['otweet_content'] = df_int['otweet_content'].apply(lambda s: clean_up(s))\n",
    "    print(df.shape)\n",
    "    \n",
    "    df_final = drop_noisy_rows(df_int)\n",
    "    print(df_final.shape)\n",
    "    \n",
    "    df_final = drop_duplicates(df_final, drop_all)\n",
    "    print(df_final.shape)\n",
    "    \n",
    "    if not is_train:\n",
    "        df_final = drop_intersecting_tweets(train_df, df_final)\n",
    "        print(df_final.shape)\n",
    "       \n",
    "    return df_final"
   ]
  },
  {
   "cell_type": "code",
   "execution_count": 19,
   "metadata": {},
   "outputs": [],
   "source": [
    "def build_mention_json(df: pd.DataFrame):\n",
    "    mentions = []\n",
    "    for idx in range(df.shape[0]):\n",
    "        row = df.iloc[idx]\n",
    "\n",
    "        if row['url'] not in url_cui_dict:\n",
    "            continue\n",
    "\n",
    "        label_id = url_cui_dict[row['url']]\n",
    "\n",
    "        transformed_mention = {}\n",
    "        \n",
    "        transformed_mention['mention'] = row['otweet_content']\n",
    "        transformed_mention['mention_id'] = int(row['OriginalTweetID'])\n",
    "        transformed_mention['context_left'] = \"\"\n",
    "        transformed_mention['context_right'] = \"\"\n",
    "        transformed_mention['context_doc_id'] = \"\"\n",
    "        transformed_mention['type'] = \"\"\n",
    "        transformed_mention['label_id'] = label_id\n",
    "        transformed_mention['label'] = \"\"\n",
    "        transformed_mention['label_title'] = \"\"\n",
    "        mentions.append(transformed_mention)\n",
    "    \n",
    "    return mentions"
   ]
  },
  {
   "cell_type": "code",
   "execution_count": 20,
   "metadata": {
    "scrolled": true
   },
   "outputs": [
    {
     "name": "stdout",
     "output_type": "stream",
     "text": [
      "(58562, 3)\n",
      "(49941, 4)\n",
      "(43123, 4)\n",
      "train set Done.\n"
     ]
    }
   ],
   "source": [
    "# Creating Training Json file\n",
    "df_train_processed = preprocess_mentions(df_train, is_train=True, drop_all=drop_all)\n",
    "train_mentions = build_mention_json(df_train_processed)\n",
    "write_output(train_filename, train_mentions)"
   ]
  },
  {
   "cell_type": "code",
   "execution_count": 21,
   "metadata": {
    "scrolled": true
   },
   "outputs": [
    {
     "data": {
      "text/html": [
       "<div>\n",
       "<style scoped>\n",
       "    .dataframe tbody tr th:only-of-type {\n",
       "        vertical-align: middle;\n",
       "    }\n",
       "\n",
       "    .dataframe tbody tr th {\n",
       "        vertical-align: top;\n",
       "    }\n",
       "\n",
       "    .dataframe thead th {\n",
       "        text-align: right;\n",
       "    }\n",
       "</style>\n",
       "<table border=\"1\" class=\"dataframe\">\n",
       "  <thead>\n",
       "    <tr style=\"text-align: right;\">\n",
       "      <th></th>\n",
       "      <th>OriginalTweetID</th>\n",
       "      <th>otweet_content</th>\n",
       "      <th>url</th>\n",
       "      <th>me_lens</th>\n",
       "    </tr>\n",
       "  </thead>\n",
       "  <tbody>\n",
       "    <tr>\n",
       "      <th>0</th>\n",
       "      <td>780136889441456128</td>\n",
       "      <td>The families of these four should sit in the f...</td>\n",
       "      <td>http://www.politifact.com/truth-o-meter/statem...</td>\n",
       "      <td>134</td>\n",
       "    </tr>\n",
       "    <tr>\n",
       "      <th>1</th>\n",
       "      <td>913075551212011520</td>\n",
       "      <td>user person didnt lower my my taxes and he rai...</td>\n",
       "      <td>http://www.politifact.com/truth-o-meter/statem...</td>\n",
       "      <td>136</td>\n",
       "    </tr>\n",
       "    <tr>\n",
       "      <th>2</th>\n",
       "      <td>753045148775440384</td>\n",
       "      <td>JaredBerry316 glennbeck like when white Christ...</td>\n",
       "      <td>http://www.politifact.com/punditfact/statement...</td>\n",
       "      <td>124</td>\n",
       "    </tr>\n",
       "    <tr>\n",
       "      <th>3</th>\n",
       "      <td>743830161393520640</td>\n",
       "      <td>AdamKazda 60 diplomats were killed on Bushs wa...</td>\n",
       "      <td>http://www.snopes.com/donald-trumps-son-game-h...</td>\n",
       "      <td>121</td>\n",
       "    </tr>\n",
       "    <tr>\n",
       "      <th>4</th>\n",
       "      <td>818188352314900480</td>\n",
       "      <td>fight4women Wow you got a source for all that ...</td>\n",
       "      <td>http://www.politifact.com/truth-o-meter/statem...</td>\n",
       "      <td>134</td>\n",
       "    </tr>\n",
       "    <tr>\n",
       "      <th>...</th>\n",
       "      <td>...</td>\n",
       "      <td>...</td>\n",
       "      <td>...</td>\n",
       "      <td>...</td>\n",
       "    </tr>\n",
       "    <tr>\n",
       "      <th>43118</th>\n",
       "      <td>969486554417811456</td>\n",
       "      <td>user a troll response number turn us all n2 sl...</td>\n",
       "      <td>http://www.politifact.com/new-york/statements/...</td>\n",
       "      <td>123</td>\n",
       "    </tr>\n",
       "    <tr>\n",
       "      <th>43119</th>\n",
       "      <td>990227999999094784</td>\n",
       "      <td>user you should be ashamed of yourself defendi...</td>\n",
       "      <td>https://www.snopes.com/fact-check/how-to-creat...</td>\n",
       "      <td>276</td>\n",
       "    </tr>\n",
       "    <tr>\n",
       "      <th>43120</th>\n",
       "      <td>763168655416975360</td>\n",
       "      <td>user he borrowed money from the russians and c...</td>\n",
       "      <td>http://www.politifact.com/punditfact/statement...</td>\n",
       "      <td>106</td>\n",
       "    </tr>\n",
       "    <tr>\n",
       "      <th>43121</th>\n",
       "      <td>987398087458074624</td>\n",
       "      <td>user citation please you dont get to just make...</td>\n",
       "      <td>http://www.politifact.com/new-york/statements/...</td>\n",
       "      <td>105</td>\n",
       "    </tr>\n",
       "    <tr>\n",
       "      <th>43122</th>\n",
       "      <td>979787836458176512</td>\n",
       "      <td>user maybe if he wasnt bullied things would ha...</td>\n",
       "      <td>https://www.snopes.com/fact-check/did-gonzalez...</td>\n",
       "      <td>63</td>\n",
       "    </tr>\n",
       "  </tbody>\n",
       "</table>\n",
       "<p>43123 rows × 4 columns</p>\n",
       "</div>"
      ],
      "text/plain": [
       "          OriginalTweetID                                     otweet_content  \\\n",
       "0      780136889441456128  The families of these four should sit in the f...   \n",
       "1      913075551212011520  user person didnt lower my my taxes and he rai...   \n",
       "2      753045148775440384  JaredBerry316 glennbeck like when white Christ...   \n",
       "3      743830161393520640  AdamKazda 60 diplomats were killed on Bushs wa...   \n",
       "4      818188352314900480  fight4women Wow you got a source for all that ...   \n",
       "...                   ...                                                ...   \n",
       "43118  969486554417811456  user a troll response number turn us all n2 sl...   \n",
       "43119  990227999999094784  user you should be ashamed of yourself defendi...   \n",
       "43120  763168655416975360  user he borrowed money from the russians and c...   \n",
       "43121  987398087458074624  user citation please you dont get to just make...   \n",
       "43122  979787836458176512  user maybe if he wasnt bullied things would ha...   \n",
       "\n",
       "                                                     url  me_lens  \n",
       "0      http://www.politifact.com/truth-o-meter/statem...      134  \n",
       "1      http://www.politifact.com/truth-o-meter/statem...      136  \n",
       "2      http://www.politifact.com/punditfact/statement...      124  \n",
       "3      http://www.snopes.com/donald-trumps-son-game-h...      121  \n",
       "4      http://www.politifact.com/truth-o-meter/statem...      134  \n",
       "...                                                  ...      ...  \n",
       "43118  http://www.politifact.com/new-york/statements/...      123  \n",
       "43119  https://www.snopes.com/fact-check/how-to-creat...      276  \n",
       "43120  http://www.politifact.com/punditfact/statement...      106  \n",
       "43121  http://www.politifact.com/new-york/statements/...      105  \n",
       "43122  https://www.snopes.com/fact-check/did-gonzalez...       63  \n",
       "\n",
       "[43123 rows x 4 columns]"
      ]
     },
     "execution_count": 21,
     "metadata": {},
     "output_type": "execute_result"
    }
   ],
   "source": [
    "df_train_processed"
   ]
  },
  {
   "cell_type": "code",
   "execution_count": 22,
   "metadata": {},
   "outputs": [
    {
     "name": "stdout",
     "output_type": "stream",
     "text": [
      "(7319, 3)\n",
      "(6158, 4)\n",
      "(5816, 4)\n",
      "(5214, 4)\n",
      "valid set Done.\n"
     ]
    }
   ],
   "source": [
    "# Creating Validation Json file\n",
    "df_val_processed = preprocess_mentions(df_val, is_train=False, drop_all=drop_all, train_df=df_train_processed)\n",
    "val_mentions = build_mention_json(df_val_processed)\n",
    "write_output(val_filename, val_mentions)"
   ]
  },
  {
   "cell_type": "code",
   "execution_count": 23,
   "metadata": {},
   "outputs": [
    {
     "name": "stdout",
     "output_type": "stream",
     "text": [
      "(7322, 3)\n",
      "(6162, 4)\n",
      "(5761, 4)\n",
      "(5202, 4)\n",
      "test set Done.\n"
     ]
    }
   ],
   "source": [
    "# Creating Test Json file\n",
    "df_test_processed = preprocess_mentions(df_test, is_train=False, drop_all=drop_all, train_df=df_train_processed)\n",
    "test_mentions = build_mention_json(df_test_processed)\n",
    "write_output(test_filename, test_mentions)"
   ]
  },
  {
   "cell_type": "code",
   "execution_count": 24,
   "metadata": {
    "scrolled": true
   },
   "outputs": [
    {
     "name": "stdout",
     "output_type": "stream",
     "text": [
      "Train: Out of 58562 records, 42655 have been retained after processing\n",
      "Validation: Out of 7319 records, 5214 have been retained after processing\n",
      "Test: Out of 7322 records, 5202 have been retained after processing\n"
     ]
    }
   ],
   "source": [
    "print(f\"Train: Out of {df_train.shape[0]} records, {len(train_mentions)} have been retained after processing\")\n",
    "print(f\"Validation: Out of {df_val.shape[0]} records, {len(val_mentions)} have been retained after processing\")\n",
    "print(f\"Test: Out of {df_test.shape[0]} records, {len(test_mentions)} have been retained after processing\")"
   ]
  },
  {
   "cell_type": "markdown",
   "metadata": {},
   "source": [
    "## Sanity"
   ]
  },
  {
   "cell_type": "code",
   "execution_count": 25,
   "metadata": {},
   "outputs": [],
   "source": [
    "df_train_final = pd.DataFrame(train_mentions)"
   ]
  },
  {
   "cell_type": "code",
   "execution_count": 26,
   "metadata": {},
   "outputs": [
    {
     "data": {
      "text/html": [
       "<div>\n",
       "<style scoped>\n",
       "    .dataframe tbody tr th:only-of-type {\n",
       "        vertical-align: middle;\n",
       "    }\n",
       "\n",
       "    .dataframe tbody tr th {\n",
       "        vertical-align: top;\n",
       "    }\n",
       "\n",
       "    .dataframe thead th {\n",
       "        text-align: right;\n",
       "    }\n",
       "</style>\n",
       "<table border=\"1\" class=\"dataframe\">\n",
       "  <thead>\n",
       "    <tr style=\"text-align: right;\">\n",
       "      <th></th>\n",
       "      <th>mention</th>\n",
       "      <th>mention_id</th>\n",
       "      <th>context_left</th>\n",
       "      <th>context_right</th>\n",
       "      <th>context_doc_id</th>\n",
       "      <th>type</th>\n",
       "      <th>label_id</th>\n",
       "      <th>label</th>\n",
       "      <th>label_title</th>\n",
       "    </tr>\n",
       "  </thead>\n",
       "  <tbody>\n",
       "    <tr>\n",
       "      <th>0</th>\n",
       "      <td>The families of these four should sit in the f...</td>\n",
       "      <td>780136889441456128</td>\n",
       "      <td></td>\n",
       "      <td></td>\n",
       "      <td></td>\n",
       "      <td></td>\n",
       "      <td>272</td>\n",
       "      <td></td>\n",
       "      <td></td>\n",
       "    </tr>\n",
       "    <tr>\n",
       "      <th>1</th>\n",
       "      <td>user person didnt lower my my taxes and he rai...</td>\n",
       "      <td>913075551212011520</td>\n",
       "      <td></td>\n",
       "      <td></td>\n",
       "      <td></td>\n",
       "      <td></td>\n",
       "      <td>273</td>\n",
       "      <td></td>\n",
       "      <td></td>\n",
       "    </tr>\n",
       "    <tr>\n",
       "      <th>2</th>\n",
       "      <td>JaredBerry316 glennbeck like when white Christ...</td>\n",
       "      <td>753045148775440384</td>\n",
       "      <td></td>\n",
       "      <td></td>\n",
       "      <td></td>\n",
       "      <td></td>\n",
       "      <td>274</td>\n",
       "      <td></td>\n",
       "      <td></td>\n",
       "    </tr>\n",
       "    <tr>\n",
       "      <th>3</th>\n",
       "      <td>AdamKazda 60 diplomats were killed on Bushs wa...</td>\n",
       "      <td>743830161393520640</td>\n",
       "      <td></td>\n",
       "      <td></td>\n",
       "      <td></td>\n",
       "      <td></td>\n",
       "      <td>14</td>\n",
       "      <td></td>\n",
       "      <td></td>\n",
       "    </tr>\n",
       "    <tr>\n",
       "      <th>4</th>\n",
       "      <td>fight4women Wow you got a source for all that ...</td>\n",
       "      <td>818188352314900480</td>\n",
       "      <td></td>\n",
       "      <td></td>\n",
       "      <td></td>\n",
       "      <td></td>\n",
       "      <td>275</td>\n",
       "      <td></td>\n",
       "      <td></td>\n",
       "    </tr>\n",
       "  </tbody>\n",
       "</table>\n",
       "</div>"
      ],
      "text/plain": [
       "                                             mention          mention_id  \\\n",
       "0  The families of these four should sit in the f...  780136889441456128   \n",
       "1  user person didnt lower my my taxes and he rai...  913075551212011520   \n",
       "2  JaredBerry316 glennbeck like when white Christ...  753045148775440384   \n",
       "3  AdamKazda 60 diplomats were killed on Bushs wa...  743830161393520640   \n",
       "4  fight4women Wow you got a source for all that ...  818188352314900480   \n",
       "\n",
       "  context_left context_right context_doc_id type label_id label label_title  \n",
       "0                                                     272                    \n",
       "1                                                     273                    \n",
       "2                                                     274                    \n",
       "3                                                      14                    \n",
       "4                                                     275                    "
      ]
     },
     "execution_count": 26,
     "metadata": {},
     "output_type": "execute_result"
    }
   ],
   "source": [
    "df_train_final.head()"
   ]
  },
  {
   "cell_type": "code",
   "execution_count": 27,
   "metadata": {},
   "outputs": [],
   "source": [
    "count_df = pd.DataFrame(df_train_final.groupby('mention')['mention_id'].count()).reset_index(level=['mention'])"
   ]
  },
  {
   "cell_type": "code",
   "execution_count": 28,
   "metadata": {},
   "outputs": [
    {
     "data": {
      "text/html": [
       "<div>\n",
       "<style scoped>\n",
       "    .dataframe tbody tr th:only-of-type {\n",
       "        vertical-align: middle;\n",
       "    }\n",
       "\n",
       "    .dataframe tbody tr th {\n",
       "        vertical-align: top;\n",
       "    }\n",
       "\n",
       "    .dataframe thead th {\n",
       "        text-align: right;\n",
       "    }\n",
       "</style>\n",
       "<table border=\"1\" class=\"dataframe\">\n",
       "  <thead>\n",
       "    <tr style=\"text-align: right;\">\n",
       "      <th></th>\n",
       "      <th>mention</th>\n",
       "      <th>mention_id</th>\n",
       "    </tr>\n",
       "  </thead>\n",
       "  <tbody>\n",
       "  </tbody>\n",
       "</table>\n",
       "</div>"
      ],
      "text/plain": [
       "Empty DataFrame\n",
       "Columns: [mention, mention_id]\n",
       "Index: []"
      ]
     },
     "execution_count": 28,
     "metadata": {},
     "output_type": "execute_result"
    }
   ],
   "source": [
    "count_df[count_df['mention_id'] > 1]"
   ]
  },
  {
   "cell_type": "code",
   "execution_count": 29,
   "metadata": {},
   "outputs": [
    {
     "name": "stdout",
     "output_type": "stream",
     "text": [
      "0\n"
     ]
    }
   ],
   "source": [
    "count = 0\n",
    "total_length = 0\n",
    "for i in range(df_train_final.shape[0]):\n",
    "    total_length += len(df_train_final['mention'].iloc[i])\n",
    "    if len(df_train_final['mention'].iloc[i]) < 34:\n",
    "        count += 1\n",
    "        print(df_train_final['mention'].iloc[i])\n",
    "\n",
    "print(count)      "
   ]
  },
  {
   "cell_type": "code",
   "execution_count": 30,
   "metadata": {},
   "outputs": [],
   "source": [
    "df_val_final = pd.DataFrame(val_mentions)"
   ]
  },
  {
   "cell_type": "code",
   "execution_count": 31,
   "metadata": {},
   "outputs": [
    {
     "data": {
      "text/html": [
       "<div>\n",
       "<style scoped>\n",
       "    .dataframe tbody tr th:only-of-type {\n",
       "        vertical-align: middle;\n",
       "    }\n",
       "\n",
       "    .dataframe tbody tr th {\n",
       "        vertical-align: top;\n",
       "    }\n",
       "\n",
       "    .dataframe thead th {\n",
       "        text-align: right;\n",
       "    }\n",
       "</style>\n",
       "<table border=\"1\" class=\"dataframe\">\n",
       "  <thead>\n",
       "    <tr style=\"text-align: right;\">\n",
       "      <th></th>\n",
       "      <th>mention</th>\n",
       "      <th>mention_id</th>\n",
       "      <th>context_left</th>\n",
       "      <th>context_right</th>\n",
       "      <th>context_doc_id</th>\n",
       "      <th>type</th>\n",
       "      <th>label_id</th>\n",
       "      <th>label</th>\n",
       "      <th>label_title</th>\n",
       "    </tr>\n",
       "  </thead>\n",
       "  <tbody>\n",
       "  </tbody>\n",
       "</table>\n",
       "</div>"
      ],
      "text/plain": [
       "Empty DataFrame\n",
       "Columns: [mention, mention_id, context_left, context_right, context_doc_id, type, label_id, label, label_title]\n",
       "Index: []"
      ]
     },
     "execution_count": 31,
     "metadata": {},
     "output_type": "execute_result"
    }
   ],
   "source": [
    "df_val_final[df_val_final['mention'].isin(df_train_final['mention'])]"
   ]
  },
  {
   "cell_type": "code",
   "execution_count": 32,
   "metadata": {},
   "outputs": [],
   "source": [
    "df_test_final = pd.DataFrame(test_mentions)"
   ]
  },
  {
   "cell_type": "code",
   "execution_count": 33,
   "metadata": {},
   "outputs": [
    {
     "data": {
      "text/html": [
       "<div>\n",
       "<style scoped>\n",
       "    .dataframe tbody tr th:only-of-type {\n",
       "        vertical-align: middle;\n",
       "    }\n",
       "\n",
       "    .dataframe tbody tr th {\n",
       "        vertical-align: top;\n",
       "    }\n",
       "\n",
       "    .dataframe thead th {\n",
       "        text-align: right;\n",
       "    }\n",
       "</style>\n",
       "<table border=\"1\" class=\"dataframe\">\n",
       "  <thead>\n",
       "    <tr style=\"text-align: right;\">\n",
       "      <th></th>\n",
       "      <th>mention</th>\n",
       "      <th>mention_id</th>\n",
       "      <th>context_left</th>\n",
       "      <th>context_right</th>\n",
       "      <th>context_doc_id</th>\n",
       "      <th>type</th>\n",
       "      <th>label_id</th>\n",
       "      <th>label</th>\n",
       "      <th>label_title</th>\n",
       "    </tr>\n",
       "  </thead>\n",
       "  <tbody>\n",
       "  </tbody>\n",
       "</table>\n",
       "</div>"
      ],
      "text/plain": [
       "Empty DataFrame\n",
       "Columns: [mention, mention_id, context_left, context_right, context_doc_id, type, label_id, label, label_title]\n",
       "Index: []"
      ]
     },
     "execution_count": 33,
     "metadata": {},
     "output_type": "execute_result"
    }
   ],
   "source": [
    "df_test_final[df_test_final['mention'].isin(df_train_final['mention'])]"
   ]
  },
  {
   "cell_type": "code",
   "execution_count": null,
   "metadata": {},
   "outputs": [],
   "source": []
  }
 ],
 "metadata": {
  "kernelspec": {
   "display_name": "Python 3 (ipykernel)",
   "language": "python",
   "name": "python3"
  },
  "language_info": {
   "codemirror_mode": {
    "name": "ipython",
    "version": 3
   },
   "file_extension": ".py",
   "mimetype": "text/x-python",
   "name": "python",
   "nbconvert_exporter": "python",
   "pygments_lexer": "ipython3",
   "version": "3.7.11"
  }
 },
 "nbformat": 4,
 "nbformat_minor": 4
}
