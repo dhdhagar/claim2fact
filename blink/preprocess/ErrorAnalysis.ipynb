{
  "nbformat": 4,
  "nbformat_minor": 0,
  "metadata": {
    "colab": {
      "name": "Summarization.ipynb",
      "provenance": [],
      "collapsed_sections": []
    },
    "kernelspec": {
      "name": "python3",
      "display_name": "Python 3"
    },
    "language_info": {
      "name": "python"
    },
    "accelerator": "GPU",
    "widgets": {
      "application/vnd.jupyter.widget-state+json": {
        "32c90b3f41d248549d04439fe69dd67b": {
          "model_module": "@jupyter-widgets/controls",
          "model_name": "HBoxModel",
          "model_module_version": "1.5.0",
          "state": {
            "_view_name": "HBoxView",
            "_dom_classes": [],
            "_model_name": "HBoxModel",
            "_view_module": "@jupyter-widgets/controls",
            "_model_module_version": "1.5.0",
            "_view_count": null,
            "_view_module_version": "1.5.0",
            "box_style": "",
            "layout": "IPY_MODEL_a2e81fcc05ec4bd1b81107f390e3c396",
            "_model_module": "@jupyter-widgets/controls",
            "children": [
              "IPY_MODEL_7c58059a0e5c42cba40abdf9a921212e",
              "IPY_MODEL_70bae9d1255b4359a71be0b59f24f599",
              "IPY_MODEL_0fd911cc7d0340a59ee6601d3f7c6fee"
            ]
          }
        },
        "a2e81fcc05ec4bd1b81107f390e3c396": {
          "model_module": "@jupyter-widgets/base",
          "model_name": "LayoutModel",
          "model_module_version": "1.2.0",
          "state": {
            "_view_name": "LayoutView",
            "grid_template_rows": null,
            "right": null,
            "justify_content": null,
            "_view_module": "@jupyter-widgets/base",
            "overflow": null,
            "_model_module_version": "1.2.0",
            "_view_count": null,
            "flex_flow": null,
            "width": null,
            "min_width": null,
            "border": null,
            "align_items": null,
            "bottom": null,
            "_model_module": "@jupyter-widgets/base",
            "top": null,
            "grid_column": null,
            "overflow_y": null,
            "overflow_x": null,
            "grid_auto_flow": null,
            "grid_area": null,
            "grid_template_columns": null,
            "flex": null,
            "_model_name": "LayoutModel",
            "justify_items": null,
            "grid_row": null,
            "max_height": null,
            "align_content": null,
            "visibility": null,
            "align_self": null,
            "height": null,
            "min_height": null,
            "padding": null,
            "grid_auto_rows": null,
            "grid_gap": null,
            "max_width": null,
            "order": null,
            "_view_module_version": "1.2.0",
            "grid_template_areas": null,
            "object_position": null,
            "object_fit": null,
            "grid_auto_columns": null,
            "margin": null,
            "display": null,
            "left": null
          }
        },
        "7c58059a0e5c42cba40abdf9a921212e": {
          "model_module": "@jupyter-widgets/controls",
          "model_name": "HTMLModel",
          "model_module_version": "1.5.0",
          "state": {
            "_view_name": "HTMLView",
            "style": "IPY_MODEL_aba1b5172c2541b3a0fe0ceee25f0e88",
            "_dom_classes": [],
            "description": "",
            "_model_name": "HTMLModel",
            "placeholder": "​",
            "_view_module": "@jupyter-widgets/controls",
            "_model_module_version": "1.5.0",
            "value": "",
            "_view_count": null,
            "_view_module_version": "1.5.0",
            "description_tooltip": null,
            "_model_module": "@jupyter-widgets/controls",
            "layout": "IPY_MODEL_bfb7ddfcfed04b5eb01db04e89b6b70e"
          }
        },
        "70bae9d1255b4359a71be0b59f24f599": {
          "model_module": "@jupyter-widgets/controls",
          "model_name": "FloatProgressModel",
          "model_module_version": "1.5.0",
          "state": {
            "_view_name": "ProgressView",
            "style": "IPY_MODEL_999078e2b7e642cd88d36943bf3523f6",
            "_dom_classes": [],
            "description": "",
            "_model_name": "FloatProgressModel",
            "bar_style": "success",
            "max": 1,
            "_view_module": "@jupyter-widgets/controls",
            "_model_module_version": "1.5.0",
            "value": 1,
            "_view_count": null,
            "_view_module_version": "1.5.0",
            "orientation": "horizontal",
            "min": 0,
            "description_tooltip": null,
            "_model_module": "@jupyter-widgets/controls",
            "layout": "IPY_MODEL_390d4b744b89413ea3af3565c787a90e"
          }
        },
        "0fd911cc7d0340a59ee6601d3f7c6fee": {
          "model_module": "@jupyter-widgets/controls",
          "model_name": "HTMLModel",
          "model_module_version": "1.5.0",
          "state": {
            "_view_name": "HTMLView",
            "style": "IPY_MODEL_c3ea202e43d8436390297ea15d298ea1",
            "_dom_classes": [],
            "description": "",
            "_model_name": "HTMLModel",
            "placeholder": "​",
            "_view_module": "@jupyter-widgets/controls",
            "_model_module_version": "1.5.0",
            "value": " 885/? [4:21:02&lt;00:00, 17.46s/it]",
            "_view_count": null,
            "_view_module_version": "1.5.0",
            "description_tooltip": null,
            "_model_module": "@jupyter-widgets/controls",
            "layout": "IPY_MODEL_188d4dc4376446eba5e1eff04a80d0c6"
          }
        },
        "aba1b5172c2541b3a0fe0ceee25f0e88": {
          "model_module": "@jupyter-widgets/controls",
          "model_name": "DescriptionStyleModel",
          "model_module_version": "1.5.0",
          "state": {
            "_view_name": "StyleView",
            "_model_name": "DescriptionStyleModel",
            "description_width": "",
            "_view_module": "@jupyter-widgets/base",
            "_model_module_version": "1.5.0",
            "_view_count": null,
            "_view_module_version": "1.2.0",
            "_model_module": "@jupyter-widgets/controls"
          }
        },
        "bfb7ddfcfed04b5eb01db04e89b6b70e": {
          "model_module": "@jupyter-widgets/base",
          "model_name": "LayoutModel",
          "model_module_version": "1.2.0",
          "state": {
            "_view_name": "LayoutView",
            "grid_template_rows": null,
            "right": null,
            "justify_content": null,
            "_view_module": "@jupyter-widgets/base",
            "overflow": null,
            "_model_module_version": "1.2.0",
            "_view_count": null,
            "flex_flow": null,
            "width": null,
            "min_width": null,
            "border": null,
            "align_items": null,
            "bottom": null,
            "_model_module": "@jupyter-widgets/base",
            "top": null,
            "grid_column": null,
            "overflow_y": null,
            "overflow_x": null,
            "grid_auto_flow": null,
            "grid_area": null,
            "grid_template_columns": null,
            "flex": null,
            "_model_name": "LayoutModel",
            "justify_items": null,
            "grid_row": null,
            "max_height": null,
            "align_content": null,
            "visibility": null,
            "align_self": null,
            "height": null,
            "min_height": null,
            "padding": null,
            "grid_auto_rows": null,
            "grid_gap": null,
            "max_width": null,
            "order": null,
            "_view_module_version": "1.2.0",
            "grid_template_areas": null,
            "object_position": null,
            "object_fit": null,
            "grid_auto_columns": null,
            "margin": null,
            "display": null,
            "left": null
          }
        },
        "999078e2b7e642cd88d36943bf3523f6": {
          "model_module": "@jupyter-widgets/controls",
          "model_name": "ProgressStyleModel",
          "model_module_version": "1.5.0",
          "state": {
            "_view_name": "StyleView",
            "_model_name": "ProgressStyleModel",
            "description_width": "",
            "_view_module": "@jupyter-widgets/base",
            "_model_module_version": "1.5.0",
            "_view_count": null,
            "_view_module_version": "1.2.0",
            "bar_color": null,
            "_model_module": "@jupyter-widgets/controls"
          }
        },
        "390d4b744b89413ea3af3565c787a90e": {
          "model_module": "@jupyter-widgets/base",
          "model_name": "LayoutModel",
          "model_module_version": "1.2.0",
          "state": {
            "_view_name": "LayoutView",
            "grid_template_rows": null,
            "right": null,
            "justify_content": null,
            "_view_module": "@jupyter-widgets/base",
            "overflow": null,
            "_model_module_version": "1.2.0",
            "_view_count": null,
            "flex_flow": null,
            "width": "20px",
            "min_width": null,
            "border": null,
            "align_items": null,
            "bottom": null,
            "_model_module": "@jupyter-widgets/base",
            "top": null,
            "grid_column": null,
            "overflow_y": null,
            "overflow_x": null,
            "grid_auto_flow": null,
            "grid_area": null,
            "grid_template_columns": null,
            "flex": null,
            "_model_name": "LayoutModel",
            "justify_items": null,
            "grid_row": null,
            "max_height": null,
            "align_content": null,
            "visibility": null,
            "align_self": null,
            "height": null,
            "min_height": null,
            "padding": null,
            "grid_auto_rows": null,
            "grid_gap": null,
            "max_width": null,
            "order": null,
            "_view_module_version": "1.2.0",
            "grid_template_areas": null,
            "object_position": null,
            "object_fit": null,
            "grid_auto_columns": null,
            "margin": null,
            "display": null,
            "left": null
          }
        },
        "c3ea202e43d8436390297ea15d298ea1": {
          "model_module": "@jupyter-widgets/controls",
          "model_name": "DescriptionStyleModel",
          "model_module_version": "1.5.0",
          "state": {
            "_view_name": "StyleView",
            "_model_name": "DescriptionStyleModel",
            "description_width": "",
            "_view_module": "@jupyter-widgets/base",
            "_model_module_version": "1.5.0",
            "_view_count": null,
            "_view_module_version": "1.2.0",
            "_model_module": "@jupyter-widgets/controls"
          }
        },
        "188d4dc4376446eba5e1eff04a80d0c6": {
          "model_module": "@jupyter-widgets/base",
          "model_name": "LayoutModel",
          "model_module_version": "1.2.0",
          "state": {
            "_view_name": "LayoutView",
            "grid_template_rows": null,
            "right": null,
            "justify_content": null,
            "_view_module": "@jupyter-widgets/base",
            "overflow": null,
            "_model_module_version": "1.2.0",
            "_view_count": null,
            "flex_flow": null,
            "width": null,
            "min_width": null,
            "border": null,
            "align_items": null,
            "bottom": null,
            "_model_module": "@jupyter-widgets/base",
            "top": null,
            "grid_column": null,
            "overflow_y": null,
            "overflow_x": null,
            "grid_auto_flow": null,
            "grid_area": null,
            "grid_template_columns": null,
            "flex": null,
            "_model_name": "LayoutModel",
            "justify_items": null,
            "grid_row": null,
            "max_height": null,
            "align_content": null,
            "visibility": null,
            "align_self": null,
            "height": null,
            "min_height": null,
            "padding": null,
            "grid_auto_rows": null,
            "grid_gap": null,
            "max_width": null,
            "order": null,
            "_view_module_version": "1.2.0",
            "grid_template_areas": null,
            "object_position": null,
            "object_fit": null,
            "grid_auto_columns": null,
            "margin": null,
            "display": null,
            "left": null
          }
        }
      }
    }
  },
  "cells": [
    {
      "cell_type": "code",
      "metadata": {
        "colab": {
          "base_uri": "https://localhost:8080/"
        },
        "id": "k_2R6yP_lum7",
        "outputId": "1425623d-3e3d-409e-b8f9-42616b12f55b"
      },
      "source": [
        "from google.colab import drive\n",
        "drive.mount('/content/drive')"
      ],
      "execution_count": null,
      "outputs": [
        {
          "output_type": "stream",
          "name": "stdout",
          "text": [
            "Mounted at /content/drive\n"
          ]
        }
      ]
    },
    {
      "cell_type": "code",
      "metadata": {
        "id": "QAvmIJuHnmyv",
        "colab": {
          "base_uri": "https://localhost:8080/"
        },
        "outputId": "d35d357b-fc4e-4abd-f973-81936e516a28"
      },
      "source": [
        "!pip install transformers\n",
        "!pip install datasets\n",
        "!pip install sentencepiece\n",
        "!pip install pickle5"
      ],
      "execution_count": null,
      "outputs": [
        {
          "output_type": "stream",
          "name": "stdout",
          "text": [
            "Requirement already satisfied: transformers in /usr/local/lib/python3.7/dist-packages (4.13.0)\n",
            "Requirement already satisfied: regex!=2019.12.17 in /usr/local/lib/python3.7/dist-packages (from transformers) (2019.12.20)\n",
            "Requirement already satisfied: sacremoses in /usr/local/lib/python3.7/dist-packages (from transformers) (0.0.46)\n",
            "Requirement already satisfied: huggingface-hub<1.0,>=0.1.0 in /usr/local/lib/python3.7/dist-packages (from transformers) (0.2.1)\n",
            "Requirement already satisfied: filelock in /usr/local/lib/python3.7/dist-packages (from transformers) (3.4.0)\n",
            "Requirement already satisfied: pyyaml>=5.1 in /usr/local/lib/python3.7/dist-packages (from transformers) (6.0)\n",
            "Requirement already satisfied: tqdm>=4.27 in /usr/local/lib/python3.7/dist-packages (from transformers) (4.62.3)\n",
            "Requirement already satisfied: numpy>=1.17 in /usr/local/lib/python3.7/dist-packages (from transformers) (1.19.5)\n",
            "Requirement already satisfied: tokenizers<0.11,>=0.10.1 in /usr/local/lib/python3.7/dist-packages (from transformers) (0.10.3)\n",
            "Requirement already satisfied: packaging>=20.0 in /usr/local/lib/python3.7/dist-packages (from transformers) (21.3)\n",
            "Requirement already satisfied: importlib-metadata in /usr/local/lib/python3.7/dist-packages (from transformers) (4.8.2)\n",
            "Requirement already satisfied: requests in /usr/local/lib/python3.7/dist-packages (from transformers) (2.23.0)\n",
            "Requirement already satisfied: typing-extensions>=3.7.4.3 in /usr/local/lib/python3.7/dist-packages (from huggingface-hub<1.0,>=0.1.0->transformers) (3.10.0.2)\n",
            "Requirement already satisfied: pyparsing!=3.0.5,>=2.0.2 in /usr/local/lib/python3.7/dist-packages (from packaging>=20.0->transformers) (3.0.6)\n",
            "Requirement already satisfied: zipp>=0.5 in /usr/local/lib/python3.7/dist-packages (from importlib-metadata->transformers) (3.6.0)\n",
            "Requirement already satisfied: chardet<4,>=3.0.2 in /usr/local/lib/python3.7/dist-packages (from requests->transformers) (3.0.4)\n",
            "Requirement already satisfied: idna<3,>=2.5 in /usr/local/lib/python3.7/dist-packages (from requests->transformers) (2.10)\n",
            "Requirement already satisfied: urllib3!=1.25.0,!=1.25.1,<1.26,>=1.21.1 in /usr/local/lib/python3.7/dist-packages (from requests->transformers) (1.24.3)\n",
            "Requirement already satisfied: certifi>=2017.4.17 in /usr/local/lib/python3.7/dist-packages (from requests->transformers) (2021.10.8)\n",
            "Requirement already satisfied: six in /usr/local/lib/python3.7/dist-packages (from sacremoses->transformers) (1.15.0)\n",
            "Requirement already satisfied: click in /usr/local/lib/python3.7/dist-packages (from sacremoses->transformers) (7.1.2)\n",
            "Requirement already satisfied: joblib in /usr/local/lib/python3.7/dist-packages (from sacremoses->transformers) (1.1.0)\n",
            "Requirement already satisfied: datasets in /usr/local/lib/python3.7/dist-packages (1.16.1)\n",
            "Requirement already satisfied: numpy>=1.17 in /usr/local/lib/python3.7/dist-packages (from datasets) (1.19.5)\n",
            "Requirement already satisfied: importlib-metadata in /usr/local/lib/python3.7/dist-packages (from datasets) (4.8.2)\n",
            "Requirement already satisfied: tqdm>=4.62.1 in /usr/local/lib/python3.7/dist-packages (from datasets) (4.62.3)\n",
            "Requirement already satisfied: multiprocess in /usr/local/lib/python3.7/dist-packages (from datasets) (0.70.12.2)\n",
            "Requirement already satisfied: pyarrow!=4.0.0,>=3.0.0 in /usr/local/lib/python3.7/dist-packages (from datasets) (3.0.0)\n",
            "Requirement already satisfied: requests>=2.19.0 in /usr/local/lib/python3.7/dist-packages (from datasets) (2.23.0)\n",
            "Requirement already satisfied: pandas in /usr/local/lib/python3.7/dist-packages (from datasets) (1.1.5)\n",
            "Requirement already satisfied: fsspec[http]>=2021.05.0 in /usr/local/lib/python3.7/dist-packages (from datasets) (2021.11.1)\n",
            "Requirement already satisfied: packaging in /usr/local/lib/python3.7/dist-packages (from datasets) (21.3)\n",
            "Requirement already satisfied: xxhash in /usr/local/lib/python3.7/dist-packages (from datasets) (2.0.2)\n",
            "Requirement already satisfied: huggingface-hub<1.0.0,>=0.1.0 in /usr/local/lib/python3.7/dist-packages (from datasets) (0.2.1)\n",
            "Requirement already satisfied: dill in /usr/local/lib/python3.7/dist-packages (from datasets) (0.3.4)\n",
            "Requirement already satisfied: aiohttp in /usr/local/lib/python3.7/dist-packages (from datasets) (3.8.1)\n",
            "Requirement already satisfied: filelock in /usr/local/lib/python3.7/dist-packages (from huggingface-hub<1.0.0,>=0.1.0->datasets) (3.4.0)\n",
            "Requirement already satisfied: pyyaml in /usr/local/lib/python3.7/dist-packages (from huggingface-hub<1.0.0,>=0.1.0->datasets) (6.0)\n",
            "Requirement already satisfied: typing-extensions>=3.7.4.3 in /usr/local/lib/python3.7/dist-packages (from huggingface-hub<1.0.0,>=0.1.0->datasets) (3.10.0.2)\n",
            "Requirement already satisfied: pyparsing!=3.0.5,>=2.0.2 in /usr/local/lib/python3.7/dist-packages (from packaging->datasets) (3.0.6)\n",
            "Requirement already satisfied: urllib3!=1.25.0,!=1.25.1,<1.26,>=1.21.1 in /usr/local/lib/python3.7/dist-packages (from requests>=2.19.0->datasets) (1.24.3)\n",
            "Requirement already satisfied: certifi>=2017.4.17 in /usr/local/lib/python3.7/dist-packages (from requests>=2.19.0->datasets) (2021.10.8)\n",
            "Requirement already satisfied: chardet<4,>=3.0.2 in /usr/local/lib/python3.7/dist-packages (from requests>=2.19.0->datasets) (3.0.4)\n",
            "Requirement already satisfied: idna<3,>=2.5 in /usr/local/lib/python3.7/dist-packages (from requests>=2.19.0->datasets) (2.10)\n",
            "Requirement already satisfied: async-timeout<5.0,>=4.0.0a3 in /usr/local/lib/python3.7/dist-packages (from aiohttp->datasets) (4.0.1)\n",
            "Requirement already satisfied: frozenlist>=1.1.1 in /usr/local/lib/python3.7/dist-packages (from aiohttp->datasets) (1.2.0)\n",
            "Requirement already satisfied: attrs>=17.3.0 in /usr/local/lib/python3.7/dist-packages (from aiohttp->datasets) (21.2.0)\n",
            "Requirement already satisfied: yarl<2.0,>=1.0 in /usr/local/lib/python3.7/dist-packages (from aiohttp->datasets) (1.7.2)\n",
            "Requirement already satisfied: multidict<7.0,>=4.5 in /usr/local/lib/python3.7/dist-packages (from aiohttp->datasets) (5.2.0)\n",
            "Requirement already satisfied: aiosignal>=1.1.2 in /usr/local/lib/python3.7/dist-packages (from aiohttp->datasets) (1.2.0)\n",
            "Requirement already satisfied: charset-normalizer<3.0,>=2.0 in /usr/local/lib/python3.7/dist-packages (from aiohttp->datasets) (2.0.8)\n",
            "Requirement already satisfied: asynctest==0.13.0 in /usr/local/lib/python3.7/dist-packages (from aiohttp->datasets) (0.13.0)\n",
            "Requirement already satisfied: zipp>=0.5 in /usr/local/lib/python3.7/dist-packages (from importlib-metadata->datasets) (3.6.0)\n",
            "Requirement already satisfied: python-dateutil>=2.7.3 in /usr/local/lib/python3.7/dist-packages (from pandas->datasets) (2.8.2)\n",
            "Requirement already satisfied: pytz>=2017.2 in /usr/local/lib/python3.7/dist-packages (from pandas->datasets) (2018.9)\n",
            "Requirement already satisfied: six>=1.5 in /usr/local/lib/python3.7/dist-packages (from python-dateutil>=2.7.3->pandas->datasets) (1.15.0)\n",
            "Requirement already satisfied: sentencepiece in /usr/local/lib/python3.7/dist-packages (0.1.96)\n",
            "Requirement already satisfied: pickle5 in /usr/local/lib/python3.7/dist-packages (0.0.12)\n"
          ]
        }
      ]
    },
    {
      "cell_type": "markdown",
      "metadata": {
        "id": "U7p00VQ4XRr6"
      },
      "source": [
        ""
      ]
    },
    {
      "cell_type": "code",
      "metadata": {
        "id": "n45YlRQIXOOx"
      },
      "source": [
        "import pandas as pd\n",
        "#import pickle5 as pickle\n",
        "import pickle\n",
        "import math"
      ],
      "execution_count": null,
      "outputs": []
    },
    {
      "cell_type": "code",
      "metadata": {
        "id": "CqeQHtX8XUX0",
        "colab": {
          "base_uri": "https://localhost:8080/",
          "height": 186
        },
        "outputId": "434619d4-d510-4639-bb7e-6888de55608e"
      },
      "source": [
        "with open('/content/drive/MyDrive/claim2fact/dictionary.pickle', 'rb') as f:\n",
        "  data = pickle.load(f)"
      ],
      "execution_count": null,
      "outputs": [
        {
          "output_type": "error",
          "ename": "ValueError",
          "evalue": "ignored",
          "traceback": [
            "\u001b[0;31m---------------------------------------------------------------------------\u001b[0m",
            "\u001b[0;31mValueError\u001b[0m                                Traceback (most recent call last)",
            "\u001b[0;32m<ipython-input-6-fb5caa0959c4>\u001b[0m in \u001b[0;36m<module>\u001b[0;34m()\u001b[0m\n\u001b[1;32m      1\u001b[0m \u001b[0;32mwith\u001b[0m \u001b[0mopen\u001b[0m\u001b[0;34m(\u001b[0m\u001b[0;34m'/content/drive/MyDrive/claim2fact/dictionary.pickle'\u001b[0m\u001b[0;34m,\u001b[0m \u001b[0;34m'rb'\u001b[0m\u001b[0;34m)\u001b[0m \u001b[0;32mas\u001b[0m \u001b[0mf\u001b[0m\u001b[0;34m:\u001b[0m\u001b[0;34m\u001b[0m\u001b[0;34m\u001b[0m\u001b[0m\n\u001b[0;32m----> 2\u001b[0;31m   \u001b[0mdata\u001b[0m \u001b[0;34m=\u001b[0m \u001b[0mpickle\u001b[0m\u001b[0;34m.\u001b[0m\u001b[0mload\u001b[0m\u001b[0;34m(\u001b[0m\u001b[0mf\u001b[0m\u001b[0;34m)\u001b[0m\u001b[0;34m\u001b[0m\u001b[0;34m\u001b[0m\u001b[0m\n\u001b[0m",
            "\u001b[0;31mValueError\u001b[0m: unsupported pickle protocol: 5"
          ]
        }
      ]
    },
    {
      "cell_type": "code",
      "source": [
        "data = clean_data_new"
      ],
      "metadata": {
        "id": "17QyGu5dwfkl"
      },
      "execution_count": null,
      "outputs": []
    },
    {
      "cell_type": "code",
      "source": [
        "data[3]"
      ],
      "metadata": {
        "colab": {
          "base_uri": "https://localhost:8080/"
        },
        "id": "yywoOx6f0NG2",
        "outputId": "febf8f69-f783-4797-a9d1-24993016251a"
      },
      "execution_count": null,
      "outputs": [
        {
          "output_type": "execute_result",
          "data": {
            "text/plain": [
              "{'cui': '14',\n",
              " 'description': \"In December 2015, several images were circulated on social media along with claims that they depicted presidential candidate Donald Trump’s sons, Eric and Donald Jr., on a big game hunting trip: The images were unaltered and accurately described, although they were not recent in December 2015. The photographs received broad media coverage at the time they were initially released, well before the start of Trump Sr.’s bid for the White House. On 13 March 2012, the web site Gothamist published an article titled “Photos: Donald Trump’s Sons Awesome At Killing Elephants And Other Wildlife.”  It said: Animal rights activists are revolted by a series of trophy photos that have emerged showing Eric and Donald Trump Jr. posing with a dead elephant, kudu, civet cat and waterbuck while on a big game safari in Zimbabwe last year. In one photo, Donald Jr. proudly holds a dead elephant tail in one hand and a knife in the other. In another, the brothers are seen standing beside a 12’8″ crocodile hanging from a noose off a tree. Activists obtained the photos and created [a] video montage of the Trumps’ big hunt[.]  British tabloid the Daily Mail concurrently ran the photos in a piece titled “‘I have no shame… I HUNT & EAT game’: Donald Trump’s sons pictured posing with their ‘trophy’ carcasses on big African hunt.” It cited the web site Hunting Legends as a source for the photographs. In March 2012, Donald Trump Jr. sent several tweets that addressed the controversy: @exclamation I can assure you it was not wasteful the villagers were so happy for the meat which they don't often get to eat. Very grateful — Donald Trump Jr. (@DonaldJTrumpJr) March 12, 2012 @alisonheittman which would be what?  I'm not going to run and hide because the peta crazies don't like me. — Donald Trump Jr. (@DonaldJTrumpJr) March 13, 2012 The Daily Mail quoted since-deleted tweets published by Trump Jr. in March 2012: ‘Not a PR move I didn’t give the pics but I have no shame about them either. I HUNT & EAT game’. ‘I AM A HUNTER I don’t hide from that,’ he said to another critic on Twitter. Additional Sighting Donald Trump Jr.’s hunting interests made headlines again in December 2019 when a ProPublica report raised questions about a permit he received to shoot argali in Mongolia. IUCN Red List considered the wild sheep “near threatened” as of 2008.\",\n",
              " 'title': \"Are These Donald Trump's Sons in Game-Hunting Photos? | Snopes.com\"}"
            ]
          },
          "metadata": {},
          "execution_count": 14
        }
      ]
    },
    {
      "cell_type": "code",
      "metadata": {
        "id": "V1ElRf5IbAQQ"
      },
      "source": [
        "data_restructured = {k:[] for k in data[0].keys()}\n",
        "\n",
        "for item in data:\n",
        "  if not isinstance(item['description'], str):\n",
        "    continue\n",
        "  for k in item.keys():\n",
        "    data_restructured[k].append(str(item[k]))"
      ],
      "execution_count": null,
      "outputs": []
    },
    {
      "cell_type": "code",
      "metadata": {
        "colab": {
          "base_uri": "https://localhost:8080/"
        },
        "id": "EW6hAP1rbd9X",
        "outputId": "d1a3e8fc-098a-4b3b-c670-3fb585130dd0"
      },
      "source": [
        "len(data_restructured['cui'])"
      ],
      "execution_count": null,
      "outputs": [
        {
          "output_type": "execute_result",
          "data": {
            "text/plain": [
              "3540"
            ]
          },
          "metadata": {},
          "execution_count": 16
        }
      ]
    },
    {
      "cell_type": "code",
      "metadata": {
        "colab": {
          "base_uri": "https://localhost:8080/"
        },
        "id": "jyRDt3ycvomq",
        "outputId": "dbadcc7c-cbcb-4a8d-b97e-562365f4b906"
      },
      "source": [
        "!nvidia-smi"
      ],
      "execution_count": null,
      "outputs": [
        {
          "output_type": "stream",
          "name": "stdout",
          "text": [
            "Sat Dec 11 23:17:47 2021       \n",
            "+-----------------------------------------------------------------------------+\n",
            "| NVIDIA-SMI 495.44       Driver Version: 460.32.03    CUDA Version: 11.2     |\n",
            "|-------------------------------+----------------------+----------------------+\n",
            "| GPU  Name        Persistence-M| Bus-Id        Disp.A | Volatile Uncorr. ECC |\n",
            "| Fan  Temp  Perf  Pwr:Usage/Cap|         Memory-Usage | GPU-Util  Compute M. |\n",
            "|                               |                      |               MIG M. |\n",
            "|===============================+======================+======================|\n",
            "|   0  Tesla K80           Off  | 00000000:00:04.0 Off |                    0 |\n",
            "| N/A   66C    P8    30W / 149W |      0MiB / 11441MiB |      0%      Default |\n",
            "|                               |                      |                  N/A |\n",
            "+-------------------------------+----------------------+----------------------+\n",
            "                                                                               \n",
            "+-----------------------------------------------------------------------------+\n",
            "| Processes:                                                                  |\n",
            "|  GPU   GI   CI        PID   Type   Process name                  GPU Memory |\n",
            "|        ID   ID                                                   Usage      |\n",
            "|=============================================================================|\n",
            "|  No running processes found                                                 |\n",
            "+-----------------------------------------------------------------------------+\n"
          ]
        }
      ]
    },
    {
      "cell_type": "code",
      "metadata": {
        "id": "rKWel612msH_"
      },
      "source": [
        "from transformers import PegasusForConditionalGeneration, PegasusTokenizer\n",
        "import torch\n",
        "import os\n",
        "from datasets import Dataset\n",
        "from tqdm.notebook import tqdm"
      ],
      "execution_count": null,
      "outputs": []
    },
    {
      "cell_type": "code",
      "metadata": {
        "id": "fGIg8VrunHqM"
      },
      "source": [
        "model_name='google/pegasus-cnn_dailymail'\n",
        "device = 'cuda'\n",
        "tokenizer = PegasusTokenizer.from_pretrained(model_name)\n",
        "model = PegasusForConditionalGeneration.from_pretrained(model_name, max_length=128).to(device)"
      ],
      "execution_count": null,
      "outputs": []
    },
    {
      "cell_type": "code",
      "metadata": {
        "id": "A9Z7eXOUpHOP"
      },
      "source": [
        "batch_size = 4\n",
        "dataset = Dataset.from_dict(data_restructured)\n",
        "dataloader = torch.utils.data.DataLoader(dataset, batch_size=batch_size)"
      ],
      "execution_count": null,
      "outputs": []
    },
    {
      "cell_type": "code",
      "metadata": {
        "id": "KEH6blS1Zvnb"
      },
      "source": [
        "checkpoint_path = '/content/drive/MyDrive/claim2fact/dictionary_with_summaries.pkl'"
      ],
      "execution_count": null,
      "outputs": []
    },
    {
      "cell_type": "markdown",
      "metadata": {
        "id": "X2aJ-lj0POy8"
      },
      "source": [
        ""
      ]
    },
    {
      "cell_type": "code",
      "metadata": {
        "id": "LOAHYuJAZWlA"
      },
      "source": [
        "if os.path.exists(checkpoint_path):\n",
        "  with open(checkpoint_path, 'rb') as f:\n",
        "    final_dataset = pickle.load(f)\n",
        "    completed_count = len(final_dataset['cui'])\n",
        "else:\n",
        "  final_dataset = {k:[] for k in data_restructured.keys()}\n",
        "  final_dataset['summary'] = []\n",
        "  completed_count = 0"
      ],
      "execution_count": null,
      "outputs": []
    },
    {
      "cell_type": "code",
      "metadata": {
        "colab": {
          "base_uri": "https://localhost:8080/"
        },
        "id": "JjPhg2biOuI5",
        "outputId": "ec8dab7d-c9a6-4f3f-cb1b-484061bb7209"
      },
      "source": [
        "final_dataset"
      ],
      "execution_count": null,
      "outputs": [
        {
          "output_type": "execute_result",
          "data": {
            "text/plain": [
              "{'cui': [], 'description': [], 'summary': [], 'title': []}"
            ]
          },
          "metadata": {},
          "execution_count": 27
        }
      ]
    },
    {
      "cell_type": "code",
      "source": [
        "len(data_restructured['cui'])"
      ],
      "metadata": {
        "colab": {
          "base_uri": "https://localhost:8080/"
        },
        "id": "FJNWYPZTxsrW",
        "outputId": "0db9b9be-7d9e-49c4-f7f6-85789857ff62"
      },
      "execution_count": null,
      "outputs": [
        {
          "output_type": "execute_result",
          "data": {
            "text/plain": [
              "3540"
            ]
          },
          "metadata": {},
          "execution_count": 64
        }
      ]
    },
    {
      "cell_type": "code",
      "metadata": {
        "colab": {
          "base_uri": "https://localhost:8080/",
          "height": 49,
          "referenced_widgets": [
            "32c90b3f41d248549d04439fe69dd67b",
            "a2e81fcc05ec4bd1b81107f390e3c396",
            "7c58059a0e5c42cba40abdf9a921212e",
            "70bae9d1255b4359a71be0b59f24f599",
            "0fd911cc7d0340a59ee6601d3f7c6fee",
            "aba1b5172c2541b3a0fe0ceee25f0e88",
            "bfb7ddfcfed04b5eb01db04e89b6b70e",
            "999078e2b7e642cd88d36943bf3523f6",
            "390d4b744b89413ea3af3565c787a90e",
            "c3ea202e43d8436390297ea15d298ea1",
            "188d4dc4376446eba5e1eff04a80d0c6"
          ]
        },
        "id": "h-atljjvqC0u",
        "outputId": "4a0d00b8-5ee7-4cf5-e10a-323fb448b68c"
      },
      "source": [
        "for idx,batch in tqdm(enumerate(dataloader)):\n",
        "  if completed_count != 0 and completed_count > idx * batch_size:\n",
        "    continue\n",
        "  text = batch['description']\n",
        "  batch_tokens = tokenizer(text, truncation=True, padding='longest', return_tensors=\"pt\").to(device)\n",
        "  summaries = model.generate(**batch_tokens)\n",
        "  tgt_text = tokenizer.batch_decode(summaries, skip_special_tokens=True)\n",
        "  tgt_text = [clean_up(x) for x in tgt_text]\n",
        "  for key in batch.keys():\n",
        "    final_dataset[key].extend(batch[key])\n",
        "  final_dataset['summary'].extend(tgt_text)\n",
        "\n",
        "  if idx % 10 == 0 and idx != 0:\n",
        "    with open(checkpoint_path, 'wb') as f:\n",
        "      pickle.dump(final_dataset, f)\n",
        "\n",
        "with open(checkpoint_path, 'wb') as f:\n",
        "  pickle.dump(final_dataset, f)"
      ],
      "execution_count": null,
      "outputs": [
        {
          "output_type": "display_data",
          "data": {
            "application/vnd.jupyter.widget-view+json": {
              "model_id": "32c90b3f41d248549d04439fe69dd67b",
              "version_minor": 0,
              "version_major": 2
            },
            "text/plain": [
              "0it [00:00, ?it/s]"
            ]
          },
          "metadata": {}
        }
      ]
    },
    {
      "cell_type": "code",
      "metadata": {
        "id": "1a6WhpkRuaBr",
        "colab": {
          "base_uri": "https://localhost:8080/",
          "height": 169
        },
        "outputId": "4ae9b097-2336-4ff3-aae4-6d0a3b322d4a"
      },
      "source": [
        ""
      ],
      "execution_count": null,
      "outputs": [
        {
          "output_type": "error",
          "ename": "TypeError",
          "evalue": "ignored",
          "traceback": [
            "\u001b[0;31m---------------------------------------------------------------------------\u001b[0m",
            "\u001b[0;31mTypeError\u001b[0m                                 Traceback (most recent call last)",
            "\u001b[0;32m<ipython-input-33-df1655934691>\u001b[0m in \u001b[0;36m<module>\u001b[0;34m()\u001b[0m\n\u001b[0;32m----> 1\u001b[0;31m \u001b[0mfinal_dataset\u001b[0m\u001b[0;34m[\u001b[0m\u001b[0;34m:\u001b[0m\u001b[0;36m5\u001b[0m\u001b[0;34m]\u001b[0m\u001b[0;34m\u001b[0m\u001b[0;34m\u001b[0m\u001b[0m\n\u001b[0m",
            "\u001b[0;31mTypeError\u001b[0m: unhashable type: 'slice'"
          ]
        }
      ]
    },
    {
      "cell_type": "code",
      "metadata": {
        "id": "2FOqp8qBc7HZ"
      },
      "source": [
        "data_with_summaries = []\n",
        "for item in data:\n",
        "  #item['cui'] = str(item['cui'])\n",
        "  try:\n",
        "    idx = final_dataset['cui'].index(item['cui'])\n",
        "    summary = final_dataset['summary'][idx]\n",
        "  except:\n",
        "    summary = \"\"\n",
        "  if not isinstance(item['description'], str):\n",
        "    item['description'] = \"\"\n",
        "  item['description'] = clean_up(item['description'])\n",
        "  item['title'] = clean_up(item['title'])\n",
        "  item['summary'] = summary\n",
        "  data_with_summaries.append(item)\n"
      ],
      "execution_count": null,
      "outputs": []
    },
    {
      "cell_type": "code",
      "metadata": {
        "colab": {
          "base_uri": "https://localhost:8080/"
        },
        "id": "p3_lUj5KQDJE",
        "outputId": "21a48778-12a0-4c6d-d3d8-ae3238365ab4"
      },
      "source": [
        "data_with_summaries[:5]"
      ],
      "execution_count": null,
      "outputs": [
        {
          "output_type": "execute_result",
          "data": {
            "text/plain": [
              "[{'cui': '272',\n",
              "  'description': 'As the US House of Representatives was readying a new special committee to investigate the terrorist attack in Benghazi Libya many Democrats were arguing that continuing to probe the Sept 11 2012 attack which killed four Americans including US Ambassador Chris Stevens amounted to a political witch hunt On May 5 2014 Rep John Garamendi DCalif told MSNBC host Ed Schultz that there has already been exhaustive testimony and investigation of the incident This thing is just going on and on to boredom actually Garamendi said The Armed Services Committee actually did a hearing and the result was theres nothing here Thats obviously a great tragedy but Ed during the George W Bush period there were 13 attacks on various embassies and consulates around the world Sixty people died In Karachi there was a death of one of our diplomats and those were not investigated during that period of time because it was a tragedy Readers asked us whether its true that under Bush there were 13 attacks on various embassies and consulates around the world and 60 people died We turned to the Global Terrorism Database a project headquartered at the University of Maryland The database documents terrorist attacks around the world going back to the 1970s and experts told us it is the best resource available for this factcheck We searched the database for descriptions between January 2001 and January 2009 that included the term US embassy We supplemented these with a few other attacks listed in a Huffington Post opinion piece that Garamendis staff said was their main source for the claim The Huffington Post column Garamendi cited purposely didnt count any attacks in Baghdad So we decided to construct our count from scratch While Garamendi spoke of embassies and consulates we found several US diplomatic targets killed in the line of duty outside official compounds such as in convoys or their homes and we included them in our count Once we crossreferenced the attacks in the article and those in the database we narrowed down the total to 39 attacks or attempted attacks on US embassies and embassy personnel Of these 39 attacks 20 resulted in at least one fatality Our complete list is here This is higher than Garamendis claim though if you only count attacks on embassy and consular property there were 13 Garamendi also understated the number of deaths In the 20 incidents with at least one fatality the total death toll was 87 quite a few more than the 60 Garamendi cited If you only count those at embassies and consulates proper the number of deaths drops to 66 We should note that the vast majority of these deaths were not Americans We counted 63 deaths that were either of nonAmericans or of people whose nationality is unknown Another three were US civilians Another 21 were workers at the US embassy or consulate either of American or foreign nationality So using what we think is the most reasonable definition Garamendis numbers are a bit low Featured Factcheck Facebook posts stated on November 7 2021 in a Facebook post The Astroworld concert was a test run on the vaxxed because people who are injected with graphene oxide can be controlled through magnetic frequencies including music By Samantha Putterman November 8 2021 What about the implicit comparison he made between Benghazi and these previous attacks Thats a little shakier Generally the experts we contacted agreed that Garamendi was making a reasonable point that there has been a steady and comparatively overlooked series of deadly attacks on US embassies in recent years Still these experts also said there are valid reasons to treat Benghazi differently from the earlier attacks Is Benghazi different Absolutely said Daveed GartensteinRoss a senior fellow at the Foundation for Defense of Democracies and an adjunct assistant professor in Georgetown Universitys security studies program One reason he said is that an American ambassador died in the attack which hadnt happened since the 1970s Another relevant question GartensteinRoss said is whether what happened was put to the American people in an honest manner not just with respect to the administration but also with respect to the intelligence community GartensteinRoss added that he wasnt endorsing how the Republicans go about investigating this question But he did say its a real legitimate question As always what causes the problem is not so much what happens but the response to it said Theodore R Bromund a senior research fellow at the conservative Heritage Foundation If the administration had come out shortly after the attack and said Our consulate was attacked by organized Islamist forces and we will pursue these terrorists and bring them to justice one way or the other I very much doubt there would be much juice in these hearings if indeed they were being held at all Lance Janda a military historian at Cameron University agreed that Benghazi brings up important issues We probably should have had more United States forces on site or at least nearby he said And the administration had a muddled response in terms of releasing information he added Our ruling Garamendi said that during the George W Bush period there were 13 attacks on various embassies and consulates around the world Sixty people died There are actually different ways to count the number of attacks especially when considering attacks on ambassadors and embassy personnel who were traveling to or from embassy property Overall we found Garamendi slightly understated the number of deadly attacks and total fatalities even using a strict definition Garamendis claim is accurate but needs clarification or additional information so we rate it Mostly True Share the Facts Politifact 2 7 Politifact Rating Mostly True During the George W Bush period there were 13 attacks on various embassies and consulates around the world Sixty people died John Garamendi Congressman In an interview on MSNBC Monday May 5 2014 05052014 Read More info',\n",
              "  'summary': '',\n",
              "  'title': 'PolitiFact Prior to Benghazi were there 13 attacks on embassies and 60 deaths under President George W Bush'},\n",
              " {'cui': '273',\n",
              "  'description': 'In his speech at the Democratic National Committee in Charlotte NC President Barack Obama mocked Republicans for turning to tax cuts as the solution to every problem Have a surplus Try a tax cut Deficit too high Try another Feel a cold coming on Take two tax cuts roll back some regulations and call us in the morning Obama said Now Ive cut taxes for those who need it middleclass families and small businesses But I dont believe that another round of tax breaks for millionaires will bring good jobs to our shores or pay down our deficit Obama said Obama is often accused by Republicans of raising taxes and he has raised some taxes during his presidency Hes also said that he intends to raise income tax rates for couples who make more than 250000 a year or single people who make more than 200000 a year Here were going to look at his claim to cut taxes for middleclass families and small businesses Weve been tracking all of Obamas campaign promises about taxes on our Obameter Obama has signed off on two major tax cuts for middleclass families the Making Work Pay tax credit that was part of the economic stimulus of 2009 and a temporary reduction in Social Security payroll taxes that went into effect in 2011 As part of the stimulus formally known as the American Recovery and Reinvestment Act single workers collected a 400 tax credit and working couples got 800 The credit didnt come in the form of a check it worked out so that most workers had about 400 less in federal income taxes withheld from their paychecks spread out over the entire year Most workers received a tax cut under that plan with the exception of some high earners The tax cuts phased out for couples who make more than 250000 or a single person making over 200000 according to an analysis from the nonpartisan Tax Policy Center The result mirrored what Obama promised he would do on the campaign Obama pledged tax cuts of 500 for each worker and 1000 for working couples We rated the promise a Compromise on our Obameter because the resulting tax cut was a little lower than what Obama wanted That tax cut expired at the end of 2011 But Obama won another round of tax cuts for most workers in a December 2010 tax deal with Republicans in Congress Those tax cuts a temporary reduction in workers payroll taxes worth about 2 percent of total earnings expire in 2013 Again the tax cut didnt come as a check but gives workers a little more in their paychecks than they would have otherwise Obama also has passed an array of tax cuts for small businesses Eight of them were included in the stimulus the Affordable Care Act also known as the health care law and the Hiring Incentives to Restore Employment Act also known as the HIRE Act Among the cuts were the exclusion of up to 75 percent of capital gains on key small business investments a tax credit for the cost of health insurance for small business employees and new tax credits for hiring Americans out of work for at least two months Another eight cuts came via the Small Business Jobs Act signed by Obama in September of 2010 These included adding deductions for business cell phone use creating a new deduction for health care costs for the selfemployed allowing greater deductions for business startup expenses eliminating taxes on all capital gains from key small business investments and raising the small business expense limit to 500000 Three months later the president signed a tax bill that raised the expense limit to 100 percent of small business new investments until the end of 2011 It also extended the elimination of capital gains taxes for small business investments through the end of 2012 For more details see our previous factcheck that provided at least 16 tax cuts to small businesses we rated it Mostly True To be clear this doesnt mean the middleclass and small businesses havent seen any tax increases under the Obama administration We rated his campaign promise that no family making less than 250000 will see any form of tax increase as Promise Broken Obama has signed off on new taxes on cigarettes and indoor tanning His health care law includes a tax penalty for people who dont buy health insurance that starts in 2014 It includes hardship exemptions for people who cant find affordable policies Also under the health care law small businesses that have more than 50 employees that dont offer their employees health insurance could face fines Our ruling Obama has raised some taxes during his presidency but hes also pursued broadbased tax cuts for the middle class and small businesses We particularly give weight here to the tax cuts that were part of the stimulus and the payroll tax holiday which reduced taxes for broad swaths of the workforce Some small businesses may have been hit by new taxes that were part of Obamas health law but these would depend on the particular circumstances of each business Also there were new taxes on cigarettes and indoor tanning Obama said he has cut taxes for those who need it middleclass families small businesses He has but he also has raised some taxes So while his statement is accurate it lacks that additional context We rate his claim Mostly True Featured Factcheck Kevin McCarthy stated on November 18 2021 in prepared remarks for a House floor speech If you or your family spends 28 a day prepare to be under constant audit by the IRS By Jon Greenberg November 19 2021',\n",
              "  'summary': '',\n",
              "  'title': 'PolitiFact Barack Obama said hes cut taxes for middleclass families small businesses'},\n",
              " {'cui': '274',\n",
              "  'description': 'Amid ongoing protests in Ferguson Mo the national conversation about racial justice and police force has ignored a critical point that needs to be discussed said Fox News pundit Juan Williams Civil rights activists and black leaders have failed to address the very thing thats fueling conservative white backlash the high crime rate among the black community particularly among young black men Williams said on Aug 24ths Fox News Sunday I think theres fear of intimidation harassment being legitimized by the fact that there is a high rate of crime especially among young black men Williams said No 1 cause of death young black men 15 to 34 murder Whos committing the murder Not police Other black men Last year PolitiFact found that 93 percent of murder victims were killed by someone who shares their race This time we want to check out Williams claim that homicide is the No 1 cause of death for black men 1534 years old Unnatural causes We looked at numbers from the Centers for Disease Control and Prevention which lists the leading causes of death across all demographics Experts said that CDC data compiled from coroner reports are in line with FBI numbers sourced from police reports The CDC does not distinguish between the types of homicide criminal justified etc or the types of accidents auto accidents falls firearm discharge etc The numbers for 2011 the most recent CDC findings are consistent with data from previous years According to the CDC homicide was indeed the No 1 killer of black men between the ages of 15 and 34 in 2011 Accidents ranked second in causes of death and suicide claimed the third amount of black male lives between 15 and 24 years old while heart disease ranked third for men 2434 Leading causes of death among black males 1st 2nd 3rd All ages Diseases of the heart Malignant neoplasms Accidents 14 Accidents Homicide Congenital malformations 514 Accidents Malignant neoplasms Homicide 1524 Homicide Accidents Suicide 2534 Homicide Featured Factcheck NYS Department of Corrections and Community Supervision stated on November 8 2021 in a news release New York is leading the nation with the lowest imprisonment rate of any large state By Jill Terreri Ramos November 19 2021 Accidents Diseases of the heart 3544 Diseases of the heart Accidents Homicide 4554 Diseases of the heart Malignant neoplasms Accidents 5584 Malignant neoplasms Diseases of the heart Cerebrovascular diseases 84older Diseases of the heart Malignant neoplasms Cerebrovascular diseases Source CDC Compared to other ethnicities the numbers really stand out Forty percent of AfricanAmerican males 1534 who died were murdered according to the CDC compared to just 38 percent of white males who died Overall 14 percent of all men 1534 who died in 2011 were murdered In 2011 black males 1534 were 10 times more likely to die of murder than whites of the same age group Sources CDC PunditFact calculations For men of all ages homicide was ranked fifth in leading causes of deaths for blacks 46 percent seventh for Hispanics 28 percent and ninth for American Indians 23 percent Homicide was not one of the top 15 causes of death for whites 1534 Color lines Why are so many young black males dying from homicide As the laws of aging go younger men are less prone to fall victim to natural causes of death so they are more likely to die of unnatural causes And the racial disparity between those causes has partially to do with the likelihood of getting into carrelated accidents said James Fox a professor of criminology at Northeastern University Suburban whites drive more than urban blacks and putting in more miles on highways thats important because not a lot of people are going to get killed in fender benders in neighborhood streets Fox said There are relatively few autoaccidents in black urban areas Beyond driving habits the criminal homicide rate among young black males is significantly higher than other groups This experts agreed has to do with poverty and geography The difference in social structures access to jobs educational opportunities and many other factors between impoverished black neighborhoods and others is often a matter of life and death according to Eli Silverman professor emeritus at John Jay College of Criminal Justice The homicide numbers highlight the condition in minority areas where a lot of violence occurs and the whole way of life is further intensified because police surveillance is always trying to track down people he said People have heightened survival instincts will do anything to survive and theyll seek retribution for anythingbecause they dont trust law enforcement Though it is tempting to pinpoint one cause as more impactful than others Silverman cautions against singling out poverty or drugs or any other factor as the cause because all of them intermix and interact Our ruling Williams said that the No 1 cause of death for black men 1534 years old is murder CDC data supports the claim Out of all causes of death homicide claimed about 40 percent of black lives between 15 and 34 years This was significantly higher than the national average for males of that age group and all other racial groups We rate Williams claim True',\n",
              "  'summary': '',\n",
              "  'title': 'PolitiFact Juan Williams No 1 cause of death for AfricanAmerican males 1534 is murder'},\n",
              " {'cui': '14',\n",
              "  'description': 'In December 2015 several images were circulated on social media along with claims that they depicted presidential candidate Donald Trumps sons Eric and Donald Jr on a big game hunting trip The images were unaltered and accurately described although they were not recent in December 2015 The photographs received broad media coverage at the time they were initially released well before the start of Trump Srs bid for the White House On 13 March 2012 the web site Gothamist published an article titled Photos Donald Trumps Sons Awesome At Killing Elephants And Other Wildlife It said Animal rights activists are revolted by a series of trophy photos that have emerged showing Eric and Donald Trump Jr posing with a dead elephant kudu civet cat and waterbuck while on a big game safari in Zimbabwe last year In one photo Donald Jr proudly holds a dead elephant tail in one hand and a knife in the other In another the brothers are seen standing beside a 128 crocodile hanging from a noose off a tree Activists obtained the photos and created a video montage of the Trumps big hunt British tabloid the Daily Mail concurrently ran the photos in a piece titled I have no shame I HUNT EAT game Donald Trumps sons pictured posing with their trophy carcasses on big African hunt It cited the web site Hunting Legends as a source for the photographs In March 2012 Donald Trump Jr sent several tweets that addressed the controversy exclamation I can assure you it was not wasteful the villagers were so happy for the meat which they dont often get to eat Very grateful Donald Trump Jr DonaldJTrumpJr March 12 2012 alisonheittman which would be what Im not going to run and hide because the peta crazies dont like me Donald Trump Jr DonaldJTrumpJr March 13 2012 The Daily Mail quoted sincedeleted tweets published by Trump Jr in March 2012 Not a PR move I didnt give the pics but I have no shame about them either I HUNT EAT game I AM A HUNTER I dont hide from that he said to another critic on Twitter Additional Sighting Donald Trump Jrs hunting interests made headlines again in December 2019 when a ProPublica report raised questions about a permit he received to shoot argali in Mongolia IUCN Red List considered the wild sheep near threatened as of 2008',\n",
              "  'summary': '',\n",
              "  'title': 'Are These Donald Trumps Sons in GameHunting Photos Snopescom'},\n",
              " {'cui': '275',\n",
              "  'description': 'Editors note Weve attached an update to this factcheck below in response to reader queries after subsequent testimony by James Clapper The original factcheck and rating remain unchanged In one of the most heated moments of the final presidential debate Donald Trump and Hillary Clinton clashed over Russias interference in the current election Speaking of the WikiLeaks release of tens of thousands of emails from the Clinton campaign and earlier the Democratic National Committee Trump said Clinton had no idea who hacked and released the emails Russia China or anybody else Clinton responded by asking Trump if he really doesnt believe the 17 federal intelligence agencies that have said Russia is behind the cyberattack We have 17 intelligence agencies civilian and military who have all concluded that these espionage attacks these cyberattacks come from the highest levels of the Kremlin and they are designed to influence our election Clinton said I find that deeply disturbing Back in July when WikiLeaks released the DNC emails the government hadnt yet named a culprit On Oct 7 however the same day WikiLeaks released the emails of Clinton campaign chair John Podesta the Homeland Security Department and Office of the Director of National Intelligence released a joint statement that said The US Intelligence Community USIC is confident that the Russian Government directed the recent compromises of emails from US persons and institutions including from US political organizations The statement added that the recent hacks are consistent with the methods and motivations of Russiandirected efforts These thefts and disclosures are intended to interfere with the US election process The statement also said the intelligence community believes these attacks are directed from top levels of the Russian government as Clinton said We believe based on the scope and sensitivity of these efforts that only Russias seniormost officials could have authorized these activities the statement said The US Intelligence Community is made up of 17 agencies forming the basis of Clintons claim The 17 agencies are Air Force Intelligence Army Intelligence Central Intelligence Agency Coast Guard Intelligence Defense Intelligence Agency Energy Department Homeland Security Department State Department Treasury Department Drug Enforcement Administration Federal Bureau of Investigation Marine Corps Intelligence National Geospatial Intelligence Agency National Reconnaissance Office National Security Agency Navy Intelligence and the Office of the Director of National Intelligence The 17 separate agencies did not independently declare Russia the perpetrator behind the hacks Trump spokesman Steven Cheung said that this cuts against Clintons point saying It is unlikely that all 16 of the agencies had looked independently at the Russian connection which is what Clinton seemed to indicate Cheung said 16 agencies because he omitted the Office of the Director of National Intelligence from his count However as the head of the 17agency intelligence community the Office of the Director of National Intelligence headed by James Clapper speaks on behalf of the group Featured Factcheck Tweets stated on November 9 2021 in a tweet Bill Gates just admitted that the Pfizer and Moderna mRNA vaccines dont work well By Samantha Putterman November 17 2021 Our ruling Clinton said We have 17 intelligence agencies civilian and military who have all concluded that these espionage attacks these cyberattacks come from the highest levels of the Kremlin and they are designed to influence our election We dont know how many separate investigations into the attacks they were But the Director of National Intelligence which speaks for the countrys 17 federal intelligence agencies released a joint statement saying the intelligence community at large is confident that Russia is behind recent hacks into political organizations emails The statement sourced the attacks to the highest levels of the Russian government and said they are designed to interfere with the current election We rate Clintons statement True httpswwwsharethefactscoshare542ece9aae39433c82154a41906b75c9 Update June 6 2017 Clappers May testimony was about a newer report not October assessment The now former Director of National Intelligence James Clapper made a comment when speaking before Congress May 8 2017 that some readers interpreted as going against our findings in this article Heres why we disagree with that interpretation We wrote this article Oct 19 2016 responding to an Oct 7 2016 joint statement from Clappers former office which oversees the entire intelligence community and Homeland Security Clappers May 2017 congressional testimony on the other hand was about the much more comprehensive January 2017 report produced by the CIA FBI and NSA The process of putting that report together didnt start until months after we published this article in December 2016 at which point the intelligence community decided to restrict the investigation to those three agencies Heres what Clapper said according to Congressional Quarterly ICA refers to the January 2017 intelligence community assessment Additionally Ill briefly address four related topics that have emerged since the ICA was produced Because of both classification and some executive privilege strictures requested by the White House there are limits to what I can discuss And of course my direct official knowledge of any of this stopped on 20 January when my term of office was happily over As you know the ICA was a coordinated product from three agencies CIA NSA and the FBI not all 17 components of the intelligence community Those three under the aegis of my former office Following an extensive intelligence reporting about many Russian efforts to collect on and influence the outcome of the presidential election President Obama asked us to do this in early December and have it completed before the end of his term The January report presented its findings by saying we assess with we meaning an assessment by all three agencies The October statement on the other hand said The US Intelligence Community USIC is confident in its assessment As we noted in the article the 17 separate agencies did not independently come to this conclusion but as the head of the intelligence community the Office of the Director of National Intelligence speaks on behalf of the group We stand by our rating',\n",
              "  'summary': '',\n",
              "  'title': 'PolitiFact Hillary Clinton blames highup Russians for WikiLeaks releases'}]"
            ]
          },
          "metadata": {},
          "execution_count": 39
        }
      ]
    },
    {
      "cell_type": "code",
      "metadata": {
        "id": "PoNqMeJhQDnH"
      },
      "source": [
        "with open(checkpoint_path, \"wb\") as f:\n",
        "  pickle.dump(data_with_summaries, f)"
      ],
      "execution_count": null,
      "outputs": []
    },
    {
      "cell_type": "code",
      "metadata": {
        "id": "WV0rolYQQDSu"
      },
      "source": [
        "with open(checkpoint_path, 'rb') as f:\n",
        "    final_dataset = pickle.load(f)"
      ],
      "execution_count": null,
      "outputs": []
    },
    {
      "cell_type": "code",
      "metadata": {
        "id": "QXiOjirZdV4W"
      },
      "source": [
        "for item in final_dataset:\n",
        "  item['title'] = clean_up(item['title'])"
      ],
      "execution_count": null,
      "outputs": []
    },
    {
      "cell_type": "code",
      "metadata": {
        "colab": {
          "base_uri": "https://localhost:8080/"
        },
        "id": "gR639Cvfh894",
        "outputId": "c4a7e937-b429-43d6-e355-66616e89939c"
      },
      "source": [
        "final_dataset[:5]"
      ],
      "execution_count": null,
      "outputs": [
        {
          "output_type": "execute_result",
          "data": {
            "text/plain": [
              "[{'cui': '272',\n",
              "  'description': 'As the US House of Representatives was readying a new special committee to investigate the terrorist attack in Benghazi Libya many Democrats were arguing that continuing to probe the Sept 11 2012 attack which killed four Americans including US Ambassador Chris Stevens amounted to a political witch hunt On May 5 2014 Rep John Garamendi DCalif told MSNBC host Ed Schultz that there has already been exhaustive testimony and investigation of the incident This thing is just going on and on to boredom actually Garamendi said The Armed Services Committee actually did a hearing and the result was theres nothing here Thats obviously a great tragedy but Ed during the George W Bush period there were 13 attacks on various embassies and consulates around the world Sixty people died In Karachi there was a death of one of our diplomats and those were not investigated during that period of time because it was a tragedy Readers asked us whether its true that under Bush there were 13 attacks on various embassies and consulates around the world and 60 people died We turned to the Global Terrorism Database a project headquartered at the University of Maryland The database documents terrorist attacks around the world going back to the 1970s and experts told us it is the best resource available for this factcheck We searched the database for descriptions between January 2001 and January 2009 that included the term US embassy We supplemented these with a few other attacks listed in a Huffington Post opinion piece that Garamendis staff said was their main source for the claim The Huffington Post column Garamendi cited purposely didnt count any attacks in Baghdad So we decided to construct our count from scratch While Garamendi spoke of embassies and consulates we found several US diplomatic targets killed in the line of duty outside official compounds such as in convoys or their homes and we included them in our count Once we crossreferenced the attacks in the article and those in the database we narrowed down the total to 39 attacks or attempted attacks on US embassies and embassy personnel Of these 39 attacks 20 resulted in at least one fatality Our complete list is here This is higher than Garamendis claim though if you only count attacks on embassy and consular property there were 13 Garamendi also understated the number of deaths In the 20 incidents with at least one fatality the total death toll was 87 quite a few more than the 60 Garamendi cited If you only count those at embassies and consulates proper the number of deaths drops to 66 We should note that the vast majority of these deaths were not Americans We counted 63 deaths that were either of nonAmericans or of people whose nationality is unknown Another three were US civilians Another 21 were workers at the US embassy or consulate either of American or foreign nationality So using what we think is the most reasonable definition Garamendis numbers are a bit low Featured Factcheck Facebook posts stated on November 7 2021 in a Facebook post The Astroworld concert was a test run on the vaxxed because people who are injected with graphene oxide can be controlled through magnetic frequencies including music By Samantha Putterman November 8 2021 What about the implicit comparison he made between Benghazi and these previous attacks Thats a little shakier Generally the experts we contacted agreed that Garamendi was making a reasonable point that there has been a steady and comparatively overlooked series of deadly attacks on US embassies in recent years Still these experts also said there are valid reasons to treat Benghazi differently from the earlier attacks Is Benghazi different Absolutely said Daveed GartensteinRoss a senior fellow at the Foundation for Defense of Democracies and an adjunct assistant professor in Georgetown Universitys security studies program One reason he said is that an American ambassador died in the attack which hadnt happened since the 1970s Another relevant question GartensteinRoss said is whether what happened was put to the American people in an honest manner not just with respect to the administration but also with respect to the intelligence community GartensteinRoss added that he wasnt endorsing how the Republicans go about investigating this question But he did say its a real legitimate question As always what causes the problem is not so much what happens but the response to it said Theodore R Bromund a senior research fellow at the conservative Heritage Foundation If the administration had come out shortly after the attack and said Our consulate was attacked by organized Islamist forces and we will pursue these terrorists and bring them to justice one way or the other I very much doubt there would be much juice in these hearings if indeed they were being held at all Lance Janda a military historian at Cameron University agreed that Benghazi brings up important issues We probably should have had more United States forces on site or at least nearby he said And the administration had a muddled response in terms of releasing information he added Our ruling Garamendi said that during the George W Bush period there were 13 attacks on various embassies and consulates around the world Sixty people died There are actually different ways to count the number of attacks especially when considering attacks on ambassadors and embassy personnel who were traveling to or from embassy property Overall we found Garamendi slightly understated the number of deadly attacks and total fatalities even using a strict definition Garamendis claim is accurate but needs clarification or additional information so we rate it Mostly True Share the Facts Politifact 2 7 Politifact Rating Mostly True During the George W Bush period there were 13 attacks on various embassies and consulates around the world Sixty people died John Garamendi Congressman In an interview on MSNBC Monday May 5 2014 05052014 Read More info',\n",
              "  'summary': 'Rep John Garamendi DCalif said there were 13 attacks on various embassies and consulates around the world under George W BushnThe Global Terrorism Database documents terrorist attacks around the world going back to the 1970snOf 39 attacks 20 resulted in at least one fatality but Garamendis numbers are a bit low',\n",
              "  'title': 'PolitiFact Prior to Benghazi were there 13 attacks on embassies and 60 deaths under President George W Bush'},\n",
              " {'cui': '273',\n",
              "  'description': 'In his speech at the Democratic National Committee in Charlotte NC President Barack Obama mocked Republicans for turning to tax cuts as the solution to every problem Have a surplus Try a tax cut Deficit too high Try another Feel a cold coming on Take two tax cuts roll back some regulations and call us in the morning Obama said Now Ive cut taxes for those who need it middleclass families and small businesses But I dont believe that another round of tax breaks for millionaires will bring good jobs to our shores or pay down our deficit Obama said Obama is often accused by Republicans of raising taxes and he has raised some taxes during his presidency Hes also said that he intends to raise income tax rates for couples who make more than 250000 a year or single people who make more than 200000 a year Here were going to look at his claim to cut taxes for middleclass families and small businesses Weve been tracking all of Obamas campaign promises about taxes on our Obameter Obama has signed off on two major tax cuts for middleclass families the Making Work Pay tax credit that was part of the economic stimulus of 2009 and a temporary reduction in Social Security payroll taxes that went into effect in 2011 As part of the stimulus formally known as the American Recovery and Reinvestment Act single workers collected a 400 tax credit and working couples got 800 The credit didnt come in the form of a check it worked out so that most workers had about 400 less in federal income taxes withheld from their paychecks spread out over the entire year Most workers received a tax cut under that plan with the exception of some high earners The tax cuts phased out for couples who make more than 250000 or a single person making over 200000 according to an analysis from the nonpartisan Tax Policy Center The result mirrored what Obama promised he would do on the campaign Obama pledged tax cuts of 500 for each worker and 1000 for working couples We rated the promise a Compromise on our Obameter because the resulting tax cut was a little lower than what Obama wanted That tax cut expired at the end of 2011 But Obama won another round of tax cuts for most workers in a December 2010 tax deal with Republicans in Congress Those tax cuts a temporary reduction in workers payroll taxes worth about 2 percent of total earnings expire in 2013 Again the tax cut didnt come as a check but gives workers a little more in their paychecks than they would have otherwise Obama also has passed an array of tax cuts for small businesses Eight of them were included in the stimulus the Affordable Care Act also known as the health care law and the Hiring Incentives to Restore Employment Act also known as the HIRE Act Among the cuts were the exclusion of up to 75 percent of capital gains on key small business investments a tax credit for the cost of health insurance for small business employees and new tax credits for hiring Americans out of work for at least two months Another eight cuts came via the Small Business Jobs Act signed by Obama in September of 2010 These included adding deductions for business cell phone use creating a new deduction for health care costs for the selfemployed allowing greater deductions for business startup expenses eliminating taxes on all capital gains from key small business investments and raising the small business expense limit to 500000 Three months later the president signed a tax bill that raised the expense limit to 100 percent of small business new investments until the end of 2011 It also extended the elimination of capital gains taxes for small business investments through the end of 2012 For more details see our previous factcheck that provided at least 16 tax cuts to small businesses we rated it Mostly True To be clear this doesnt mean the middleclass and small businesses havent seen any tax increases under the Obama administration We rated his campaign promise that no family making less than 250000 will see any form of tax increase as Promise Broken Obama has signed off on new taxes on cigarettes and indoor tanning His health care law includes a tax penalty for people who dont buy health insurance that starts in 2014 It includes hardship exemptions for people who cant find affordable policies Also under the health care law small businesses that have more than 50 employees that dont offer their employees health insurance could face fines Our ruling Obama has raised some taxes during his presidency but hes also pursued broadbased tax cuts for the middle class and small businesses We particularly give weight here to the tax cuts that were part of the stimulus and the payroll tax holiday which reduced taxes for broad swaths of the workforce Some small businesses may have been hit by new taxes that were part of Obamas health law but these would depend on the particular circumstances of each business Also there were new taxes on cigarettes and indoor tanning Obama said he has cut taxes for those who need it middleclass families small businesses He has but he also has raised some taxes So while his statement is accurate it lacks that additional context We rate his claim Mostly True Featured Factcheck Kevin McCarthy stated on November 18 2021 in prepared remarks for a House floor speech If you or your family spends 28 a day prepare to be under constant audit by the IRS By Jon Greenberg November 19 2021',\n",
              "  'summary': 'Obama has signed off on two major tax cuts for middleclass familiesnHe pledged tax cuts of 500 for each worker and 1000 for working couplesnObama also has passed an array of tax cuts for small businesses',\n",
              "  'title': 'PolitiFact Barack Obama said hes cut taxes for middleclass families small businesses'},\n",
              " {'cui': '274',\n",
              "  'description': 'Amid ongoing protests in Ferguson Mo the national conversation about racial justice and police force has ignored a critical point that needs to be discussed said Fox News pundit Juan Williams Civil rights activists and black leaders have failed to address the very thing thats fueling conservative white backlash the high crime rate among the black community particularly among young black men Williams said on Aug 24ths Fox News Sunday I think theres fear of intimidation harassment being legitimized by the fact that there is a high rate of crime especially among young black men Williams said No 1 cause of death young black men 15 to 34 murder Whos committing the murder Not police Other black men Last year PolitiFact found that 93 percent of murder victims were killed by someone who shares their race This time we want to check out Williams claim that homicide is the No 1 cause of death for black men 1534 years old Unnatural causes We looked at numbers from the Centers for Disease Control and Prevention which lists the leading causes of death across all demographics Experts said that CDC data compiled from coroner reports are in line with FBI numbers sourced from police reports The CDC does not distinguish between the types of homicide criminal justified etc or the types of accidents auto accidents falls firearm discharge etc The numbers for 2011 the most recent CDC findings are consistent with data from previous years According to the CDC homicide was indeed the No 1 killer of black men between the ages of 15 and 34 in 2011 Accidents ranked second in causes of death and suicide claimed the third amount of black male lives between 15 and 24 years old while heart disease ranked third for men 2434 Leading causes of death among black males 1st 2nd 3rd All ages Diseases of the heart Malignant neoplasms Accidents 14 Accidents Homicide Congenital malformations 514 Accidents Malignant neoplasms Homicide 1524 Homicide Accidents Suicide 2534 Homicide Featured Factcheck NYS Department of Corrections and Community Supervision stated on November 8 2021 in a news release New York is leading the nation with the lowest imprisonment rate of any large state By Jill Terreri Ramos November 19 2021 Accidents Diseases of the heart 3544 Diseases of the heart Accidents Homicide 4554 Diseases of the heart Malignant neoplasms Accidents 5584 Malignant neoplasms Diseases of the heart Cerebrovascular diseases 84older Diseases of the heart Malignant neoplasms Cerebrovascular diseases Source CDC Compared to other ethnicities the numbers really stand out Forty percent of AfricanAmerican males 1534 who died were murdered according to the CDC compared to just 38 percent of white males who died Overall 14 percent of all men 1534 who died in 2011 were murdered In 2011 black males 1534 were 10 times more likely to die of murder than whites of the same age group Sources CDC PunditFact calculations For men of all ages homicide was ranked fifth in leading causes of deaths for blacks 46 percent seventh for Hispanics 28 percent and ninth for American Indians 23 percent Homicide was not one of the top 15 causes of death for whites 1534 Color lines Why are so many young black males dying from homicide As the laws of aging go younger men are less prone to fall victim to natural causes of death so they are more likely to die of unnatural causes And the racial disparity between those causes has partially to do with the likelihood of getting into carrelated accidents said James Fox a professor of criminology at Northeastern University Suburban whites drive more than urban blacks and putting in more miles on highways thats important because not a lot of people are going to get killed in fender benders in neighborhood streets Fox said There are relatively few autoaccidents in black urban areas Beyond driving habits the criminal homicide rate among young black males is significantly higher than other groups This experts agreed has to do with poverty and geography The difference in social structures access to jobs educational opportunities and many other factors between impoverished black neighborhoods and others is often a matter of life and death according to Eli Silverman professor emeritus at John Jay College of Criminal Justice The homicide numbers highlight the condition in minority areas where a lot of violence occurs and the whole way of life is further intensified because police surveillance is always trying to track down people he said People have heightened survival instincts will do anything to survive and theyll seek retribution for anythingbecause they dont trust law enforcement Though it is tempting to pinpoint one cause as more impactful than others Silverman cautions against singling out poverty or drugs or any other factor as the cause because all of them intermix and interact Our ruling Williams said that the No 1 cause of death for black men 1534 years old is murder CDC data supports the claim Out of all causes of death homicide claimed about 40 percent of black lives between 15 and 34 years This was significantly higher than the national average for males of that age group and all other racial groups We rate Williams claim True',\n",
              "  'summary': 'In 2011 black males 1534 were 10 times more likely to die of murder than whites of the same age groupnFor men of all ages homicide was ranked fifth in leading causes of deaths for blacks 46 percent seventh for Hispanics 28 percent and ninth for American Indians 23 percentnLast year PolitiFact found that 93 percent of murder victims were killed by someone who shares their race',\n",
              "  'title': 'PolitiFact Juan Williams No 1 cause of death for AfricanAmerican males 1534 is murder'},\n",
              " {'cui': '14',\n",
              "  'description': 'In December 2015 several images were circulated on social media along with claims that they depicted presidential candidate Donald Trumps sons Eric and Donald Jr on a big game hunting trip The images were unaltered and accurately described although they were not recent in December 2015 The photographs received broad media coverage at the time they were initially released well before the start of Trump Srs bid for the White House On 13 March 2012 the web site Gothamist published an article titled Photos Donald Trumps Sons Awesome At Killing Elephants And Other Wildlife It said Animal rights activists are revolted by a series of trophy photos that have emerged showing Eric and Donald Trump Jr posing with a dead elephant kudu civet cat and waterbuck while on a big game safari in Zimbabwe last year In one photo Donald Jr proudly holds a dead elephant tail in one hand and a knife in the other In another the brothers are seen standing beside a 128 crocodile hanging from a noose off a tree Activists obtained the photos and created a video montage of the Trumps big hunt British tabloid the Daily Mail concurrently ran the photos in a piece titled I have no shame I HUNT EAT game Donald Trumps sons pictured posing with their trophy carcasses on big African hunt It cited the web site Hunting Legends as a source for the photographs In March 2012 Donald Trump Jr sent several tweets that addressed the controversy exclamation I can assure you it was not wasteful the villagers were so happy for the meat which they dont often get to eat Very grateful Donald Trump Jr DonaldJTrumpJr March 12 2012 alisonheittman which would be what Im not going to run and hide because the peta crazies dont like me Donald Trump Jr DonaldJTrumpJr March 13 2012 The Daily Mail quoted sincedeleted tweets published by Trump Jr in March 2012 Not a PR move I didnt give the pics but I have no shame about them either I HUNT EAT game I AM A HUNTER I dont hide from that he said to another critic on Twitter Additional Sighting Donald Trump Jrs hunting interests made headlines again in December 2019 when a ProPublica report raised questions about a permit he received to shoot argali in Mongolia IUCN Red List considered the wild sheep near threatened as of 2008',\n",
              "  'summary': 'The photos received broad media coverage at the time they were initially released well before the start of Trump Srs bid for the White HousenIn March 2012 Donald Trump Jr sent several tweets that addressed the controversynI AM A HUNTER I dont hide from that he said to another critic on TwitternIn December 2019 a ProPublica report raised questions about a permit he received to shoot argali in Mongolia',\n",
              "  'title': 'Are These Donald Trumps Sons in GameHunting Photos Snopescom'},\n",
              " {'cui': '275',\n",
              "  'description': 'Editors note Weve attached an update to this factcheck below in response to reader queries after subsequent testimony by James Clapper The original factcheck and rating remain unchanged In one of the most heated moments of the final presidential debate Donald Trump and Hillary Clinton clashed over Russias interference in the current election Speaking of the WikiLeaks release of tens of thousands of emails from the Clinton campaign and earlier the Democratic National Committee Trump said Clinton had no idea who hacked and released the emails Russia China or anybody else Clinton responded by asking Trump if he really doesnt believe the 17 federal intelligence agencies that have said Russia is behind the cyberattack We have 17 intelligence agencies civilian and military who have all concluded that these espionage attacks these cyberattacks come from the highest levels of the Kremlin and they are designed to influence our election Clinton said I find that deeply disturbing Back in July when WikiLeaks released the DNC emails the government hadnt yet named a culprit On Oct 7 however the same day WikiLeaks released the emails of Clinton campaign chair John Podesta the Homeland Security Department and Office of the Director of National Intelligence released a joint statement that said The US Intelligence Community USIC is confident that the Russian Government directed the recent compromises of emails from US persons and institutions including from US political organizations The statement added that the recent hacks are consistent with the methods and motivations of Russiandirected efforts These thefts and disclosures are intended to interfere with the US election process The statement also said the intelligence community believes these attacks are directed from top levels of the Russian government as Clinton said We believe based on the scope and sensitivity of these efforts that only Russias seniormost officials could have authorized these activities the statement said The US Intelligence Community is made up of 17 agencies forming the basis of Clintons claim The 17 agencies are Air Force Intelligence Army Intelligence Central Intelligence Agency Coast Guard Intelligence Defense Intelligence Agency Energy Department Homeland Security Department State Department Treasury Department Drug Enforcement Administration Federal Bureau of Investigation Marine Corps Intelligence National Geospatial Intelligence Agency National Reconnaissance Office National Security Agency Navy Intelligence and the Office of the Director of National Intelligence The 17 separate agencies did not independently declare Russia the perpetrator behind the hacks Trump spokesman Steven Cheung said that this cuts against Clintons point saying It is unlikely that all 16 of the agencies had looked independently at the Russian connection which is what Clinton seemed to indicate Cheung said 16 agencies because he omitted the Office of the Director of National Intelligence from his count However as the head of the 17agency intelligence community the Office of the Director of National Intelligence headed by James Clapper speaks on behalf of the group Featured Factcheck Tweets stated on November 9 2021 in a tweet Bill Gates just admitted that the Pfizer and Moderna mRNA vaccines dont work well By Samantha Putterman November 17 2021 Our ruling Clinton said We have 17 intelligence agencies civilian and military who have all concluded that these espionage attacks these cyberattacks come from the highest levels of the Kremlin and they are designed to influence our election We dont know how many separate investigations into the attacks they were But the Director of National Intelligence which speaks for the countrys 17 federal intelligence agencies released a joint statement saying the intelligence community at large is confident that Russia is behind recent hacks into political organizations emails The statement sourced the attacks to the highest levels of the Russian government and said they are designed to interfere with the current election We rate Clintons statement True httpswwwsharethefactscoshare542ece9aae39433c82154a41906b75c9 Update June 6 2017 Clappers May testimony was about a newer report not October assessment The now former Director of National Intelligence James Clapper made a comment when speaking before Congress May 8 2017 that some readers interpreted as going against our findings in this article Heres why we disagree with that interpretation We wrote this article Oct 19 2016 responding to an Oct 7 2016 joint statement from Clappers former office which oversees the entire intelligence community and Homeland Security Clappers May 2017 congressional testimony on the other hand was about the much more comprehensive January 2017 report produced by the CIA FBI and NSA The process of putting that report together didnt start until months after we published this article in December 2016 at which point the intelligence community decided to restrict the investigation to those three agencies Heres what Clapper said according to Congressional Quarterly ICA refers to the January 2017 intelligence community assessment Additionally Ill briefly address four related topics that have emerged since the ICA was produced Because of both classification and some executive privilege strictures requested by the White House there are limits to what I can discuss And of course my direct official knowledge of any of this stopped on 20 January when my term of office was happily over As you know the ICA was a coordinated product from three agencies CIA NSA and the FBI not all 17 components of the intelligence community Those three under the aegis of my former office Following an extensive intelligence reporting about many Russian efforts to collect on and influence the outcome of the presidential election President Obama asked us to do this in early December and have it completed before the end of his term The January report presented its findings by saying we assess with we meaning an assessment by all three agencies The October statement on the other hand said The US Intelligence Community USIC is confident in its assessment As we noted in the article the 17 separate agencies did not independently come to this conclusion but as the head of the intelligence community the Office of the Director of National Intelligence speaks on behalf of the group We stand by our rating',\n",
              "  'summary': 'Clinton We have 17 intelligence agencies civilian and military who have all concluded that these espionage attacks these cyberattacks come from the highest levels of the KremlinnThe US Intelligence Community is made up of 17 agencies forming the basis of Clintons claimnThe Office of the Director of National Intelligence headed by James Clapper speaks on behalf of the group',\n",
              "  'title': 'PolitiFact Hillary Clinton blames highup Russians for WikiLeaks releases'}]"
            ]
          },
          "metadata": {},
          "execution_count": 47
        }
      ]
    },
    {
      "cell_type": "code",
      "metadata": {
        "colab": {
          "base_uri": "https://localhost:8080/"
        },
        "id": "GWsql1DLdYUs",
        "outputId": "4042d4d1-5fd8-40b2-aa33-25f3f1b2724b"
      },
      "source": [
        "data_restructured['description'][:5]"
      ],
      "execution_count": null,
      "outputs": [
        {
          "output_type": "execute_result",
          "data": {
            "text/plain": [
              "['As the U.S. House of Representatives was readying a new special committee to investigate the terrorist attack in Benghazi, Libya, many Democrats were arguing that continuing to probe the Sept. 11, 2012, attack -- which killed four Americans, including U.S. Ambassador Chris Stevens -- amounted to a political witch hunt.\\nOn May 5, 2014, Rep. John Garamendi, D-Calif., told MSNBC host Ed Schultz that there has already been exhaustive testimony and investigation of the incident.\\n\"This thing is just going on and on to boredom actually,\" Garamendi said. \"The Armed Services Committee actually did a hearing and the result was there’s nothing here. That’s obviously a great tragedy, but Ed, during the George W. Bush period, there were 13 attacks on various embassies and consulates around the world. Sixty people died. In Karachi, there was a death of one of our diplomats, and those were not investigated during that period of time because it was a tragedy.\"\\nReaders asked us whether it’s true that under Bush, \"there were 13 attacks on various embassies and consulates around the world, (and) 60 people died.\"\\nWe turned to the Global Terrorism Database, a project headquartered at the University of Maryland. The database documents terrorist attacks around the world going back to the 1970s, and experts told us it is the best resource available for this fact-check.\\nWe searched the database for descriptions between January 2001 and January 2009 that included the term \"U.S. embassy.\" We supplemented these with a few other attacks listed in a Huffington Post opinion piece that Garamendi’s staff said was their main source for the claim. The Huffington Post column Garamendi cited purposely didn\\'t count any attacks in Baghdad. So we decided to construct our count from scratch.\\nWhile Garamendi spoke of \"embassies and consulates,\" we found several U.S. diplomatic targets killed in the line of duty outside official compounds -- such as in convoys or their homes -- and we included them in our count. Once we cross-referenced the attacks in the article and those in the database, we narrowed down the total to 39 attacks or attempted attacks on U.S. embassies and embassy personnel.\\nOf these 39 attacks, 20 resulted in at least one fatality. (Our complete list is here.) This is higher than Garamendi\\'s claim, though if you only count attacks on embassy and consular property, there were 13.\\nGaramendi also understated the number of deaths. In the 20 incidents with at least one fatality, the total death toll was 87 -- quite a few more than the 60 Garamendi cited. If you only count those at embassies and consulates proper, the number of deaths drops to 66.\\nWe should note that the vast majority of these deaths were not Americans. We counted 63 deaths that were either of non-Americans or of people whose nationality is unknown. Another three were U.S. civilians. Another 21 were workers at the U.S embassy or consulate, either of American or foreign nationality.\\nSo, using what we think is the most reasonable definition, Garamendi\\'s numbers are a bit low.<ht',\n",
              " '\\nIn his speech at the Democratic National Committee in Charlotte, N.C., President Barack Obama mocked Republicans for turning to tax cuts as the solution to every problem.\\n\\n\"Have a surplus? Try a tax cut. Deficit too high? Try another. Feel a cold coming on? Take two tax cuts, roll back some regulations, and call us in the morning!\" Obama said.\\n\\n\"Now, I’ve cut taxes for those who need it – middle-class families and small businesses. \\xa0But I don’t believe that another round of tax breaks for millionaires will bring good jobs to our shores, or pay down our deficit,\" Obama said.\\n\\nObama is often accused by Republicans of raising taxes, and he has raised some taxes during his presidency. He’s also said that he intends to raise income tax rates for couples who make more than $250,000 a year or single people who make more than $200,000 a year.\\n\\nHere, we’re going to look at his claim to cut taxes for \"middle-class families and small businesses.\" (We’ve been tracking all of Obama’s campaign promises about taxes on our Obameter.)\\n\\nObama has signed off on two major tax cuts for middle-class families: the Making Work Pay tax credit that was part of the economic stimulus of 2009 and a temporary reduction in Social Security payroll taxes that went into effect in 2011.\\n\\nAs part of the stimulus, formally known as the American Recovery and Reinvestment Act, single workers collected a $400 tax credit, and working couples got $800. The credit didn’t come in the form of a check; it worked out so that most workers had about $400 less in federal income taxes withheld from their paychecks spread out over the entire year.\\n\\nMost workers received a tax cut under that plan, with the exception of some high earners. The tax cuts phased out for couples who make more than $250,000 or a single person making over $200,000, according to an analysis from the nonpartisan Tax Policy Center .\\n\\xa0\\xa0\\xa0 \\xa0\\xa0\\xa0\\nThe result mirrored what Obama promised he would do on the campaign. Obama pledged tax cuts of $500 for each worker and $1,000 for working couples. We rated the promise a Compromise on our Obameter because the resulting tax cut was a little lower than what Obama wanted.\\n\\nThat tax cut expired at the end of 2011. But Obama won another round of tax cuts for most workers in a December 2010 tax deal with Republicans in Congress. Those tax cuts -- a temporary reduction in worker’s payroll taxes, worth about 2 percent of total earnings -- expire in 2013. Again, the tax cut didn’t come as a check, but gives workers a little more in their paychecks than they would have otherwise.\\n\\nObama also has passed an array of tax cuts for small businesses.\\n\\nEight of them were included in the stimulus, the Affordable Care Act (also known as the health care law), and the Hiring Incentives to Restore Employment Act (also known as the HIRE Act). Among the cuts were the exclusion of up to 75 percent of capital gains on key small business investments; a tax credit for the cost of health insurance for small business employees and new tax credits for hiring Americans out of work for at least two months.\\n\\xa0\\xa0\\xa0 \\xa0\\xa0\\xa0\\nAnother eight cuts came via the Small Business Jobs Act, signed by Obama in September of 2010. These included: adding deductions for business cell phone use; creating a new deduction for health care costs for the self-employed; allowing greater deductions for business start-up expenses; eliminating taxes on all capital gains from key small business investments, and raising the small business expense limit to $500,000.\\n\\xa0\\xa0\\xa0\\nThree months later, the president signed a tax bill that raised the expense limit to 100 percent of small business new investments until the end of 2011. It also extended the elimination of capital gains taxes for small business investments through the end of 2012. (For more details, see our previous fact-check that provided at least 16 tax cuts to small businesses; we rated it Mostly True.)\\n\\nTo be clear, this doesn’t mean the middle-class and small businesses haven’t seen any tax increases under the Obama administration. We rated his campaign promise that no family making less than $250,000 will see \"any form of tax increase\" as Promise Broken. Obama has signed off on new taxes on cigarettes and indoor tanning. His health care law includes a tax penalty for people who don’t buy health insurance; that starts in 2014. (It includes hardship exemptions for people who can’t find affordable policies.)\\n\\nAlso, under the health care law, small businesses that have more than 50 employees that don’t offer their employees health insurance could face fines.\\n\\n Our ruling\\n\\nObama has raised some taxes during his presidency, but he’s also pursued broad-based tax cuts for the middle class and small businesses. We particularly give weight here to the tax cuts that were part of the stimulus and the payroll tax holiday, which reduced taxes for broad swaths of the workforce. Some small businesses may have been hit by new taxes that were part of Obama’s health law, but these would depend on the particular circumstances of each business. Also, there were new taxes on cigarettes and indoor tanning.\\n\\nObama said he has \"cut taxes for those who need it – middle-class families, small businesses.\" He has, but he also has raised some taxes. So while his statement is accurate, it lacks that additional context. We rate his claim Mostly True.<ht',\n",
              " 'Amid ongoing protests in Ferguson, Mo., the national conversation about racial justice and police force has ignored a critical point that needs to be discussed, said Fox News pundit Juan Williams\\nCivil rights activists and black leaders have failed to address the very thing that’s fueling conservative, white backlash — the high crime rate among the black community, particularly among young black men, Williams said on Aug. 24th’s Fox News Sunday.\\n\"I think there’s fear of intimidation, harassment being legitimized by the fact that there is a high rate of crime, especially among young black men,\" Williams said. \"No. 1 cause of death, young black men 15 to 34 — murder. Who’s committing the murder? Not police. Other black men.\"\\nLast year, PolitiFact found that 93 percent of murder victims were killed by someone who shares their race. This time, we want to check out Williams’ claim that homicide is the No. 1 cause of death for black men 15-34 years old.\\nUnnatural causes \\nWe looked at numbers from the Centers for Disease Control and Prevention, which lists the leading causes of death across all demographics.\\nExperts said that CDC data, compiled from coroner reports, are in line with FBI numbers, sourced from police reports. The CDC does not distinguish between the types of homicide (criminal, justified, etc.) or the types of accidents (auto accidents, falls, firearm discharge, etc.). The numbers for 2011, the most recent CDC findings, are consistent with data from previous years.\\nAccording to the CDC, homicide was indeed the No. 1 killer of black men between the ages of 15 and 34 in 2011. Accidents ranked second in causes of death, and suicide claimed the third amount of black male lives between 15 and 24 years old, while heart disease ranked third for men 24-34.\\nLeading causes of death among black males\\n\\n\\n\\n\\n\\xa0\\n\\n1st\\n\\n\\n2nd\\n\\n\\n3rd\\n\\n\\n\\n\\nAll ages\\n\\n\\nDiseases of the heart\\n\\n\\nMalignant neoplasms\\n\\n\\nAccidents\\n\\n\\n\\n\\n1-4\\n\\n\\nAccidents\\n\\n\\nHomicide\\n\\n\\nCongenital malformations\\n\\n\\n\\n\\n5-14\\n\\n\\nAccidents\\n\\n\\nMalignant neoplasms\\n\\n\\nHomicide\\n\\n\\n\\n\\n15-24\\n\\n\\nHomicide\\n\\n\\nAccidents\\n\\n\\nSuicide\\n\\n\\n\\n\\n25-34\\n\\n\\nHomicide<ht',\n",
              " 'nan',\n",
              " 'Editor\\'s note: We\\'ve attached an update to this fact-check below in response to reader queries after subsequent testimony by James Clapper. The original fact-check and rating remain unchanged.\\nIn one of the most heated moments of the final presidential debate, Donald Trump and Hillary Clinton clashed over Russia’s interference in the current election.\\nSpeaking of the WikiLeaks’ release of tens of thousands of emails from the Clinton campaign and, earlier, the Democratic National Committee, Trump said Clinton had no idea who hacked and released the emails — \"Russia, China or anybody else.\"\\nClinton responded by asking Trump if he really doesn’t believe the 17 federal intelligence agencies that have said Russia is behind the cyberattack.\\n\"We have 17 intelligence agencies, civilian and military, who have all concluded that these espionage attacks, these cyberattacks, come from the highest levels of the Kremlin, and they are designed to influence our election,\" Clinton said. \"I find that deeply disturbing.\"\\nBack in July, when WikiLeaks released the DNC emails, the government hadn’t yet named a culprit.\\nOn Oct. 7, however — the same day WikiLeaks released the emails of Clinton campaign chair John Podesta — the Homeland Security Department and Office of the Director of National Intelligence released a joint statement that said, \"The U.S. Intelligence Community (USIC) is confident that the Russian Government directed the recent compromises of emails from U.S. persons and institutions, including from U.S. political organizations.\"\\nThe statement added that the recent hacks \"are consistent with the methods and motivations of Russian-directed efforts. These thefts and disclosures are intended to interfere with the US election process.\"\\nThe statement also said the intelligence community believes these attacks are directed from top levels of the Russian government, as Clinton said.\\n\"We believe, based on the scope and sensitivity of these efforts, that only Russia\\'s senior-most officials could have authorized these activities,\" the statement said.\\nThe U.S. Intelligence Community is made up of 17 agencies, forming the basis of Clinton’s claim.\\nThe 17 agencies are: Air Force Intelligence, Army Intelligence, Central Intelligence Agency, Coast Guard Intelligence, Defense Intelligence Agency, Energy Department, Homeland Security Department, State Department, Treasury Department, Drug Enforcement Administration, Federal Bureau of Investigation, Marine Corps Intelligence, National Geospatial Intelligence Agency, National Reconnaissance Office, National Security Agency, Navy Intelligence and the Office of the Director of National Intelligence.\\nThe 17 separate agencies did not independently declare Russia the perpetrator behind the hacks. Trump spokesman Steven Cheung said that this cuts against Clinton’s point, saying, \"It is unlikely that all 16 of the agencies had looked independently at the Russian connection, which is what Clinton seemed to indicate.\" (Cheung said 16 agencies because he omitted the Office of the Director of National Intelligence from his count.)\\nHowever, as the head of the 17-agency intelligence community, the Office of the Director of National Intelligence, headed by James Clapper, speaks on behalf of the group.<ht']"
            ]
          },
          "metadata": {},
          "execution_count": 66
        }
      ]
    },
    {
      "cell_type": "code",
      "metadata": {
        "id": "o-v6o65-iAsg",
        "colab": {
          "base_uri": "https://localhost:8080/",
          "height": 401
        },
        "outputId": "551e4966-0fe1-4e12-c1cb-7f95fb630f5d"
      },
      "source": [
        "from urllib.request import Request, urlopen\n",
        "from bs4 import BeautifulSoup\n",
        "import pandas as pd\n",
        "import re\n",
        "from tqdm import tqdm\n",
        "import pickle\n",
        "from urllib.error import HTTPError, URLError\n",
        "import uuid\n",
        "\n",
        "out_file = './article_body_titles.pkl'\n",
        "\n",
        "val_file = 'val.json'\n",
        "train_file = 'train.json'\n",
        "test_file = 'test.json'\n",
        "site_main_tag = {'politifact': 'm-textblock', 'snopes': \"single-body card card-body rich-text\"} # A bit hacky but works\n",
        "val_df = pd.read_json(val_file)\n",
        "train_df = pd.read_json(train_file)\n",
        "test_df = pd.read_json(test_file)\n",
        "\n",
        "url_list = train_df['url'].to_list()\n",
        "url_list.extend(val_df['url'].to_list())\n",
        "url_list.extend(test_df['url'].to_list())\n",
        "url_list = list(set(url_list))\n",
        "\n",
        "failed_list = []\n",
        "CLEANR = re.compile(r\"(\\n|\\xa0)+\")\n",
        "fetched_data = []\n",
        "\n",
        "for url in tqdm(url_list):\n",
        "    req = Request(url, headers={'User-Agent': 'Mozilla/5.0'})\n",
        "    try:\n",
        "        webpage = urlopen(req).read()\n",
        "        content = webpage.decode('utf-8')\n",
        "        soup = BeautifulSoup(content, 'html.parser')\n",
        "        for site in site_main_tag.keys():\n",
        "            if site in url:\n",
        "                body = soup.find(class_=site_main_tag[site]).get_text()\n",
        "        body = re.sub(CLEANR, ' ', body).strip()\n",
        "        title = soup.find('title').get_text()\n",
        "        fetched_data.append({'body': body, 'title': title})\n",
        "    except (URLError, HTTPError) as e:\n",
        "        failed_list.append(url)\n",
        "\n",
        "print(f\"Failed to fetch {len(failed_list)} URLs\")\n",
        "\n",
        "with open(out_file, 'wb') as f:\n",
        "    pickle.dump(fetched_data, f)"
      ],
      "execution_count": null,
      "outputs": [
        {
          "output_type": "stream",
          "name": "stderr",
          "text": [
            "  0%|          | 20/4319 [00:21<1:15:33,  1.05s/it]\n"
          ]
        },
        {
          "output_type": "error",
          "ename": "KeyboardInterrupt",
          "evalue": "ignored",
          "traceback": [
            "\u001b[0;31m---------------------------------------------------------------------------\u001b[0m",
            "\u001b[0;31mKeyboardInterrupt\u001b[0m                         Traceback (most recent call last)",
            "\u001b[0;32m<ipython-input-2-48314c89a6e8>\u001b[0m in \u001b[0;36m<module>\u001b[0;34m()\u001b[0m\n\u001b[1;32m     30\u001b[0m     \u001b[0mreq\u001b[0m \u001b[0;34m=\u001b[0m \u001b[0mRequest\u001b[0m\u001b[0;34m(\u001b[0m\u001b[0murl\u001b[0m\u001b[0;34m,\u001b[0m \u001b[0mheaders\u001b[0m\u001b[0;34m=\u001b[0m\u001b[0;34m{\u001b[0m\u001b[0;34m'User-Agent'\u001b[0m\u001b[0;34m:\u001b[0m \u001b[0;34m'Mozilla/5.0'\u001b[0m\u001b[0;34m}\u001b[0m\u001b[0;34m)\u001b[0m\u001b[0;34m\u001b[0m\u001b[0;34m\u001b[0m\u001b[0m\n\u001b[1;32m     31\u001b[0m     \u001b[0;32mtry\u001b[0m\u001b[0;34m:\u001b[0m\u001b[0;34m\u001b[0m\u001b[0;34m\u001b[0m\u001b[0m\n\u001b[0;32m---> 32\u001b[0;31m         \u001b[0mwebpage\u001b[0m \u001b[0;34m=\u001b[0m \u001b[0murlopen\u001b[0m\u001b[0;34m(\u001b[0m\u001b[0mreq\u001b[0m\u001b[0;34m)\u001b[0m\u001b[0;34m.\u001b[0m\u001b[0mread\u001b[0m\u001b[0;34m(\u001b[0m\u001b[0;34m)\u001b[0m\u001b[0;34m\u001b[0m\u001b[0;34m\u001b[0m\u001b[0m\n\u001b[0m\u001b[1;32m     33\u001b[0m         \u001b[0mcontent\u001b[0m \u001b[0;34m=\u001b[0m \u001b[0mwebpage\u001b[0m\u001b[0;34m.\u001b[0m\u001b[0mdecode\u001b[0m\u001b[0;34m(\u001b[0m\u001b[0;34m'utf-8'\u001b[0m\u001b[0;34m)\u001b[0m\u001b[0;34m\u001b[0m\u001b[0;34m\u001b[0m\u001b[0m\n\u001b[1;32m     34\u001b[0m         \u001b[0msoup\u001b[0m \u001b[0;34m=\u001b[0m \u001b[0mBeautifulSoup\u001b[0m\u001b[0;34m(\u001b[0m\u001b[0mcontent\u001b[0m\u001b[0;34m,\u001b[0m \u001b[0;34m'html.parser'\u001b[0m\u001b[0;34m)\u001b[0m\u001b[0;34m\u001b[0m\u001b[0;34m\u001b[0m\u001b[0m\n",
            "\u001b[0;32m/usr/lib/python3.7/urllib/request.py\u001b[0m in \u001b[0;36murlopen\u001b[0;34m(url, data, timeout, cafile, capath, cadefault, context)\u001b[0m\n\u001b[1;32m    220\u001b[0m     \u001b[0;32melse\u001b[0m\u001b[0;34m:\u001b[0m\u001b[0;34m\u001b[0m\u001b[0;34m\u001b[0m\u001b[0m\n\u001b[1;32m    221\u001b[0m         \u001b[0mopener\u001b[0m \u001b[0;34m=\u001b[0m \u001b[0m_opener\u001b[0m\u001b[0;34m\u001b[0m\u001b[0;34m\u001b[0m\u001b[0m\n\u001b[0;32m--> 222\u001b[0;31m     \u001b[0;32mreturn\u001b[0m \u001b[0mopener\u001b[0m\u001b[0;34m.\u001b[0m\u001b[0mopen\u001b[0m\u001b[0;34m(\u001b[0m\u001b[0murl\u001b[0m\u001b[0;34m,\u001b[0m \u001b[0mdata\u001b[0m\u001b[0;34m,\u001b[0m \u001b[0mtimeout\u001b[0m\u001b[0;34m)\u001b[0m\u001b[0;34m\u001b[0m\u001b[0;34m\u001b[0m\u001b[0m\n\u001b[0m\u001b[1;32m    223\u001b[0m \u001b[0;34m\u001b[0m\u001b[0m\n\u001b[1;32m    224\u001b[0m \u001b[0;32mdef\u001b[0m \u001b[0minstall_opener\u001b[0m\u001b[0;34m(\u001b[0m\u001b[0mopener\u001b[0m\u001b[0;34m)\u001b[0m\u001b[0;34m:\u001b[0m\u001b[0;34m\u001b[0m\u001b[0;34m\u001b[0m\u001b[0m\n",
            "\u001b[0;32m/usr/lib/python3.7/urllib/request.py\u001b[0m in \u001b[0;36mopen\u001b[0;34m(self, fullurl, data, timeout)\u001b[0m\n\u001b[1;32m    529\u001b[0m         \u001b[0;32mfor\u001b[0m \u001b[0mprocessor\u001b[0m \u001b[0;32min\u001b[0m \u001b[0mself\u001b[0m\u001b[0;34m.\u001b[0m\u001b[0mprocess_response\u001b[0m\u001b[0;34m.\u001b[0m\u001b[0mget\u001b[0m\u001b[0;34m(\u001b[0m\u001b[0mprotocol\u001b[0m\u001b[0;34m,\u001b[0m \u001b[0;34m[\u001b[0m\u001b[0;34m]\u001b[0m\u001b[0;34m)\u001b[0m\u001b[0;34m:\u001b[0m\u001b[0;34m\u001b[0m\u001b[0;34m\u001b[0m\u001b[0m\n\u001b[1;32m    530\u001b[0m             \u001b[0mmeth\u001b[0m \u001b[0;34m=\u001b[0m \u001b[0mgetattr\u001b[0m\u001b[0;34m(\u001b[0m\u001b[0mprocessor\u001b[0m\u001b[0;34m,\u001b[0m \u001b[0mmeth_name\u001b[0m\u001b[0;34m)\u001b[0m\u001b[0;34m\u001b[0m\u001b[0;34m\u001b[0m\u001b[0m\n\u001b[0;32m--> 531\u001b[0;31m             \u001b[0mresponse\u001b[0m \u001b[0;34m=\u001b[0m \u001b[0mmeth\u001b[0m\u001b[0;34m(\u001b[0m\u001b[0mreq\u001b[0m\u001b[0;34m,\u001b[0m \u001b[0mresponse\u001b[0m\u001b[0;34m)\u001b[0m\u001b[0;34m\u001b[0m\u001b[0;34m\u001b[0m\u001b[0m\n\u001b[0m\u001b[1;32m    532\u001b[0m \u001b[0;34m\u001b[0m\u001b[0m\n\u001b[1;32m    533\u001b[0m         \u001b[0;32mreturn\u001b[0m \u001b[0mresponse\u001b[0m\u001b[0;34m\u001b[0m\u001b[0;34m\u001b[0m\u001b[0m\n",
            "\u001b[0;32m/usr/lib/python3.7/urllib/request.py\u001b[0m in \u001b[0;36mhttp_response\u001b[0;34m(self, request, response)\u001b[0m\n\u001b[1;32m    639\u001b[0m         \u001b[0;32mif\u001b[0m \u001b[0;32mnot\u001b[0m \u001b[0;34m(\u001b[0m\u001b[0;36m200\u001b[0m \u001b[0;34m<=\u001b[0m \u001b[0mcode\u001b[0m \u001b[0;34m<\u001b[0m \u001b[0;36m300\u001b[0m\u001b[0;34m)\u001b[0m\u001b[0;34m:\u001b[0m\u001b[0;34m\u001b[0m\u001b[0;34m\u001b[0m\u001b[0m\n\u001b[1;32m    640\u001b[0m             response = self.parent.error(\n\u001b[0;32m--> 641\u001b[0;31m                 'http', request, response, code, msg, hdrs)\n\u001b[0m\u001b[1;32m    642\u001b[0m \u001b[0;34m\u001b[0m\u001b[0m\n\u001b[1;32m    643\u001b[0m         \u001b[0;32mreturn\u001b[0m \u001b[0mresponse\u001b[0m\u001b[0;34m\u001b[0m\u001b[0;34m\u001b[0m\u001b[0m\n",
            "\u001b[0;32m/usr/lib/python3.7/urllib/request.py\u001b[0m in \u001b[0;36merror\u001b[0;34m(self, proto, *args)\u001b[0m\n\u001b[1;32m    561\u001b[0m             \u001b[0mhttp_err\u001b[0m \u001b[0;34m=\u001b[0m \u001b[0;36m0\u001b[0m\u001b[0;34m\u001b[0m\u001b[0;34m\u001b[0m\u001b[0m\n\u001b[1;32m    562\u001b[0m         \u001b[0margs\u001b[0m \u001b[0;34m=\u001b[0m \u001b[0;34m(\u001b[0m\u001b[0mdict\u001b[0m\u001b[0;34m,\u001b[0m \u001b[0mproto\u001b[0m\u001b[0;34m,\u001b[0m \u001b[0mmeth_name\u001b[0m\u001b[0;34m)\u001b[0m \u001b[0;34m+\u001b[0m \u001b[0margs\u001b[0m\u001b[0;34m\u001b[0m\u001b[0;34m\u001b[0m\u001b[0m\n\u001b[0;32m--> 563\u001b[0;31m         \u001b[0mresult\u001b[0m \u001b[0;34m=\u001b[0m \u001b[0mself\u001b[0m\u001b[0;34m.\u001b[0m\u001b[0m_call_chain\u001b[0m\u001b[0;34m(\u001b[0m\u001b[0;34m*\u001b[0m\u001b[0margs\u001b[0m\u001b[0;34m)\u001b[0m\u001b[0;34m\u001b[0m\u001b[0;34m\u001b[0m\u001b[0m\n\u001b[0m\u001b[1;32m    564\u001b[0m         \u001b[0;32mif\u001b[0m \u001b[0mresult\u001b[0m\u001b[0;34m:\u001b[0m\u001b[0;34m\u001b[0m\u001b[0;34m\u001b[0m\u001b[0m\n\u001b[1;32m    565\u001b[0m             \u001b[0;32mreturn\u001b[0m \u001b[0mresult\u001b[0m\u001b[0;34m\u001b[0m\u001b[0;34m\u001b[0m\u001b[0m\n",
            "\u001b[0;32m/usr/lib/python3.7/urllib/request.py\u001b[0m in \u001b[0;36m_call_chain\u001b[0;34m(self, chain, kind, meth_name, *args)\u001b[0m\n\u001b[1;32m    501\u001b[0m         \u001b[0;32mfor\u001b[0m \u001b[0mhandler\u001b[0m \u001b[0;32min\u001b[0m \u001b[0mhandlers\u001b[0m\u001b[0;34m:\u001b[0m\u001b[0;34m\u001b[0m\u001b[0;34m\u001b[0m\u001b[0m\n\u001b[1;32m    502\u001b[0m             \u001b[0mfunc\u001b[0m \u001b[0;34m=\u001b[0m \u001b[0mgetattr\u001b[0m\u001b[0;34m(\u001b[0m\u001b[0mhandler\u001b[0m\u001b[0;34m,\u001b[0m \u001b[0mmeth_name\u001b[0m\u001b[0;34m)\u001b[0m\u001b[0;34m\u001b[0m\u001b[0;34m\u001b[0m\u001b[0m\n\u001b[0;32m--> 503\u001b[0;31m             \u001b[0mresult\u001b[0m \u001b[0;34m=\u001b[0m \u001b[0mfunc\u001b[0m\u001b[0;34m(\u001b[0m\u001b[0;34m*\u001b[0m\u001b[0margs\u001b[0m\u001b[0;34m)\u001b[0m\u001b[0;34m\u001b[0m\u001b[0;34m\u001b[0m\u001b[0m\n\u001b[0m\u001b[1;32m    504\u001b[0m             \u001b[0;32mif\u001b[0m \u001b[0mresult\u001b[0m \u001b[0;32mis\u001b[0m \u001b[0;32mnot\u001b[0m \u001b[0;32mNone\u001b[0m\u001b[0;34m:\u001b[0m\u001b[0;34m\u001b[0m\u001b[0;34m\u001b[0m\u001b[0m\n\u001b[1;32m    505\u001b[0m                 \u001b[0;32mreturn\u001b[0m \u001b[0mresult\u001b[0m\u001b[0;34m\u001b[0m\u001b[0;34m\u001b[0m\u001b[0m\n",
            "\u001b[0;32m/usr/lib/python3.7/urllib/request.py\u001b[0m in \u001b[0;36mhttp_error_302\u001b[0;34m(self, req, fp, code, msg, headers)\u001b[0m\n\u001b[1;32m    753\u001b[0m         \u001b[0mfp\u001b[0m\u001b[0;34m.\u001b[0m\u001b[0mclose\u001b[0m\u001b[0;34m(\u001b[0m\u001b[0;34m)\u001b[0m\u001b[0;34m\u001b[0m\u001b[0;34m\u001b[0m\u001b[0m\n\u001b[1;32m    754\u001b[0m \u001b[0;34m\u001b[0m\u001b[0m\n\u001b[0;32m--> 755\u001b[0;31m         \u001b[0;32mreturn\u001b[0m \u001b[0mself\u001b[0m\u001b[0;34m.\u001b[0m\u001b[0mparent\u001b[0m\u001b[0;34m.\u001b[0m\u001b[0mopen\u001b[0m\u001b[0;34m(\u001b[0m\u001b[0mnew\u001b[0m\u001b[0;34m,\u001b[0m \u001b[0mtimeout\u001b[0m\u001b[0;34m=\u001b[0m\u001b[0mreq\u001b[0m\u001b[0;34m.\u001b[0m\u001b[0mtimeout\u001b[0m\u001b[0;34m)\u001b[0m\u001b[0;34m\u001b[0m\u001b[0;34m\u001b[0m\u001b[0m\n\u001b[0m\u001b[1;32m    756\u001b[0m \u001b[0;34m\u001b[0m\u001b[0m\n\u001b[1;32m    757\u001b[0m     \u001b[0mhttp_error_301\u001b[0m \u001b[0;34m=\u001b[0m \u001b[0mhttp_error_303\u001b[0m \u001b[0;34m=\u001b[0m \u001b[0mhttp_error_307\u001b[0m \u001b[0;34m=\u001b[0m \u001b[0mhttp_error_302\u001b[0m\u001b[0;34m\u001b[0m\u001b[0;34m\u001b[0m\u001b[0m\n",
            "\u001b[0;32m/usr/lib/python3.7/urllib/request.py\u001b[0m in \u001b[0;36mopen\u001b[0;34m(self, fullurl, data, timeout)\u001b[0m\n\u001b[1;32m    523\u001b[0m             \u001b[0mreq\u001b[0m \u001b[0;34m=\u001b[0m \u001b[0mmeth\u001b[0m\u001b[0;34m(\u001b[0m\u001b[0mreq\u001b[0m\u001b[0;34m)\u001b[0m\u001b[0;34m\u001b[0m\u001b[0;34m\u001b[0m\u001b[0m\n\u001b[1;32m    524\u001b[0m \u001b[0;34m\u001b[0m\u001b[0m\n\u001b[0;32m--> 525\u001b[0;31m         \u001b[0mresponse\u001b[0m \u001b[0;34m=\u001b[0m \u001b[0mself\u001b[0m\u001b[0;34m.\u001b[0m\u001b[0m_open\u001b[0m\u001b[0;34m(\u001b[0m\u001b[0mreq\u001b[0m\u001b[0;34m,\u001b[0m \u001b[0mdata\u001b[0m\u001b[0;34m)\u001b[0m\u001b[0;34m\u001b[0m\u001b[0;34m\u001b[0m\u001b[0m\n\u001b[0m\u001b[1;32m    526\u001b[0m \u001b[0;34m\u001b[0m\u001b[0m\n\u001b[1;32m    527\u001b[0m         \u001b[0;31m# post-process response\u001b[0m\u001b[0;34m\u001b[0m\u001b[0;34m\u001b[0m\u001b[0;34m\u001b[0m\u001b[0m\n",
            "\u001b[0;32m/usr/lib/python3.7/urllib/request.py\u001b[0m in \u001b[0;36m_open\u001b[0;34m(self, req, data)\u001b[0m\n\u001b[1;32m    541\u001b[0m         \u001b[0mprotocol\u001b[0m \u001b[0;34m=\u001b[0m \u001b[0mreq\u001b[0m\u001b[0;34m.\u001b[0m\u001b[0mtype\u001b[0m\u001b[0;34m\u001b[0m\u001b[0;34m\u001b[0m\u001b[0m\n\u001b[1;32m    542\u001b[0m         result = self._call_chain(self.handle_open, protocol, protocol +\n\u001b[0;32m--> 543\u001b[0;31m                                   '_open', req)\n\u001b[0m\u001b[1;32m    544\u001b[0m         \u001b[0;32mif\u001b[0m \u001b[0mresult\u001b[0m\u001b[0;34m:\u001b[0m\u001b[0;34m\u001b[0m\u001b[0;34m\u001b[0m\u001b[0m\n\u001b[1;32m    545\u001b[0m             \u001b[0;32mreturn\u001b[0m \u001b[0mresult\u001b[0m\u001b[0;34m\u001b[0m\u001b[0;34m\u001b[0m\u001b[0m\n",
            "\u001b[0;32m/usr/lib/python3.7/urllib/request.py\u001b[0m in \u001b[0;36m_call_chain\u001b[0;34m(self, chain, kind, meth_name, *args)\u001b[0m\n\u001b[1;32m    501\u001b[0m         \u001b[0;32mfor\u001b[0m \u001b[0mhandler\u001b[0m \u001b[0;32min\u001b[0m \u001b[0mhandlers\u001b[0m\u001b[0;34m:\u001b[0m\u001b[0;34m\u001b[0m\u001b[0;34m\u001b[0m\u001b[0m\n\u001b[1;32m    502\u001b[0m             \u001b[0mfunc\u001b[0m \u001b[0;34m=\u001b[0m \u001b[0mgetattr\u001b[0m\u001b[0;34m(\u001b[0m\u001b[0mhandler\u001b[0m\u001b[0;34m,\u001b[0m \u001b[0mmeth_name\u001b[0m\u001b[0;34m)\u001b[0m\u001b[0;34m\u001b[0m\u001b[0;34m\u001b[0m\u001b[0m\n\u001b[0;32m--> 503\u001b[0;31m             \u001b[0mresult\u001b[0m \u001b[0;34m=\u001b[0m \u001b[0mfunc\u001b[0m\u001b[0;34m(\u001b[0m\u001b[0;34m*\u001b[0m\u001b[0margs\u001b[0m\u001b[0;34m)\u001b[0m\u001b[0;34m\u001b[0m\u001b[0;34m\u001b[0m\u001b[0m\n\u001b[0m\u001b[1;32m    504\u001b[0m             \u001b[0;32mif\u001b[0m \u001b[0mresult\u001b[0m \u001b[0;32mis\u001b[0m \u001b[0;32mnot\u001b[0m \u001b[0;32mNone\u001b[0m\u001b[0;34m:\u001b[0m\u001b[0;34m\u001b[0m\u001b[0;34m\u001b[0m\u001b[0m\n\u001b[1;32m    505\u001b[0m                 \u001b[0;32mreturn\u001b[0m \u001b[0mresult\u001b[0m\u001b[0;34m\u001b[0m\u001b[0;34m\u001b[0m\u001b[0m\n",
            "\u001b[0;32m/usr/lib/python3.7/urllib/request.py\u001b[0m in \u001b[0;36mhttps_open\u001b[0;34m(self, req)\u001b[0m\n\u001b[1;32m   1391\u001b[0m         \u001b[0;32mdef\u001b[0m \u001b[0mhttps_open\u001b[0m\u001b[0;34m(\u001b[0m\u001b[0mself\u001b[0m\u001b[0;34m,\u001b[0m \u001b[0mreq\u001b[0m\u001b[0;34m)\u001b[0m\u001b[0;34m:\u001b[0m\u001b[0;34m\u001b[0m\u001b[0;34m\u001b[0m\u001b[0m\n\u001b[1;32m   1392\u001b[0m             return self.do_open(http.client.HTTPSConnection, req,\n\u001b[0;32m-> 1393\u001b[0;31m                 context=self._context, check_hostname=self._check_hostname)\n\u001b[0m\u001b[1;32m   1394\u001b[0m \u001b[0;34m\u001b[0m\u001b[0m\n\u001b[1;32m   1395\u001b[0m         \u001b[0mhttps_request\u001b[0m \u001b[0;34m=\u001b[0m \u001b[0mAbstractHTTPHandler\u001b[0m\u001b[0;34m.\u001b[0m\u001b[0mdo_request_\u001b[0m\u001b[0;34m\u001b[0m\u001b[0;34m\u001b[0m\u001b[0m\n",
            "\u001b[0;32m/usr/lib/python3.7/urllib/request.py\u001b[0m in \u001b[0;36mdo_open\u001b[0;34m(self, http_class, req, **http_conn_args)\u001b[0m\n\u001b[1;32m   1351\u001b[0m             \u001b[0;32mexcept\u001b[0m \u001b[0mOSError\u001b[0m \u001b[0;32mas\u001b[0m \u001b[0merr\u001b[0m\u001b[0;34m:\u001b[0m \u001b[0;31m# timeout error\u001b[0m\u001b[0;34m\u001b[0m\u001b[0;34m\u001b[0m\u001b[0m\n\u001b[1;32m   1352\u001b[0m                 \u001b[0;32mraise\u001b[0m \u001b[0mURLError\u001b[0m\u001b[0;34m(\u001b[0m\u001b[0merr\u001b[0m\u001b[0;34m)\u001b[0m\u001b[0;34m\u001b[0m\u001b[0;34m\u001b[0m\u001b[0m\n\u001b[0;32m-> 1353\u001b[0;31m             \u001b[0mr\u001b[0m \u001b[0;34m=\u001b[0m \u001b[0mh\u001b[0m\u001b[0;34m.\u001b[0m\u001b[0mgetresponse\u001b[0m\u001b[0;34m(\u001b[0m\u001b[0;34m)\u001b[0m\u001b[0;34m\u001b[0m\u001b[0;34m\u001b[0m\u001b[0m\n\u001b[0m\u001b[1;32m   1354\u001b[0m         \u001b[0;32mexcept\u001b[0m\u001b[0;34m:\u001b[0m\u001b[0;34m\u001b[0m\u001b[0;34m\u001b[0m\u001b[0m\n\u001b[1;32m   1355\u001b[0m             \u001b[0mh\u001b[0m\u001b[0;34m.\u001b[0m\u001b[0mclose\u001b[0m\u001b[0;34m(\u001b[0m\u001b[0;34m)\u001b[0m\u001b[0;34m\u001b[0m\u001b[0;34m\u001b[0m\u001b[0m\n",
            "\u001b[0;32m/usr/lib/python3.7/http/client.py\u001b[0m in \u001b[0;36mgetresponse\u001b[0;34m(self)\u001b[0m\n\u001b[1;32m   1371\u001b[0m         \u001b[0;32mtry\u001b[0m\u001b[0;34m:\u001b[0m\u001b[0;34m\u001b[0m\u001b[0;34m\u001b[0m\u001b[0m\n\u001b[1;32m   1372\u001b[0m             \u001b[0;32mtry\u001b[0m\u001b[0;34m:\u001b[0m\u001b[0;34m\u001b[0m\u001b[0;34m\u001b[0m\u001b[0m\n\u001b[0;32m-> 1373\u001b[0;31m                 \u001b[0mresponse\u001b[0m\u001b[0;34m.\u001b[0m\u001b[0mbegin\u001b[0m\u001b[0;34m(\u001b[0m\u001b[0;34m)\u001b[0m\u001b[0;34m\u001b[0m\u001b[0;34m\u001b[0m\u001b[0m\n\u001b[0m\u001b[1;32m   1374\u001b[0m             \u001b[0;32mexcept\u001b[0m \u001b[0mConnectionError\u001b[0m\u001b[0;34m:\u001b[0m\u001b[0;34m\u001b[0m\u001b[0;34m\u001b[0m\u001b[0m\n\u001b[1;32m   1375\u001b[0m                 \u001b[0mself\u001b[0m\u001b[0;34m.\u001b[0m\u001b[0mclose\u001b[0m\u001b[0;34m(\u001b[0m\u001b[0;34m)\u001b[0m\u001b[0;34m\u001b[0m\u001b[0;34m\u001b[0m\u001b[0m\n",
            "\u001b[0;32m/usr/lib/python3.7/http/client.py\u001b[0m in \u001b[0;36mbegin\u001b[0;34m(self)\u001b[0m\n\u001b[1;32m    317\u001b[0m         \u001b[0;31m# read until we get a non-100 response\u001b[0m\u001b[0;34m\u001b[0m\u001b[0;34m\u001b[0m\u001b[0;34m\u001b[0m\u001b[0m\n\u001b[1;32m    318\u001b[0m         \u001b[0;32mwhile\u001b[0m \u001b[0;32mTrue\u001b[0m\u001b[0;34m:\u001b[0m\u001b[0;34m\u001b[0m\u001b[0;34m\u001b[0m\u001b[0m\n\u001b[0;32m--> 319\u001b[0;31m             \u001b[0mversion\u001b[0m\u001b[0;34m,\u001b[0m \u001b[0mstatus\u001b[0m\u001b[0;34m,\u001b[0m \u001b[0mreason\u001b[0m \u001b[0;34m=\u001b[0m \u001b[0mself\u001b[0m\u001b[0;34m.\u001b[0m\u001b[0m_read_status\u001b[0m\u001b[0;34m(\u001b[0m\u001b[0;34m)\u001b[0m\u001b[0;34m\u001b[0m\u001b[0;34m\u001b[0m\u001b[0m\n\u001b[0m\u001b[1;32m    320\u001b[0m             \u001b[0;32mif\u001b[0m \u001b[0mstatus\u001b[0m \u001b[0;34m!=\u001b[0m \u001b[0mCONTINUE\u001b[0m\u001b[0;34m:\u001b[0m\u001b[0;34m\u001b[0m\u001b[0;34m\u001b[0m\u001b[0m\n\u001b[1;32m    321\u001b[0m                 \u001b[0;32mbreak\u001b[0m\u001b[0;34m\u001b[0m\u001b[0;34m\u001b[0m\u001b[0m\n",
            "\u001b[0;32m/usr/lib/python3.7/http/client.py\u001b[0m in \u001b[0;36m_read_status\u001b[0;34m(self)\u001b[0m\n\u001b[1;32m    278\u001b[0m \u001b[0;34m\u001b[0m\u001b[0m\n\u001b[1;32m    279\u001b[0m     \u001b[0;32mdef\u001b[0m \u001b[0m_read_status\u001b[0m\u001b[0;34m(\u001b[0m\u001b[0mself\u001b[0m\u001b[0;34m)\u001b[0m\u001b[0;34m:\u001b[0m\u001b[0;34m\u001b[0m\u001b[0;34m\u001b[0m\u001b[0m\n\u001b[0;32m--> 280\u001b[0;31m         \u001b[0mline\u001b[0m \u001b[0;34m=\u001b[0m \u001b[0mstr\u001b[0m\u001b[0;34m(\u001b[0m\u001b[0mself\u001b[0m\u001b[0;34m.\u001b[0m\u001b[0mfp\u001b[0m\u001b[0;34m.\u001b[0m\u001b[0mreadline\u001b[0m\u001b[0;34m(\u001b[0m\u001b[0m_MAXLINE\u001b[0m \u001b[0;34m+\u001b[0m \u001b[0;36m1\u001b[0m\u001b[0;34m)\u001b[0m\u001b[0;34m,\u001b[0m \u001b[0;34m\"iso-8859-1\"\u001b[0m\u001b[0;34m)\u001b[0m\u001b[0;34m\u001b[0m\u001b[0;34m\u001b[0m\u001b[0m\n\u001b[0m\u001b[1;32m    281\u001b[0m         \u001b[0;32mif\u001b[0m \u001b[0mlen\u001b[0m\u001b[0;34m(\u001b[0m\u001b[0mline\u001b[0m\u001b[0;34m)\u001b[0m \u001b[0;34m>\u001b[0m \u001b[0m_MAXLINE\u001b[0m\u001b[0;34m:\u001b[0m\u001b[0;34m\u001b[0m\u001b[0;34m\u001b[0m\u001b[0m\n\u001b[1;32m    282\u001b[0m             \u001b[0;32mraise\u001b[0m \u001b[0mLineTooLong\u001b[0m\u001b[0;34m(\u001b[0m\u001b[0;34m\"status line\"\u001b[0m\u001b[0;34m)\u001b[0m\u001b[0;34m\u001b[0m\u001b[0;34m\u001b[0m\u001b[0m\n",
            "\u001b[0;32m/usr/lib/python3.7/socket.py\u001b[0m in \u001b[0;36mreadinto\u001b[0;34m(self, b)\u001b[0m\n\u001b[1;32m    587\u001b[0m         \u001b[0;32mwhile\u001b[0m \u001b[0;32mTrue\u001b[0m\u001b[0;34m:\u001b[0m\u001b[0;34m\u001b[0m\u001b[0;34m\u001b[0m\u001b[0m\n\u001b[1;32m    588\u001b[0m             \u001b[0;32mtry\u001b[0m\u001b[0;34m:\u001b[0m\u001b[0;34m\u001b[0m\u001b[0;34m\u001b[0m\u001b[0m\n\u001b[0;32m--> 589\u001b[0;31m                 \u001b[0;32mreturn\u001b[0m \u001b[0mself\u001b[0m\u001b[0;34m.\u001b[0m\u001b[0m_sock\u001b[0m\u001b[0;34m.\u001b[0m\u001b[0mrecv_into\u001b[0m\u001b[0;34m(\u001b[0m\u001b[0mb\u001b[0m\u001b[0;34m)\u001b[0m\u001b[0;34m\u001b[0m\u001b[0;34m\u001b[0m\u001b[0m\n\u001b[0m\u001b[1;32m    590\u001b[0m             \u001b[0;32mexcept\u001b[0m \u001b[0mtimeout\u001b[0m\u001b[0;34m:\u001b[0m\u001b[0;34m\u001b[0m\u001b[0;34m\u001b[0m\u001b[0m\n\u001b[1;32m    591\u001b[0m                 \u001b[0mself\u001b[0m\u001b[0;34m.\u001b[0m\u001b[0m_timeout_occurred\u001b[0m \u001b[0;34m=\u001b[0m \u001b[0;32mTrue\u001b[0m\u001b[0;34m\u001b[0m\u001b[0;34m\u001b[0m\u001b[0m\n",
            "\u001b[0;32m/usr/lib/python3.7/ssl.py\u001b[0m in \u001b[0;36mrecv_into\u001b[0;34m(self, buffer, nbytes, flags)\u001b[0m\n\u001b[1;32m   1069\u001b[0m                   \u001b[0;34m\"non-zero flags not allowed in calls to recv_into() on %s\"\u001b[0m \u001b[0;34m%\u001b[0m\u001b[0;34m\u001b[0m\u001b[0;34m\u001b[0m\u001b[0m\n\u001b[1;32m   1070\u001b[0m                   self.__class__)\n\u001b[0;32m-> 1071\u001b[0;31m             \u001b[0;32mreturn\u001b[0m \u001b[0mself\u001b[0m\u001b[0;34m.\u001b[0m\u001b[0mread\u001b[0m\u001b[0;34m(\u001b[0m\u001b[0mnbytes\u001b[0m\u001b[0;34m,\u001b[0m \u001b[0mbuffer\u001b[0m\u001b[0;34m)\u001b[0m\u001b[0;34m\u001b[0m\u001b[0;34m\u001b[0m\u001b[0m\n\u001b[0m\u001b[1;32m   1072\u001b[0m         \u001b[0;32melse\u001b[0m\u001b[0;34m:\u001b[0m\u001b[0;34m\u001b[0m\u001b[0;34m\u001b[0m\u001b[0m\n\u001b[1;32m   1073\u001b[0m             \u001b[0;32mreturn\u001b[0m \u001b[0msuper\u001b[0m\u001b[0;34m(\u001b[0m\u001b[0;34m)\u001b[0m\u001b[0;34m.\u001b[0m\u001b[0mrecv_into\u001b[0m\u001b[0;34m(\u001b[0m\u001b[0mbuffer\u001b[0m\u001b[0;34m,\u001b[0m \u001b[0mnbytes\u001b[0m\u001b[0;34m,\u001b[0m \u001b[0mflags\u001b[0m\u001b[0;34m)\u001b[0m\u001b[0;34m\u001b[0m\u001b[0;34m\u001b[0m\u001b[0m\n",
            "\u001b[0;32m/usr/lib/python3.7/ssl.py\u001b[0m in \u001b[0;36mread\u001b[0;34m(self, len, buffer)\u001b[0m\n\u001b[1;32m    927\u001b[0m         \u001b[0;32mtry\u001b[0m\u001b[0;34m:\u001b[0m\u001b[0;34m\u001b[0m\u001b[0;34m\u001b[0m\u001b[0m\n\u001b[1;32m    928\u001b[0m             \u001b[0;32mif\u001b[0m \u001b[0mbuffer\u001b[0m \u001b[0;32mis\u001b[0m \u001b[0;32mnot\u001b[0m \u001b[0;32mNone\u001b[0m\u001b[0;34m:\u001b[0m\u001b[0;34m\u001b[0m\u001b[0;34m\u001b[0m\u001b[0m\n\u001b[0;32m--> 929\u001b[0;31m                 \u001b[0;32mreturn\u001b[0m \u001b[0mself\u001b[0m\u001b[0;34m.\u001b[0m\u001b[0m_sslobj\u001b[0m\u001b[0;34m.\u001b[0m\u001b[0mread\u001b[0m\u001b[0;34m(\u001b[0m\u001b[0mlen\u001b[0m\u001b[0;34m,\u001b[0m \u001b[0mbuffer\u001b[0m\u001b[0;34m)\u001b[0m\u001b[0;34m\u001b[0m\u001b[0;34m\u001b[0m\u001b[0m\n\u001b[0m\u001b[1;32m    930\u001b[0m             \u001b[0;32melse\u001b[0m\u001b[0;34m:\u001b[0m\u001b[0;34m\u001b[0m\u001b[0;34m\u001b[0m\u001b[0m\n\u001b[1;32m    931\u001b[0m                 \u001b[0;32mreturn\u001b[0m \u001b[0mself\u001b[0m\u001b[0;34m.\u001b[0m\u001b[0m_sslobj\u001b[0m\u001b[0;34m.\u001b[0m\u001b[0mread\u001b[0m\u001b[0;34m(\u001b[0m\u001b[0mlen\u001b[0m\u001b[0;34m)\u001b[0m\u001b[0;34m\u001b[0m\u001b[0;34m\u001b[0m\u001b[0m\n",
            "\u001b[0;31mKeyboardInterrupt\u001b[0m: "
          ]
        }
      ]
    },
    {
      "cell_type": "code",
      "source": [
        "with open('./dictionary.pickle', 'rb') as f:\n",
        "  clean_data = pickle.load(f)"
      ],
      "metadata": {
        "id": "07Vcklcovbep"
      },
      "execution_count": null,
      "outputs": []
    },
    {
      "cell_type": "code",
      "source": [
        "clean_data[0]"
      ],
      "metadata": {
        "colab": {
          "base_uri": "https://localhost:8080/"
        },
        "id": "Y7tyCIOWknvZ",
        "outputId": "4dae1b88-0444-4915-cb2f-8e19c45ad67e"
      },
      "execution_count": null,
      "outputs": [
        {
          "output_type": "execute_result",
          "data": {
            "text/plain": [
              "{'cui': '272',\n",
              " 'description': 'As the US House of Representatives was readying a new special committee to investigate the terrorist attack in Benghazi Libya many Democrats were arguing that continuing to probe the Sept 11 2012 attack which killed four Americans including US Ambassador Chris Stevens amounted to a political witch huntOn May 5 2014 Rep John Garamendi DCalif told MSNBC host Ed Schultz that there has already been exhaustive testimony and investigation of the incidentThis thing is just going on and on to boredom actually Garamendi said The Armed Services Committee actually did a hearing and the result was theres nothing here Thats obviously a great tragedy but Ed during the George W Bush period there were 13 attacks on various embassies and consulates around the world Sixty people died In Karachi there was a death of one of our diplomats and those were not investigated during that period of time because it was a tragedyReaders asked us whether its true that under Bush there were 13 attacks on various embassies and consulates around the world and 60 people diedWe turned to the Global Terrorism Database a project headquartered at the University of Maryland The database documents terrorist attacks around the world going back to the 1970s and experts told us it is the best resource available for this factcheckWe searched the database for descriptions between January 2001 and January 2009 that included the term US embassy We supplemented these with a few other attacks listed in a Huffington Post opinion piece that Garamendis staff said was their main source for the claim The Huffington Post column Garamendi cited purposely didnt count any attacks in Baghdad So we decided to construct our count from scratchWhile Garamendi spoke of embassies and consulates we found several US diplomatic targets killed in the line of duty outside official compounds such as in convoys or their homes and we included them in our count Once we crossreferenced the attacks in the article and those in the database we narrowed down the total to 39 attacks or attempted attacks on US embassies and embassy personnelOf these 39 attacks 20 resulted in at least one fatality Our complete list is here This is higher than Garamendis claim though if you only count attacks on embassy and consular property there were 13Garamendi also understated the number of deaths In the 20 incidents with at least one fatality the total death toll was 87 quite a few more than the 60 Garamendi cited If you only count those at embassies and consulates proper the number of deaths drops to 66We should note that the vast majority of these deaths were not Americans We counted 63 deaths that were either of nonAmericans or of people whose nationality is unknown Another three were US civilians Another 21 were workers at the US embassy or consulate either of American or foreign nationalitySo using what we think is the most reasonable definition Garamendis numbers are a bit lowht',\n",
              " 'summary': 'Rep John Garamendi said there were 13 attacks on various embassies and consulates around the world under George W BushnThe Global Terrorism Database documents terrorist attacks going back to the 1970snOf 39 attacks 20 resulted in at least one fatality but Garamendis numbers are a bit low',\n",
              " 'title': 'PolitiFact Prior to Benghazi were there 13 attacks on embassies and 60 deaths under President George W Bush'}"
            ]
          },
          "metadata": {},
          "execution_count": 18
        }
      ]
    },
    {
      "cell_type": "code",
      "source": [
        "with open('./article_body_titles.pkl', 'rb') as f:\n",
        "  articles = pickle.load(f)"
      ],
      "metadata": {
        "id": "sbTjRRWckrYD"
      },
      "execution_count": null,
      "outputs": []
    },
    {
      "cell_type": "code",
      "source": [
        "import json\n",
        "with open('./url_cui_mapping.json') as f:\n",
        "  url_map = json.load(f)"
      ],
      "metadata": {
        "id": "Er1jdiKqn2hQ"
      },
      "execution_count": null,
      "outputs": []
    },
    {
      "cell_type": "code",
      "source": [
        "import re\n",
        "def clean_up(s: str):\n",
        "    if type(s) is float and math.isnan(s):\n",
        "        return \"\"\n",
        "    else:\n",
        "        s = re.sub(\"\\n\",\" \",s)\n",
        "        s = ''.join(e for e in s if e.isalnum() or e is ' ')\n",
        "        s = re.sub(\"\\s+\",\" \",s)\n",
        "        return s.strip()"
      ],
      "metadata": {
        "id": "BPEeki8an6Rs"
      },
      "execution_count": null,
      "outputs": []
    },
    {
      "cell_type": "code",
      "source": [
        "articles[0]"
      ],
      "metadata": {
        "colab": {
          "base_uri": "https://localhost:8080/"
        },
        "id": "f2Za8KuvrIDy",
        "outputId": "5c64efba-dd12-48ef-be31-2621330bdd29"
      },
      "execution_count": null,
      "outputs": [
        {
          "output_type": "execute_result",
          "data": {
            "text/plain": [
              "{'body': 'In February 2017, a December 2015 commentary that originally aired on a Georgia television newscast resurfaced online, published under misleading headlines implying that President Donald Trump had just banned “Sharia law” in the United States.  Multiple web sites published (sometimes without attribution) transcripts of a segment by TV anchor Ben Swann of Atlanta television station WGCL discussing then-candidate Donald Trump’s statement calling for a “total and complete shutdown” of Muslim immigration into the U.S. Trump said the restriction was necessary, because (in his words) “large portions” of Muslim communities harbor “great hatred towards Americans”: Until recently we are able to determine and understand this problem and the dangerous threat it poses, our country cannot be the victims of horrendous attacks by people that believe only in Jihad, and have no sense of reason or respect for human life. If I win the election for President, we are going to Make America Great Again. Trump later added that the ban would not apply to Muslim citizens of the U.S. seeking to re-enter the country after traveling abroad. The statement drew criticism from both President Barack Obama and Trump’s Republican primary opponents. But Swann argued that such a move would be justified under the terms of the Immigration and Nationality Act of 1952, citing Section 212(f) of that act, which states: Whenever the President finds that the entry of any aliens or of any class of aliens into the United States would be detrimental to the interests of the United States, he may by proclamation, and for such period as he shall deem necessary, suspend the entry of all aliens or any class of aliens as immigrants or nonimmigrants, or impose on the entry of aliens any restrictions he may deem to be appropriate. However, neither Swann nor Trump addressed “Sharia law” in that segment, a term that has been used as the basis for several false anti-Islam claims. President Trump’s executive order, issued on 28 January 2017, barred entry into the U.S. of nationals from Iran, Iraq, Libya, Somalia, Sudan, Syria, and Yemen for 90 days. On 3 February 2017, U.S. District Judge James Robart suspended the ban on a nationwide basis. A day later, the 9th U.S. Circuit Court of Appeals denied the Trump administration’s request to stay Robart’s ruling.',\n",
              " 'title': \"Did President Trump Ban 'Sharia Law' in the U.S.? | Snopes.com\",\n",
              " 'url': 'http://www.snopes.com/trump-ban-sharia-law/'}"
            ]
          },
          "metadata": {},
          "execution_count": 39
        }
      ]
    },
    {
      "cell_type": "code",
      "source": [
        "all_data = pd.read_csv('all_data_with_article_title_body.csv')"
      ],
      "metadata": {
        "id": "MT3VqTVarMPN"
      },
      "execution_count": null,
      "outputs": []
    },
    {
      "cell_type": "code",
      "source": [
        "clean_data_new = []\n",
        "for item in clean_data:\n",
        "  cui = item['cui']\n",
        "  url = cui_map[cui]\n",
        "  new_item = {}\n",
        "  new_item['cui'] = cui\n",
        "  content = list(filter(lambda article: article['url'] == url, articles))[0]\n",
        "  new_item['title'] = clean_up(content['title'])\n",
        "  new_item['description'] = clean_up(content['body'])\n",
        "  clean_data_new.append(new_item)"
      ],
      "metadata": {
        "id": "7DSwTUU-rx7d"
      },
      "execution_count": null,
      "outputs": []
    },
    {
      "cell_type": "code",
      "source": [
        "clean_data_new = []\n",
        "for item in clean_data:\n",
        "  cui = item['cui']\n",
        "  url = cui_map[cui]\n",
        "  new_item = {}\n",
        "  new_item['cui'] = cui\n",
        "  content = list(filter(lambda article: article['url'] == url, articles))[0]\n",
        "  new_item['title'] = content['title']\n",
        "  new_item['description'] = content['body']\n",
        "  clean_data_new.append(new_item)"
      ],
      "metadata": {
        "id": "qs0o8H81upB7"
      },
      "execution_count": null,
      "outputs": []
    },
    {
      "cell_type": "code",
      "source": [
        "clean_data_new[3]"
      ],
      "metadata": {
        "colab": {
          "base_uri": "https://localhost:8080/"
        },
        "id": "N_PfKhkkwGWK",
        "outputId": "1e4c2d10-6685-4736-bc28-680248ea9295"
      },
      "execution_count": null,
      "outputs": [
        {
          "output_type": "execute_result",
          "data": {
            "text/plain": [
              "{'cui': '14',\n",
              " 'description': \"In December 2015, several images were circulated on social media along with claims that they depicted presidential candidate Donald Trump’s sons, Eric and Donald Jr., on a big game hunting trip: The images were unaltered and accurately described, although they were not recent in December 2015. The photographs received broad media coverage at the time they were initially released, well before the start of Trump Sr.’s bid for the White House. On 13 March 2012, the web site Gothamist published an article titled “Photos: Donald Trump’s Sons Awesome At Killing Elephants And Other Wildlife.”  It said: Animal rights activists are revolted by a series of trophy photos that have emerged showing Eric and Donald Trump Jr. posing with a dead elephant, kudu, civet cat and waterbuck while on a big game safari in Zimbabwe last year. In one photo, Donald Jr. proudly holds a dead elephant tail in one hand and a knife in the other. In another, the brothers are seen standing beside a 12’8″ crocodile hanging from a noose off a tree. Activists obtained the photos and created [a] video montage of the Trumps’ big hunt[.]  British tabloid the Daily Mail concurrently ran the photos in a piece titled “‘I have no shame… I HUNT & EAT game’: Donald Trump’s sons pictured posing with their ‘trophy’ carcasses on big African hunt.” It cited the web site Hunting Legends as a source for the photographs. In March 2012, Donald Trump Jr. sent several tweets that addressed the controversy: @exclamation I can assure you it was not wasteful the villagers were so happy for the meat which they don't often get to eat. Very grateful — Donald Trump Jr. (@DonaldJTrumpJr) March 12, 2012 @alisonheittman which would be what?  I'm not going to run and hide because the peta crazies don't like me. — Donald Trump Jr. (@DonaldJTrumpJr) March 13, 2012 The Daily Mail quoted since-deleted tweets published by Trump Jr. in March 2012: ‘Not a PR move I didn’t give the pics but I have no shame about them either. I HUNT & EAT game’. ‘I AM A HUNTER I don’t hide from that,’ he said to another critic on Twitter. Additional Sighting Donald Trump Jr.’s hunting interests made headlines again in December 2019 when a ProPublica report raised questions about a permit he received to shoot argali in Mongolia. IUCN Red List considered the wild sheep “near threatened” as of 2008.\",\n",
              " 'title': \"Are These Donald Trump's Sons in Game-Hunting Photos? | Snopes.com\"}"
            ]
          },
          "metadata": {},
          "execution_count": 51
        }
      ]
    },
    {
      "cell_type": "code",
      "source": [
        ""
      ],
      "metadata": {
        "id": "uHroaEf-wGnf"
      },
      "execution_count": null,
      "outputs": []
    },
    {
      "cell_type": "code",
      "source": [
        "with open('dictionary_full_no_summaries.pkl', 'wb') as f:\n",
        "  pickle.dump(clean_data_new, f)"
      ],
      "metadata": {
        "id": "EPlQlarHrzaF"
      },
      "execution_count": null,
      "outputs": []
    },
    {
      "cell_type": "code",
      "source": [
        "cui_map = {}\n",
        "for a in url_map.keys():\n",
        "  cui_map[url_map[a]] = a"
      ],
      "metadata": {
        "id": "Uidkvka0sLdi"
      },
      "execution_count": null,
      "outputs": []
    },
    {
      "cell_type": "code",
      "source": [
        "cui_map"
      ],
      "metadata": {
        "colab": {
          "base_uri": "https://localhost:8080/"
        },
        "id": "K4xZ6wn3sbkh",
        "outputId": "3c576eed-e5de-442a-8d5d-5f0b2caacadf"
      },
      "execution_count": null,
      "outputs": [
        {
          "output_type": "execute_result",
          "data": {
            "text/plain": [
              "{'272': 'http://www.politifact.com/truth-o-meter/statements/2014/may/12/john-garamendi/prior-benghazi-were-there-13-attacks-embassies-and/',\n",
              " '273': 'http://www.politifact.com/truth-o-meter/statements/2012/sep/07/barack-obama/barack-obama-said-hes-cut-taxes-middle-class-famil/',\n",
              " '274': 'http://www.politifact.com/punditfact/statements/2014/aug/24/juan-williams/juan-williams-no-1-cause-death-african-americans-1/',\n",
              " '14': 'https://www.snopes.com/fact-check/donald-trumps-son-game-hunting-photos/',\n",
              " '275': 'http://www.politifact.com/truth-o-meter/statements/2016/oct/19/hillary-clinton/hillary-clinton-blames-russia-putin-wikileaks-rele/',\n",
              " '72': 'https://www.snopes.com/fact-check/promotional-booklet/',\n",
              " '2': 'https://www.snopes.com/business/consumer/bastard.asp',\n",
              " '276': 'http://www.snopes.com/obama-more-flexibility-russia/',\n",
              " '277': 'https://www.snopes.com/fact-check/did-roseanne-pose-as-adolf-hitler-photo-shoot/',\n",
              " '278': 'http://www.politifact.com/punditfact/statements/2016/aug/28/david-plouffe/yes-donald-trump-donated-100000-clinton-foundation/',\n",
              " '279': 'http://www.politifact.com/truth-o-meter/statements/2017/oct/06/national-rifle-association/nra-claim-obama-approved-bump-stocks/',\n",
              " '186': 'https://www.snopes.com/fact-check/clinton-byrd-photo-klan/',\n",
              " '280': 'http://www.snopes.com/wsj-different-trump-headlines/',\n",
              " '281': 'http://www.snopes.com/hillary-clinton-rfk-comment/',\n",
              " '31': 'http://www.snopes.com/politics/sexuality/chickfila.asp',\n",
              " '282': 'http://www.politifact.com/truth-o-meter/statements/2015/aug/19/bill-clinton/bill-clinton-glass-steagall-had-nothing-do-financi/',\n",
              " '283': 'http://www.snopes.com/veteran-kaepernick-take-a-knee-anthem/',\n",
              " '284': 'https://www.snopes.com/does-the-republican-tax-bill-include-a-loophole-benefitting-golf-course-owners/',\n",
              " '98': 'https://www.snopes.com/fact-check/1922-new-york-times-hitler/',\n",
              " '285': 'http://www.snopes.com/trump-tower-billboard-in-mumbai/',\n",
              " '129': 'https://www.snopes.com/fact-check/donna-brazile-leaves-cnn/',\n",
              " '286': 'http://www.politifact.com/wisconsin/statements/2017/mar/08/mark-pocan/russian-officials-went-back-door-trump-tower-meet-/',\n",
              " '287': 'http://www.politifact.com/punditfact/statements/2014/jan/10/jake-tapper/cnns-tapper-obama-has-used-espionage-act-more-all-/',\n",
              " '288': 'http://www.politifact.com/truth-o-meter/statements/2015/jul/10/generation-forward-pac/did-bernie-sanders-vote-against-background-checks-/',\n",
              " '289': 'http://www.politifact.com/punditfact/statements/2016/oct/02/maria-teresa-kumar/how-much-do-undocumented-immigrants-pay-taxes/',\n",
              " '290': 'http://www.politifact.com/truth-o-meter/statements/2017/apr/27/sean-spicer/trump-has-signed-more-bills-100-days-any-president/',\n",
              " '291': 'http://www.politifact.com/truth-o-meter/statements/2015/jan/20/barack-obama/barack-obama-claims-deficit-has-decreased-two-thir/',\n",
              " '292': 'http://www.politifact.com/truth-o-meter/statements/2016/jan/20/bernie-s/bernie-sanders-nra-report-card-d-minus-most-recent/',\n",
              " '293': 'http://www.politifact.com/truth-o-meter/statements/2016/sep/27/hillary-clinton/hillary-clinton-correctly-cites-outside-analyses-t/',\n",
              " '21': 'https://www.snopes.com/bernie-sanders-essay/',\n",
              " '294': 'http://www.politifact.com/truth-o-meter/statements/2017/sep/01/senate-leadership-fund/did-roy-moore-take-1-million-charity-he-ran/',\n",
              " '295': 'http://www.politifact.com/truth-o-meter/statements/2016/mar/02/ted-cruz/yes-donald-trump-has-been-linked-mob/',\n",
              " '296': 'http://www.snopes.com/trumps-grandfather-bavaria-deport/',\n",
              " '297': 'https://www.snopes.com/did-shooters-instagram-picture-maga-hat/',\n",
              " '298': 'http://www.politifact.com/california/statements/2018/apr/13/jerry-brown/jerry-brown-says-theres-no-massive-wave-migrants-p/',\n",
              " '299': 'http://www.politifact.com/florida/statements/2018/may/21/gwen-graham/have-more-students-been-killed-schools-soldiers-co/',\n",
              " '300': 'http://www.politifact.com/truth-o-meter/statements/2017/mar/13/donald-trump/donald-trump-one-third-counties-have-only-one-insu/',\n",
              " '301': 'http://www.politifact.com/florida/statements/2017/mar/29/florida-immigrant-coalition/do-undocumented-immigrants-have-constitutional-rig/',\n",
              " '302': 'http://www.politifact.com/truth-o-meter/statements/2015/feb/26/american-crossroads/conservative-group-claims-hillary-clintons-foundat/',\n",
              " '303': 'http://www.politifact.com/truth-o-meter/statements/2016/mar/24/bernie-s/bernie-sanders-was-roll-call-amendment-king-1995-2/',\n",
              " '304': 'http://www.politifact.com/wisconsin/statements/2016/oct/07/paul-ryan/state-department-under-hillary-clinton-refused-sec/',\n",
              " '305': 'http://www.snopes.com/business/consumer/browns.asp',\n",
              " '306': 'http://www.politifact.com/punditfact/statements/2015/jan/25/cokie-roberts/have-democrats-lost-900-seats-state-legislatures-o/',\n",
              " '307': 'http://www.politifact.com/truth-o-meter/statements/2016/sep/27/hillary-clinton/true-hillary-clinton-says-federal-government-sued-/',\n",
              " '151': 'https://www.snopes.com/donald-trump-civil-war-monument/',\n",
              " '308': 'https://www.snopes.com/u-s-senate-candidate-missouri-womans-rights/',\n",
              " '309': 'http://www.politifact.com/california/statements/2017/jun/22/antonio-villaraigosa/does-california-have-6th-largest-economy-world-and/',\n",
              " '310': 'http://www.politifact.com/colorado/statements/2016/feb/17/hillary-clinton/hillary-clinton-wrong-sanders-claim/',\n",
              " '311': 'http://www.politifact.com/truth-o-meter/statements/2016/dec/04/mike-pence/mike-pence-says-donald-trump-won-most-counties-rep/',\n",
              " '312': 'http://www.politifact.com/truth-o-meter/statements/2016/sep/07/hillary-clinton/clinton-says-none-her-emails-were-labeled-top-secr/',\n",
              " '47': 'https://www.snopes.com/fact-check/trump-received-ellis-island-award-in-1986/',\n",
              " '313': 'http://www.politifact.com/truth-o-meter/statements/2016/aug/02/donald-trump/donald-trump-correctly-claims-homeownership-51-yea/',\n",
              " '314': 'http://www.snopes.com/hillary-clinton-victims-of-war/',\n",
              " '315': 'http://www.snopes.com/gorsuch-unanimously-confirmed-2006/',\n",
              " '316': 'http://www.snopes.com/neil-gorsuch-yearbook/',\n",
              " '317': 'http://www.politifact.com/illinois/statements/2017/mar/16/peter-roskam/rep-roskam-gdp-growth-obama/',\n",
              " '318': 'https://www.snopes.com/kehinde-wiley-painted-black-woman-severed-head/',\n",
              " '319': 'http://www.snopes.com/trumps-muslim-ban-exclude-countries-businesses/',\n",
              " '320': 'http://www.politifact.com/florida/statements/2016/mar/22/debbie-wasserman-schultz/debbie-wasserman-schultz-says-superdelegates-never/',\n",
              " '321': 'http://www.snopes.com/hillary-clinton-right-to-be-believed/',\n",
              " '322': 'http://www.politifact.com/california/statements/2017/jan/20/chad-mayes/true-california-has-nations-highest-poverty-rate-w/',\n",
              " '54': 'https://www.snopes.com/fact-check/moron-this-story/',\n",
              " '323': 'http://www.politifact.com/florida/statements/2014/mar/03/florida-democratic-party/rick-scott-rick-scott-oversaw-largest-medicare-fra/',\n",
              " '324': 'http://www.politifact.com/wisconsin/statements/2017/apr/19/donald-trump/manufacturing-heavy-wisconsin-donald-trump-links-c/',\n",
              " '325': 'http://www.politifact.com/wisconsin/statements/2016/jul/01/paul-ryan/paul-ryan-claims-us-oldest-democracy-world-he-righ/',\n",
              " '80': 'http://www.snopes.com/politics/quotes/rapequotes.asp',\n",
              " '326': 'http://www.snopes.com/meryl-streep-applaud-roman-polanski/',\n",
              " '204': 'https://www.snopes.com/fact-check/jimmy-john-liautaud-hunting-photos/',\n",
              " '327': 'https://www.snopes.com/hhs-allow-doctors-to-refuse-lgbtq/',\n",
              " '328': 'http://www.politifact.com/florida/statements/2016/sep/02/patrick-murphy/patrick-murphy-says-marco-rubio-has-worst-attendan/',\n",
              " '329': 'http://www.snopes.com/islam-tennessee-school/',\n",
              " '330': 'http://www.politifact.com/truth-o-meter/statements/2016/oct/10/donald-trump/trump-claims-us-has-biggest-increase-murders-45-ye/',\n",
              " '331': 'http://www.snopes.com/nixon-predicted-trump-success/',\n",
              " '332': 'http://www.snopes.com/jackie-robinson-anthem/',\n",
              " '333': 'http://www.politifact.com/north-carolina/statements/2017/apr/19/jay-chaudhuri/even-state-trump-won-nc-lawmaker-says-most-people-/',\n",
              " '39': 'https://www.snopes.com/fact-check/working-very-well-for-them/',\n",
              " '334': 'http://www.politifact.com/truth-o-meter/statements/2016/apr/13/bernie-s/does-hillary-clinton-support-fracking/',\n",
              " '335': 'http://www.politifact.com/ohio/statements/2016/mar/14/rob-portman/most-heroin-us-comes-over-mexican-border/',\n",
              " '336': 'http://www.snopes.com/national-debt-trump/',\n",
              " '337': 'http://www.politifact.com/truth-o-meter/statements/2016/jan/05/barack-obama/obama-violent-felons-can-buy-guns-online-without-b/',\n",
              " '338': 'http://www.politifact.com/florida/statements/2017/mar/15/florida-conference-catholic-bishops/being-united-states-unlawfully-crime/',\n",
              " '339': 'http://www.politifact.com/texas/statements/2016/oct/21/jill-stein/jill-stein-green-party-candidate-correct-about-us-/',\n",
              " '340': 'https://www.snopes.com/southern-baptist-convention-funeral-costs-sutherland-springs/',\n",
              " '341': 'https://www.snopes.com/fact-check/sarah-huckabee-sanders-voted-among-admired-women-united-states/',\n",
              " '26': 'https://www.snopes.com/fact-check/cnn-and-msnbc-ratings/',\n",
              " '342': 'https://www.snopes.com/fact-check/dhs-compile-database-journalists-bloggers/',\n",
              " '343': 'https://www.snopes.com/trump-rolls-back-rules-protecting-elderly/',\n",
              " '344': 'https://www.snopes.com/trump-display-names-campaign-donors-state-union/',\n",
              " '345': 'http://www.politifact.com/truth-o-meter/statements/2017/jan/08/cory-booker/booker-mcconnell-full-ethics-review-obama-nominees/',\n",
              " '346': 'http://www.snopes.com/trump-obamacare-advertising-enrollment/',\n",
              " '347': 'http://www.politifact.com/truth-o-meter/statements/2018/apr/05/ruben-gallego/arizona-rep-cost-2-national-guard-border-arrests-w/',\n",
              " '348': 'http://www.snopes.com/mexico-sent-troops-to-u-s-to-help-after-hurricane-katrina/',\n",
              " '349': 'http://www.snopes.com/devos-family-campaign-contributions/',\n",
              " '350': 'http://www.snopes.com/ayn-rand-social-security/',\n",
              " '351': 'http://www.politifact.com/truth-o-meter/statements/2016/sep/14/hillary-clinton/clinton-ad-trump-management-was-charged-discrimina/',\n",
              " '352': 'http://www.snopes.com/trackdown-trump-character-wall/',\n",
              " '353': 'http://www.snopes.com/politics/soapbox/knox.asp',\n",
              " '354': 'https://www.snopes.com/white-house-comment-line-trump/',\n",
              " '355': 'http://www.snopes.com/politics/clintons/barexam.asp',\n",
              " '356': 'http://www.politifact.com/punditfact/statements/2015/sep/29/chuck-todd/nbcs-chuck-todd-bernie-sanders-there-same-sex-marr/',\n",
              " '357': 'http://www.politifact.com/truth-o-meter/statements/2016/mar/20/harry-reid/harry-reid-says-unlike-gop-senate-democrats-never-/',\n",
              " '358': 'http://www.politifact.com/truth-o-meter/statements/2015/sep/22/hillary-clinton/hillary-clinton-recessions-more-frequent-under-rep/',\n",
              " '359': 'http://www.politifact.com/truth-o-meter/statements/2017/apr/26/center-american-progress/true-trumps-cabinet-more-white-and-more-male-any-f/',\n",
              " '209': 'http://www.snopes.com/politics/soapbox/kanyebooks.asp',\n",
              " '360': 'http://www.politifact.com/truth-o-meter/statements/2017/may/02/donald-trump/donald-trump-says-michael-flynn-got-security-clear/',\n",
              " '361': 'http://www.politifact.com/florida/statements/2018/feb/15/corey-lewandowski/have-democrats-gained-50-seats-formerly-held-repub/',\n",
              " '362': 'http://www.politifact.com/truth-o-meter/statements/2015/dec/22/hillary-clinton/hillary-clinton-says-bernie-sanders-voted-get-rid-/',\n",
              " '363': 'http://www.snopes.com/movies/films/raiders.asp',\n",
              " '65': 'https://www.snopes.com/fact-check/lbj-convince-the-lowest-white-man/',\n",
              " '364': 'http://www.politifact.com/punditfact/statements/2015/aug/27/nicholas-kristof/more-americans-killed-guns-1968-all-wars-says-colu/',\n",
              " '365': 'http://www.politifact.com/truth-o-meter/statements/2016/oct/31/donald-trump/trumps-claim-about-weak-economic-growth-under-obam/',\n",
              " '366': 'http://www.politifact.com/truth-o-meter/statements/2016/sep/07/hillary-clinton/clinton-says-trump-supported-intervention-libya/',\n",
              " '367': 'http://www.snopes.com/tick-causes-meat-allergy/',\n",
              " '368': 'http://www.politifact.com/truth-o-meter/statements/2016/dec/18/john-podesta/its-true-wikileaks-dumped-podesta-emails-hour-afte/',\n",
              " '369': 'https://www.snopes.com/trump-baby-ninth-month/',\n",
              " '370': 'http://www.snopes.com/rumors/cool.asp',\n",
              " '371': 'https://www.snopes.com/politics/science/globalwarming1922.asp',\n",
              " '372': 'http://www.snopes.com/bill-murray-or-tom-hanks/',\n",
              " '373': 'http://www.politifact.com/truth-o-meter/statements/2007/dec/18/john-mccain/history-supports-mccains-stance-on-waterboarding/',\n",
              " '374': 'http://www.politifact.com/truth-o-meter/statements/2016/nov/03/hillary-clinton/hillary-clinton-says-donald-trump-wants-undo-marri/',\n",
              " '375': 'http://www.politifact.com/punditfact/statements/2013/nov/10/george-will/george-will-paints-dire-electoral-picture-gop-says/',\n",
              " '376': 'http://www.snopes.com/did-lincoln-racism-equality-oppose/',\n",
              " '377': 'http://www.politifact.com/truth-o-meter/statements/2018/apr/26/donald-trump/donald-trump-target-remarks-unemployment-kanye/',\n",
              " '378': 'http://www.politifact.com/truth-o-meter/statements/2018/jan/08/donald-trump/how-accurate-donald-trumps-about-black-hispa/',\n",
              " '379': 'https://www.snopes.com/trumpy-bear/',\n",
              " '380': 'https://www.snopes.com/fact-check/licensed-to-bill/',\n",
              " '381': 'http://www.politifact.com/punditfact/statements/2018/feb/12/breitbart/food-stamps-dropped-nationally-after-temporary-spi/',\n",
              " '382': 'http://www.politifact.com/truth-o-meter/statements/2016/jan/12/barack-obama/business-has-created-jobs-every-month-obamacare-be/',\n",
              " '94': 'https://www.snopes.com/trump-flies-sick-boy/',\n",
              " '383': 'http://www.politifact.com/punditfact/statements/2015/aug/12/george-will/george-will-reminds-readers-about-bernie-sanders-u/',\n",
              " '246': 'https://www.snopes.com/fact-check/theodore-roosevelt-on-criticizing-the-president/',\n",
              " '254': 'https://www.snopes.com/fact-check/trump-refuse-salary/',\n",
              " '25': 'https://www.snopes.com/bringing-a-gun-to-a-knife-fight/',\n",
              " '384': 'http://www.politifact.com/truth-o-meter/statements/2016/oct/07/donald-trump/trump-clinton-promised-add-200k-jobs-upstate-new-y/',\n",
              " '385': 'http://www.politifact.com/texas/statements/2017/dec/21/jerry-patterson/charge-george-p-bush-led-agency-has-repaired-two-h/',\n",
              " '386': 'http://www.politifact.com/truth-o-meter/statements/2014/jul/29/facebook-posts/are-97-nations-100-poorest-counties-red-states/',\n",
              " '387': 'http://www.politifact.com/california/statements/2017/sep/19/nancy-pelosi/nancy-pelosi-claims-three-quarters-americans-suppo/',\n",
              " '388': 'http://www.politifact.com/truth-o-meter/statements/2017/jul/25/donald-trump/donald-trump-right-us-just-had-best-jobs-report-16/',\n",
              " '13': 'http://www.snopes.com/history/american/tylergrandsons.asp',\n",
              " '389': 'http://www.politifact.com/truth-o-meter/statements/2016/jun/03/hillary-clinton/yes-donald-trump-did-call-climate-change-chinese-h/',\n",
              " '390': 'http://www.politifact.com/truth-o-meter/statements/2012/sep/06/bill-clinton/bill-clinton-says-democratic-presidents-top-republ/',\n",
              " '48': 'https://www.snopes.com/fact-check/trump-taxes-smart/',\n",
              " '391': 'http://www.politifact.com/truth-o-meter/statements/2016/nov/17/rand-paul/rand-paul-says-john-bolton-still-thinks-iraq-war-w/',\n",
              " '392': 'http://www.politifact.com/truth-o-meter/statements/2015/sep/21/carly-fiorina/trumps-four-bankruptcies/',\n",
              " '393': 'http://www.politifact.com/truth-o-meter/statements/2015/oct/12/hillary-clinton/clinton-there-have-been-7-benghazi-probes-so-far/',\n",
              " '394': 'http://www.snopes.com/business/market/incubus.asp',\n",
              " '395': 'http://www.politifact.com/truth-o-meter/statements/2016/jan/17/hillary-clinton/fact-checking-hillary-clintons-claim-bernie-sander/',\n",
              " '396': 'https://www.snopes.com/trumps-hair-filmed-blowing-wind/',\n",
              " '397': 'http://www.politifact.com/georgia/statements/2017/aug/14/david-perdue/sen-david-perdue-half-immigrant-households-benefit/',\n",
              " '398': 'http://www.politifact.com/truth-o-meter/statements/2015/nov/23/hillary-clinton/hillary-clinton-says-she-helped-usher-iran-negotia/',\n",
              " '399': 'http://www.politifact.com/wisconsin/statements/2017/mar/23/ron-johnson/gop-obamacare-replacement-cuts-aid-lower-income-pe/',\n",
              " '400': 'http://www.politifact.com/truth-o-meter/statements/2016/jul/22/donald-trump/donald-trump-correct-lyndon-johnson-passed-legisla/',\n",
              " '401': 'http://www.politifact.com/north-carolina/statements/2016/apr/01/chris-sgro/equality-nc-director-no-public-safety-risks-cities/',\n",
              " '402': 'http://www.politifact.com/wisconsin/statements/2014/may/19/ron-johnson/hillary-clintons-state-department-reduced-security/',\n",
              " '403': 'http://www.snopes.com/definition-of-trumpery/',\n",
              " '404': 'http://www.snopes.com/racial/business/sofa.asp',\n",
              " '405': 'https://www.snopes.com/roy-moore-muslims-serve-congress/',\n",
              " '406': 'https://www.snopes.com/fact-check/facebook-categorize-users-political-preferences/',\n",
              " '407': 'http://www.politifact.com/truth-o-meter/statements/2018/jan/22/jeff-flake/donald-trumps-fake-news-epithet-emboldens-despots-/',\n",
              " '408': 'http://www.politifact.com/punditfact/statements/2017/oct/06/newsweek/are-white-males-responsible-more-mass-shootings-an/',\n",
              " '409': 'http://www.politifact.com/ohio/statements/2016/jul/28/sherrod-brown/are-koch-backed-groups-spending-most-ohio-senate-r/',\n",
              " '410': 'http://www.politifact.com/truth-o-meter/statements/2016/oct/11/hillary-clinton/clinton-right-trump-tax-plan-gives-more-rich-bush-/',\n",
              " '411': 'http://www.politifact.com/wisconsin/statements/2017/oct/03/chris-abele/do-90-americans-support-background-checks-all-gun-/',\n",
              " '412': 'http://www.politifact.com/truth-o-meter/statements/2017/jun/01/debbie-wasserman-schultz/are-nicaragua-and-syria-only-countries-not-sign-pa/',\n",
              " '185': 'https://www.snopes.com/fact-check/hillary-clinton-marriage-is-always-between-a-man-and-a-woman/',\n",
              " '413': 'http://www.politifact.com/pennsylvania/statements/2016/apr/25/bernie-s/fact-checking-bernie-sanders-claim-jim-kenneys-sod/',\n",
              " '414': 'http://www.snopes.com/radiotv/tv/soupymoney.asp',\n",
              " '415': 'http://www.politifact.com/wisconsin/statements/2017/apr/28/mark-pocan/congress-democrats-have-women-and-minorities-repub/',\n",
              " '416': 'http://www.snopes.com/politics/quotes/trumangop.asp',\n",
              " '417': 'http://www.politifact.com/california/statements/2017/aug/03/antonio-villaraigosa/mostly-true-undocumented-immigrants-less-likely-co/',\n",
              " '418': 'https://www.snopes.com/fact-check/supreme-gesture/',\n",
              " '419': 'https://www.snopes.com/kochs-contributed-ryan-after-tax/',\n",
              " '420': 'http://www.politifact.com/california/statements/2017/feb/01/ted-lieu/odds-youll-be-killed-terror-attack-america-refugee/',\n",
              " '421': 'http://www.politifact.com/florida/statements/2017/jan/25/cory-gardner/how-many-released-guantanamo-bay-prisoners-commit-/',\n",
              " '422': 'https://www.snopes.com/nra-tax-exempt-non-profit/',\n",
              " '423': 'http://www.snopes.com/cokelore/poster.asp',\n",
              " '167': 'https://www.snopes.com/elephant-trophy-import-ban-lifted/?bt_alias=eyJ1c2VySWQiOiAiZTJmOTZkYzktZGE5Zi00MWMxLWExZTktYTYxZmQ3Nzg5MTRmIn0%3D',\n",
              " '424': 'http://www.snopes.com/colin-kaepernick-socks/',\n",
              " '425': 'https://www.snopes.com/did-maria-cause-an-iv-bag-shortage/',\n",
              " '197': 'https://www.snopes.com/carl-sagans-foreboding-of-an-america/',\n",
              " '426': 'https://www.snopes.com/nra-california-open-carry-ban/',\n",
              " '427': 'http://www.snopes.com/sanders-civil-rights-photos/',\n",
              " '428': 'http://www.politifact.com/global-news/statements/2016/oct/16/mike-pence/did-qatar-promise-clinton-foundation-1-million-fiv/',\n",
              " '127': 'https://www.snopes.com/fact-check/donald-trump-sentence/',\n",
              " '62': 'http://www.snopes.com/john-wayne-white-supremacy/',\n",
              " '429': 'http://www.snopes.com/rumors/bush.asp',\n",
              " '430': 'http://www.politifact.com/california/statements/2016/dec/19/jerry-brown/are-jobs-california-growing-hell-lot-faster-texas/',\n",
              " '431': 'http://www.politifact.com/truth-o-meter/statements/2016/jul/19/ron-johnson/what-you-need-know-about-hillary-clintons-infamous/',\n",
              " '432': 'http://www.politifact.com/california/statements/2016/jul/26/kevin-de-leon/does-california-really-have-sixth-largest-economy-/',\n",
              " '433': 'http://www.politifact.com/truth-o-meter/statements/2017/mar/14/donald-trump/trump-says-after-executive-orders-illegal-immigrat/',\n",
              " '121': 'http://www.snopes.com/united-states-deporting-veterans/',\n",
              " '252': 'http://www.snopes.com/family-photograph-of-melania-barron-and-donald-trump/',\n",
              " '434': 'https://www.snopes.com/dunblane-school-shootings-ban/',\n",
              " '435': 'http://www.politifact.com/truth-o-meter/statements/2017/mar/23/barack-obama/obama-no-premium-hike-vast-majority-covered-govern/',\n",
              " '436': 'http://www.politifact.com/florida/statements/2017/jan/18/carlos-guillermo-smith/after-fort-lauderdale-airport-shooting-legislator-/',\n",
              " '437': 'http://www.politifact.com/wisconsin/statements/2017/jan/13/scott-walker/scott-walker-says-wisconsin-property-taxes-percent/',\n",
              " '438': 'http://www.snopes.com/crime/cops/judd.asp',\n",
              " '439': 'http://www.politifact.com/truth-o-meter/statements/2016/mar/08/bernie-s/bernie-sanders-says-he-consistently-beats-donald-t/',\n",
              " '440': 'http://www.politifact.com/truth-o-meter/statements/2017/mar/10/tom-price/hhs-chief-tom-price-correct-er-use-obamacare/',\n",
              " '441': 'http://www.politifact.com/north-carolina/statements/2017/jan/27/duane-hall/raise-age-could-juvenile-justice-reform-save-north/',\n",
              " '442': 'http://www.politifact.com/wisconsin/statements/2016/dec/30/mark-pocan/do-17-picks-donald-trumps-cabinet-have-higher-net-/',\n",
              " '443': 'http://www.snopes.com/music/artists/kissblood.asp',\n",
              " '444': 'http://www.politifact.com/texas/statements/2018/apr/26/steve-adler/steve-adler-jeopardy-austin-safety-best-place-live/',\n",
              " '445': 'http://www.politifact.com/truth-o-meter/statements/2016/apr/05/hillary-clinton/does-clinton-really-have-25-million-more-votes-san/',\n",
              " '446': 'http://www.politifact.com/truth-o-meter/statements/2017/feb/02/keith-ellison/rep-keith-ellison-correct-demographic-overview-syr/',\n",
              " '447': 'http://www.snopes.com/trump-jr-women-workforce/',\n",
              " '95': 'https://www.snopes.com/music/artists/vanhalen.asp',\n",
              " '182': 'http://www.snopes.com/tipping-point/',\n",
              " '448': 'http://www.snopes.com/melania-trump-wore-pussy-bow/',\n",
              " '234': 'https://www.snopes.com/fact-check/limbaugh-obama-sending-lesbian-farmers/',\n",
              " '449': 'http://www.politifact.com/truth-o-meter/statements/2016/feb/26/hillary-clinton/hillary-clinton-says-blacks-more-likely-be-arreste/',\n",
              " '250': 'https://www.snopes.com/fact-check/toddlers-killed-americans-terrorists/',\n",
              " '124': 'https://www.snopes.com/fact-check/trump-described-the-electoral-college-as-a-disaster/',\n",
              " '450': 'http://www.politifact.com/truth-o-meter/statements/2015/oct/05/viral-image/fact-checking-comparison-gun-deaths-and-terrorism-/',\n",
              " '451': 'http://www.politifact.com/truth-o-meter/statements/2016/apr/21/hillary-clinton/hillary-clinton-history-shows-win-bernie-sanders/',\n",
              " '70': 'http://www.snopes.com/mitch-mcconnell-one-of-my-proudest-moments/',\n",
              " '452': 'http://www.politifact.com/truth-o-meter/statements/2016/jul/26/bernie-s/sanders-trump-would-allow-states-lower-minimum-wag/',\n",
              " '453': 'http://www.politifact.com/truth-o-meter/statements/2018/mar/14/blog-posting/hannitys-double-standard-north-korea-trump-and-oba/',\n",
              " '454': 'http://www.politifact.com/wisconsin/statements/2017/feb/03/paul-ryan/testing-paul-ryan-claim-obamacare-premium-increase/',\n",
              " '455': 'http://www.snopes.com/crime/warnings/bottlebomb.asp',\n",
              " '64': 'https://www.snopes.com/politics/religion/griffin.asp',\n",
              " '456': 'http://www.snopes.com/man-fired-stop-kidnapping/',\n",
              " '457': 'https://www.snopes.com/america-first-ku-klux-klan-slogan/',\n",
              " '458': 'http://www.politifact.com/texas/statements/2018/jan/10/julian-castro/julian-castro-daca-recipients-employed-school-mili/',\n",
              " '459': 'http://www.politifact.com/punditfact/statements/2015/mar/15/jalen-ross/black-name-resume-50-percent-less-likely-get-respo/',\n",
              " '460': 'http://www.snopes.com/dr-seuss-adolf-wolf/?bt_ee=65+JUn8I23v9APocy75J7pj0PcU0XwgNoXUMKPQQ5lFL+MrwKdySaFSLQA6+8Ymv&bt_ts=1486380895657',\n",
              " '461': 'https://www.snopes.com/movies/actors/stallone.asp',\n",
              " '462': 'http://www.politifact.com/florida/statements/2017/feb/02/marco-rubio/marco-rubio-says-majority-florida-undocumented-imm/',\n",
              " '463': 'http://www.politifact.com/virginia/statements/2016/oct/04/mike-pence/mike-pence-accuses-tim-kaine-raising-taxes-leaving/',\n",
              " '235': 'https://www.snopes.com/fact-check/russian-billboard-features-trump-and-putin/',\n",
              " '464': 'https://www.snopes.com/trump-criticize-obama-shutdown/',\n",
              " '465': 'http://www.snopes.com/photos/natural/flygeyser.asp',\n",
              " '466': 'http://www.politifact.com/wisconsin/statements/2017/apr/26/ron-kind/yes-experiencing-net-outflow-illegal-undocumented-/',\n",
              " '467': 'http://www.politifact.com/wisconsin/statements/2016/aug/10/david-canon/professor-house-speaker-paul-ryan-has-only-propose/',\n",
              " '468': 'http://www.politifact.com/wisconsin/statements/2017/feb/17/gordon-hintz/11-people-get-22-million-wisconsins-gop-backed-man/',\n",
              " '469': 'http://www.politifact.com/truth-o-meter/statements/2017/jun/26/barack-obama/obama-blasts-gop-senate-bill-tax-cut-rich-health-c/',\n",
              " '470': 'https://www.snopes.com/did-hundreds-ar15-blessing-ceremony/',\n",
              " '471': 'http://www.politifact.com/truth-o-meter/statements/2018/jan/30/donald-trump/trump-isis-territory-losses-near-100/',\n",
              " '472': 'http://www.snopes.com/palestinian-terrorists-wife-to-address-clinton-foundation/',\n",
              " '473': 'http://www.politifact.com/global-news/statements/2017/feb/17/bob-corker/are-27-million-people-trapped-modern-slavery/',\n",
              " '474': 'http://www.politifact.com/florida/statements/2016/mar/30/tim-canova/debbie-wasserman-schultz-attacked-bank-donations-a/',\n",
              " '475': 'http://www.politifact.com/wisconsin/statements/2017/apr/17/sheriff-david-clarke-us-senate/pro-sheriff-david-clarke-group-says-clarke-called-/',\n",
              " '476': 'http://www.snopes.com/jeff-sessions-slammed-protections-for-disabled-students/',\n",
              " '477': 'http://www.snopes.com/disney/films/lemmings.asp',\n",
              " '478': 'http://www.politifact.com/wisconsin/statements/2017/jul/27/sean-duffy/duffy-track-claim-1000-seat-pickup-gop-obamacare/',\n",
              " '479': 'http://www.snopes.com/photos/natural/bitterroot.asp',\n",
              " '172': 'https://www.snopes.com/woman-prosecuted-laughing-sessions/',\n",
              " '480': 'http://www.snopes.com/driverless-uber-runs-red-light/',\n",
              " '481': 'http://www.snopes.com/politics/clintons/mezvinsky.asp',\n",
              " '482': 'http://www.politifact.com/truth-o-meter/statements/2016/apr/15/bernie-s/does-hillary-clinton-want-15-or-12-minimum-wage/',\n",
              " '483': 'http://www.politifact.com/punditfact/statements/2016/jul/25/funny-or-die/fact-checking-funny-or-die-video-about-trump-brand/',\n",
              " '484': 'http://www.politifact.com/california/statements/2017/apr/28/scott-peters/would-trumps-border-wall-cost-same-one-and-half-us/',\n",
              " '485': 'http://www.politifact.com/truth-o-meter/statements/2016/jul/29/hillary-clinton/hillary-clinton-says-us-put-lid-irans-nuclear-prog/',\n",
              " '486': 'http://www.snopes.com/katrina/politics/rice.asp',\n",
              " '487': 'http://www.politifact.com/texas/statements/2017/jun/15/derrick-crowe/democrat-lamar-smith-three-years-hottest-record-ea/',\n",
              " '488': 'http://www.snopes.com/roger-stone-nixon-tattoo/',\n",
              " '489': 'http://www.politifact.com/truth-o-meter/statements/2016/aug/26/hillary-clinton/hillary-clinton-citing-trump-effect-says-teachers-/',\n",
              " '490': 'http://www.politifact.com/truth-o-meter/statements/2016/mar/10/hillary-clinton/hillary-clinton-says-bernie-sanders-supported-minu/',\n",
              " '491': 'http://www.snopes.com/trump-fake-time-covers/',\n",
              " '492': 'http://www.politifact.com/california/statements/2017/jun/02/kevin-de-leon/does-california-have-10-times-many-clean-energy-jo/',\n",
              " '493': 'http://www.snopes.com/politics/quotes/einstein.asp',\n",
              " '494': 'https://www.snopes.com/fact-check/philadelphia-starbucks-arrest/',\n",
              " '495': 'http://www.snopes.com/russian-spy-ship-east-coast/',\n",
              " '496': 'http://www.politifact.com/wisconsin/statements/2017/apr/27/mike-crute/despite-losing-nomination-hillary-clinton-bernie-s/',\n",
              " '497': 'http://www.snopes.com/holidays/christmas/donner.asp',\n",
              " '498': 'http://www.politifact.com/truth-o-meter/statements/2016/jul/14/gary-johnson/mexican-immigrants-more-law-abiding/',\n",
              " '499': 'http://www.snopes.com/jfk-presidential-salary/',\n",
              " '500': 'https://www.snopes.com/fact-check/patrick-little-neo-nazi-california/',\n",
              " '501': 'http://www.politifact.com/truth-o-meter/statements/2016/sep/13/barack-obama/barack-obama-says-trump-foundation-took-other-peop/',\n",
              " '502': 'http://www.snopes.com/horrors/mayhem/needles.asp',\n",
              " '126': 'https://www.snopes.com/fact-check/donald-trump-jr-tweet/',\n",
              " '503': 'http://www.politifact.com/wisconsin/statements/2017/jul/21/randy-bryce/challenger-target-claim-paul-ryan-has-gone-600-day/',\n",
              " '504': 'https://www.snopes.com/trump-patent-maga-2012/',\n",
              " '505': 'https://www.snopes.com/photos/risque/license.asp',\n",
              " '506': 'http://www.snopes.com/melania-trump-jet/',\n",
              " '236': 'https://www.snopes.com/fact-check/safety-first/',\n",
              " '507': 'https://www.snopes.com/politics/guns/bushnra.asp',\n",
              " '508': 'http://www.snopes.com/radiotv/tv/scarynews.asp',\n",
              " '509': 'http://www.politifact.com/wisconsin/statements/2018/mar/02/tammy-baldwin/mostly-target-claim-97-percent-gun-owners-support-/',\n",
              " '510': 'http://www.politifact.com/north-carolina/statements/2016/jul/08/donald-trump/donald-trump-set-record-most-gop-primary-votes-eve/',\n",
              " '511': 'http://www.politifact.com/wisconsin/statements/2018/jan/12/kelda-helen-roys/ahead-2018-election-gov-scott-walker-attacked-spen/',\n",
              " '512': 'https://www.snopes.com/did-sen-tom-cotton-issue-a-cease-and-desist-to-a-constituent/',\n",
              " '513': 'http://www.politifact.com/new-york/statements/2017/jan/20/edward-cox/new-york-losing-more-people-other-states-its-gaini/',\n",
              " '514': 'http://www.snopes.com/doctor-saves-baby-karma/',\n",
              " '515': 'http://www.snopes.com/photos/arts/toilet.asp',\n",
              " '516': 'http://www.politifact.com/pennsylvania/statements/2017/jun/02/bill-peduto/did-80-percent-pittsburgh-really-vote-hillary-clin/',\n",
              " '517': 'http://www.politifact.com/north-carolina/statements/2016/jul/27/donald-trump/donald-trump-says-he-and-bernie-sanders-are-very-s/',\n",
              " '518': 'https://www.snopes.com/tide-pod-challenge/',\n",
              " '184': 'http://www.snopes.com/horrors/freakish/laughing.asp',\n",
              " '519': 'https://www.snopes.com/was-fake-snow-made-from-asbestos-marketed-as-christmas-decor/',\n",
              " '520': 'http://www.snopes.com/rumors/manyear.asp',\n",
              " '521': 'http://www.snopes.com/politics/medical/mammograms.asp',\n",
              " '89': 'https://www.snopes.com/fact-check/starbuccaneers/',\n",
              " '522': 'http://www.politifact.com/california/statements/2018/feb/19/jackie-speier/fact-checking-sad-statistic-number-women-murdered-/',\n",
              " '523': 'http://www.snopes.com/nps-twitter-account-shut-down/',\n",
              " '524': 'https://www.snopes.com/fact-check/emma-gonzalez-flag-patch/',\n",
              " '525': 'http://www.snopes.com/music/songs/8675309.asp',\n",
              " '526': 'http://www.politifact.com/truth-o-meter/statements/2017/feb/13/ron-johnson/border-fence-israel-cut-illegal-immigration-99-per/',\n",
              " '527': 'http://www.snopes.com/photos/odd/beercans.asp',\n",
              " '528': 'https://www.snopes.com/congress-paid-military-not-shutdown/',\n",
              " '529': 'http://www.snopes.com/green-party-state-ballots/',\n",
              " '530': 'http://www.snopes.com/science/cricket.asp',\n",
              " '531': 'http://www.snopes.com/photos/animals/chimeracat.asp',\n",
              " '532': 'http://www.politifact.com/truth-o-meter/statements/2015/jul/13/bernie-s/bernie-sanders-says-real-unemployment-rate-african/',\n",
              " '533': 'http://www.snopes.com/photos/politics/kerrysign.asp',\n",
              " '534': 'http://www.politifact.com/wisconsin/statements/2018/apr/03/ronna-mcdaniel/rnc-chair-ronna-mcdaniel-says-us-census-bureau-ask/',\n",
              " '535': 'http://www.snopes.com/business/deals/hummer.asp',\n",
              " '536': 'http://www.snopes.com/can-the-25th-amendment-prevent-a-trump-presidency/',\n",
              " '537': 'http://www.politifact.com/truth-o-meter/statements/2017/jun/27/bernie-s/bernie-sanders-projection-thousands-added-deaths-g/',\n",
              " '538': 'http://www.politifact.com/florida/statements/2017/feb/03/mitch-mcconnell/democrats-didnt-object-neil-gorsuchs-2006-confirma/',\n",
              " '539': 'http://www.snopes.com/melania-trump-relationship-tweet/',\n",
              " '3': 'https://www.snopes.com/fact-check/donald-trump-haters-and-losers/',\n",
              " '540': 'http://www.snopes.com/rumors/smaltown.asp',\n",
              " '541': 'http://www.politifact.com/wisconsin/statements/2016/sep/28/tammy-baldwin/donald-trump-only-major-party-nominee-40-years-not/',\n",
              " '542': 'https://www.snopes.com/sahara-desert-snowfall/',\n",
              " '202': 'http://www.snopes.com/photos/animals/weasel.asp',\n",
              " '543': 'http://www.snopes.com/inboxer/outrage/master.asp',\n",
              " '544': 'http://www.politifact.com/truth-o-meter/statements/2015/oct/07/club-growth/trump-supports-eminent-domain-abuse-says-conservat/',\n",
              " '545': 'http://www.snopes.com/politics/quotes/lessercut.asp',\n",
              " '203': 'http://www.snopes.com/legal/jackson.asp',\n",
              " '546': 'http://www.politifact.com/texas/statements/2016/sep/01/hillary-clinton/hillary-clinton-correct-austins-alex-jones-said-no/',\n",
              " '547': 'http://www.snopes.com/donald-trump-lumberton-nc/',\n",
              " '548': 'http://www.snopes.com/ashes-mailed-to-congress/',\n",
              " '549': 'https://www.snopes.com/football-fan-flag-stand-national-anthem/',\n",
              " '550': 'http://www.snopes.com/rumors/charity.asp',\n",
              " '551': 'http://www.politifact.com/new-jersey/statements/2012/oct/25/jesse-ventura/jesse-ventura-says-convicted-congressmen-senators-/',\n",
              " '552': 'http://www.snopes.com/quotes/johnwayne/indians.asp',\n",
              " '553': 'http://www.politifact.com/virginia/statements/2016/jul/14/donald-trump/donald-trump-correctly-says-20-veterans-commit-sui/',\n",
              " '554': 'http://www.politifact.com/new-york/statements/2017/sep/29/edward-cox/new-york-has-most-people-leaving-other-states-coun/',\n",
              " '555': 'http://www.snopes.com/are-there-more-trees-on-earth-than-there-are-stars-in-the-milky-way/',\n",
              " '556': 'http://www.politifact.com/punditfact/statements/2016/jul/13/van-jones/van-jones-claim-drug-use-imprisonment-rates-blacks/',\n",
              " '206': 'https://www.snopes.com/rumors/woods.asp',\n",
              " '557': 'http://www.politifact.com/illinois/statements/2018/feb/27/nancy-rotering/after-parkland-can-illinois-communities-ban-assaul/',\n",
              " '558': 'http://www.politifact.com/punditfact/statements/2016/apr/27/john-oliver/mystery-strom-thurmond-puerto-rico-and-bankruptcy-/',\n",
              " '559': 'http://www.snopes.com/disney/films/rescuers.asp',\n",
              " '15': 'https://www.snopes.com/fact-check/shell-shock/',\n",
              " '560': 'http://www.snopes.com/trump-sends-unpresidented-tweet/',\n",
              " '561': 'http://www.snopes.com/paul-ryan-conducting-obamacare-phone-survey/',\n",
              " '562': 'https://www.snopes.com/business/names/domains.asp',\n",
              " '563': 'http://www.snopes.com/jeepers-creepers-victor-salva-convicted-child-molestation/',\n",
              " '7': 'https://www.snopes.com/fact-check/crass-transportation/',\n",
              " '564': 'https://www.snopes.com/fact-check/lava-lamp-death/',\n",
              " '565': 'https://www.snopes.com/tax-bill-deduction-losses-wildfires/',\n",
              " '260': 'https://www.snopes.com/fact-check/anne-frank-refugee/',\n",
              " '566': 'http://www.snopes.com/katrina/charity/debitcard.asp',\n",
              " '567': 'http://www.snopes.com/buffalo-wild-wings-anthem/',\n",
              " '568': 'http://www.snopes.com/ronald-reagan-fascism-liberalism/',\n",
              " '569': 'http://www.snopes.com/mike-pence-muslim-ban-offensive/',\n",
              " '570': 'http://www.politifact.com/wisconsin/statements/2017/may/15/glenn-grothman/glenn-grothman-says-planned-parenthood-leading-abo/',\n",
              " '571': 'https://www.snopes.com/fact-check/brazil-mothers-day-robbery/',\n",
              " '572': 'http://www.politifact.com/punditfact/statements/2015/may/17/bill-gates/bill-gates-high-taxes-and-high-growth-can-co-exist/',\n",
              " '573': 'http://www.politifact.com/california/statements/2017/apr/04/jerry-brown/jerry-browns-mostly-true-claim-about-tremendous-jo/',\n",
              " '574': 'http://www.snopes.com/politics/obama/obamafuture.asp',\n",
              " '575': 'http://www.politifact.com/truth-o-meter/statements/2017/aug/06/donald-trump/trump-claims-un-sanctions-cost-north-korea-over-1-/',\n",
              " '576': 'https://www.snopes.com/fact-check/troubled-waters/',\n",
              " '577': 'http://www.politifact.com/california/statements/2017/feb/28/gavin-newsom/true-campaign-trump-said-states-should-decide-lega/',\n",
              " '578': 'http://www.politifact.com/truth-o-meter/statements/2016/sep/04/mike-pence/mike-pence-cites-clinton-support-more-syrian-refug/',\n",
              " '579': 'http://www.politifact.com/truth-o-meter/statements/2008/feb/25/barack-obama/clinton-has-changed-on-nafta/',\n",
              " '580': 'http://www.snopes.com/legal/3peat.asp',\n",
              " '581': 'https://www.snopes.com/was-yee-arrested-for-gun-trafficking/',\n",
              " '582': 'http://www.politifact.com/truth-o-meter/statements/2016/oct/30/robby-mook/clinton-campaign-says-comey-letter-violates-justic/',\n",
              " '583': 'http://www.politifact.com/wisconsin/statements/2017/aug/30/kathleen-vinehout/senator-under-scott-walker-state-16000-manufacturi/',\n",
              " '584': 'http://www.snopes.com/are-blue-balls-a-real-thing/',\n",
              " '585': 'http://www.politifact.com/texas/statements/2016/dec/06/annies-list/annies-list-men-hold-80-percent-lawmaking-power-te/',\n",
              " '586': 'http://www.politifact.com/truth-o-meter/statements/2016/jan/12/barack-obama/we-have-cut-our-deficits-three-fourths-obama-state/',\n",
              " '587': 'http://www.politifact.com/truth-o-meter/statements/2015/aug/18/cory-booker/lightning-strikes-more-common-person-voter-fraud-s/',\n",
              " '588': 'http://www.politifact.com/truth-o-meter/statements/2018/jan/30/donald-trump/trump-says-tax-bill-led-bonuses-three-million-work/',\n",
              " '188': 'https://www.snopes.com/fact-check/hillary-clinton-sponsored-a-bill-to-punish-flag-burning/',\n",
              " '106': 'https://www.snopes.com/business/alliance/inandout.asp',\n",
              " '589': 'http://www.snopes.com/politics/bush/laura.asp',\n",
              " '590': 'http://www.politifact.com/texas/statements/2016/oct/28/dan-patrick/dan-patrick-calling-more-foster-parents-says-state/',\n",
              " '591': 'https://www.snopes.com/chelsea-clinton-church-satan/',\n",
              " '592': 'http://www.snopes.com/photos/people/peppers.asp',\n",
              " '593': 'http://www.snopes.com/daily-stormer-whitefish-montana/',\n",
              " '594': 'https://www.snopes.com/music/songs/mondays.asp',\n",
              " '595': 'http://www.politifact.com/ohio/statements/2018/feb/27/tim-ryan/after-parkland-shooting-ohio-congressman-said-70-8/',\n",
              " '200': 'https://www.snopes.com/fact-check/suture-self/',\n",
              " '596': 'http://www.politifact.com/wisconsin/statements/2016/aug/24/dana-wachs/general-public-and-press-not-allowed-attend-gov-sc/',\n",
              " '597': 'http://www.snopes.com/politics/guns/reaganak47.asp',\n",
              " '598': 'http://www.politifact.com/truth-o-meter/statements/2017/mar/08/nancy-pelosi/nancy-pelosi-says-donald-trumps-child-care-proposa/',\n",
              " '599': 'http://www.politifact.com/truth-o-meter/statements/2017/mar/27/charles-schumer/does-trumps-cabinet-own-more-13-americans/',\n",
              " '600': 'http://www.snopes.com/noam-chomsky-predicted-trumps-presidency/',\n",
              " '601': 'http://www.politifact.com/pennsylvania/statements/2017/jan/05/donald-trump/did-word-trumps-inauguration-concert-cause-jackie-/',\n",
              " '602': 'http://www.snopes.com/photos/animals/giantrabbit.asp',\n",
              " '603': 'http://www.snopes.com/politics/military/dncships.asp',\n",
              " '604': 'http://www.snopes.com/inboxer/outrage/rosapark.asp',\n",
              " '605': 'http://www.snopes.com/hennepin-county-flag/',\n",
              " '606': 'http://www.politifact.com/punditfact/statements/2015/mar/29/dana-bash/how-many-bills-has-ted-cruz-passed-senate/',\n",
              " '607': 'http://www.snopes.com/textbook-brock-turner-criminology-example/',\n",
              " '247': 'https://www.snopes.com/fact-check/sole-loyalty/',\n",
              " '178': 'https://www.snopes.com/fact-check/clintons-arafat/',\n",
              " '608': 'http://www.politifact.com/california/statements/2017/apr/14/arnold-schwarzenegger/congress-really-less-popular-hemorrhoids-and-herpe/',\n",
              " '609': 'http://www.snopes.com/inboxer/charity/target.asp',\n",
              " '610': 'http://www.snopes.com/photos/signs/grigsby.asp',\n",
              " '611': 'https://www.snopes.com/fact-check/president-barack-obama-congratulate-putin-2012-win/',\n",
              " '612': 'http://www.snopes.com/racist-protesters-protected-black-policeman/',\n",
              " '613': 'http://www.snopes.com/texas-high-school-students-fake-trump-assassination/',\n",
              " '614': 'http://www.politifact.com/illinois/statements/2016/sep/15/tammy-duckworth/tammy-duckworth-hits-mark-kirk-military-embellishm/',\n",
              " '615': 'http://www.snopes.com/horrors/freakish/lawnmower.asp',\n",
              " '616': 'http://www.politifact.com/truth-o-meter/statements/2015/jul/15/hillary-clinton/hillary-clinton-says-she-called-wall-street-regula/',\n",
              " '617': 'http://www.politifact.com/truth-o-meter/statements/2017/jan/11/donald-trump/trump-says-russians-were-unable-hack-republican-na/',\n",
              " '6': 'http://www.snopes.com/radiotv/tv/trek.asp',\n",
              " '618': 'http://www.snopes.com/people-golfing-right-next-huge-forest-fire/',\n",
              " '619': 'http://www.politifact.com/truth-o-meter/statements/2017/may/16/chris-murphy/donald-trump-chris-murphy-russian-law-firm-year/',\n",
              " '620': 'http://www.politifact.com/truth-o-meter/statements/2016/jul/29/hillary-clinton/dnc-hillary-clinton-slams-donald-trump-making-prod/',\n",
              " '621': 'http://www.politifact.com/texas/statements/2017/jun/29/shawn-thierry/shawn-thierry-says-texas-leads-nation-mothers-dyin/',\n",
              " '622': 'http://www.politifact.com/new-york/statements/2016/sep/19/elaine-phillips/new-york-has-been-most-corrupt-state-decades/',\n",
              " '623': 'http://www.politifact.com/truth-o-meter/statements/2016/sep/22/michael-morell/experts-say-donald-trumps-policies-dovetail-what-v/',\n",
              " '624': 'http://www.snopes.com/hamilton-non-white-casting-call/',\n",
              " '625': 'https://www.snopes.com/politics/bush/house.asp',\n",
              " '626': 'http://www.politifact.com/virginia/statements/2016/oct/05/tim-kaine/tim-kaine-correctly-notes-richard-nixon-released-t/',\n",
              " '627': 'https://www.snopes.com/nra-letter-wisconsin-judges/',\n",
              " '628': 'http://www.politifact.com/new-york/statements/2018/feb/01/brian-kavanagh/rate-gun-caused-deaths-ny-among-lowest-country/',\n",
              " '629': 'http://www.snopes.com/risque/aphrodisiacs/yawn.asp',\n",
              " '630': 'http://www.politifact.com/global-news/statements/2017/jan/24/nikki-haley/un-peacekeeping-money-maker/',\n",
              " '631': 'http://www.snopes.com/food/ingredient/bugjuice.asp',\n",
              " '189': 'https://www.snopes.com/fact-check/mexico-voter-id/',\n",
              " '632': 'http://www.politifact.com/california/statements/2017/jul/11/travis-allen/mostly-true-californias-taxes-among-highest-nation/',\n",
              " '633': 'http://www.politifact.com/new-hampshire/statements/2012/oct/25/barack-obama/barack-obama-says-banks-paid-back-all-federal-bail/',\n",
              " '634': 'http://www.politifact.com/wisconsin/statements/2015/oct/08/sean-duffy/planned-parenthood-spends-millions-elect-democrats/',\n",
              " '635': 'http://www.politifact.com/truth-o-meter/statements/2015/dec/20/bernie-s/fact-checking-bernie-sanders-claim-us-spends-three/',\n",
              " '636': 'https://www.snopes.com/trump-challenge-coins/',\n",
              " '637': 'http://www.politifact.com/punditfact/statements/2015/jul/24/erick-erickson/conservative-columnist-trump-once-backed-single-pa/',\n",
              " '638': 'http://www.politifact.com/florida/statements/2016/aug/24/patrick-murphy/rubio-voted-against-violence-against-women-act-mur/',\n",
              " '639': 'http://www.snopes.com/photos/airplane/f18flylow.asp',\n",
              " '640': 'http://www.politifact.com/truth-o-meter/statements/2017/nov/06/donald-trump/trump-pairs-recent-rise-coal-output-ending-war-coa/',\n",
              " '641': 'http://www.snopes.com/trump-obama-nfl-tweet/',\n",
              " '642': 'http://www.politifact.com/truth-o-meter/statements/2017/jul/26/ted-lieu/thousands-transgender-americans-serve-military-con/',\n",
              " '643': 'http://www.politifact.com/truth-o-meter/statements/2017/feb/12/donald-trump/donald-trump-says-refugee-admissions-surged-7-coun/',\n",
              " '644': 'http://www.politifact.com/truth-o-meter/statements/2016/oct/19/hillary-clinton/hillary-clinton-says-33000-americans-die-each-year/',\n",
              " '645': 'http://www.politifact.com/truth-o-meter/statements/2012/jul/23/facebook-posts/do-people-get-shot-every-year-facebook-post-says/',\n",
              " '646': 'http://www.politifact.com/texas/statements/2016/aug/17/julian-castro/julian-castro-says-california-besting-texas-creati/',\n",
              " '647': 'http://www.politifact.com/global-news/statements/2017/feb/01/rob-portman/us-contribution-un-22-percent/',\n",
              " '648': 'http://www.politifact.com/truth-o-meter/statements/2016/oct/20/hillary-clinton/hillary-clinton-correctly-claims-trump-tower-was-p/',\n",
              " '649': 'http://www.snopes.com/movies/actors/nicholson.asp',\n",
              " '650': 'http://www.politifact.com/wisconsin/statements/2016/nov/17/paul-ryan/donald-trump-and-paul-ryan-threatening-repeal-and-/',\n",
              " '651': 'https://www.snopes.com/fact-check/tine-traveler/',\n",
              " '652': 'http://www.politifact.com/new-york/statements/2016/sep/16/bob-duffy/upstate-economy-one-worst-country/',\n",
              " '653': 'https://www.snopes.com/politics/education/canattack.asp',\n",
              " '654': 'http://www.politifact.com/florida/statements/2012/mar/02/aclu-florida/shark-attacks-are-more-common-voter-fraud-florida/',\n",
              " '150': 'https://www.snopes.com/fact-check/does-president-trump-plan-to-end-a-program-funding-heating-for-the-elderly-and-disabled/',\n",
              " '655': 'https://www.snopes.com/racist-carnival-game/',\n",
              " '656': 'http://www.politifact.com/truth-o-meter/statements/2018/mar/08/angus-king/does-much-steel-does-us-import-china/',\n",
              " '657': 'http://www.politifact.com/truth-o-meter/statements/2018/jan/11/norm-eisen/donald-trumps-fake-news-awards-could-land-white-ho/',\n",
              " '5': 'https://www.snopes.com/fact-check/rivers-of-blood-in-dhaka-bangladesh/',\n",
              " '658': 'https://www.snopes.com/fact-check/did-an-illinois-suburb-enact-a-ban-on-assault-weapons/',\n",
              " '659': 'http://www.snopes.com/politics/guns/gunmap.asp',\n",
              " '660': 'http://www.politifact.com/truth-o-meter/statements/2016/jul/21/hillary-clinton/yep-donald-trumps-companies-have-declared-bankrupt/',\n",
              " '661': 'http://www.snopes.com/did-u-s-government-ban-lawn-dart-sales/',\n",
              " '662': 'http://www.politifact.com/truth-o-meter/statements/2016/jul/07/donald-trump/donald-trump-isnt-winging-it-complaint-about-air-f/',\n",
              " '663': 'http://www.politifact.com/truth-o-meter/statements/2017/mar/24/donald-trump/trump-china-joined-wto-us-has-lost-60000-factories/',\n",
              " '664': 'http://www.politifact.com/truth-o-meter/statements/2016/oct/13/hillary-clinton/clinton-sys-muslims-have-been-america-george-washi/',\n",
              " '665': 'http://www.politifact.com/truth-o-meter/statements/2015/oct/13/hillary-clinton/hillary-clinton-bernie-sanders-voted-against-brady/',\n",
              " '666': 'http://www.politifact.com/north-carolina/statements/2016/nov/03/richard-burr/sen-richard-burr-claims-responsibility-longest-jud/',\n",
              " '667': 'http://www.politifact.com/global-news/statements/2016/oct/13/barack-obama/refugee-summit-obama-claims-refugees-us-are-screen/',\n",
              " '668': 'http://www.snopes.com/photographs-of-eiffel-tower-at-night/',\n",
              " '669': 'http://www.snopes.com/handy-excuses-nixon-backers/',\n",
              " '670': 'https://www.snopes.com/risque/kinky/panties.asp',\n",
              " '671': 'https://www.snopes.com/sports/football/caraccidents.asp',\n",
              " '672': 'http://www.snopes.com/photos/signs/hanukkah.asp',\n",
              " '673': 'http://www.snopes.com/sean-spicer-onion-retweet/',\n",
              " '674': 'http://www.snopes.com/holidays/christmas/truce.asp',\n",
              " '675': 'https://www.snopes.com/fact-check/free-rice/',\n",
              " '676': 'http://www.politifact.com/texas/statements/2014/jan/09/us-census-bureau/americans-must-answer-us-census-bureau-survey-law-/',\n",
              " '677': 'http://www.politifact.com/north-carolina/statements/2018/mar/05/pricey-harrison/does-america-have-42-percent-worlds-guns/',\n",
              " '678': 'http://www.politifact.com/wisconsin/statements/2017/jan/17/tammy-baldwin/tammy-baldwin-federal-government-prohibited-negoti/',\n",
              " '679': 'http://www.snopes.com/department-of-justice-request-disruptj20/',\n",
              " '680': 'http://www.snopes.com/detroit-firefighter-watermelon-fired/',\n",
              " '681': 'http://www.snopes.com/bernie-sanders-unpaid-interns/',\n",
              " '241': 'http://www.snopes.com/rumors/buscemi.asp',\n",
              " '682': 'http://www.snopes.com/john-kerry-suggests-media-cover-terrorism-less/',\n",
              " '683': 'http://www.politifact.com/wisconsin/statements/2017/jun/23/mark-pocan/mark-pocan-claim-seven-years-later-scott-walker-ha/',\n",
              " '243': 'https://www.snopes.com/fact-check/tamiflu/',\n",
              " '684': 'http://www.politifact.com/new-york/statements/2016/aug/14/sean-patrick-maloney/donald-trump-against-same-sex-marriage/',\n",
              " '685': 'http://www.snopes.com/canadas-immigration-web-site-crashed-after-2016-election/',\n",
              " '686': 'http://www.snopes.com/business/money/pennycost.asp',\n",
              " '687': 'http://www.politifact.com/truth-o-meter/statements/2016/sep/29/donald-trump/trump-says-1800-people-who-were-going-be-deported-/',\n",
              " '688': 'http://www.snopes.com/politics/obama/anthem.asp?from=groupmessage&isappinstalled=0',\n",
              " '689': 'http://www.snopes.com/language/notthink/exception.asp',\n",
              " '690': 'http://www.snopes.com/travel/airline/arrows.asp',\n",
              " '691': 'http://www.politifact.com/truth-o-meter/statements/2012/jan/26/blog-posting/red-state-socialism-graphic-says-gop-leaning-state/',\n",
              " '258': 'https://www.snopes.com/fact-check/photo-finish-2/',\n",
              " '692': 'http://www.politifact.com/truth-o-meter/statements/2018/mar/24/doug-jones/yes-waiting-periods-gun-purchases-have-been-linked/',\n",
              " '693': 'http://www.snopes.com/man-punches-kangaroo-save-dog/',\n",
              " '694': 'http://www.snopes.com/cnn-took-crooked-out-of-trump-tweet-about-clinton/',\n",
              " '695': 'http://www.snopes.com/fyre-festival-bahamas-chaos/',\n",
              " '696': 'http://www.politifact.com/texas/statements/2016/aug/26/lisa-moore/professor-concrete-examples-teachers-students-spur/',\n",
              " '697': 'http://www.politifact.com/wisconsin/statements/2015/jul/29/bernie-s/bernie-sanders-madison-claims-top-01-americans-hav/',\n",
              " '698': 'http://www.politifact.com/florida/statements/2017/sep/29/rick-baker/rick-baker-says-kriseman-tapped-reserves-irma-hes-/',\n",
              " '699': 'http://www.snopes.com/autos/accident/seatbelt.asp',\n",
              " '700': 'http://www.politifact.com/truth-o-meter/statements/2017/mar/22/donald-trump/trump-says-illegal-immigration-down-61-percent-ele/',\n",
              " '701': 'https://www.snopes.com/fact-check/jamie-allman-david-hogg-poker/',\n",
              " '702': 'https://www.snopes.com/iowa-guns-blind/',\n",
              " '703': 'http://www.politifact.com/new-jersey/statements/2011/sep/05/vincent-barrella/point-pleasant-beach-mayor-says-boroughs-beaches-a/',\n",
              " '100': 'https://www.snopes.com/fact-check/homeless-man-versus-corporate-thif/',\n",
              " '704': 'http://www.snopes.com/critters/gnus/squirrel.asp',\n",
              " '705': 'http://www.politifact.com/wisconsin/statements/2013/may/30/mark-pocan/us-constitution-not-explicit-right-vote-wisconsin-/',\n",
              " '706': 'http://www.politifact.com/new-york/statements/2018/jan/17/edward-cox/unemployment-inching-almost-every-county-outside-n/',\n",
              " '707': 'http://www.snopes.com/politics/bush/hager.asp',\n",
              " '708': 'http://www.politifact.com/california/statements/2016/dec/27/jackie-speier/examining-claim-7-children-day-die-gun-violence/',\n",
              " '709': 'http://www.politifact.com/new-york/statements/2017/jan/30/deborah-glick/new-yorks-definition-when-fetus-becomes-person/',\n",
              " '710': 'http://www.politifact.com/truth-o-meter/statements/2016/dec/14/watch-food-water/did-rex-tillerson-oil-ceo-and-secretary-state-pick/',\n",
              " '711': 'http://www.snopes.com/photograph-shows-a-praying-mantis-attacking-a-hummingbird/',\n",
              " '712': 'http://www.politifact.com/punditfact/statements/2018/jan/26/ronald-brownstein/did-senators-pass-immigration-reform-bills-2006-20/',\n",
              " '713': 'http://www.politifact.com/florida/statements/2016/jul/26/bill-clinton/bill-clinton-says-hillary-clinton-helped-get-done-/',\n",
              " '714': 'http://www.politifact.com/truth-o-meter/statements/2016/oct/25/hillary-clinton/trump-first-ever-candidate-not-say-hell-accept-ele/',\n",
              " '715': 'http://www.politifact.com/punditfact/statements/2013/dec/19/steven-rattner/it-easier-obtain-american-dream-europe/',\n",
              " '716': 'http://www.snopes.com/horrors/freakish/hotspring.asp',\n",
              " '717': 'http://www.politifact.com/truth-o-meter/statements/2017/feb/14/tom-cotton/arkansas-senator-says-1-million-green-cards-issue-/',\n",
              " '718': 'http://www.snopes.com/medical/drugs/hylands.asp',\n",
              " '719': 'http://www.snopes.com/carl-paladino/',\n",
              " '720': 'http://www.snopes.com/donald-trump-purge-slogan/',\n",
              " '721': 'https://www.snopes.com/fact-check/tounge-of-frog/',\n",
              " '722': 'https://www.snopes.com/shane-patrick-boyle-died-after-starting-a-gofundme-campaign-for-insulin/',\n",
              " '723': 'http://www.politifact.com/global-news/statements/2017/feb/08/sherrod-brown/yes-exxonmobil-under-tillerson-fought-oil-payment-/',\n",
              " '724': 'https://www.snopes.com/trump-sold-an-apartment-haitian-dictator/',\n",
              " '725': 'http://www.politifact.com/truth-o-meter/statements/2012/aug/15/stephanie-cutter/ryans-plan-includes-700-billion-medicare-cuts-says/',\n",
              " '726': 'http://www.snopes.com/politics/war/byrd.asp',\n",
              " '727': 'http://www.politifact.com/california/statements/2016/dec/15/antonio-villaraigosa/villaraigosa-claims-california-oregon-washington-p/',\n",
              " '728': 'http://www.politifact.com/florida/statements/2018/feb/22/giffords/florida-gov-rick-scott-made-it-illegal-doctors-tal/',\n",
              " '729': 'http://www.politifact.com/truth-o-meter/statements/2017/may/31/john-kelly/are-there-us-embassies-countries-listed-trumps-tra/',\n",
              " '730': 'http://www.politifact.com/truth-o-meter/statements/2017/feb/16/donald-trump/trump-hints-stock-market-record-high-linked-presid/',\n",
              " '731': 'http://www.politifact.com/truth-o-meter/statements/2016/mar/15/hillary-clinton/hillary-clinton-says-guns-exceed-next-nine-categor/',\n",
              " '732': 'http://www.politifact.com/truth-o-meter/statements/2015/dec/20/donald-trump/donald-trump-right-about-putins-popularity-russia/',\n",
              " '733': 'http://www.politifact.com/truth-o-meter/statements/2007/jul/10/sam-brownback/a-fair-account-of-romneys-position/',\n",
              " '734': 'http://www.politifact.com/truth-o-meter/statements/2016/jul/19/chris-christie/stamp-one-correct-chris-christie-says-clinton-wron/',\n",
              " '735': 'https://www.snopes.com/lionesses-grow-manes/',\n",
              " '736': 'http://www.politifact.com/georgia/statements/2017/jun/20/donald-trump/trump-right-ossoff-does-not-live-georgias-6th-cong/',\n",
              " '737': 'http://www.politifact.com/truth-o-meter/statements/2017/mar/09/bernie-s/sanders-gop-health-care-plan-gives-wealthiest-275-/',\n",
              " '738': 'http://www.snopes.com/gray-death/',\n",
              " '739': 'http://www.snopes.com/media/goofs/heywood.asp',\n",
              " '740': 'http://www.politifact.com/truth-o-meter/statements/2016/jan/17/hillary-clinton/fact-checking-gun-manufacturer-liability-bernie/',\n",
              " '741': 'http://www.politifact.com/florida/statements/2016/jul/25/tim-canova/tim-canova-attacks-debbie-wasserman-schultzs-recor/',\n",
              " '742': 'https://www.snopes.com/horrors/freakish/window.asp',\n",
              " '743': 'https://www.snopes.com/photos/signs/receipt.asp',\n",
              " '744': 'http://www.politifact.com/florida/statements/2016/sep/23/patrick-murphy/rubio-would-not-allow-rape-or-incest-exceptions-ab/',\n",
              " '745': 'https://www.snopes.com/sushi-fanatic-5-foot-long-tapeworm/',\n",
              " '746': 'https://www.snopes.com/fact-check/itin-soldiers/',\n",
              " '747': 'http://www.snopes.com/katrina/photos/looters.asp',\n",
              " '748': 'http://www.snopes.com/photos/animals/raymigration.asp',\n",
              " '749': 'http://www.snopes.com/1912-article-global-warming/',\n",
              " '750': 'http://www.politifact.com/florida/statements/2017/feb/22/carl-bildt/former-swedish-pm-says-more-murders-florida-where-/',\n",
              " '751': 'http://www.snopes.com/donald-trump-global-warming-hoax/',\n",
              " '752': 'http://www.snopes.com/lbj-smothers-brothers/',\n",
              " '753': 'http://www.snopes.com/did-two-men-cut-off-dogs-ears/',\n",
              " '754': 'http://www.snopes.com/politics/sexuality/barilla.asp',\n",
              " '755': 'https://www.snopes.com/will-defunct-chinese-space-station-crash-earth-march-2018/',\n",
              " '756': 'http://www.politifact.com/tennessee/statements/2012/sep/28/bob-corker/bob-corker-says-senate-has-not-passed-budget-more-/',\n",
              " '757': 'http://www.snopes.com/trump-taps-outspoken-climate-denier-to-oversee-epa-transition-team/',\n",
              " '758': 'https://www.snopes.com/starving-polar-bear-viral/',\n",
              " '759': 'https://www.snopes.com/fact-check/the-follower/',\n",
              " '210': 'http://www.snopes.com/critters/crusader/vegankitten.asp',\n",
              " '760': 'https://www.snopes.com/kim-davis-married-four-times/',\n",
              " '761': 'http://www.politifact.com/punditfact/statements/2015/dec/30/stephen-hayes/guantanamo-key-component-terrorist-propaganda/',\n",
              " '762': 'https://www.snopes.com/politics/conspiracy/itanimulli.asp',\n",
              " '763': 'http://www.politifact.com/truth-o-meter/statements/2017/dec/04/jeff-sessions/violent-crime-some-still-well-historical-highs/',\n",
              " '764': 'http://www.snopes.com/college/homework/foundcar.asp',\n",
              " '765': 'http://www.snopes.com/medical/disease/cart.asp',\n",
              " '766': 'http://www.snopes.com/politics/christmas/walmart.asp',\n",
              " '767': 'http://www.politifact.com/truth-o-meter/statements/2018/mar/06/donald-trump/donald-trump-correct-about-record-low-ratings-2018/',\n",
              " '768': 'https://www.snopes.com/photos/signs/sciencetest.asp',\n",
              " '769': 'http://www.snopes.com/inboxer/outrage/leave.asp',\n",
              " '770': 'https://www.snopes.com/trump-supporters-navajo-legislator-legal/',\n",
              " '771': 'http://www.politifact.com/truth-o-meter/statements/2016/apr/24/bernie-s/bernie-sanders-said-poor-people-dont-vote/',\n",
              " '772': 'https://www.snopes.com/critters/disposal/whale.asp',\n",
              " '773': 'https://www.snopes.com/georgia-police-dog-head/',\n",
              " '774': 'http://www.politifact.com/truth-o-meter/statements/2017/nov/07/markwayne-mullin/oklahoma-rep-mullin-says-average-family-would-save/',\n",
              " '775': 'http://www.snopes.com/medical/myths/jeanhilliard.asp',\n",
              " '776': 'http://www.politifact.com/truth-o-meter/statements/2017/nov/09/jeff-flake/flake-roy-moore-said-muslims-shouldnt-serve-congre/',\n",
              " '777': 'http://www.snopes.com/can-text-food-get-free-meals-children/',\n",
              " '778': 'http://www.politifact.com/wisconsin/statements/2017/jun/02/mike-mccabe/richest-1-percent-pay-lowest-rate-state-and-local/',\n",
              " '779': 'http://www.politifact.com/truth-o-meter/statements/2016/aug/08/donald-trump/donald-trump-accurately-says-media-wrong-he-kicked/',\n",
              " '780': 'https://www.snopes.com/politics/mccain/5million.asp',\n",
              " '781': 'https://www.snopes.com/joe-kennedy-pharma/',\n",
              " '782': 'http://www.politifact.com/new-york/statements/2018/feb/01/robert-mujica/do-downstate-ny-residents-contribute-more-income-t/',\n",
              " '783': 'https://www.snopes.com/louis-farrakhan-intercede-quote/',\n",
              " '784': 'http://www.politifact.com/truth-o-meter/statements/2016/nov/01/hillary-clinton/trump-said-he-would-require-schools-allow-guns-cli/',\n",
              " '785': 'http://www.politifact.com/truth-o-meter/statements/2016/jul/25/michelle-obama/michelle-obama-correct-white-house-was-built-slave/',\n",
              " '786': 'http://www.snopes.com/hillary-clinton-rated-admired-woman-twenty-times/',\n",
              " '787': 'http://www.snopes.com/politics/crime/roderickscott.asp',\n",
              " '788': 'http://www.politifact.com/truth-o-meter/statements/2016/jan/24/bernie-s/yes-donald-trump-really-did-tweet-climate-change-h/',\n",
              " '789': 'https://www.snopes.com/fact-check/michelle-fields-on-social-security/',\n",
              " '790': 'http://www.politifact.com/wisconsin/statements/2012/feb/20/mark-neumann/uncle-sam-spends-six-figures-study-coked-birds-cop/',\n",
              " '791': 'http://www.snopes.com/lost/closed.asp',\n",
              " '792': 'https://www.snopes.com/science/microwave.asp',\n",
              " '793': 'https://www.snopes.com/fact-check/stirring-response/',\n",
              " '218': 'https://www.snopes.com/politics/obama/london.asp',\n",
              " '794': 'https://www.snopes.com/oxford-junior-dictionary-words/',\n",
              " '795': 'http://www.politifact.com/ohio/statements/2016/sep/21/donald-trump/trump-us-spends-more-almost-any-other-major-countr/',\n",
              " '84': 'https://www.snopes.com/fact-check/did-senate-dems-vote-en-masse-to-cut-veterans-pensions/',\n",
              " '796': 'http://www.politifact.com/truth-o-meter/statements/2017/may/01/rex-tillerson/does-china-account-90-north-korean-trade-rex-tille/',\n",
              " '797': 'http://www.snopes.com/politics/guns/dalailama.asp',\n",
              " '798': 'http://www.snopes.com/ossoff-sixth-congressional-district/',\n",
              " '799': 'http://www.snopes.com/music/songs/motherchildreunion.asp',\n",
              " '800': 'http://www.snopes.com/language/stories/420.asp',\n",
              " '801': 'http://www.snopes.com/coretta-scott-king-criticize-jeff-sessions-record/',\n",
              " '802': 'http://www.snopes.com/politics/quotes/ikesocial.asp',\n",
              " '803': 'https://www.snopes.com/politics/israel/bodyshop.asp',\n",
              " '804': 'http://www.snopes.com/do-farmers-feed-cows-skittles/',\n",
              " '805': 'http://www.politifact.com/florida/statements/2016/jul/07/alan-grayson/alan-grayson-calls-out-patrick-murphy-wall-street-/',\n",
              " '806': 'http://www.snopes.com/politics/immigration/flagshirts.asp',\n",
              " '807': 'https://www.snopes.com/fact-check/trump-presidential-seal/',\n",
              " '808': 'http://www.politifact.com/truth-o-meter/statements/2011/sep/14/ron-paul/ron-paul-says-us-has-military-personnel-130-nation/',\n",
              " '809': 'http://www.snopes.com/can-horses-grow-mustaches/',\n",
              " '810': 'http://www.politifact.com/truth-o-meter/statements/2017/aug/29/adam-schiff/when-can-25th-amendment-be-used-against-president/',\n",
              " '811': 'http://www.politifact.com/florida/statements/2016/oct/11/national-rifle-association/patrick-murphy-wants-ban-commonly-owned-guns-nra-s/',\n",
              " '812': 'http://www.politifact.com/truth-o-meter/statements/2017/apr/28/donald-trump/donald-trump-says-hes-only-modern-president-fill-s/',\n",
              " '813': 'https://www.snopes.com/fact-check/planned-parenthood-disney-abortion/',\n",
              " '814': 'https://www.snopes.com/inboxer/petition/abcjesus.asp',\n",
              " '815': 'http://www.politifact.com/wisconsin/statements/2017/oct/27/mark-pocan/death-tax-republicans-want-repeal-paid-only-2-1000/',\n",
              " '816': 'http://www.politifact.com/global-news/statements/2016/nov/09/john-kerry/yep-most-people-clueless-us-foreign-aid-spending/',\n",
              " '817': 'http://www.politifact.com/new-york/statements/2017/jan/11/robert-astorino/astorino-has-not-raised-tax-levy-westchester-count/',\n",
              " '818': 'https://www.snopes.com/medical/disease/heartattack.asp',\n",
              " '819': 'http://www.politifact.com/new-york/statements/2017/dec/01/kathy-sheehan/being-undocumented-immigrant-us-not-crime/',\n",
              " '820': 'https://www.snopes.com/call-of-duty-wwii-scene-tree/',\n",
              " '821': 'https://www.snopes.com/did-democrats-check-phones-sotu-address/',\n",
              " '216': 'http://www.snopes.com/melania-trump-vs-michelle-obama/',\n",
              " '822': 'http://www.politifact.com/texas/statements/2016/nov/16/donna-howard/donna-howard-says-31-percent-texas-school-district/',\n",
              " '823': 'http://www.politifact.com/truth-o-meter/statements/2008/feb/04/hillary-clinton/50000-started-war-without-body-armor/',\n",
              " '824': 'http://www.politifact.com/florida/statements/2013/jul/01/debbie-wasserman-schultz/more-border-security-and-patrols-under-obama-previ/',\n",
              " '825': 'http://www.snopes.com/cheapskate-brags-pressuring-waiter-5-tip/',\n",
              " '826': 'http://www.politifact.com/missouri/statements/2017/nov/18/nick-schroer/out-context-comments-inflate-stabbing-statistics/',\n",
              " '215': 'http://www.snopes.com/politics/guns/mcconaugheyranch.asp',\n",
              " '827': 'http://www.politifact.com/truth-o-meter/statements/2008/feb/15/chain-email/she-failed-then-followed-bill/',\n",
              " '259': 'https://www.snopes.com/fact-check/hitler-time-magazine-1938/',\n",
              " '828': 'http://www.politifact.com/new-york/statements/2017/aug/25/betty-jean-grant/which-candidates-mayor-took-money-top-buffalo-deve/',\n",
              " '829': 'http://www.politifact.com/wisconsin/statements/2016/oct/31/russ-feingold/russ-feingold-says-ron-johnson-doesnt-believe-ther/',\n",
              " '830': 'http://www.politifact.com/truth-o-meter/statements/2016/oct/05/tim-kaine/tim-kaine-recalls-mike-pence-comment-putin-stronge/',\n",
              " '831': 'http://www.snopes.com/carrier-jobs-to-mexico-despite-trump-deal/',\n",
              " '832': 'http://www.snopes.com/politics/military/freeman.asp',\n",
              " '833': 'http://www.snopes.com/healthcare-gov-maintenance/',\n",
              " '834': 'http://www.snopes.com/trump-touch-orb-saudi-arabia/',\n",
              " '835': 'http://www.politifact.com/truth-o-meter/statements/2016/oct/10/hillary-clinton/clinton-said-terrorists-use-trumps-remarks-about-m/',\n",
              " '836': 'http://www.snopes.com/pokemon-go-developer-niantic-to-develop-harry-potter-go/',\n",
              " '837': 'http://www.politifact.com/truth-o-meter/statements/2017/jan/17/luke-messer/rep-luke-messer-correct-2006-act-allows-border-wal/',\n",
              " '175': 'https://www.snopes.com/manafort-ties-to-russia/',\n",
              " '838': 'http://www.snopes.com/photos/crime/riverpuppies.asp',\n",
              " '839': 'http://www.snopes.com/confessions-of-a-republican/',\n",
              " '840': 'http://www.snopes.com/photos/airplane/flightschool.asp',\n",
              " '841': 'http://www.snopes.com/disney/parks/deaths.asp',\n",
              " '842': 'http://www.politifact.com/florida/statements/2016/oct/27/patrick-murphy/patrick-murphy-marco-rubio-voted-98-percent-time-k/',\n",
              " '843': 'http://www.politifact.com/texas/statements/2016/sep/23/sylvester-turner/sylvester-turner-calls-houston-nations-most-divers/',\n",
              " '844': 'http://www.snopes.com/military/pentagonbathrooms.asp',\n",
              " '845': 'http://www.politifact.com/texas/statements/2016/sep/15/greg-abbott/greg-abbott-says-if-texas-were-country-its-economy/',\n",
              " '846': 'http://www.politifact.com/truth-o-meter/statements/2017/nov/13/kayleigh-mcenany/trump-raised-more-dollars-small-donations/',\n",
              " '847': 'http://www.snopes.com/democrats-socialist-party-poster/',\n",
              " '848': 'http://www.politifact.com/texas/statements/2017/oct/13/colin-jost/colin-jost-weekend-update-texas-dildos-law-6-own-m/',\n",
              " '849': 'http://www.politifact.com/truth-o-meter/statements/2008/mar/03/barack-obama/when-a-briefing-isnt-as-good-as-a-book/',\n",
              " '850': 'https://www.snopes.com/were-real-skeletons-used-in-the-making-of-poltergeist/',\n",
              " '851': 'http://www.politifact.com/truth-o-meter/statements/2016/jul/28/barack-obama/mostly-true-obama-says-world-opinion-us-better-now/',\n",
              " '852': 'https://www.snopes.com/fact-check/song-of-the-south/',\n",
              " '853': 'http://www.snopes.com/critters/crusader/uggs.asp',\n",
              " '854': 'http://www.snopes.com/donald-trump-7-11/',\n",
              " '855': 'http://www.snopes.com/politics/quotes/buffett.asp',\n",
              " '856': 'http://www.politifact.com/truth-o-meter/statements/2016/mar/17/mike-honda/mike-honda-shares-accurate-graphic-about-past-supr/',\n",
              " '857': 'http://www.snopes.com/virgin-islands-order-seizure-weapons-irma/',\n",
              " '858': 'http://www.politifact.com/wisconsin/statements/2014/sep/05/barack-obama/obama-says-he-has-cut-national-deficit-half/',\n",
              " '859': 'http://www.politifact.com/truth-o-meter/statements/2016/sep/01/donald-trump/donald-trump-mostly-right-about-countries-refusing/',\n",
              " '860': 'http://www.snopes.com/politics/bush/piehigher.asp',\n",
              " '861': 'https://www.snopes.com/fact-check/repaid-kindness/',\n",
              " '230': 'https://www.snopes.com/photos/risque/kettle.asp',\n",
              " '862': 'https://www.snopes.com/politics/sexuality/reynolds.asp',\n",
              " '863': 'http://www.snopes.com/quotes/armey.asp',\n",
              " '864': 'http://www.politifact.com/new-york/statements/2017/aug/23/sean-patrick-maloney/most-people-medicaid-are-children-seniors-or-have-/',\n",
              " '865': 'http://www.snopes.com/global-sea-ice-at-a-record-breaking-low/',\n",
              " '866': 'https://www.snopes.com/giant-alligator-florida-golf/',\n",
              " '867': 'http://www.politifact.com/truth-o-meter/statements/2016/jul/21/donald-trump/donald-trumps-largely-accurate-about-clintons-past/',\n",
              " '868': 'http://www.snopes.com/rumors/tonykern.asp',\n",
              " '869': 'http://www.politifact.com/wisconsin/statements/2014/feb/14/tammy-baldwin/expansive-definition-helps-green-jobs-outnumber-oi/',\n",
              " '870': 'http://www.politifact.com/truth-o-meter/statements/2016/sep/19/hillary-clinton/hillary-clinton-correct-hispanic-wealth-disproport/',\n",
              " '871': 'http://www.politifact.com/new-york/statements/2018/feb/28/marco-rubio/rubios-tweet-about-ny-gun-laws-accurate/',\n",
              " '872': 'http://www.politifact.com/colorado/statements/2016/sep/08/alternativepac/pac-backing-gary-johnson-says-dick-cheney-supporte/',\n",
              " '873': 'http://www.politifact.com/florida/statements/2018/feb/15/joy-reid/Do-one-third-of-people/',\n",
              " '874': 'http://www.politifact.com/california/statements/2018/mar/27/travis-allen/has-californias-homeless-population-skyrocketed-an/',\n",
              " '875': 'https://www.snopes.com/william-golding-on-women/',\n",
              " '876': 'https://www.snopes.com/racial/business/cvs.asp',\n",
              " '877': 'http://www.politifact.com/punditfact/statements/2018/feb/12/tucker-carlson/tucker-carlsons-claims-more-immigrants-now-united-/',\n",
              " '878': 'https://www.snopes.com/fact-check/carl-icahn-stock-steel-tariffs/',\n",
              " '30': 'https://www.snopes.com/fact-check/chicken-hawked/',\n",
              " '879': 'https://www.snopes.com/fact-check/phoney-guns/',\n",
              " '880': 'http://www.snopes.com/inboxer/outrage/unvote.asp',\n",
              " '881': 'http://www.politifact.com/ohio/statements/2016/oct/20/ted-strickland/did-rob-portman-call-auto-bailout-lousy-deal/',\n",
              " '99': 'https://www.snopes.com/racial/language/hurricane.asp',\n",
              " '882': 'http://www.snopes.com/rumors/winston.asp',\n",
              " '883': 'https://www.snopes.com/fbi-warned-florida-shooter/',\n",
              " '884': 'https://www.snopes.com/medical/drugs/poppyseed.asp',\n",
              " '885': 'https://www.snopes.com/donald-trump-incitement-violence/',\n",
              " '886': 'http://www.snopes.com/travel/airline/seat29e.asp',\n",
              " '887': 'http://www.snopes.com/photos/animals/luckycoyote.asp',\n",
              " '888': 'http://www.politifact.com/punditfact/statements/2016/aug/21/julie-pace/aps-pace-neither-trump-nor-clinton-has-plan-addres/',\n",
              " '228': 'https://www.snopes.com/photos/signs/pregnant.asp',\n",
              " '889': 'http://www.politifact.com/truth-o-meter/statements/2016/mar/10/ted-cruz/ted-cruz-i-always-opposed-tpp-trans-pacific-partne/',\n",
              " '890': 'http://www.politifact.com/north-carolina/statements/2016/aug/09/common-cause/common-cause-video-says-half-all-nc-legislative-ra/',\n",
              " '891': 'http://www.politifact.com/truth-o-meter/statements/2013/jul/29/don-lemon/cnns-don-lemon-says-more-72-percent-african-americ/',\n",
              " '892': 'http://www.politifact.com/north-carolina/statements/2016/jul/08/hillary-clinton/hillary-clinton-donald-trump-wants-get-rid-federal/',\n",
              " '893': 'http://www.snopes.com/horrors/gruesome/bodybed.asp',\n",
              " '894': 'http://www.politifact.com/truth-o-meter/statements/2016/sep/14/hillary-clinton/comparing-medical-histories-clinton-trump-romney-o/',\n",
              " '895': 'http://www.politifact.com/truth-o-meter/statements/2018/jan/08/donald-trump/donald-trump-right-dow-jones-had-its-fastest-ever-/',\n",
              " '896': 'http://www.politifact.com/virginia/statements/2016/jul/28/donald-trump/donald-trump-says-tim-kaine-proposed-4-billion-tax/',\n",
              " '897': 'http://www.snopes.com/disney/wdco/daycare.asp',\n",
              " '898': 'http://www.politifact.com/florida/statements/2016/feb/09/bernie-s/was-college-once-free-united-states-and-it-oversea/',\n",
              " '899': 'http://www.politifact.com/new-york/statements/2018/mar/22/cynthia-nixon/cynthia-nixon-claims-she-had-more-small-donors-one/',\n",
              " '900': 'https://www.snopes.com/food/ingredient/jello.asp',\n",
              " '901': 'http://www.snopes.com/media/goofs/ktvu.asp',\n",
              " '902': 'http://www.politifact.com/truth-o-meter/statements/2008/jan/06/hillary-clinton/clinton-promoted-childrens-health-care/',\n",
              " '903': 'https://www.snopes.com/lost/bearflag.asp',\n",
              " '904': 'http://www.snopes.com/horrors/parental/dishwasher.asp',\n",
              " '905': 'http://www.politifact.com/virginia/statements/2016/jun/13/dave-brat/dave-brat-us-labor-participation-rate-lowest-70s/',\n",
              " '906': 'http://www.snopes.com/media/goofs/gijoe.asp',\n",
              " '907': 'http://www.politifact.com/texas/statements/2015/oct/21/hillary-clinton/hillary-clinton-says-us-loses-90-people-day-guns/',\n",
              " '908': 'http://www.politifact.com/new-york/statements/2017/jul/24/eric-schneiderman/how-has-obamacare-lowered-new-yorks-uninsured-rate/',\n",
              " '909': 'http://www.snopes.com/photos/odd/searsgrill.asp',\n",
              " '910': 'https://www.snopes.com/rumors/bert.asp',\n",
              " '911': 'http://www.politifact.com/wisconsin/statements/2016/nov/02/donald-trump/donald-trump-right-some-states-you-can-cast-early-/',\n",
              " '912': 'http://www.snopes.com/critters/crusader/xylitol.asp',\n",
              " '913': 'http://www.snopes.com/crime/warnings/handbag.asp',\n",
              " '914': 'http://www.snopes.com/photos/military/c130.asp',\n",
              " '915': 'http://www.snopes.com/zika-spraying-kills-millions-of-bees/',\n",
              " '916': 'http://www.snopes.com/disneys-tower-of-terror-being-replaced-with-guardians-of-the-galaxy/',\n",
              " '917': 'http://www.snopes.com/music/hidden/noanswer.asp',\n",
              " '918': 'http://www.snopes.com/politics/soapbox/reese.asp',\n",
              " '919': 'http://www.politifact.com/global-news/statements/2016/oct/07/oxfam-america/oxfam-worlds-62-richest-own-much-poorest-36-billio/',\n",
              " '920': 'https://www.snopes.com/richard-harrison-pawn-stars-death/',\n",
              " '921': 'http://www.snopes.com/humor/mediagoofs/apsports.asp',\n",
              " '922': 'http://www.politifact.com/north-carolina/statements/2016/jul/15/moms-rising/paid-family-leave-more-popular-college-basketball-/',\n",
              " '923': 'http://www.snopes.com/autos/law/carpool.asp',\n",
              " '924': 'http://www.politifact.com/oregon/statements/2014/jun/04/earl-blumenauer/marijuana-less-addictive-both-alcohol-and-tobacco/',\n",
              " '925': 'http://www.politifact.com/global-news/statements/2017/feb/10/danielle-nierenberg/do-tanzania-farmers-face-prison-terms-trading-seed/',\n",
              " '926': 'http://www.snopes.com/protester-screams-in-cops-face/',\n",
              " '927': 'http://www.snopes.com/scary-playground/',\n",
              " '928': 'http://www.snopes.com/georgia-livestream-suicide/',\n",
              " '238': 'https://www.snopes.com/fact-check/football-follies/',\n",
              " '929': 'http://www.snopes.com/risque/animals/woofing.asp',\n",
              " '930': 'http://www.politifact.com/truth-o-meter/statements/2017/sep/08/al-franken/did-reagan-and-hw-bush-issue-orders-similar-daca-a/',\n",
              " '931': 'http://www.politifact.com/punditfact/statements/2017/jun/21/ann-coulter/ann-coulter-says-trump-granted-amnesty-nearly-1000/',\n",
              " '932': 'https://www.snopes.com/fact-check/donald-trump-fifth-avenue-comment/',\n",
              " '933': 'http://www.snopes.com/politics/religion/drlaura.asp',\n",
              " '934': 'http://www.politifact.com/wisconsin/statements/2017/sep/18/mark-pocan/did-us-treasury-secretary-steve-mnuchin-want-25000/',\n",
              " '935': 'http://www.politifact.com/truth-o-meter/statements/2016/feb/18/jeb-bush/jeb-bush-says-barack-obama-will-add-more-debt-all-/',\n",
              " '936': 'https://www.snopes.com/pile-bison-bones-photo/',\n",
              " '937': 'http://www.snopes.com/photos/animals/hippo.asp',\n",
              " '938': 'http://www.snopes.com/little-boys-headstone-removed-single-complaint/',\n",
              " '939': 'https://www.snopes.com/trump-crib-notes-parkland/',\n",
              " '940': 'http://www.politifact.com/truth-o-meter/statements/2015/feb/08/ted-cruz/ted-cruz-says-obama-refuses-directly-arm-kurds-isi/',\n",
              " '941': 'http://www.snopes.com/glurge/healinghug.asp',\n",
              " '942': 'http://www.politifact.com/florida/statements/2017/jan/24/carlos-gimenez/miami-dade-no-1-leader-breaking-local-zika-transmi/',\n",
              " '943': 'http://www.politifact.com/virginia/statements/2016/may/16/ken-cuccinelli/ken-cuccinelli-says-half-illegal-immigrants-have-o/',\n",
              " '56': 'https://www.snopes.com/fact-check/hillary-clinton-called-trans-pacific-partnership-the-gold-standard/',\n",
              " '944': 'http://www.snopes.com/dem-party-logo-white-supremacy/',\n",
              " '945': 'http://www.politifact.com/truth-o-meter/statements/2016/jun/13/donald-trump/donald-trump-says-hillary-clinton-wants-let-500-pe/',\n",
              " '946': 'http://www.politifact.com/ohio/statements/2016/aug/04/donald-trump/trump-china-and-russia-doing-naval-exercises-toget/',\n",
              " '947': 'http://www.politifact.com/truth-o-meter/statements/2017/jan/04/donald-trump/mostly-true-trump-tweet-about-gm-chevy-cruze-manuf/',\n",
              " '948': 'http://www.snopes.com/horrors/insects/tussock.asp',\n",
              " '949': 'https://www.snopes.com/politics/quotes/roalddahl.asp',\n",
              " '950': 'http://www.snopes.com/rumors/condemn.asp',\n",
              " '951': 'http://www.politifact.com/truth-o-meter/statements/2009/jan/19/nancy-pelosi/legend-slaves-building-capitol-correct/',\n",
              " '952': 'https://www.snopes.com/tesla-car-really-space/',\n",
              " '953': 'http://www.snopes.com/photos/technology/storage.asp',\n",
              " '954': 'http://www.snopes.com/military/monopoly.asp',\n",
              " '955': 'http://www.politifact.com/virginia/statements/2015/sep/21/bernie-s/bernie-sanders-says-top-01-us-have-almost-much-wea/',\n",
              " '956': 'http://www.politifact.com/truth-o-meter/statements/2016/nov/16/rudy-giuliani/giuliani-president-trump-will-be-exempt-conflict-i/',\n",
              " '957': 'https://www.snopes.com/did-the-boondocks-forecast-oprah-winfrey-becoming-president/',\n",
              " '958': 'http://www.politifact.com/pennsylvania/statements/2017/jan/19/bob-casey/trumps-education-pick-donated-philly-group-controv/',\n",
              " '959': 'https://www.snopes.com/photos/risque/yellowpages.asp',\n",
              " '960': 'http://www.snopes.com/medical/homecure/lice.asp',\n",
              " '961': 'http://www.politifact.com/truth-o-meter/statements/2016/may/10/hillary-clinton/hillary-clinton-says-market-forces-made-coal-compa/',\n",
              " '962': 'http://www.snopes.com/long-lost-wedding-ring-found-around-carrot/',\n",
              " '963': 'http://www.politifact.com/global-news/statements/2017/apr/04/ted-yoho/yoho-afghanistan-poppy-growth-way/',\n",
              " '964': 'https://www.snopes.com/fact-check/malia-obama-in-mexico/',\n",
              " '965': 'http://www.snopes.com/nordstrom-selling-rock-leather-pouch-85/',\n",
              " '966': 'http://www.politifact.com/wisconsin/statements/2015/jan/26/tweets/it-true-republicans-havent-won-presidential-race-1/',\n",
              " '27': 'http://www.snopes.com/medical/potables/mountaindewmouse.asp',\n",
              " '967': 'http://www.politifact.com/oregon/statements/2012/apr/03/charlie-hales/do-streetcars-really-beat-out-buses-capacity-rider/',\n",
              " '968': 'http://www.politifact.com/truth-o-meter/statements/2016/jul/21/donald-trump/donald-trump-largely-right-household-incomes-are-d/',\n",
              " '969': 'http://www.politifact.com/truth-o-meter/statements/2016/jul/29/hillary-clinton/hillary-clinton-says-donald-trump-has-called-us-mi/',\n",
              " '970': 'http://www.snopes.com/politics/religion/lausdeo.asp',\n",
              " '971': 'http://www.snopes.com/stairway-heaven-fireworks-display/',\n",
              " '972': 'https://www.snopes.com/photos/people/kevincarter.asp',\n",
              " '973': 'http://www.politifact.com/truth-o-meter/statements/2017/feb/08/jeanne-shaheen/senate-republicans-didnt-use-rule-19-cruz-when-he-/',\n",
              " '974': 'http://www.snopes.com/luck/cookie.asp',\n",
              " '975': 'http://www.politifact.com/truth-o-meter/statements/2016/mar/11/marco-rubio/marco-rubio-says-foreign-aid-less-1-percent-federa/',\n",
              " '976': 'http://www.politifact.com/california/statements/2018/jan/17/delaine-eastin/does-california-rank-41st-student-spending-no-1-pr/',\n",
              " '977': 'https://www.snopes.com/horrors/insects/wormeye.asp',\n",
              " '978': 'https://www.snopes.com/food/origins/melba.asp',\n",
              " '979': 'http://www.snopes.com/brandon-victor-dixon-tweet/',\n",
              " '980': 'http://www.politifact.com/truth-o-meter/statements/2017/apr/03/john-conyers/apprehensions/',\n",
              " '981': 'http://www.snopes.com/racial/arts/dennisthemenace.asp',\n",
              " '982': 'http://www.politifact.com/georgia/statements/2016/nov/16/various-media-reports/newt-gingrich-has-said-he-favors-using-popular-vot/',\n",
              " '983': 'http://www.snopes.com/german-woman-fined-facebook-meme-refugees/',\n",
              " '984': 'http://www.politifact.com/oregon/statements/2012/may/11/jennifer-williamson/do-we-really-spend-nearly-third-health-care-dollar/',\n",
              " '985': 'http://www.politifact.com/wisconsin/statements/2018/mar/08/dana-wachs/wachs-hits-mark-startups/',\n",
              " '986': 'http://www.snopes.com/crime/prevent/silent911.asp',\n",
              " '987': 'http://www.politifact.com/truth-o-meter/statements/2017/may/16/james-risch/does-president-have-ability-declassify-anything-an/',\n",
              " '988': 'https://www.snopes.com/fact-check/i-have-held-a-job/',\n",
              " '989': 'https://www.snopes.com/politics/guns/markkelly.asp',\n",
              " '990': 'http://www.politifact.com/new-york/statements/2017/sep/22/jose-serrano/are-republicans-trying-allow-convicted-felons-own-/',\n",
              " '991': 'http://www.politifact.com/north-carolina/statements/2017/mar/07/dan-forest/hb2-has-cost-north-carolina-hundreds-millions-doll/',\n",
              " '992': 'http://www.politifact.com/truth-o-meter/statements/2017/mar/24/carolyn-maloney/ny-rep-maloney-most-planned-parenthood-clinics-are/',\n",
              " '993': 'http://www.snopes.com/trump-pregnancy-inconvenient/',\n",
              " '994': 'http://www.snopes.com/radiotv/radio/vonzell.asp',\n",
              " '995': 'http://www.politifact.com/truth-o-meter/statements/2016/oct/18/hillary-clinton/clinton-correct-buffett-claimed-pay-lower-tax-rate/',\n",
              " '996': 'http://www.snopes.com/holidays/christmas/pants.asp',\n",
              " '997': 'https://www.snopes.com/animas-river-spill/',\n",
              " '998': 'http://www.politifact.com/truth-o-meter/statements/2017/sep/27/donald-trump/trump-largely-accurate-claim-about-drugs-catapulte/',\n",
              " '999': 'http://www.snopes.com/college/homework/unsolvable.asp',\n",
              " '1000': 'http://www.snopes.com/horrors/gruesome/leafpile.asp',\n",
              " '1001': 'http://www.politifact.com/punditfact/statements/2014/jul/29/rush-limbaugh/limbaugh-us-leads-world-climate-doubt/',\n",
              " '1002': 'http://www.snopes.com/inboxer/household/hotelglasses.asp',\n",
              " '1003': 'http://www.politifact.com/nevada/statements/2016/jul/19/harry-reid/reid-right-claiming-kochs-produce-more-pollution-o/',\n",
              " '1004': 'http://www.politifact.com/rhode-island/statements/2015/aug/30/bernie-s/bernie-sanders-right-police-do-treat-african-ameri/',\n",
              " '1005': 'http://www.politifact.com/illinois/statements/2017/oct/10/bruce-rauner/rauner-consistent-start-his-pro-choice-views/',\n",
              " '1006': 'http://www.politifact.com/oregon/statements/2012/feb/23/alan-bates/does-20-percent-population-really-use-80-health-ca/',\n",
              " '1007': 'https://www.snopes.com/florida-man-surrenders-ar57/',\n",
              " '1008': 'http://www.politifact.com/punditfact/statements/2015/apr/26/peter-schweizer/fact-checking-clinton-cash-author-claim-about-bill/',\n",
              " '1009': 'http://www.snopes.com/food/origins/grahamcrackers.asp',\n",
              " '1010': 'https://www.snopes.com/humor/follies/bedbugfire.asp',\n",
              " '1011': 'http://www.politifact.com/wisconsin/statements/2016/dec/15/donald-trump/pledging-cuts-donald-trump-says-wisconsin-rally-us/',\n",
              " '1012': 'http://www.snopes.com/trumps-budget-director-pick-asked-really-need-government-funded-research/',\n",
              " '1013': 'http://www.politifact.com/truth-o-meter/statements/2016/jul/22/donald-trump/trump-nearly-180000-illegal-immigrants-have-crimin/',\n",
              " '1014': 'http://www.politifact.com/texas/statements/2018/mar/30/michael-mccaul/michael-mccaul-says-1-100-people-sociopath/',\n",
              " '1015': 'https://www.snopes.com/politics/crime/freddiegray.asp',\n",
              " '1016': 'http://www.politifact.com/truth-o-meter/statements/2016/jul/21/donald-trump/trump-43-million-americans-food-stamps/',\n",
              " '1017': 'http://www.politifact.com/punditfact/statements/2017/mar/07/social-media/social-media-post-pending-gop-bills-largely-accura/',\n",
              " '1018': 'http://www.snopes.com/wheaties-cereal-sticks-to-magnets-because-it-iron/',\n",
              " '1019': 'https://www.snopes.com/fact-check/dead-stupid/',\n",
              " '1020': 'http://www.politifact.com/virginia/statements/2016/sep/15/tim-kaine/kaine-accurately-recalls-time-gadhafi-had-tent-put/',\n",
              " '1021': 'https://www.snopes.com/ladybugs-beetles-dog-mouth/',\n",
              " '1022': 'http://www.politifact.com/oregon/statements/2013/sep/24/oregon-2014/does-oregon-health-plan-pay-about-4000-abortions-y/',\n",
              " '1023': 'http://www.politifact.com/new-jersey/statements/2012/may/03/frank-lautenberg/frank-lautenberg-claims-loophole-allows-individual/',\n",
              " '1024': 'http://www.snopes.com/act-like-youve-been-there-before/',\n",
              " '1025': 'http://www.politifact.com/arizona/statements/2016/feb/16/john-mccain/could-north-korea-missile-strike-united-states/',\n",
              " '1026': 'http://www.politifact.com/california/statements/2017/mar/10/gavin-newsom/debate-over-iphone-vs-health-care-costs-gavin-news/',\n",
              " '1027': 'https://www.snopes.com/fact-check/up-the-butt-bob/',\n",
              " '1028': 'http://www.snopes.com/beef-tallow-in-new-5-notes/',\n",
              " '1029': 'http://www.politifact.com/new-jersey/statements/2012/sep/06/choose-new-jersey/new-jersey-leads-world-number-scientists-engineers/',\n",
              " '1030': 'http://www.snopes.com/photos/accident/awning.asp',\n",
              " '1031': 'http://www.snopes.com/obituary-trump-clinton/',\n",
              " '1032': 'http://www.snopes.com/robert-de-niro-went-off-on-donald-trump/',\n",
              " '1033': 'http://www.politifact.com/virginia/statements/2016/dec/19/bryce-reeves/bryce-reeves-says-single-mom-can-make-almost-50000/',\n",
              " '1034': 'http://www.snopes.com/bill-nye-gender-chromosomes/',\n",
              " '168': 'https://www.snopes.com/george-soros-ss-nazi-germany/',\n",
              " '1035': 'http://www.snopes.com/photos/people/manunderbed.asp',\n",
              " '1036': 'http://www.politifact.com/california/statements/2016/nov/28/donald-trump/pants-fire-trumps-claim-about-california-voter-fra/',\n",
              " '1037': 'http://www.snopes.com/trump-no-wash-trick/',\n",
              " '155': 'http://www.snopes.com/hillary-Clinton-uranium-russia-deal/',\n",
              " '1038': 'https://www.snopes.com/florida-shooter-antifa-shirt/',\n",
              " '1039': 'http://www.snopes.com/photos/gruesome/kunsan.asp',\n",
              " '1040': 'http://www.politifact.com/florida/statements/2018/mar/27/blog-posting/david-hogg-not-school-during-shooting-s-fake-news/',\n",
              " '1041': 'http://www.politifact.com/truth-o-meter/statements/2017/feb/06/donald-trump/donald-trump-wrong-media-not-reporting-terrorism-a/',\n",
              " '1042': 'http://www.politifact.com/new-york/statements/2018/feb/23/claudia-tenney/do-many-mass-shooters-end-being-democrats-rep-tenn/',\n",
              " '1043': 'http://www.snopes.com/trump-2013-taxes-leaked/',\n",
              " '123': 'https://www.snopes.com/trumps-flip-flop-on-flag-burning/',\n",
              " '34': 'https://www.snopes.com/fact-check/false-clinton-body-bags/',\n",
              " '253': 'http://www.snopes.com/1998-trump-people-quote/',\n",
              " '1044': 'https://www.snopes.com/fact-check/felon-groovy/',\n",
              " '57': 'https://www.snopes.com/fact-check/hillary-clinton-stupid-quote/',\n",
              " '1045': 'https://www.snopes.com/fact-check/is-there-a-warrant-for-cia-nominee-gina-haspels-arrest/',\n",
              " '1046': 'http://www.snopes.com/is-california-gov-positive-people-blood/',\n",
              " '1047': 'http://www.politifact.com/truth-o-meter/statements/2015/sep/23/donald-trump/hillary-clinton-obama-birther-fact-check/',\n",
              " '1048': 'http://www.politifact.com/punditfact/statements/2018/feb/15/politico-news/no-four-million-democrat-votes-were-not-declared-f/',\n",
              " '52': 'https://www.snopes.com/fact-check/fox-skews/',\n",
              " '1049': 'http://www.politifact.com/truth-o-meter/statements/2016/oct/17/donald-trump/donald-trumps-pants-fire-claim-large-scale-voter-f/',\n",
              " '1050': 'http://www.snopes.com/trump-photoshopped-hands/',\n",
              " '1051': 'http://www.snopes.com/hillary-clinton-blackface-photo/',\n",
              " '1052': 'http://www.politifact.com/truth-o-meter/statements/2016/oct/20/donald-trump/trump-wrongly-says-6-billion-went-missing-state-de/',\n",
              " '81': 'https://www.snopes.com/fact-check/reagan-trump-handshake/',\n",
              " '1053': 'http://www.politifact.com/truth-o-meter/statements/2016/jan/14/chelsea-clinton/chelsea-clinton-mischaracterizes-bernie-sanders-he/',\n",
              " '263': 'http://www.snopes.com/politics/satire/foxnewsfcc.asp',\n",
              " '1054': 'http://www.politifact.com/truth-o-meter/statements/2017/aug/17/donald-trump/donald-trump-retells-pants-fire-claim-about-gen-pe/',\n",
              " '1055': 'http://www.politifact.com/north-carolina/statements/2017/may/04/robert-pittenger/does-new-version-ahca-protect-coverage-pre-existin/',\n",
              " '1056': 'http://www.politifact.com/truth-o-meter/statements/2016/mar/09/hillary-clinton/hillary-clinton-said-my-predecessors-did-same-thin/',\n",
              " '1057': 'http://www.politifact.com/truth-o-meter/statements/2018/jan/17/donald-trump/would-military-shut-down-if-federal-government-doe/',\n",
              " '1058': 'http://www.snopes.com/aca-versus-ahca/',\n",
              " '1059': 'http://www.politifact.com/truth-o-meter/statements/2018/jan/04/donald-trump/donald-trump-says-theres-substantial-evidence-vote/',\n",
              " '12': 'https://www.snopes.com/donald-trump-hat-china/',\n",
              " '9': 'http://www.snopes.com/photos/politics/lavey.asp',\n",
              " '173': 'https://www.snopes.com/fact-check/nra-convention-gun-ban/',\n",
              " '1060': 'http://www.politifact.com/ohio/statements/2016/apr/04/trusted-leadership-pac/no-george-soros-not-bankrolling-john-kasichs-campa/',\n",
              " '1061': 'https://www.snopes.com/fact-check/are-people-adopting-pit-bulls-euthanizing/',\n",
              " '93': 'https://www.snopes.com/fact-check/trump-won-3084-of-3141-counties-clinton-won-57/',\n",
              " '67': 'https://www.snopes.com/fact-check/michael-bloomberg-donald-trump/',\n",
              " '1062': 'http://www.snopes.com/pregnant-woman-muslim-refugee/',\n",
              " '1063': 'http://www.politifact.com/truth-o-meter/statements/2016/oct/10/donald-trump/donald-trump-says-hillary-clinton-viciously-attack/',\n",
              " '1064': 'http://www.politifact.com/truth-o-meter/statements/2016/sep/16/donald-trump/fact-checking-donald-trumps-claim-hillary-clinton-/',\n",
              " '1065': 'http://www.politifact.com/truth-o-meter/statements/2018/feb/22/viral-image/fact-checking-meme-id-requirements-buying-guns-vot/',\n",
              " '1066': 'http://www.snopes.com/quotes/johnwayne/lifehard.asp',\n",
              " '1067': 'http://www.snopes.com/tom-hanks-t-shirt/',\n",
              " '1068': 'https://www.snopes.com/texas-church-shooter-antifa/',\n",
              " '83': 'http://www.snopes.com/politics/palin/russia.asp',\n",
              " '1069': 'http://www.snopes.com/hillary-clinton-told-seventeen-magazine-she-didnt-want-her-daughter-marrying-a-black-man/',\n",
              " '1070': 'http://www.snopes.com/trump-hotel-anti-cnn-petitions/',\n",
              " '1071': 'http://www.snopes.com/samantha-bees-husband-school/',\n",
              " '44': 'http://www.snopes.com/hillary-clinton-started-birther-movement/',\n",
              " '1072': 'http://www.politifact.com/punditfact/statements/2015/oct/01/viral-image/viral-image-wrongly-accuses-clinton-stealing/',\n",
              " '271': 'http://www.snopes.com/critters/wild/babybird.asp',\n",
              " '1073': 'http://www.politifact.com/truth-o-meter/statements/2016/sep/27/hillary-clinton/debate-hillary-clinton-tax-claim-ignores-years-whe/',\n",
              " '1074': 'http://www.snopes.com/is-green-party-candidate-jill-stein-anti-vaccine/',\n",
              " '191': 'https://www.snopes.com/snowflake-nazi-term-holocaust/',\n",
              " '1075': 'http://www.snopes.com/stephen-miller-white-power-hand-sign/',\n",
              " '1076': 'http://www.snopes.com/sweden-bans-christmas-lights/',\n",
              " '1077': 'http://www.politifact.com/truth-o-meter/statements/2016/oct/26/donald-trump/facts-dispute-donald-trumps-claim-donation-fbi-spo/',\n",
              " '1078': 'http://www.snopes.com/ben-carson-hurricane-homelessness-gift-heaven/',\n",
              " '1079': 'http://www.snopes.com/medical/drugs/gardasil.asp',\n",
              " '1080': 'http://www.snopes.com/nasa-admits-contact-with-alien-species/',\n",
              " '23': 'https://www.snopes.com/fact-check/how-to-create-a-social-state/',\n",
              " '1081': 'http://www.snopes.com/meredith-mciver-exists/',\n",
              " '128': 'http://www.snopes.com/Donald-trumps-parents-kkk/',\n",
              " '1082': 'http://www.politifact.com/truth-o-meter/statements/2017/nov/29/donald-trump/donald-trumps-pants-fire-unsolved-mystery-attack-j/',\n",
              " '1083': 'http://www.politifact.com/truth-o-meter/statements/2015/dec/22/bernie-s/Sanders-take-Clinton-voter-data/',\n",
              " '1084': 'http://www.snopes.com/politics/clintons/zeifman.asp',\n",
              " '1085': 'http://www.politifact.com/new-hampshire/statements/2015/oct/05/ben-carson/did-margaret-sanger-believe-african-americans-shou/',\n",
              " '1086': 'http://www.snopes.com/politics/mccain/warcriminal.asp',\n",
              " '1087': 'http://www.politifact.com/truth-o-meter/statements/2016/jul/06/america-rising-now/pro-trump-super-pac-compares-bill-clinton-cosby-at/',\n",
              " '1088': 'http://www.snopes.com/facebook-paying-spies/',\n",
              " '1089': 'http://www.snopes.com/neil-gorsuchs-fascism-forever-club/',\n",
              " '1090': 'http://www.politifact.com/north-carolina/statements/2018/feb/23/larry-pittman/nc-republican-says-many-mass-shooters-turn-out-be-/',\n",
              " '1091': 'http://www.snopes.com/cnn-staged-hurricane-harvey-rescue-video/',\n",
              " '1092': 'http://www.snopes.com/police-shoot-coal-miner/',\n",
              " '125': 'http://www.snopes.com/donald-trump-flag-salute/',\n",
              " '1093': 'https://www.snopes.com/katy-perry-cannibalism/',\n",
              " '140': 'https://www.snopes.com/fappy-arrested-seaworld/',\n",
              " '1094': 'http://www.snopes.com/puerto-rico-teamsters/',\n",
              " '1095': 'http://www.snopes.com/seth-rich-dnc-wikileaks-murder/',\n",
              " '1096': 'http://www.politifact.com/truth-o-meter/statements/2008/mar/25/hillary-clinton/video-shows-tarmac-welcome-no-snipers/',\n",
              " '1097': 'http://www.snopes.com/music/artists/greenwood.asp',\n",
              " '1098': 'http://www.politifact.com/nevada/statements/2016/may/18/jeff-weaver/allegations-fraud-and-misconduct-nevada-democratic/?platform=hootsuite',\n",
              " '1099': 'http://www.snopes.com/were-police-told-stand-down-charlottesville/',\n",
              " '1100': 'http://www.politifact.com/georgia/statements/2015/oct/28/reader-email/unfit-serve-congressman-isnt-even-real/',\n",
              " '1101': 'http://www.snopes.com/politics/quotes/jarrettislam.asp',\n",
              " '1102': 'http://www.snopes.com/cradle-of-clouds-photo/',\n",
              " '87': 'https://www.snopes.com/george-soros-bring-down-us/',\n",
              " '1103': 'http://www.snopes.com/cnn-muslim-protests-london/',\n",
              " '1104': 'http://www.politifact.com/punditfact/statements/2017/aug/09/viral-image/viral-image-wrongly-blames-bill-clinton-giving-nor/',\n",
              " '1105': 'http://www.snopes.com/photos/politics/masswedding.asp',\n",
              " '1106': 'https://www.snopes.com/sandra-bullock-trump-clinton/',\n",
              " '1107': 'http://www.politifact.com/truth-o-meter/statements/2016/oct/04/mike-pence/pence-repeats-false-claim-clinton-foundations-limi/',\n",
              " '1108': 'http://www.politifact.com/truth-o-meter/statements/2017/dec/21/donald-trump/trump-wrongly-says-end-mandate-essentially-obamaca/',\n",
              " '1109': 'http://www.politifact.com/florida/statements/2017/may/01/donald-trump/does-new-version-ahca-still-cover-pre-existing-con/',\n",
              " '1110': 'http://www.snopes.com/lebron-james-wore-protest-shirt/',\n",
              " '171': 'http://www.snopes.com/morgue-employee-cremated-nap/',\n",
              " '1111': 'http://www.politifact.com/truth-o-meter/statements/2016/feb/23/donald-trump/donald-trump-cites-dubious-legend-about-gen-pershi/',\n",
              " '1112': 'http://www.snopes.com/military/lighthouse.asp',\n",
              " '1113': 'http://www.snopes.com/mall-santa-beat-up-child-molester/',\n",
              " '40': 'https://www.snopes.com/fact-check/bernie-sanders-audi-8/',\n",
              " '1114': 'http://www.politifact.com/punditfact/statements/2016/nov/18/blog-posting/no-3-million-undocumented-immigrants-did-not-vote-/',\n",
              " '1115': 'http://www.snopes.com/klan-marches-celebrate-trump-victory/',\n",
              " '1116': 'http://www.politifact.com/truth-o-meter/statements/2017/feb/12/donald-trump/donald-trump-wrongly-says-cnn-cut-bernie-sanders-c/',\n",
              " '1117': 'http://www.snopes.com/is-the-trump-administration-puerto-rico-evacuees/',\n",
              " '1118': 'http://www.snopes.com/oregon-ballot-omits-donald-trump/',\n",
              " '1119': 'http://www.politifact.com/truth-o-meter/statements/2016/apr/06/bernie-s/bernie-sanders-has-released-few-tax-returns-compar/',\n",
              " '1120': 'http://www.snopes.com/pizzagate-conspiracy/',\n",
              " '268': 'https://www.snopes.com/politics/guns/newtown.asp',\n",
              " '1121': 'http://www.politifact.com/truth-o-meter/statements/2016/jul/06/hillary-clinton/fbi-findings-tear-holes-hillary-clintons-email-def/',\n",
              " '1122': 'http://www.politifact.com/truth-o-meter/statements/2018/mar/09/donald-trump/donald-trump-wrong-about-wage-trends/',\n",
              " '1123': 'http://www.snopes.com/hitler-nazis-capitalist-system/',\n",
              " '1124': 'http://www.snopes.com/tim-kaine-white-people-minority/',\n",
              " '1125': 'http://www.politifact.com/truth-o-meter/statements/2016/nov/17/blog-posting/no-someone-wasnt-paid-3500-protest-donald-trump-it/',\n",
              " '192': 'https://www.snopes.com/fact-check/birth-certificate/',\n",
              " '1126': 'http://www.snopes.com/fbi-agent-murder-suicide/',\n",
              " '1127': 'https://www.snopes.com/multicultural-beach-sign-melbourne/',\n",
              " '1128': 'http://www.snopes.com/donald-trump-racist-meme/',\n",
              " '1129': 'http://www.snopes.com/alien-mummy-peru/',\n",
              " '63': 'http://www.snopes.com/radiotv/tv/zsazsa.asp',\n",
              " '1130': 'http://www.politifact.com/truth-o-meter/statements/2016/oct/05/mike-pence/debate-mike-pence-claims-trump-never-said-more-nat/',\n",
              " '1131': 'http://www.snopes.com/donald-trump-utah-tweet-fake/',\n",
              " '262': 'https://www.snopes.com/fact-check/john-podesta-spirit-cooking/',\n",
              " '1132': 'http://www.snopes.com/floyd-mayweather-jr-donates-after-hurricane/',\n",
              " '1133': 'http://www.snopes.com/transgender-arrested-target-photos/',\n",
              " '1134': 'http://www.snopes.com/france-covered-up-bataclan-victims/',\n",
              " '266': 'http://www.snopes.com/noahs-ark-park-flooded/',\n",
              " '1135': 'http://www.snopes.com/mike-pence-allowing-rape-victims-to-have-abortions-will-lead-to-women-trying-to-get-raped/',\n",
              " '1136': 'http://www.snopes.com/mike-pence-calls-michelle-obama-vulgar/',\n",
              " '187': 'https://www.snopes.com/politics/clintons/hillary.asp',\n",
              " '1137': 'http://www.politifact.com/punditfact/statements/2017/mar/23/blog-posting/former-first-grandma-marian-robinson-caught-anothe/',\n",
              " '1138': 'http://www.snopes.com/seth-conrad-rich/',\n",
              " '38': 'https://www.snopes.com/fact-check/false-obama-student-id/',\n",
              " '1139': 'http://www.snopes.com/obama-encouraged-illegal-aliens-to-vote/',\n",
              " '1140': 'http://www.politifact.com/punditfact/statements/2017/aug/28/blog-posting/outdated-photo-wrongly-suggests-barack-obama-food-/',\n",
              " '1141': 'http://www.snopes.com/flags-banned-at-dnc/',\n",
              " '1142': 'http://www.snopes.com/media/notnews/babydead.asp',\n",
              " '1143': 'http://www.snopes.com/deray-mckesson-tweet-chicago/',\n",
              " '1144': 'http://www.snopes.com/national-geographics-photograph-year/',\n",
              " '46': 'https://www.snopes.com/fact-check/trumped-up/',\n",
              " '1145': 'http://www.snopes.com/kid-rock-dumbfckistan-t-shirt/',\n",
              " '1146': 'http://www.snopes.com/supreme-court-islam-schools/',\n",
              " '1147': 'http://www.snopes.com/crime/warnings/dogstickers.asp',\n",
              " '1148': 'https://www.snopes.com/fact-check/did-gonzalez-admit-bullying-school-shooter/',\n",
              " '1149': 'http://www.snopes.com/are-people-identifying-as-clovergender/',\n",
              " '1150': 'http://www.snopes.com/offended-muslims-attack-christmas-tree/',\n",
              " '1151': 'http://www.snopes.com/nytimes-wiretap-articles/',\n",
              " '1152': 'http://www.snopes.com/michelle-obama-scrubs-twitter/',\n",
              " '1153': 'http://www.snopes.com/newsweek-proves-that-wikileaks-is-leaking-phony-hillary-clinton-emails/',\n",
              " '1154': 'http://www.politifact.com/truth-o-meter/statements/2017/jul/03/donald-trump/trumps-pants-fire-claim-cnn-ratings-are-way-down/',\n",
              " '114': 'http://www.snopes.com/mike-pences-gay-past',\n",
              " '1155': 'http://www.snopes.com/pope-francis-shocks-world-endorses-hillary-clinton-for-president/',\n",
              " '1156': 'http://www.snopes.com/new-arkansas-law-allows-rapists-sue-victims/',\n",
              " '1157': 'http://www.snopes.com/democrats-stand-seal-widow/',\n",
              " '1158': 'http://www.snopes.com/cokelore/newcoke.asp',\n",
              " '1159': 'http://www.snopes.com/osteen-yacht-houston-book-hurricane/',\n",
              " '1160': 'http://www.politifact.com/punditfact/statements/2016/aug/11/nowthis/nowthis-news-site-says-donald-trump-wrong-and-bill/',\n",
              " ...}"
            ]
          },
          "metadata": {},
          "execution_count": 36
        }
      ]
    },
    {
      "cell_type": "code",
      "source": [
        "with open('dictionary_with_summaries_all.pkl', 'rb') as f:\n",
        "  summaries = pickle.load(f)"
      ],
      "metadata": {
        "id": "GItw9IE4scOd"
      },
      "execution_count": null,
      "outputs": []
    },
    {
      "cell_type": "code",
      "source": [
        "summaries[0]"
      ],
      "metadata": {
        "colab": {
          "base_uri": "https://localhost:8080/"
        },
        "id": "talA-vLGtvCK",
        "outputId": "1b5574cc-88a9-43e1-d17a-56ca8387fa8b"
      },
      "execution_count": null,
      "outputs": [
        {
          "output_type": "execute_result",
          "data": {
            "text/plain": [
              "{'cui': '10930383388364076528',\n",
              " 'description': 'As the U.S. House of Representatives was readying a new special committee to investigate the terrorist attack in Benghazi, Libya, many Democrats were arguing that continuing to probe the Sept. 11, 2012, attack -- which killed four Americans, including U.S. Ambassador Chris Stevens -- amounted to a political witch hunt.\\nOn May 5, 2014, Rep. John Garamendi, D-Calif., told MSNBC host Ed Schultz that there has already been exhaustive testimony and investigation of the incident.\\n\"This thing is just going on and on to boredom actually,\" Garamendi said. \"The Armed Services Committee actually did a hearing and the result was there’s nothing here. That’s obviously a great tragedy, but Ed, during the George W. Bush period, there were 13 attacks on various embassies and consulates around the world. Sixty people died. In Karachi, there was a death of one of our diplomats, and those were not investigated during that period of time because it was a tragedy.\"\\nReaders asked us whether it’s true that under Bush, \"there were 13 attacks on various embassies and consulates around the world, (and) 60 people died.\"\\nWe turned to the Global Terrorism Database, a project headquartered at the University of Maryland. The database documents terrorist attacks around the world going back to the 1970s, and experts told us it is the best resource available for this fact-check.\\nWe searched the database for descriptions between January 2001 and January 2009 that included the term \"U.S. embassy.\" We supplemented these with a few other attacks listed in a Huffington Post opinion piece that Garamendi’s staff said was their main source for the claim. The Huffington Post column Garamendi cited purposely didn\\'t count any attacks in Baghdad. So we decided to construct our count from scratch.\\nWhile Garamendi spoke of \"embassies and consulates,\" we found several U.S. diplomatic targets killed in the line of duty outside official compounds -- such as in convoys or their homes -- and we included them in our count. Once we cross-referenced the attacks in the article and those in the database, we narrowed down the total to 39 attacks or attempted attacks on U.S. embassies and embassy personnel.\\nOf these 39 attacks, 20 resulted in at least one fatality. (Our complete list is here.) This is higher than Garamendi\\'s claim, though if you only count attacks on embassy and consular property, there were 13.\\nGaramendi also understated the number of deaths. In the 20 incidents with at least one fatality, the total death toll was 87 -- quite a few more than the 60 Garamendi cited. If you only count those at embassies and consulates proper, the number of deaths drops to 66.\\nWe should note that the vast majority of these deaths were not Americans. We counted 63 deaths that were either of non-Americans or of people whose nationality is unknown. Another three were U.S. civilians. Another 21 were workers at the U.S embassy or consulate, either of American or foreign nationality.\\nSo, using what we think is the most reasonable definition, Garamendi\\'s numbers are a bit low.<ht',\n",
              " 'summary': 'Rep. John Garamendi said \"there were 13 attacks on various embassies and consulates around the world\" under George W. Bush.<n>The Global Terrorism Database documents terrorist attacks going back to the 1970s.<n>Of 39 attacks, 20 resulted in at least one fatality, but Garamendi\\'s numbers are a bit low.',\n",
              " 'title': 'PolitiFact | Prior to Benghazi, were there 13 attacks on embassies and 60 deaths under President George W. Bush?<',\n",
              " 'type': ''}"
            ]
          },
          "metadata": {},
          "execution_count": 41
        }
      ]
    },
    {
      "cell_type": "code",
      "source": [
        "with open('dictionary_full_no_summaries.pkl', 'rb') as f:\n",
        "  final = pickle.load(f)"
      ],
      "metadata": {
        "id": "QTRlvVqotvua"
      },
      "execution_count": null,
      "outputs": []
    },
    {
      "cell_type": "code",
      "source": [
        "final[3]"
      ],
      "metadata": {
        "colab": {
          "base_uri": "https://localhost:8080/"
        },
        "id": "p9Px0OW8znuz",
        "outputId": "44445072-0f44-40fd-8eea-528f2a989cbc"
      },
      "execution_count": null,
      "outputs": [
        {
          "output_type": "execute_result",
          "data": {
            "text/plain": [
              "{'cui': '14',\n",
              " 'description': 'In December 2015 several images were circulated on social media along with claims that they depicted presidential candidate Donald Trumps sons Eric and Donald Jr on a big game hunting trip The images were unaltered and accurately described although they were not recent in December 2015 The photographs received broad media coverage at the time they were initially released well before the start of Trump Srs bid for the White House On 13 March 2012 the web site Gothamist published an article titled Photos Donald Trumps Sons Awesome At Killing Elephants And Other Wildlife It said Animal rights activists are revolted by a series of trophy photos that have emerged showing Eric and Donald Trump Jr posing with a dead elephant kudu civet cat and waterbuck while on a big game safari in Zimbabwe last year In one photo Donald Jr proudly holds a dead elephant tail in one hand and a knife in the other In another the brothers are seen standing beside a 128 crocodile hanging from a noose off a tree Activists obtained the photos and created a video montage of the Trumps big hunt British tabloid the Daily Mail concurrently ran the photos in a piece titled I have no shame I HUNT EAT game Donald Trumps sons pictured posing with their trophy carcasses on big African hunt It cited the web site Hunting Legends as a source for the photographs In March 2012 Donald Trump Jr sent several tweets that addressed the controversy exclamation I can assure you it was not wasteful the villagers were so happy for the meat which they dont often get to eat Very grateful Donald Trump Jr DonaldJTrumpJr March 12 2012 alisonheittman which would be what Im not going to run and hide because the peta crazies dont like me Donald Trump Jr DonaldJTrumpJr March 13 2012 The Daily Mail quoted sincedeleted tweets published by Trump Jr in March 2012 Not a PR move I didnt give the pics but I have no shame about them either I HUNT EAT game I AM A HUNTER I dont hide from that he said to another critic on Twitter Additional Sighting Donald Trump Jrs hunting interests made headlines again in December 2019 when a ProPublica report raised questions about a permit he received to shoot argali in Mongolia IUCN Red List considered the wild sheep near threatened as of 2008',\n",
              " 'title': 'Are These Donald Trumps Sons in GameHunting Photos Snopescom'}"
            ]
          },
          "metadata": {},
          "execution_count": 5
        }
      ]
    },
    {
      "cell_type": "code",
      "source": [
        ""
      ],
      "metadata": {
        "id": "dr5oQnCBztOY"
      },
      "execution_count": null,
      "outputs": []
    }
  ]
}