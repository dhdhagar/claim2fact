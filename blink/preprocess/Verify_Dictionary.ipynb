{
 "cells": [
  {
   "cell_type": "code",
   "execution_count": 17,
   "metadata": {},
   "outputs": [],
   "source": [
    "import numpy as np\n",
    "import pandas as pd\n",
    "import os\n",
    "import pickle\n",
    "import json"
   ]
  },
  {
   "cell_type": "code",
   "execution_count": 18,
   "metadata": {},
   "outputs": [],
   "source": [
    "root = \".\"\n",
    "input_path = os.path.join(root, 'processed', 'dictionary_full_with_summaries.pkl')"
   ]
  },
  {
   "cell_type": "code",
   "execution_count": 19,
   "metadata": {},
   "outputs": [],
   "source": [
    "file = open(input_path,'rb')\n",
    "dictionary = pickle.load(file)"
   ]
  },
  {
   "cell_type": "code",
   "execution_count": 20,
   "metadata": {
    "scrolled": true
   },
   "outputs": [
    {
     "data": {
      "text/plain": [
       "[{'cui': '272',\n",
       "  'title': 'PolitiFact Prior to Benghazi were there 13 attacks on embassies and 60 deaths under President George W Bush',\n",
       "  'description': 'As the US House of Representatives was readying a new special committee to investigate the terrorist attack in Benghazi Libya many Democrats were arguing that continuing to probe the Sept 11 2012 attack which killed four Americans including US Ambassador Chris Stevens amounted to a political witch hunt On May 5 2014 Rep John Garamendi DCalif told MSNBC host Ed Schultz that there has already been exhaustive testimony and investigation of the incident This thing is just going on and on to boredom actually Garamendi said The Armed Services Committee actually did a hearing and the result was theres nothing here Thats obviously a great tragedy but Ed during the George W Bush period there were 13 attacks on various embassies and consulates around the world Sixty people died In Karachi there was a death of one of our diplomats and those were not investigated during that period of time because it was a tragedy Readers asked us whether its true that under Bush there were 13 attacks on various embassies and consulates around the world and 60 people died We turned to the Global Terrorism Database a project headquartered at the University of Maryland The database documents terrorist attacks around the world going back to the 1970s and experts told us it is the best resource available for this factcheck We searched the database for descriptions between January 2001 and January 2009 that included the term US embassy We supplemented these with a few other attacks listed in a Huffington Post opinion piece that Garamendis staff said was their main source for the claim The Huffington Post column Garamendi cited purposely didnt count any attacks in Baghdad So we decided to construct our count from scratch While Garamendi spoke of embassies and consulates we found several US diplomatic targets killed in the line of duty outside official compounds such as in convoys or their homes and we included them in our count Once we crossreferenced the attacks in the article and those in the database we narrowed down the total to 39 attacks or attempted attacks on US embassies and embassy personnel Of these 39 attacks 20 resulted in at least one fatality Our complete list is here This is higher than Garamendis claim though if you only count attacks on embassy and consular property there were 13 Garamendi also understated the number of deaths In the 20 incidents with at least one fatality the total death toll was 87 quite a few more than the 60 Garamendi cited If you only count those at embassies and consulates proper the number of deaths drops to 66 We should note that the vast majority of these deaths were not Americans We counted 63 deaths that were either of nonAmericans or of people whose nationality is unknown Another three were US civilians Another 21 were workers at the US embassy or consulate either of American or foreign nationality So using what we think is the most reasonable definition Garamendis numbers are a bit low Featured Factcheck Facebook posts stated on November 7 2021 in a Facebook post The Astroworld concert was a test run on the vaxxed because people who are injected with graphene oxide can be controlled through magnetic frequencies including music By Samantha Putterman November 8 2021 What about the implicit comparison he made between Benghazi and these previous attacks Thats a little shakier Generally the experts we contacted agreed that Garamendi was making a reasonable point that there has been a steady and comparatively overlooked series of deadly attacks on US embassies in recent years Still these experts also said there are valid reasons to treat Benghazi differently from the earlier attacks Is Benghazi different Absolutely said Daveed GartensteinRoss a senior fellow at the Foundation for Defense of Democracies and an adjunct assistant professor in Georgetown Universitys security studies program One reason he said is that an American ambassador died in the attack which hadnt happened since the 1970s Another relevant question GartensteinRoss said is whether what happened was put to the American people in an honest manner not just with respect to the administration but also with respect to the intelligence community GartensteinRoss added that he wasnt endorsing how the Republicans go about investigating this question But he did say its a real legitimate question As always what causes the problem is not so much what happens but the response to it said Theodore R Bromund a senior research fellow at the conservative Heritage Foundation If the administration had come out shortly after the attack and said Our consulate was attacked by organized Islamist forces and we will pursue these terrorists and bring them to justice one way or the other I very much doubt there would be much juice in these hearings if indeed they were being held at all Lance Janda a military historian at Cameron University agreed that Benghazi brings up important issues We probably should have had more United States forces on site or at least nearby he said And the administration had a muddled response in terms of releasing information he added Our ruling Garamendi said that during the George W Bush period there were 13 attacks on various embassies and consulates around the world Sixty people died There are actually different ways to count the number of attacks especially when considering attacks on ambassadors and embassy personnel who were traveling to or from embassy property Overall we found Garamendi slightly understated the number of deadly attacks and total fatalities even using a strict definition Garamendis claim is accurate but needs clarification or additional information so we rate it Mostly True Share the Facts Politifact 2 7 Politifact Rating Mostly True During the George W Bush period there were 13 attacks on various embassies and consulates around the world Sixty people died John Garamendi Congressman In an interview on MSNBC Monday May 5 2014 05052014 Read More info',\n",
       "  'summary': 'Rep John Garamendi DCalif said there were 13 attacks on various embassies and consulates around the world under George W BushnThe Global Terrorism Database documents terrorist attacks around the world going back to the 1970snOf 39 attacks 20 resulted in at least one fatality but Garamendis numbers are a bit low'},\n",
       " {'cui': '273',\n",
       "  'title': 'PolitiFact Barack Obama said hes cut taxes for middleclass families small businesses',\n",
       "  'description': 'In his speech at the Democratic National Committee in Charlotte NC President Barack Obama mocked Republicans for turning to tax cuts as the solution to every problem Have a surplus Try a tax cut Deficit too high Try another Feel a cold coming on Take two tax cuts roll back some regulations and call us in the morning Obama said Now Ive cut taxes for those who need it middleclass families and small businesses But I dont believe that another round of tax breaks for millionaires will bring good jobs to our shores or pay down our deficit Obama said Obama is often accused by Republicans of raising taxes and he has raised some taxes during his presidency Hes also said that he intends to raise income tax rates for couples who make more than 250000 a year or single people who make more than 200000 a year Here were going to look at his claim to cut taxes for middleclass families and small businesses Weve been tracking all of Obamas campaign promises about taxes on our Obameter Obama has signed off on two major tax cuts for middleclass families the Making Work Pay tax credit that was part of the economic stimulus of 2009 and a temporary reduction in Social Security payroll taxes that went into effect in 2011 As part of the stimulus formally known as the American Recovery and Reinvestment Act single workers collected a 400 tax credit and working couples got 800 The credit didnt come in the form of a check it worked out so that most workers had about 400 less in federal income taxes withheld from their paychecks spread out over the entire year Most workers received a tax cut under that plan with the exception of some high earners The tax cuts phased out for couples who make more than 250000 or a single person making over 200000 according to an analysis from the nonpartisan Tax Policy Center The result mirrored what Obama promised he would do on the campaign Obama pledged tax cuts of 500 for each worker and 1000 for working couples We rated the promise a Compromise on our Obameter because the resulting tax cut was a little lower than what Obama wanted That tax cut expired at the end of 2011 But Obama won another round of tax cuts for most workers in a December 2010 tax deal with Republicans in Congress Those tax cuts a temporary reduction in workers payroll taxes worth about 2 percent of total earnings expire in 2013 Again the tax cut didnt come as a check but gives workers a little more in their paychecks than they would have otherwise Obama also has passed an array of tax cuts for small businesses Eight of them were included in the stimulus the Affordable Care Act also known as the health care law and the Hiring Incentives to Restore Employment Act also known as the HIRE Act Among the cuts were the exclusion of up to 75 percent of capital gains on key small business investments a tax credit for the cost of health insurance for small business employees and new tax credits for hiring Americans out of work for at least two months Another eight cuts came via the Small Business Jobs Act signed by Obama in September of 2010 These included adding deductions for business cell phone use creating a new deduction for health care costs for the selfemployed allowing greater deductions for business startup expenses eliminating taxes on all capital gains from key small business investments and raising the small business expense limit to 500000 Three months later the president signed a tax bill that raised the expense limit to 100 percent of small business new investments until the end of 2011 It also extended the elimination of capital gains taxes for small business investments through the end of 2012 For more details see our previous factcheck that provided at least 16 tax cuts to small businesses we rated it Mostly True To be clear this doesnt mean the middleclass and small businesses havent seen any tax increases under the Obama administration We rated his campaign promise that no family making less than 250000 will see any form of tax increase as Promise Broken Obama has signed off on new taxes on cigarettes and indoor tanning His health care law includes a tax penalty for people who dont buy health insurance that starts in 2014 It includes hardship exemptions for people who cant find affordable policies Also under the health care law small businesses that have more than 50 employees that dont offer their employees health insurance could face fines Our ruling Obama has raised some taxes during his presidency but hes also pursued broadbased tax cuts for the middle class and small businesses We particularly give weight here to the tax cuts that were part of the stimulus and the payroll tax holiday which reduced taxes for broad swaths of the workforce Some small businesses may have been hit by new taxes that were part of Obamas health law but these would depend on the particular circumstances of each business Also there were new taxes on cigarettes and indoor tanning Obama said he has cut taxes for those who need it middleclass families small businesses He has but he also has raised some taxes So while his statement is accurate it lacks that additional context We rate his claim Mostly True Featured Factcheck Kevin McCarthy stated on November 18 2021 in prepared remarks for a House floor speech If you or your family spends 28 a day prepare to be under constant audit by the IRS By Jon Greenberg November 19 2021',\n",
       "  'summary': 'Obama has signed off on two major tax cuts for middleclass familiesnHe pledged tax cuts of 500 for each worker and 1000 for working couplesnObama also has passed an array of tax cuts for small businesses'},\n",
       " {'cui': '274',\n",
       "  'title': 'PolitiFact Juan Williams No 1 cause of death for AfricanAmerican males 1534 is murder',\n",
       "  'description': 'Amid ongoing protests in Ferguson Mo the national conversation about racial justice and police force has ignored a critical point that needs to be discussed said Fox News pundit Juan Williams Civil rights activists and black leaders have failed to address the very thing thats fueling conservative white backlash the high crime rate among the black community particularly among young black men Williams said on Aug 24ths Fox News Sunday I think theres fear of intimidation harassment being legitimized by the fact that there is a high rate of crime especially among young black men Williams said No 1 cause of death young black men 15 to 34 murder Whos committing the murder Not police Other black men Last year PolitiFact found that 93 percent of murder victims were killed by someone who shares their race This time we want to check out Williams claim that homicide is the No 1 cause of death for black men 1534 years old Unnatural causes We looked at numbers from the Centers for Disease Control and Prevention which lists the leading causes of death across all demographics Experts said that CDC data compiled from coroner reports are in line with FBI numbers sourced from police reports The CDC does not distinguish between the types of homicide criminal justified etc or the types of accidents auto accidents falls firearm discharge etc The numbers for 2011 the most recent CDC findings are consistent with data from previous years According to the CDC homicide was indeed the No 1 killer of black men between the ages of 15 and 34 in 2011 Accidents ranked second in causes of death and suicide claimed the third amount of black male lives between 15 and 24 years old while heart disease ranked third for men 2434 Leading causes of death among black males 1st 2nd 3rd All ages Diseases of the heart Malignant neoplasms Accidents 14 Accidents Homicide Congenital malformations 514 Accidents Malignant neoplasms Homicide 1524 Homicide Accidents Suicide 2534 Homicide Featured Factcheck NYS Department of Corrections and Community Supervision stated on November 8 2021 in a news release New York is leading the nation with the lowest imprisonment rate of any large state By Jill Terreri Ramos November 19 2021 Accidents Diseases of the heart 3544 Diseases of the heart Accidents Homicide 4554 Diseases of the heart Malignant neoplasms Accidents 5584 Malignant neoplasms Diseases of the heart Cerebrovascular diseases 84older Diseases of the heart Malignant neoplasms Cerebrovascular diseases Source CDC Compared to other ethnicities the numbers really stand out Forty percent of AfricanAmerican males 1534 who died were murdered according to the CDC compared to just 38 percent of white males who died Overall 14 percent of all men 1534 who died in 2011 were murdered In 2011 black males 1534 were 10 times more likely to die of murder than whites of the same age group Sources CDC PunditFact calculations For men of all ages homicide was ranked fifth in leading causes of deaths for blacks 46 percent seventh for Hispanics 28 percent and ninth for American Indians 23 percent Homicide was not one of the top 15 causes of death for whites 1534 Color lines Why are so many young black males dying from homicide As the laws of aging go younger men are less prone to fall victim to natural causes of death so they are more likely to die of unnatural causes And the racial disparity between those causes has partially to do with the likelihood of getting into carrelated accidents said James Fox a professor of criminology at Northeastern University Suburban whites drive more than urban blacks and putting in more miles on highways thats important because not a lot of people are going to get killed in fender benders in neighborhood streets Fox said There are relatively few autoaccidents in black urban areas Beyond driving habits the criminal homicide rate among young black males is significantly higher than other groups This experts agreed has to do with poverty and geography The difference in social structures access to jobs educational opportunities and many other factors between impoverished black neighborhoods and others is often a matter of life and death according to Eli Silverman professor emeritus at John Jay College of Criminal Justice The homicide numbers highlight the condition in minority areas where a lot of violence occurs and the whole way of life is further intensified because police surveillance is always trying to track down people he said People have heightened survival instincts will do anything to survive and theyll seek retribution for anythingbecause they dont trust law enforcement Though it is tempting to pinpoint one cause as more impactful than others Silverman cautions against singling out poverty or drugs or any other factor as the cause because all of them intermix and interact Our ruling Williams said that the No 1 cause of death for black men 1534 years old is murder CDC data supports the claim Out of all causes of death homicide claimed about 40 percent of black lives between 15 and 34 years This was significantly higher than the national average for males of that age group and all other racial groups We rate Williams claim True',\n",
       "  'summary': 'In 2011 black males 1534 were 10 times more likely to die of murder than whites of the same age groupnFor men of all ages homicide was ranked fifth in leading causes of deaths for blacks 46 percent seventh for Hispanics 28 percent and ninth for American Indians 23 percentnLast year PolitiFact found that 93 percent of murder victims were killed by someone who shares their race'}]"
      ]
     },
     "execution_count": 20,
     "metadata": {},
     "output_type": "execute_result"
    }
   ],
   "source": [
    "dictionary[:3]"
   ]
  },
  {
   "cell_type": "code",
   "execution_count": 21,
   "metadata": {},
   "outputs": [],
   "source": [
    "df = pd.DataFrame(dictionary)"
   ]
  },
  {
   "cell_type": "code",
   "execution_count": 22,
   "metadata": {},
   "outputs": [
    {
     "data": {
      "text/plain": [
       "(3540, 4)"
      ]
     },
     "execution_count": 22,
     "metadata": {},
     "output_type": "execute_result"
    }
   ],
   "source": [
    "df.shape"
   ]
  },
  {
   "cell_type": "code",
   "execution_count": 23,
   "metadata": {},
   "outputs": [
    {
     "data": {
      "text/plain": [
       "(3540,)"
      ]
     },
     "execution_count": 23,
     "metadata": {},
     "output_type": "execute_result"
    }
   ],
   "source": [
    "df[df['description'] != \"\"]['description'].shape"
   ]
  },
  {
   "cell_type": "code",
   "execution_count": 24,
   "metadata": {},
   "outputs": [
    {
     "name": "stdout",
     "output_type": "stream",
     "text": [
      "751.3929378531074\n"
     ]
    }
   ],
   "source": [
    "total = 0\n",
    "for desc in list(df[df['description'] != \"\"]['description'].values):\n",
    "    word_list = desc.split(\" \")\n",
    "    total += len(word_list)\n",
    "\n",
    "print(total/3540.0)"
   ]
  },
  {
   "cell_type": "code",
   "execution_count": 25,
   "metadata": {},
   "outputs": [
    {
     "data": {
      "text/plain": [
       "(3540,)"
      ]
     },
     "execution_count": 25,
     "metadata": {},
     "output_type": "execute_result"
    }
   ],
   "source": [
    "df[df['summary'] != \"\"]['summary'].shape"
   ]
  },
  {
   "cell_type": "code",
   "execution_count": 26,
   "metadata": {},
   "outputs": [
    {
     "name": "stdout",
     "output_type": "stream",
     "text": [
      "62.05\n"
     ]
    }
   ],
   "source": [
    "total = 0\n",
    "for desc in list(df[df['summary'] != \"\"]['summary'].values):\n",
    "    word_list = desc.split(\" \")\n",
    "    total += len(word_list)\n",
    "\n",
    "print(total/3540.0)"
   ]
  },
  {
   "cell_type": "code",
   "execution_count": 27,
   "metadata": {
    "scrolled": false
   },
   "outputs": [
    {
     "data": {
      "text/plain": [
       "'In November 2016 a photograph purportedly showing a billboard featuring images of the United States presidentelect Donald Trump and Russias president Vladimir Putin above the words lets make the world great again together was widely circulated on social media While the abovedisplayed image was met with some skepticism it is indeed real This photograph was originally published by Getty Images on 16 November 2016 and shows a billboard in the town of Danilovgrad in Montenegro Cars pass by a billboard showing US Presidentelect Donald Trump and Russian President Vladimir Putin placed by proSerbian movement in the town of Danilovgrad on November 16 2016 Another image of the billboard was captured by Reuters The Washington Post included the image in an article published on 18 November 2016 about how Russians in the city of Obninsk were planning to rally in support of a Trump presidency The demonstration was organized by Artyom Mainas a 27yearold blogger in Obninsk a nuclearresearch center 60 miles south of Moscow He decided to act after seeing news from the United States about demonstrations against Trumps election I believe it is very important to support him here in Russia said Mainas However while the billboard is genuine it is not in Russia as might be inferred from its use illustrating a story about Russias support of Trump but in the Balkan country of Montenegro'"
      ]
     },
     "execution_count": 27,
     "metadata": {},
     "output_type": "execute_result"
    }
   ],
   "source": [
    "df['description'][df['cui'] == '235'].iloc[0]"
   ]
  },
  {
   "cell_type": "code",
   "execution_count": 28,
   "metadata": {},
   "outputs": [
    {
     "data": {
      "text/plain": [
       "'Russian Billboard Features Trump and Putin Snopescom'"
      ]
     },
     "execution_count": 28,
     "metadata": {},
     "output_type": "execute_result"
    }
   ],
   "source": [
    "df['title'][df['cui'] == '235'].iloc[0]"
   ]
  },
  {
   "cell_type": "code",
   "execution_count": 29,
   "metadata": {},
   "outputs": [
    {
     "data": {
      "text/plain": [
       "'In November 2016 a photograph purportedly showing a billboard featuring images of the United States presidentelect Donald Trump and Russias president Vladimir Putin was widely circulated on social medianThe photograph was originally published by Getty Images on 16 November 2016 and shows a billboard in the town of Danilovgrad in MontenegronWhile the billboard is genuine it is not in Russia as might be inferred from its use illustrating a story about Russias support of Trump but in the Balkan country of Montenegro'"
      ]
     },
     "execution_count": 29,
     "metadata": {},
     "output_type": "execute_result"
    }
   ],
   "source": [
    "df['summary'][df['cui'] == '235'].iloc[0]"
   ]
  },
  {
   "cell_type": "code",
   "execution_count": 30,
   "metadata": {},
   "outputs": [],
   "source": [
    "f = open('processed/url_cui_mapping.json')\n",
    "url_cui_dict = json.load(f)"
   ]
  },
  {
   "cell_type": "code",
   "execution_count": 31,
   "metadata": {},
   "outputs": [],
   "source": [
    "cui_url_dict = {}\n",
    "for key in url_cui_dict:\n",
    "    cui_url_dict[url_cui_dict[key]] = key"
   ]
  },
  {
   "cell_type": "code",
   "execution_count": 32,
   "metadata": {},
   "outputs": [],
   "source": [
    "df_count = pd.DataFrame(df.groupby('title')['cui'].count())"
   ]
  },
  {
   "cell_type": "code",
   "execution_count": 33,
   "metadata": {},
   "outputs": [],
   "source": [
    "df_count = df_count.reset_index(level=['title'])"
   ]
  },
  {
   "cell_type": "code",
   "execution_count": 34,
   "metadata": {},
   "outputs": [],
   "source": [
    "df_dups = df_count[df_count['cui']>1]"
   ]
  },
  {
   "cell_type": "code",
   "execution_count": 35,
   "metadata": {},
   "outputs": [
    {
     "data": {
      "text/plain": [
       "array([], dtype=object)"
      ]
     },
     "execution_count": 35,
     "metadata": {},
     "output_type": "execute_result"
    }
   ],
   "source": [
    "df_dups['title'].values"
   ]
  },
  {
   "cell_type": "code",
   "execution_count": 36,
   "metadata": {},
   "outputs": [],
   "source": [
    "url_to_label = {}\n",
    "label = 0\n",
    "for title in df_dups['title'].values:\n",
    "    cui_list = df[df['title'] == title]['cui'].values\n",
    "    for cui in cui_list:\n",
    "        url_to_label[cui_url_dict[int(cui)].strip()] = label\n",
    "    label+=1\n"
   ]
  },
  {
   "cell_type": "code",
   "execution_count": 37,
   "metadata": {},
   "outputs": [
    {
     "data": {
      "text/plain": [
       "{}"
      ]
     },
     "execution_count": 37,
     "metadata": {},
     "output_type": "execute_result"
    }
   ],
   "source": [
    "url_to_label"
   ]
  },
  {
   "cell_type": "code",
   "execution_count": 38,
   "metadata": {},
   "outputs": [],
   "source": [
    "with open(\"dups_url_to_label.json\", \"w\") as outfile:\n",
    "    json.dump(url_to_label, outfile)"
   ]
  },
  {
   "cell_type": "code",
   "execution_count": 39,
   "metadata": {},
   "outputs": [
    {
     "ename": "KeyError",
     "evalue": "10930383388364079057",
     "output_type": "error",
     "traceback": [
      "\u001b[0;31m---------------------------------------------------------------------------\u001b[0m",
      "\u001b[0;31mKeyError\u001b[0m                                  Traceback (most recent call last)",
      "\u001b[0;32m/tmp/ipykernel_59042/2342996866.py\u001b[0m in \u001b[0;36m<module>\u001b[0;34m\u001b[0m\n\u001b[0;32m----> 1\u001b[0;31m \u001b[0mcui_url_dict\u001b[0m\u001b[0;34m[\u001b[0m\u001b[0;36m10930383388364079057\u001b[0m\u001b[0;34m]\u001b[0m\u001b[0;34m\u001b[0m\u001b[0;34m\u001b[0m\u001b[0m\n\u001b[0m",
      "\u001b[0;31mKeyError\u001b[0m: 10930383388364079057"
     ]
    }
   ],
   "source": [
    "cui_url_dict[10930383388364079057]"
   ]
  },
  {
   "cell_type": "code",
   "execution_count": 40,
   "metadata": {},
   "outputs": [
    {
     "ename": "KeyError",
     "evalue": "10930383388364079602",
     "output_type": "error",
     "traceback": [
      "\u001b[0;31m---------------------------------------------------------------------------\u001b[0m",
      "\u001b[0;31mKeyError\u001b[0m                                  Traceback (most recent call last)",
      "\u001b[0;32m/tmp/ipykernel_59042/2276632144.py\u001b[0m in \u001b[0;36m<module>\u001b[0;34m\u001b[0m\n\u001b[0;32m----> 1\u001b[0;31m \u001b[0mcui_url_dict\u001b[0m\u001b[0;34m[\u001b[0m\u001b[0;36m10930383388364079602\u001b[0m\u001b[0;34m]\u001b[0m\u001b[0;34m\u001b[0m\u001b[0;34m\u001b[0m\u001b[0m\n\u001b[0m",
      "\u001b[0;31mKeyError\u001b[0m: 10930383388364079602"
     ]
    }
   ],
   "source": [
    "cui_url_dict[10930383388364079602]"
   ]
  },
  {
   "cell_type": "code",
   "execution_count": 43,
   "metadata": {},
   "outputs": [
    {
     "data": {
      "text/plain": [
       "'http://www.politifact.com/truth-o-meter/statements/2014/may/12/john-garamendi/prior-benghazi-were-there-13-attacks-embassies-and/'"
      ]
     },
     "execution_count": 43,
     "metadata": {},
     "output_type": "execute_result"
    }
   ],
   "source": [
    "cui_url_dict['272']"
   ]
  },
  {
   "cell_type": "code",
   "execution_count": 42,
   "metadata": {},
   "outputs": [
    {
     "data": {
      "text/plain": [
       "{'cui': '272',\n",
       " 'title': 'PolitiFact Prior to Benghazi were there 13 attacks on embassies and 60 deaths under President George W Bush',\n",
       " 'description': 'As the US House of Representatives was readying a new special committee to investigate the terrorist attack in Benghazi Libya many Democrats were arguing that continuing to probe the Sept 11 2012 attack which killed four Americans including US Ambassador Chris Stevens amounted to a political witch hunt On May 5 2014 Rep John Garamendi DCalif told MSNBC host Ed Schultz that there has already been exhaustive testimony and investigation of the incident This thing is just going on and on to boredom actually Garamendi said The Armed Services Committee actually did a hearing and the result was theres nothing here Thats obviously a great tragedy but Ed during the George W Bush period there were 13 attacks on various embassies and consulates around the world Sixty people died In Karachi there was a death of one of our diplomats and those were not investigated during that period of time because it was a tragedy Readers asked us whether its true that under Bush there were 13 attacks on various embassies and consulates around the world and 60 people died We turned to the Global Terrorism Database a project headquartered at the University of Maryland The database documents terrorist attacks around the world going back to the 1970s and experts told us it is the best resource available for this factcheck We searched the database for descriptions between January 2001 and January 2009 that included the term US embassy We supplemented these with a few other attacks listed in a Huffington Post opinion piece that Garamendis staff said was their main source for the claim The Huffington Post column Garamendi cited purposely didnt count any attacks in Baghdad So we decided to construct our count from scratch While Garamendi spoke of embassies and consulates we found several US diplomatic targets killed in the line of duty outside official compounds such as in convoys or their homes and we included them in our count Once we crossreferenced the attacks in the article and those in the database we narrowed down the total to 39 attacks or attempted attacks on US embassies and embassy personnel Of these 39 attacks 20 resulted in at least one fatality Our complete list is here This is higher than Garamendis claim though if you only count attacks on embassy and consular property there were 13 Garamendi also understated the number of deaths In the 20 incidents with at least one fatality the total death toll was 87 quite a few more than the 60 Garamendi cited If you only count those at embassies and consulates proper the number of deaths drops to 66 We should note that the vast majority of these deaths were not Americans We counted 63 deaths that were either of nonAmericans or of people whose nationality is unknown Another three were US civilians Another 21 were workers at the US embassy or consulate either of American or foreign nationality So using what we think is the most reasonable definition Garamendis numbers are a bit low Featured Factcheck Facebook posts stated on November 7 2021 in a Facebook post The Astroworld concert was a test run on the vaxxed because people who are injected with graphene oxide can be controlled through magnetic frequencies including music By Samantha Putterman November 8 2021 What about the implicit comparison he made between Benghazi and these previous attacks Thats a little shakier Generally the experts we contacted agreed that Garamendi was making a reasonable point that there has been a steady and comparatively overlooked series of deadly attacks on US embassies in recent years Still these experts also said there are valid reasons to treat Benghazi differently from the earlier attacks Is Benghazi different Absolutely said Daveed GartensteinRoss a senior fellow at the Foundation for Defense of Democracies and an adjunct assistant professor in Georgetown Universitys security studies program One reason he said is that an American ambassador died in the attack which hadnt happened since the 1970s Another relevant question GartensteinRoss said is whether what happened was put to the American people in an honest manner not just with respect to the administration but also with respect to the intelligence community GartensteinRoss added that he wasnt endorsing how the Republicans go about investigating this question But he did say its a real legitimate question As always what causes the problem is not so much what happens but the response to it said Theodore R Bromund a senior research fellow at the conservative Heritage Foundation If the administration had come out shortly after the attack and said Our consulate was attacked by organized Islamist forces and we will pursue these terrorists and bring them to justice one way or the other I very much doubt there would be much juice in these hearings if indeed they were being held at all Lance Janda a military historian at Cameron University agreed that Benghazi brings up important issues We probably should have had more United States forces on site or at least nearby he said And the administration had a muddled response in terms of releasing information he added Our ruling Garamendi said that during the George W Bush period there were 13 attacks on various embassies and consulates around the world Sixty people died There are actually different ways to count the number of attacks especially when considering attacks on ambassadors and embassy personnel who were traveling to or from embassy property Overall we found Garamendi slightly understated the number of deadly attacks and total fatalities even using a strict definition Garamendis claim is accurate but needs clarification or additional information so we rate it Mostly True Share the Facts Politifact 2 7 Politifact Rating Mostly True During the George W Bush period there were 13 attacks on various embassies and consulates around the world Sixty people died John Garamendi Congressman In an interview on MSNBC Monday May 5 2014 05052014 Read More info',\n",
       " 'summary': 'Rep John Garamendi DCalif said there were 13 attacks on various embassies and consulates around the world under George W BushnThe Global Terrorism Database documents terrorist attacks around the world going back to the 1970snOf 39 attacks 20 resulted in at least one fatality but Garamendis numbers are a bit low'}"
      ]
     },
     "execution_count": 42,
     "metadata": {},
     "output_type": "execute_result"
    }
   ],
   "source": [
    "dictionary[0]"
   ]
  },
  {
   "cell_type": "code",
   "execution_count": null,
   "metadata": {},
   "outputs": [],
   "source": []
  },
  {
   "cell_type": "code",
   "execution_count": null,
   "metadata": {},
   "outputs": [],
   "source": []
  },
  {
   "cell_type": "code",
   "execution_count": null,
   "metadata": {},
   "outputs": [],
   "source": []
  }
 ],
 "metadata": {
  "kernelspec": {
   "display_name": "Python 3 (ipykernel)",
   "language": "python",
   "name": "python3"
  },
  "language_info": {
   "codemirror_mode": {
    "name": "ipython",
    "version": 3
   },
   "file_extension": ".py",
   "mimetype": "text/x-python",
   "name": "python",
   "nbconvert_exporter": "python",
   "pygments_lexer": "ipython3",
   "version": "3.7.11"
  }
 },
 "nbformat": 4,
 "nbformat_minor": 4
}
