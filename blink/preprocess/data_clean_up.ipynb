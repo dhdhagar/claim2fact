{
 "cells": [
  {
   "cell_type": "code",
   "execution_count": 1,
   "id": "7cc32bd9",
   "metadata": {},
   "outputs": [],
   "source": [
    "import numpy as np\n",
    "import pandas as pd\n",
    "import os\n",
    "import pickle\n",
    "import math\n",
    "import re"
   ]
  },
  {
   "cell_type": "code",
   "execution_count": 2,
   "id": "7d10af1d",
   "metadata": {},
   "outputs": [],
   "source": [
    "root = \".\"\n",
    "input_path = os.path.join(root, 'processed', 'dictionary_with_summaries_all.pkl')\n",
    "output_fpath = os.path.join(root, 'processed', 'dictionary_cleaned.pickle')"
   ]
  },
  {
   "cell_type": "code",
   "execution_count": 3,
   "id": "27e536a6",
   "metadata": {},
   "outputs": [],
   "source": [
    "file = open(input_path,'rb')\n",
    "dictionary_old = pickle.load(file)"
   ]
  },
  {
   "cell_type": "code",
   "execution_count": 4,
   "id": "81abbd52",
   "metadata": {},
   "outputs": [],
   "source": [
    "def clean_up(s: str):\n",
    "    if type(s) is float and math.isnan(s):\n",
    "        return \"\"\n",
    "    else:\n",
    "        s = ''.join(e for e in s if e.isalnum() or e is ' ')\n",
    "        s = re.sub(\"\\s+\",\" \",s)\n",
    "        return s.strip()"
   ]
  },
  {
   "cell_type": "code",
   "execution_count": 5,
   "id": "90471cfc",
   "metadata": {},
   "outputs": [],
   "source": [
    "dictionary = []\n",
    "for record in dictionary_old:\n",
    "    record[\"title\"] = clean_up(record[\"title\"])\n",
    "    record[\"description\"] = clean_up(record[\"description\"])\n",
    "    record[\"summary\"] = clean_up(record[\"summary\"])\n",
    "    dictionary.append(record)"
   ]
  },
  {
   "cell_type": "code",
   "execution_count": 6,
   "id": "58bf7f00",
   "metadata": {},
   "outputs": [],
   "source": [
    "with open(output_fpath, 'wb') as write_handle:\n",
    "    pickle.dump(dictionary, write_handle, protocol=pickle.HIGHEST_PROTOCOL)"
   ]
  }
 ],
 "metadata": {
  "kernelspec": {
   "display_name": "Python 3 (ipykernel)",
   "language": "python",
   "name": "python3"
  },
  "language_info": {
   "codemirror_mode": {
    "name": "ipython",
    "version": 3
   },
   "file_extension": ".py",
   "mimetype": "text/x-python",
   "name": "python",
   "nbconvert_exporter": "python",
   "pygments_lexer": "ipython3",
   "version": "3.7.11"
  }
 },
 "nbformat": 4,
 "nbformat_minor": 5
}
